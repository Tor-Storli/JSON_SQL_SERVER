{
    "metadata": {
        "kernelspec": {
            "name": "SQL",
            "display_name": "SQL",
            "language": "sql"
        },
        "language_info": {
            "name": "sql",
            "version": ""
        }
    },
    "nbformat_minor": 2,
    "nbformat": 4,
    "cells": [
        {
            "cell_type": "markdown",
            "source": [
                "# **JSON functionality available in SQL Server.**\n",
                "\n",
                "## **For a detailed description - refer to the link below<span style=\"font-size: 14px;\">.</span>**\n",
                "\n",
                "\n",
                "## **(Text and Video).**\n",
                "\n",
                "### **Source:  [https://docs.microsoft.com/en-us/sql/relational-databases/json/json-data-sql-server?view=sql-server-ver15](https://docs.microsoft.com/en-us/sql/relational-databases/json/json-data-sql-server?view=sql-server-ver15)**"
            ],
            "metadata": {
                "azdata_cell_guid": "5a64bebf-60cf-40cf-a5e9-6f104ea678dd"
            },
            "attachments": {}
        },
        {
            "cell_type": "markdown",
            "source": [
                "# **Basic JSON Queries**"
            ],
            "metadata": {
                "azdata_cell_guid": "834f9715-7ff0-4d9c-accb-c05e5ec5bdc0"
            }
        },
        {
            "cell_type": "markdown",
            "source": [
                "## **FOR JSON PATH:**\n",
                "\n",
                "\n",
                "**Source**:  **https://docs.microsoft.com/en-us/sql/relational-databases/json/format-query-results-as-json-with-for-json-sql-server?view=sql-server-ver15**"
            ],
            "metadata": {
                "azdata_cell_guid": "21efa14d-c8e1-45db-91a1-d9aa8072cc53"
            },
            "attachments": {}
        },
        {
            "cell_type": "code",
            "source": [
                "Select '[''Tor'' , ''Bill'' , ''Jane'']' as b"
            ],
            "metadata": {
                "azdata_cell_guid": "69cb3f37-c8ca-4818-9694-fa83782e94a3"
            },
            "outputs": [
                {
                    "output_type": "display_data",
                    "data": {
                        "text/html": "(1 row affected)"
                    },
                    "metadata": {}
                },
                {
                    "output_type": "display_data",
                    "data": {
                        "text/html": "Total execution time: 00:00:00.009"
                    },
                    "metadata": {}
                },
                {
                    "output_type": "execute_result",
                    "execution_count": 3,
                    "data": {
                        "application/vnd.dataresource+json": {
                            "schema": {
                                "fields": [
                                    {
                                        "name": "b"
                                    }
                                ]
                            },
                            "data": [
                                {
                                    "0": "['Tor' , 'Bill' , 'Jane']"
                                }
                            ]
                        },
                        "text/html": "<table><tr><th>b</th></tr><tr><td>['Tor' , 'Bill' , 'Jane']</td></tr></table>"
                    },
                    "metadata": {}
                }
            ],
            "execution_count": 3
        },
        {
            "cell_type": "code",
            "source": [
                "Select '[''Tor'' , ''Bill'' , ''Jane'']' as b\r\n",
                "FOR JSON PATH"
            ],
            "metadata": {
                "azdata_cell_guid": "bb7f200a-c781-4ea0-ae92-623b30e12d48"
            },
            "outputs": [
                {
                    "output_type": "display_data",
                    "data": {
                        "text/html": "(1 row affected)"
                    },
                    "metadata": {}
                },
                {
                    "output_type": "display_data",
                    "data": {
                        "text/html": "Total execution time: 00:00:00.012"
                    },
                    "metadata": {}
                },
                {
                    "output_type": "execute_result",
                    "execution_count": 4,
                    "data": {
                        "application/vnd.dataresource+json": {
                            "schema": {
                                "fields": [
                                    {
                                        "name": "JSON_F52E2B61-18A1-11d1-B105-00805F49916B"
                                    }
                                ]
                            },
                            "data": [
                                {
                                    "0": "[{\"b\":\"['Tor' , 'Bill' , 'Jane']\"}]"
                                }
                            ]
                        },
                        "text/html": "<table><tr><th>JSON_F52E2B61-18A1-11d1-B105-00805F49916B</th></tr><tr><td>[{&quot;b&quot;:&quot;['Tor' , 'Bill' , 'Jane']&quot;}]</td></tr></table>"
                    },
                    "metadata": {}
                }
            ],
            "execution_count": 4
        },
        {
            "cell_type": "code",
            "source": [
                "Select '[''Tor'' , ''Bill'' , ''Jane'']' as b\r\n",
                "FOR JSON PATH, without_array_wrapper"
            ],
            "metadata": {
                "azdata_cell_guid": "3de4a0bd-d699-4d16-b656-beaa56d21f0d"
            },
            "outputs": [
                {
                    "output_type": "display_data",
                    "data": {
                        "text/html": "(1 row affected)"
                    },
                    "metadata": {}
                },
                {
                    "output_type": "display_data",
                    "data": {
                        "text/html": "Total execution time: 00:00:00.004"
                    },
                    "metadata": {}
                },
                {
                    "output_type": "execute_result",
                    "execution_count": 5,
                    "data": {
                        "application/vnd.dataresource+json": {
                            "schema": {
                                "fields": [
                                    {
                                        "name": "JSON_F52E2B61-18A1-11d1-B105-00805F49916B"
                                    }
                                ]
                            },
                            "data": [
                                {
                                    "0": "{\"b\":\"['Tor' , 'Bill' , 'Jane']\"}"
                                }
                            ]
                        },
                        "text/html": "<table><tr><th>JSON_F52E2B61-18A1-11d1-B105-00805F49916B</th></tr><tr><td>{&quot;b&quot;:&quot;['Tor' , 'Bill' , 'Jane']&quot;}</td></tr></table>"
                    },
                    "metadata": {}
                }
            ],
            "execution_count": 5
        },
        {
            "cell_type": "code",
            "source": [
                "Select '[''Tor'' , ''Bill'' , ''Jane'']' as b\r\n",
                "FOR JSON PATH, root('data')"
            ],
            "metadata": {
                "azdata_cell_guid": "5b738bb3-55b8-4a3f-b2bd-017636ac4049",
                "tags": []
            },
            "outputs": [
                {
                    "output_type": "display_data",
                    "data": {
                        "text/html": "(1 row affected)"
                    },
                    "metadata": {}
                },
                {
                    "output_type": "display_data",
                    "data": {
                        "text/html": "Total execution time: 00:00:00.003"
                    },
                    "metadata": {}
                },
                {
                    "output_type": "execute_result",
                    "execution_count": 6,
                    "data": {
                        "application/vnd.dataresource+json": {
                            "schema": {
                                "fields": [
                                    {
                                        "name": "JSON_F52E2B61-18A1-11d1-B105-00805F49916B"
                                    }
                                ]
                            },
                            "data": [
                                {
                                    "0": "{\"data\":[{\"b\":\"['Tor' , 'Bill' , 'Jane']\"}]}"
                                }
                            ]
                        },
                        "text/html": "<table><tr><th>JSON_F52E2B61-18A1-11d1-B105-00805F49916B</th></tr><tr><td>{&quot;data&quot;:[{&quot;b&quot;:&quot;['Tor' , 'Bill' , 'Jane']&quot;}]}</td></tr></table>"
                    },
                    "metadata": {}
                }
            ],
            "execution_count": 6
        },
        {
            "cell_type": "code",
            "source": [
                "Select 'Tor' as name, 'Bill' as name1 , 'Jane' as name2\r\n",
                "FOR JSON PATH, root('people')"
            ],
            "metadata": {
                "azdata_cell_guid": "808c01ff-0a34-4e5e-bd6a-e263970b839c",
                "tags": []
            },
            "outputs": [
                {
                    "output_type": "display_data",
                    "data": {
                        "text/html": "(1 row affected)"
                    },
                    "metadata": {}
                },
                {
                    "output_type": "display_data",
                    "data": {
                        "text/html": "Total execution time: 00:00:00.034"
                    },
                    "metadata": {}
                },
                {
                    "output_type": "execute_result",
                    "execution_count": 7,
                    "data": {
                        "application/vnd.dataresource+json": {
                            "schema": {
                                "fields": [
                                    {
                                        "name": "JSON_F52E2B61-18A1-11d1-B105-00805F49916B"
                                    }
                                ]
                            },
                            "data": [
                                {
                                    "0": "{\"people\":[{\"name\":\"Tor\",\"name1\":\"Bill\",\"name2\":\"Jane\"}]}"
                                }
                            ]
                        },
                        "text/html": "<table><tr><th>JSON_F52E2B61-18A1-11d1-B105-00805F49916B</th></tr><tr><td>{&quot;people&quot;:[{&quot;name&quot;:&quot;Tor&quot;,&quot;name1&quot;:&quot;Bill&quot;,&quot;name2&quot;:&quot;Jane&quot;}]}</td></tr></table>"
                    },
                    "metadata": {}
                }
            ],
            "execution_count": 7
        },
        {
            "cell_type": "code",
            "source": [
                "SELECT [ogr_fid]\r\n",
                "      ,[region]\r\n",
                "      ,[division]\r\n",
                "      ,[statefp]\r\n",
                "      ,[statens]\r\n",
                "      ,[stusps]\r\n",
                "      ,[name] as [state]\r\n",
                "FROM [dbo].[us_states] \r\n",
                "FOR JSON PATH"
            ],
            "metadata": {
                "azdata_cell_guid": "094284e8-35b3-41e4-998b-9a64c78ae98e"
            },
            "outputs": [
                {
                    "output_type": "display_data",
                    "data": {
                        "text/html": "(56 rows affected)"
                    },
                    "metadata": {}
                },
                {
                    "output_type": "display_data",
                    "data": {
                        "text/html": "Total execution time: 00:00:00.022"
                    },
                    "metadata": {}
                },
                {
                    "output_type": "execute_result",
                    "execution_count": 9,
                    "data": {
                        "application/vnd.dataresource+json": {
                            "schema": {
                                "fields": [
                                    {
                                        "name": "JSON_F52E2B61-18A1-11d1-B105-00805F49916B"
                                    }
                                ]
                            },
                            "data": [
                                {
                                    "0": "[{\"ogr_fid\":1,\"region\":\"3\",\"division\":\"5\",\"statefp\":\"54\",\"statens\":\"01779805\",\"stusps\":\"WV\",\"state\":\"West Virginia\"},{\"ogr_fid\":7,\"region\":\"4\",\"division\":\"8\",\"statefp\":\"16\",\"statens\":\"01779783\",\"stusps\":\"ID\",\"state\":\"Idaho\"},{\"ogr_fid\":11,\"region\":\"1\",\"division\":\"1\",\"statefp\":\"09\",\"statens\":\"01779780\",\"stusps\":\"CT\",\"state\":\"Connecticut\"},{\"ogr_fid\":15,\"region\":\"1\",\"division\":\"2\",\"statefp\":\"34\",\"statens\":\"01779795\",\"stusps\":\"NJ\",\"state\":\"New Jersey\"},{\"ogr_fid\":19,\"region\":\"1\",\"division\":\"2\",\"statefp\":\"42\",\"statens\":\"01779798\",\"stusps\":\"PA\",\"state\":\"Pennsylvania\"},{\"ogr_fid\":21,\"region\":\"3\",\"division\":\"7\",\"statefp\":\"22\",\"statens\":\"01629543\",\"stusps\":\"LA\",\"state\":\"Louisiana\"},{\"ogr_fid\":22,\"region\":\"3\",\"division\":\"5\",\"statefp\":\"13\",\"statens\":\"01705317\",\"stusps\":\"GA\",\"state\":\"Georgia\"},{\"ogr_fid\":23,\"region\":\"3\",\"division\":\"6\",\"statefp\":\"01\",\"statens\":\"01779775\",\"stusps\":\"AL\",\"state\":\"Alabama\"},{\"ogr_fid\":24,\"region\":\"4\",\"division\":\"8\",\"statefp\":\"49\",\"statens\":\"01455989\",\"stusps\":\"UT\",\"state\":\"Utah\"},{\"ogr_fid\":28,\"region\":\"3\",\"division\":\"5\",\"statefp\":\"45\",\"statens\":\"01779799\",\"stusps\":\"SC\",\"state\":\"South Carolina\"},{\"ogr_fid\":29,\"region\":\"3\",\"division\":\"7\",\"statefp\":\"40\",\"statens\":\"01102857\",\"stusps\":\"OK\",\"state\":\"Oklahoma\"},{\"ogr_fid\":30,\"region\":\"3\",\"division\":\"6\",\"statefp\":\"47\",\"statens\":\"01325873\",\"stusps\":\"TN\",\"state\":\"Tennessee\"},{\"ogr_fid\":31,\"region\":\"4\",\"division\":\"8\",\"statefp\":\"56\",\"statens\":\"01779807\",\"stusps\":\"WY\",\"state\":\"Wyoming\"},{\"ogr_fid\":33,\"region\":\"2\",\"division\":\"4\",\"statefp\":\"38\",\"statens\":\"01779797\",\"stusps\":\"ND\",\"state\":\"North Dakota\"},{\"ogr_fid\":39,\"region\":\"1\",\"division\":\"2\",\"statefp\":\"36\",\"statens\":\"01779796\",\"stusps\":\"NY\",\"state\":\"New York\"},{\"ogr_fid\":40,\"region\":\"4\",\"division\":\"8\",\"statefp\":\"32\",\"statens\":\"01779793\",\"stusps\":\"NV\",\"state\":\"Nevada\"},{\"ogr_fid\":45,\"region\":\"3\",\"division\":\"6\",\"statefp\":\"28\",\"statens\":\"01779790\",\"stusps\":\"MS\",\"state\":\"Mississippi\"},{\"ogr_fid\":47,\"region\":\"4\",\"division\":\"8\",\"statefp\":\"30\",\"statens\":\"00767982\",\"stusps\":\"MT\",\"state\":\"Montana\"},{\"ogr_fid\":48,\"region\":\"2\",\"division\":\"4\",\"statefp\":\"20\",\"statens\":\"00481813\",\"stusps\":\"KS\",\"state\":\"Kansas\"},{\"ogr_fid\":49,\"region\":\"2\",\"division\":\"3\",\"statefp\":\"18\",\"statens\":\"00448508\",\"stusps\":\"IN\",\"state\":\"Indiana\"},{\"ogr_fid\":53,\"region\":\"3\",\"division\":\"5\",\"statefp\":\"51\",\"statens\":\"01779803\",\"stusps\":\"VA\",\"state\":\"Virginia\"},{\"ogr_fid\":54,\"region\":\"3\",\"division\":\"5\",\"statefp\":\"11\",\"statens\":\"01702382\",\"stusps\":\"DC\",\"state\":\"District of Columbia\"},{\"ogr_fid\":61,\"region\":\"3\",\"division\":\"5\",\"statefp\":\"24\",\"statens\":\"01714934\",\"stusps\":\"MD\",\"state\":\"Maryland\"},{\"ogr_fid\":70,\"region\":\"4\",\"division\":\"9\",\"statefp\":\"06\",\"statens\":\"01779778\",\"stusps\":\"CA\",\"state\":\"California\"},{\"ogr_fid\":73,\"region\":\"No\",\"division\":\"9\",\"statefp\":\"41\",\"statens\":\"01155107\",\"stusps\":\"OR\",\"state\":\"Oregon\"},{\"ogr_fid\":74,\"region\":\"2\",\"division\":\"4\",\"statefp\":\"31\",\"statens\":\"01779792\",\"stusps\":\"NE\",\"state\":\"Nebraska\"},{\"ogr_fid\":81,\"region\":\"2\",\"division\":\"3\",\"statefp\":\"39\",\"statens\":\"01085497\",\"stusps\":\"OH\",\"state\":\"Ohio\"},{\"ogr_fid\":82,\"region\":\"3\",\"division\":\"7\",\"statefp\":\"48\",\"statens\":\"01779801\",\"stusps\":\"TX\",\"state\":\"Texas\"},{\"ogr_fid\":88,\"region\":\"4\",\"division\":\"9\",\"statefp\":\"15\",\"statens\":\"01779782\",\"stusps\":\"HI\",\"state\":\"Hawaii\"},{\"ogr_fid\":91,\"region\":\"9\",\"division\":\"0\",\"statefp\":\"78\",\"statens\":\"01802710\",\"stusps\":\"VI\",\"state\":\"United States Virgin Islands\"},{\"ogr_fid\":92,\"region\":\"9\",\"division\":\"0\",\"statefp\":\"69\",\"statens\":\"01779809\",\"stusps\":\"MP\",\"state\":\"Commonwealth of the Northern Mariana Islands\"},{\"ogr_fid\":94,\"region\":\"1\",\"division\":\"1\",\"statefp\":\"23\",\"statens\":\"01779787\",\"stusps\":\"ME\",\"state\":\"Maine\"},{\"ogr_fid\":97,\"region\":\"4\",\"division\":\"9\",\"statefp\":\"02\",\"statens\":\"01785533\",\"stusps\":\"AK\",\"state\":\"Alaska\"},{\"ogr_fid\":98,\"region\":\"9\",\"division\":\"0\",\"statefp\":\"60\",\"statens\":\"01802701\",\"stusps\":\"AS\",\"state\":\"American Samoa\"},{\"ogr_fid\":100,\"region\":\"3\",\"division\":\"7\",\"statefp\":\"05\",\"statens\":\"00068085\",\"stusps\":\"AR\",\"state\":\"Arkansas\"},{\"ogr_fid\":107,\"region\":\"2\",\"division\":\"4\",\"statefp\":\"46\",\"statens\":\"01785534\",\"stusps\":\"SD\",\"state\":\"South Dakota\"},{\"ogr_fid\":108,\"region\":\"1\",\"division\":\"1\",\"statefp\":\"25\",\"statens\":\"00606926\",\"stusps\":\"MA\",\"state\":\"Massachusetts\"},{\"ogr_fid\":114,\"region\":\"3\",\"division\":\"5\",\"statefp\":\"12\",\"statens\":\"00294478\",\"stusps\":\"FL\",\"state\":\"Florida\"},{\"ogr_fid\":115,\"region\":\"2\",\"division\":\"3\",\"statefp\":\"17\",\"statens\":\"01779784\",\"stusps\":\"IL\",\"state\":\"Illinois\"},{\"ogr_fid\":116,\"region\":\"2\",\"division\":\"4\",\"statefp\":\"27\",\"statens\":\"00662849\",\"stusps\":\"MN\",\"state\":\"Minnesota\"},{\"ogr_fid\":118,\"region\":\"1\",\"division\":\"1\",\"statefp\":\"44\",\"statens\":\"01219835\",\"stusps\":\"RI\",\"state\":\"Rhode Island\"},{\"ogr_fid\":120,\"region\":\"1\",\"division\":\"1\",\"statefp\":\"33\",\"statens\":\"01779794\",\"stusps\":\"NH\",\"state\":\"New Hampshire\"},{\"ogr_fid\":121,\"region\":\"3\",\"division\":\"5\",\"statefp\":\"37\",\"statens\":\"01027616\",\"stusps\":\"NC\",\"state\":\"North Carolina\"},{\"ogr_fid\":122,\"region\":\"1\",\"division\":\"1\",\"statefp\":\"50\",\"statens\":\"01779802\",\"stusps\":\"VT\",\"state\":\"Vermont\"},{\"ogr_fid\":124,\"region\":\"3\",\"division\":\"5\",\"statefp\":\"10\",\"statens\":\"01779781\",\"stusps\":\"DE\",\"state\":\"Delaware\"},{\"ogr_fid\":125,\"region\":\"4\",\"division\":\"8\",\"statefp\":\"35\",\"statens\":\"00897535\",\"stusps\":\"NM\",\"state\":\"New Mexico\"},{\"ogr_fid\":128,\"region\":\"2\",\"division\":\"3\",\"statefp\":\"55\",\"statens\":\"01779806\",\"stusps\":\"WI\",\"state\":\"Wisconsin\"},{\"ogr_fid\":132,\"region\":\"No\",\"division\":\"9\",\"statefp\":\"53\",\"statens\":\"01779804\",\"stusps\":\"WA\",\"state\":\"Washington\"},{\"ogr_fid\":139,\"region\":\"4\",\"division\":\"8\",\"statefp\":\"08\",\"statens\":\"01779779\",\"stusps\":\"CO\",\"state\":\"Colorado\"},{\"ogr_fid\":146,\"region\":\"3\",\"division\":\"6\",\"statefp\":\"21\",\"statens\":\"01779786\",\"stusps\":\"KY\",\"state\":\"Kentucky\"},{\"ogr_fid\":149,\"region\":\"9\",\"division\":\"0\",\"statefp\":\"66\",\"statens\":\"01802705\",\"stusps\":\"GU\",\"state\":\"Guam\"},{\"ogr_fid\":155,\"region\":\"2\",\"division\":\"3\",\"statefp\":\"26\",\"statens\":\"01779789\",\"stusps\":\"MI\",\"state\":\"Michigan\"},{\"ogr_fid\":158,\"region\":\"2\",\"division\":\"4\",\"statefp\":\"29\",\"statens\":\"01779791\",\"stusps\":\"MO\",\"state\":\"Missouri\"},{\"ogr_fid\":162,\"region\":\"9\",\"division\":\"0\",\"statefp\":\"72\",\"statens\":\"01779808\",\"stusps\":\"PR\",\"state\":\"Puerto Rico\"},{\"ogr_fid\":167,\"region\":\"2\",\"division\":\"4\",\"statefp\":\"19\",\"statens\":\"01779785\",\"stusps\":\"IA\",\"state\":\"Iowa\"},{\"ogr_fid\":168,\"region\":\"4\",\"division\":\"8\",\"statefp\":\"04\",\"statens\":\"01779777\",\"stusps\":\"AZ\",\"state\":\"Arizona\"}]"
                                }
                            ]
                        },
                        "text/html": "<table><tr><th>JSON_F52E2B61-18A1-11d1-B105-00805F49916B</th></tr><tr><td>[{&quot;ogr_fid&quot;:1,&quot;region&quot;:&quot;3&quot;,&quot;division&quot;:&quot;5&quot;,&quot;statefp&quot;:&quot;54&quot;,&quot;statens&quot;:&quot;01779805&quot;,&quot;stusps&quot;:&quot;WV&quot;,&quot;state&quot;:&quot;West Virginia&quot;},{&quot;ogr_fid&quot;:7,&quot;region&quot;:&quot;4&quot;,&quot;division&quot;:&quot;8&quot;,&quot;statefp&quot;:&quot;16&quot;,&quot;statens&quot;:&quot;01779783&quot;,&quot;stusps&quot;:&quot;ID&quot;,&quot;state&quot;:&quot;Idaho&quot;},{&quot;ogr_fid&quot;:11,&quot;region&quot;:&quot;1&quot;,&quot;division&quot;:&quot;1&quot;,&quot;statefp&quot;:&quot;09&quot;,&quot;statens&quot;:&quot;01779780&quot;,&quot;stusps&quot;:&quot;CT&quot;,&quot;state&quot;:&quot;Connecticut&quot;},{&quot;ogr_fid&quot;:15,&quot;region&quot;:&quot;1&quot;,&quot;division&quot;:&quot;2&quot;,&quot;statefp&quot;:&quot;34&quot;,&quot;statens&quot;:&quot;01779795&quot;,&quot;stusps&quot;:&quot;NJ&quot;,&quot;state&quot;:&quot;New Jersey&quot;},{&quot;ogr_fid&quot;:19,&quot;region&quot;:&quot;1&quot;,&quot;division&quot;:&quot;2&quot;,&quot;statefp&quot;:&quot;42&quot;,&quot;statens&quot;:&quot;01779798&quot;,&quot;stusps&quot;:&quot;PA&quot;,&quot;state&quot;:&quot;Pennsylvania&quot;},{&quot;ogr_fid&quot;:21,&quot;region&quot;:&quot;3&quot;,&quot;division&quot;:&quot;7&quot;,&quot;statefp&quot;:&quot;22&quot;,&quot;statens&quot;:&quot;01629543&quot;,&quot;stusps&quot;:&quot;LA&quot;,&quot;state&quot;:&quot;Louisiana&quot;},{&quot;ogr_fid&quot;:22,&quot;region&quot;:&quot;3&quot;,&quot;division&quot;:&quot;5&quot;,&quot;statefp&quot;:&quot;13&quot;,&quot;statens&quot;:&quot;01705317&quot;,&quot;stusps&quot;:&quot;GA&quot;,&quot;state&quot;:&quot;Georgia&quot;},{&quot;ogr_fid&quot;:23,&quot;region&quot;:&quot;3&quot;,&quot;division&quot;:&quot;6&quot;,&quot;statefp&quot;:&quot;01&quot;,&quot;statens&quot;:&quot;01779775&quot;,&quot;stusps&quot;:&quot;AL&quot;,&quot;state&quot;:&quot;Alabama&quot;},{&quot;ogr_fid&quot;:24,&quot;region&quot;:&quot;4&quot;,&quot;division&quot;:&quot;8&quot;,&quot;statefp&quot;:&quot;49&quot;,&quot;statens&quot;:&quot;01455989&quot;,&quot;stusps&quot;:&quot;UT&quot;,&quot;state&quot;:&quot;Utah&quot;},{&quot;ogr_fid&quot;:28,&quot;region&quot;:&quot;3&quot;,&quot;division&quot;:&quot;5&quot;,&quot;statefp&quot;:&quot;45&quot;,&quot;statens&quot;:&quot;01779799&quot;,&quot;stusps&quot;:&quot;SC&quot;,&quot;state&quot;:&quot;South Carolina&quot;},{&quot;ogr_fid&quot;:29,&quot;region&quot;:&quot;3&quot;,&quot;division&quot;:&quot;7&quot;,&quot;statefp&quot;:&quot;40&quot;,&quot;statens&quot;:&quot;01102857&quot;,&quot;stusps&quot;:&quot;OK&quot;,&quot;state&quot;:&quot;Oklahoma&quot;},{&quot;ogr_fid&quot;:30,&quot;region&quot;:&quot;3&quot;,&quot;division&quot;:&quot;6&quot;,&quot;statefp&quot;:&quot;47&quot;,&quot;statens&quot;:&quot;01325873&quot;,&quot;stusps&quot;:&quot;TN&quot;,&quot;state&quot;:&quot;Tennessee&quot;},{&quot;ogr_fid&quot;:31,&quot;region&quot;:&quot;4&quot;,&quot;division&quot;:&quot;8&quot;,&quot;statefp&quot;:&quot;56&quot;,&quot;statens&quot;:&quot;01779807&quot;,&quot;stusps&quot;:&quot;WY&quot;,&quot;state&quot;:&quot;Wyoming&quot;},{&quot;ogr_fid&quot;:33,&quot;region&quot;:&quot;2&quot;,&quot;division&quot;:&quot;4&quot;,&quot;statefp&quot;:&quot;38&quot;,&quot;statens&quot;:&quot;01779797&quot;,&quot;stusps&quot;:&quot;ND&quot;,&quot;state&quot;:&quot;North Dakota&quot;},{&quot;ogr_fid&quot;:39,&quot;region&quot;:&quot;1&quot;,&quot;division&quot;:&quot;2&quot;,&quot;statefp&quot;:&quot;36&quot;,&quot;statens&quot;:&quot;01779796&quot;,&quot;stusps&quot;:&quot;NY&quot;,&quot;state&quot;:&quot;New York&quot;},{&quot;ogr_fid&quot;:40,&quot;region&quot;:&quot;4&quot;,&quot;division&quot;:&quot;8&quot;,&quot;statefp&quot;:&quot;32&quot;,&quot;statens&quot;:&quot;01779793&quot;,&quot;stusps&quot;:&quot;NV&quot;,&quot;state&quot;:&quot;Nevada&quot;},{&quot;ogr_fid&quot;:45,&quot;region&quot;:&quot;3&quot;,&quot;division&quot;:&quot;6&quot;,&quot;statefp&quot;:&quot;28&quot;,&quot;statens&quot;:&quot;01779790&quot;,&quot;stusps&quot;:&quot;MS&quot;,&quot;state&quot;:&quot;Mississippi&quot;},{&quot;ogr_fid&quot;:47,&quot;region&quot;:&quot;4&quot;,&quot;division&quot;:&quot;8&quot;,&quot;statefp&quot;:&quot;30&quot;,&quot;statens&quot;:&quot;00767982&quot;,&quot;stusps&quot;:&quot;MT&quot;,&quot;state&quot;:&quot;Montana&quot;},{&quot;ogr_fid&quot;:48,&quot;region&quot;:&quot;2&quot;,&quot;division&quot;:&quot;4&quot;,&quot;statefp&quot;:&quot;20&quot;,&quot;statens&quot;:&quot;00481813&quot;,&quot;stusps&quot;:&quot;KS&quot;,&quot;state&quot;:&quot;Kansas&quot;},{&quot;ogr_fid&quot;:49,&quot;region&quot;:&quot;2&quot;,&quot;division&quot;:&quot;3&quot;,&quot;statefp&quot;:&quot;18&quot;,&quot;statens&quot;:&quot;00448508&quot;,&quot;stusps&quot;:&quot;IN&quot;,&quot;state&quot;:&quot;Indiana&quot;},{&quot;ogr_fid&quot;:53,&quot;region&quot;:&quot;3&quot;,&quot;division&quot;:&quot;5&quot;,&quot;statefp&quot;:&quot;51&quot;,&quot;statens&quot;:&quot;01779803&quot;,&quot;stusps&quot;:&quot;VA&quot;,&quot;state&quot;:&quot;Virginia&quot;},{&quot;ogr_fid&quot;:54,&quot;region&quot;:&quot;3&quot;,&quot;division&quot;:&quot;5&quot;,&quot;statefp&quot;:&quot;11&quot;,&quot;statens&quot;:&quot;01702382&quot;,&quot;stusps&quot;:&quot;DC&quot;,&quot;state&quot;:&quot;District of Columbia&quot;},{&quot;ogr_fid&quot;:61,&quot;region&quot;:&quot;3&quot;,&quot;division&quot;:&quot;5&quot;,&quot;statefp&quot;:&quot;24&quot;,&quot;statens&quot;:&quot;01714934&quot;,&quot;stusps&quot;:&quot;MD&quot;,&quot;state&quot;:&quot;Maryland&quot;},{&quot;ogr_fid&quot;:70,&quot;region&quot;:&quot;4&quot;,&quot;division&quot;:&quot;9&quot;,&quot;statefp&quot;:&quot;06&quot;,&quot;statens&quot;:&quot;01779778&quot;,&quot;stusps&quot;:&quot;CA&quot;,&quot;state&quot;:&quot;California&quot;},{&quot;ogr_fid&quot;:73,&quot;region&quot;:&quot;No&quot;,&quot;division&quot;:&quot;9&quot;,&quot;statefp&quot;:&quot;41&quot;,&quot;statens&quot;:&quot;01155107&quot;,&quot;stusps&quot;:&quot;OR&quot;,&quot;state&quot;:&quot;Oregon&quot;},{&quot;ogr_fid&quot;:74,&quot;region&quot;:&quot;2&quot;,&quot;division&quot;:&quot;4&quot;,&quot;statefp&quot;:&quot;31&quot;,&quot;statens&quot;:&quot;01779792&quot;,&quot;stusps&quot;:&quot;NE&quot;,&quot;state&quot;:&quot;Nebraska&quot;},{&quot;ogr_fid&quot;:81,&quot;region&quot;:&quot;2&quot;,&quot;division&quot;:&quot;3&quot;,&quot;statefp&quot;:&quot;39&quot;,&quot;statens&quot;:&quot;01085497&quot;,&quot;stusps&quot;:&quot;OH&quot;,&quot;state&quot;:&quot;Ohio&quot;},{&quot;ogr_fid&quot;:82,&quot;region&quot;:&quot;3&quot;,&quot;division&quot;:&quot;7&quot;,&quot;statefp&quot;:&quot;48&quot;,&quot;statens&quot;:&quot;01779801&quot;,&quot;stusps&quot;:&quot;TX&quot;,&quot;state&quot;:&quot;Texas&quot;},{&quot;ogr_fid&quot;:88,&quot;region&quot;:&quot;4&quot;,&quot;division&quot;:&quot;9&quot;,&quot;statefp&quot;:&quot;15&quot;,&quot;statens&quot;:&quot;01779782&quot;,&quot;stusps&quot;:&quot;HI&quot;,&quot;state&quot;:&quot;Hawaii&quot;},{&quot;ogr_fid&quot;:91,&quot;region&quot;:&quot;9&quot;,&quot;division&quot;:&quot;0&quot;,&quot;statefp&quot;:&quot;78&quot;,&quot;statens&quot;:&quot;01802710&quot;,&quot;stusps&quot;:&quot;VI&quot;,&quot;state&quot;:&quot;United States Virgin Islands&quot;},{&quot;ogr_fid&quot;:92,&quot;region&quot;:&quot;9&quot;,&quot;division&quot;:&quot;0&quot;,&quot;statefp&quot;:&quot;69&quot;,&quot;statens&quot;:&quot;01779809&quot;,&quot;stusps&quot;:&quot;MP&quot;,&quot;state&quot;:&quot;Commonwealth of the Northern Mariana Islands&quot;},{&quot;ogr_fid&quot;:94,&quot;region&quot;:&quot;1&quot;,&quot;division&quot;:&quot;1&quot;,&quot;statefp&quot;:&quot;23&quot;,&quot;statens&quot;:&quot;01779787&quot;,&quot;stusps&quot;:&quot;ME&quot;,&quot;state&quot;:&quot;Maine&quot;},{&quot;ogr_fid&quot;:97,&quot;region&quot;:&quot;4&quot;,&quot;division&quot;:&quot;9&quot;,&quot;statefp&quot;:&quot;02&quot;,&quot;statens&quot;:&quot;01785533&quot;,&quot;stusps&quot;:&quot;AK&quot;,&quot;state&quot;:&quot;Alaska&quot;},{&quot;ogr_fid&quot;:98,&quot;region&quot;:&quot;9&quot;,&quot;division&quot;:&quot;0&quot;,&quot;statefp&quot;:&quot;60&quot;,&quot;statens&quot;:&quot;01802701&quot;,&quot;stusps&quot;:&quot;AS&quot;,&quot;state&quot;:&quot;American Samoa&quot;},{&quot;ogr_fid&quot;:100,&quot;region&quot;:&quot;3&quot;,&quot;division&quot;:&quot;7&quot;,&quot;statefp&quot;:&quot;05&quot;,&quot;statens&quot;:&quot;00068085&quot;,&quot;stusps&quot;:&quot;AR&quot;,&quot;state&quot;:&quot;Arkansas&quot;},{&quot;ogr_fid&quot;:107,&quot;region&quot;:&quot;2&quot;,&quot;division&quot;:&quot;4&quot;,&quot;statefp&quot;:&quot;46&quot;,&quot;statens&quot;:&quot;01785534&quot;,&quot;stusps&quot;:&quot;SD&quot;,&quot;state&quot;:&quot;South Dakota&quot;},{&quot;ogr_fid&quot;:108,&quot;region&quot;:&quot;1&quot;,&quot;division&quot;:&quot;1&quot;,&quot;statefp&quot;:&quot;25&quot;,&quot;statens&quot;:&quot;00606926&quot;,&quot;stusps&quot;:&quot;MA&quot;,&quot;state&quot;:&quot;Massachusetts&quot;},{&quot;ogr_fid&quot;:114,&quot;region&quot;:&quot;3&quot;,&quot;division&quot;:&quot;5&quot;,&quot;statefp&quot;:&quot;12&quot;,&quot;statens&quot;:&quot;00294478&quot;,&quot;stusps&quot;:&quot;FL&quot;,&quot;state&quot;:&quot;Florida&quot;},{&quot;ogr_fid&quot;:115,&quot;region&quot;:&quot;2&quot;,&quot;division&quot;:&quot;3&quot;,&quot;statefp&quot;:&quot;17&quot;,&quot;statens&quot;:&quot;01779784&quot;,&quot;stusps&quot;:&quot;IL&quot;,&quot;state&quot;:&quot;Illinois&quot;},{&quot;ogr_fid&quot;:116,&quot;region&quot;:&quot;2&quot;,&quot;division&quot;:&quot;4&quot;,&quot;statefp&quot;:&quot;27&quot;,&quot;statens&quot;:&quot;00662849&quot;,&quot;stusps&quot;:&quot;MN&quot;,&quot;state&quot;:&quot;Minnesota&quot;},{&quot;ogr_fid&quot;:118,&quot;region&quot;:&quot;1&quot;,&quot;division&quot;:&quot;1&quot;,&quot;statefp&quot;:&quot;44&quot;,&quot;statens&quot;:&quot;01219835&quot;,&quot;stusps&quot;:&quot;RI&quot;,&quot;state&quot;:&quot;Rhode Island&quot;},{&quot;ogr_fid&quot;:120,&quot;region&quot;:&quot;1&quot;,&quot;division&quot;:&quot;1&quot;,&quot;statefp&quot;:&quot;33&quot;,&quot;statens&quot;:&quot;01779794&quot;,&quot;stusps&quot;:&quot;NH&quot;,&quot;state&quot;:&quot;New Hampshire&quot;},{&quot;ogr_fid&quot;:121,&quot;region&quot;:&quot;3&quot;,&quot;division&quot;:&quot;5&quot;,&quot;statefp&quot;:&quot;37&quot;,&quot;statens&quot;:&quot;01027616&quot;,&quot;stusps&quot;:&quot;NC&quot;,&quot;state&quot;:&quot;North Carolina&quot;},{&quot;ogr_fid&quot;:122,&quot;region&quot;:&quot;1&quot;,&quot;division&quot;:&quot;1&quot;,&quot;statefp&quot;:&quot;50&quot;,&quot;statens&quot;:&quot;01779802&quot;,&quot;stusps&quot;:&quot;VT&quot;,&quot;state&quot;:&quot;Vermont&quot;},{&quot;ogr_fid&quot;:124,&quot;region&quot;:&quot;3&quot;,&quot;division&quot;:&quot;5&quot;,&quot;statefp&quot;:&quot;10&quot;,&quot;statens&quot;:&quot;01779781&quot;,&quot;stusps&quot;:&quot;DE&quot;,&quot;state&quot;:&quot;Delaware&quot;},{&quot;ogr_fid&quot;:125,&quot;region&quot;:&quot;4&quot;,&quot;division&quot;:&quot;8&quot;,&quot;statefp&quot;:&quot;35&quot;,&quot;statens&quot;:&quot;00897535&quot;,&quot;stusps&quot;:&quot;NM&quot;,&quot;state&quot;:&quot;New Mexico&quot;},{&quot;ogr_fid&quot;:128,&quot;region&quot;:&quot;2&quot;,&quot;division&quot;:&quot;3&quot;,&quot;statefp&quot;:&quot;55&quot;,&quot;statens&quot;:&quot;01779806&quot;,&quot;stusps&quot;:&quot;WI&quot;,&quot;state&quot;:&quot;Wisconsin&quot;},{&quot;ogr_fid&quot;:132,&quot;region&quot;:&quot;No&quot;,&quot;division&quot;:&quot;9&quot;,&quot;statefp&quot;:&quot;53&quot;,&quot;statens&quot;:&quot;01779804&quot;,&quot;stusps&quot;:&quot;WA&quot;,&quot;state&quot;:&quot;Washington&quot;},{&quot;ogr_fid&quot;:139,&quot;region&quot;:&quot;4&quot;,&quot;division&quot;:&quot;8&quot;,&quot;statefp&quot;:&quot;08&quot;,&quot;statens&quot;:&quot;01779779&quot;,&quot;stusps&quot;:&quot;CO&quot;,&quot;state&quot;:&quot;Colorado&quot;},{&quot;ogr_fid&quot;:146,&quot;region&quot;:&quot;3&quot;,&quot;division&quot;:&quot;6&quot;,&quot;statefp&quot;:&quot;21&quot;,&quot;statens&quot;:&quot;01779786&quot;,&quot;stusps&quot;:&quot;KY&quot;,&quot;state&quot;:&quot;Kentucky&quot;},{&quot;ogr_fid&quot;:149,&quot;region&quot;:&quot;9&quot;,&quot;division&quot;:&quot;0&quot;,&quot;statefp&quot;:&quot;66&quot;,&quot;statens&quot;:&quot;01802705&quot;,&quot;stusps&quot;:&quot;GU&quot;,&quot;state&quot;:&quot;Guam&quot;},{&quot;ogr_fid&quot;:155,&quot;region&quot;:&quot;2&quot;,&quot;division&quot;:&quot;3&quot;,&quot;statefp&quot;:&quot;26&quot;,&quot;statens&quot;:&quot;01779789&quot;,&quot;stusps&quot;:&quot;MI&quot;,&quot;state&quot;:&quot;Michigan&quot;},{&quot;ogr_fid&quot;:158,&quot;region&quot;:&quot;2&quot;,&quot;division&quot;:&quot;4&quot;,&quot;statefp&quot;:&quot;29&quot;,&quot;statens&quot;:&quot;01779791&quot;,&quot;stusps&quot;:&quot;MO&quot;,&quot;state&quot;:&quot;Missouri&quot;},{&quot;ogr_fid&quot;:162,&quot;region&quot;:&quot;9&quot;,&quot;division&quot;:&quot;0&quot;,&quot;statefp&quot;:&quot;72&quot;,&quot;statens&quot;:&quot;01779808&quot;,&quot;stusps&quot;:&quot;PR&quot;,&quot;state&quot;:&quot;Puerto Rico&quot;},{&quot;ogr_fid&quot;:167,&quot;region&quot;:&quot;2&quot;,&quot;division&quot;:&quot;4&quot;,&quot;statefp&quot;:&quot;19&quot;,&quot;statens&quot;:&quot;01779785&quot;,&quot;stusps&quot;:&quot;IA&quot;,&quot;state&quot;:&quot;Iowa&quot;},{&quot;ogr_fid&quot;:168,&quot;region&quot;:&quot;4&quot;,&quot;division&quot;:&quot;8&quot;,&quot;statefp&quot;:&quot;04&quot;,&quot;statens&quot;:&quot;01779777&quot;,&quot;stusps&quot;:&quot;AZ&quot;,&quot;state&quot;:&quot;Arizona&quot;}]</td></tr></table>"
                    },
                    "metadata": {}
                }
            ],
            "execution_count": 9
        },
        {
            "cell_type": "code",
            "source": [
                "SELECT [ogr_fid]\r\n",
                "      ,[statefp]\r\n",
                "      ,[countyfp]\r\n",
                "      ,[geoid]\r\n",
                "      ,[name]\r\n",
                "      ,[namelsad]\r\n",
                "      ,[intptlat]\r\n",
                "      ,[intptlon]\r\n",
                "  FROM [PythonDB].[dbo].[us_il_counties]"
            ],
            "metadata": {
                "azdata_cell_guid": "1c4cf664-b19c-4459-b387-7dbcf0ed2679"
            },
            "outputs": [
                {
                    "output_type": "display_data",
                    "data": {
                        "text/html": "(102 rows affected)"
                    },
                    "metadata": {}
                },
                {
                    "output_type": "display_data",
                    "data": {
                        "text/html": "Total execution time: 00:00:00.015"
                    },
                    "metadata": {}
                },
                {
                    "output_type": "execute_result",
                    "execution_count": 10,
                    "data": {
                        "application/vnd.dataresource+json": {
                            "schema": {
                                "fields": [
                                    {
                                        "name": "ogr_fid"
                                    },
                                    {
                                        "name": "statefp"
                                    },
                                    {
                                        "name": "countyfp"
                                    },
                                    {
                                        "name": "geoid"
                                    },
                                    {
                                        "name": "name"
                                    },
                                    {
                                        "name": "namelsad"
                                    },
                                    {
                                        "name": "intptlat"
                                    },
                                    {
                                        "name": "intptlon"
                                    }
                                ]
                            },
                            "data": [
                                {
                                    "0": "1",
                                    "1": "17",
                                    "2": "067",
                                    "3": "17067",
                                    "4": "Hancock",
                                    "5": "Hancock County",
                                    "6": "+40.4013180",
                                    "7": "-091.1688008"
                                },
                                {
                                    "0": "2",
                                    "1": "17",
                                    "2": "025",
                                    "3": "17025",
                                    "4": "Clay",
                                    "5": "Clay County",
                                    "6": "+38.7468187",
                                    "7": "-088.4823254"
                                },
                                {
                                    "0": "3",
                                    "1": "17",
                                    "2": "185",
                                    "3": "17185",
                                    "4": "Wabash",
                                    "5": "Wabash County",
                                    "6": "+38.4458209",
                                    "7": "-087.8391674"
                                },
                                {
                                    "0": "4",
                                    "1": "17",
                                    "2": "113",
                                    "3": "17113",
                                    "4": "McLean",
                                    "5": "McLean County",
                                    "6": "+40.4945594",
                                    "7": "-088.8445391"
                                },
                                {
                                    "0": "5",
                                    "1": "17",
                                    "2": "005",
                                    "3": "17005",
                                    "4": "Bond",
                                    "5": "Bond County",
                                    "6": "+38.8859240",
                                    "7": "-089.4365916"
                                },
                                {
                                    "0": "6",
                                    "1": "17",
                                    "2": "009",
                                    "3": "17009",
                                    "4": "Brown",
                                    "5": "Brown County",
                                    "6": "+39.9620694",
                                    "7": "-090.7503095"
                                },
                                {
                                    "0": "7",
                                    "1": "17",
                                    "2": "083",
                                    "3": "17083",
                                    "4": "Jersey",
                                    "5": "Jersey County",
                                    "6": "+39.0801945",
                                    "7": "-090.3613850"
                                },
                                {
                                    "0": "8",
                                    "1": "17",
                                    "2": "147",
                                    "3": "17147",
                                    "4": "Piatt",
                                    "5": "Piatt County",
                                    "6": "+40.0090327",
                                    "7": "-088.5923546"
                                },
                                {
                                    "0": "9",
                                    "1": "17",
                                    "2": "151",
                                    "3": "17151",
                                    "4": "Pope",
                                    "5": "Pope County",
                                    "6": "+37.4171687",
                                    "7": "-088.5423737"
                                },
                                {
                                    "0": "10",
                                    "1": "17",
                                    "2": "011",
                                    "3": "17011",
                                    "4": "Bureau",
                                    "5": "Bureau County",
                                    "6": "+41.4013043",
                                    "7": "-089.5283772"
                                },
                                {
                                    "0": "11",
                                    "1": "17",
                                    "2": "029",
                                    "3": "17029",
                                    "4": "Coles",
                                    "5": "Coles County",
                                    "6": "+39.5136797",
                                    "7": "-088.2207820"
                                },
                                {
                                    "0": "12",
                                    "1": "17",
                                    "2": "131",
                                    "3": "17131",
                                    "4": "Mercer",
                                    "5": "Mercer County",
                                    "6": "+41.2056046",
                                    "7": "-090.7417698"
                                },
                                {
                                    "0": "13",
                                    "1": "17",
                                    "2": "049",
                                    "3": "17049",
                                    "4": "Effingham",
                                    "5": "Effingham County",
                                    "6": "+39.0479445",
                                    "7": "-088.5928488"
                                },
                                {
                                    "0": "14",
                                    "1": "17",
                                    "2": "035",
                                    "3": "17035",
                                    "4": "Cumberland",
                                    "5": "Cumberland County",
                                    "6": "+39.2731210",
                                    "7": "-088.2406193"
                                },
                                {
                                    "0": "15",
                                    "1": "17",
                                    "2": "033",
                                    "3": "17033",
                                    "4": "Crawford",
                                    "5": "Crawford County",
                                    "6": "+39.0027865",
                                    "7": "-087.7606193"
                                },
                                {
                                    "0": "16",
                                    "1": "17",
                                    "2": "057",
                                    "3": "17057",
                                    "4": "Fulton",
                                    "5": "Fulton County",
                                    "6": "+40.4652401",
                                    "7": "-090.2022689"
                                },
                                {
                                    "0": "17",
                                    "1": "17",
                                    "2": "135",
                                    "3": "17135",
                                    "4": "Montgomery",
                                    "5": "Montgomery County",
                                    "6": "+39.2280681",
                                    "7": "-089.4781407"
                                },
                                {
                                    "0": "18",
                                    "1": "17",
                                    "2": "115",
                                    "3": "17115",
                                    "4": "Macon",
                                    "5": "Macon County",
                                    "6": "+39.8602372",
                                    "7": "-088.9615288"
                                },
                                {
                                    "0": "19",
                                    "1": "17",
                                    "2": "055",
                                    "3": "17055",
                                    "4": "Franklin",
                                    "5": "Franklin County",
                                    "6": "+37.9918516",
                                    "7": "-088.9263215"
                                },
                                {
                                    "0": "20",
                                    "1": "17",
                                    "2": "023",
                                    "3": "17023",
                                    "4": "Clark",
                                    "5": "Clark County",
                                    "6": "+39.3323343",
                                    "7": "-087.7916832"
                                },
                                {
                                    "0": "21",
                                    "1": "17",
                                    "2": "161",
                                    "3": "17161",
                                    "4": "Rock Island",
                                    "5": "Rock Island County",
                                    "6": "+41.4684205",
                                    "7": "-090.5721252"
                                },
                                {
                                    "0": "22",
                                    "1": "17",
                                    "2": "093",
                                    "3": "17093",
                                    "4": "Kendall",
                                    "5": "Kendall County",
                                    "6": "+41.5881403",
                                    "7": "-088.4306257"
                                },
                                {
                                    "0": "23",
                                    "1": "17",
                                    "2": "031",
                                    "3": "17031",
                                    "4": "Cook",
                                    "5": "Cook County",
                                    "6": "+41.8942937",
                                    "7": "-087.6454546"
                                },
                                {
                                    "0": "24",
                                    "1": "17",
                                    "2": "059",
                                    "3": "17059",
                                    "4": "Gallatin",
                                    "5": "Gallatin County",
                                    "6": "+37.7686768",
                                    "7": "-088.2279642"
                                },
                                {
                                    "0": "25",
                                    "1": "17",
                                    "2": "103",
                                    "3": "17103",
                                    "4": "Lee",
                                    "5": "Lee County",
                                    "6": "+41.7474465",
                                    "7": "-089.2993616"
                                },
                                {
                                    "0": "26",
                                    "1": "17",
                                    "2": "037",
                                    "3": "17037",
                                    "4": "DeKalb",
                                    "5": "DeKalb County",
                                    "6": "+41.8946125",
                                    "7": "-088.7689910"
                                },
                                {
                                    "0": "27",
                                    "1": "17",
                                    "2": "175",
                                    "3": "17175",
                                    "4": "Stark",
                                    "5": "Stark County",
                                    "6": "+41.0969077",
                                    "7": "-089.7974111"
                                },
                                {
                                    "0": "28",
                                    "1": "17",
                                    "2": "001",
                                    "3": "17001",
                                    "4": "Adams",
                                    "5": "Adams County",
                                    "6": "+39.9860525",
                                    "7": "-091.1949607"
                                },
                                {
                                    "0": "29",
                                    "1": "17",
                                    "2": "075",
                                    "3": "17075",
                                    "4": "Iroquois",
                                    "5": "Iroquois County",
                                    "6": "+40.7488665",
                                    "7": "-087.8336010"
                                },
                                {
                                    "0": "30",
                                    "1": "17",
                                    "2": "053",
                                    "3": "17053",
                                    "4": "Ford",
                                    "5": "Ford County",
                                    "6": "+40.5965386",
                                    "7": "-088.2245882"
                                },
                                {
                                    "0": "31",
                                    "1": "17",
                                    "2": "041",
                                    "3": "17041",
                                    "4": "Douglas",
                                    "5": "Douglas County",
                                    "6": "+39.7660780",
                                    "7": "-088.2228656"
                                },
                                {
                                    "0": "32",
                                    "1": "17",
                                    "2": "163",
                                    "3": "17163",
                                    "4": "St. Clair",
                                    "5": "St. Clair County",
                                    "6": "+38.4701976",
                                    "7": "-089.9285459"
                                },
                                {
                                    "0": "33",
                                    "1": "17",
                                    "2": "189",
                                    "3": "17189",
                                    "4": "Washington",
                                    "5": "Washington County",
                                    "6": "+38.3531405",
                                    "7": "-089.4171873"
                                },
                                {
                                    "0": "34",
                                    "1": "17",
                                    "2": "171",
                                    "3": "17171",
                                    "4": "Scott",
                                    "5": "Scott County",
                                    "6": "+39.6370016",
                                    "7": "-090.4777707"
                                },
                                {
                                    "0": "35",
                                    "1": "17",
                                    "2": "159",
                                    "3": "17159",
                                    "4": "Richland",
                                    "5": "Richland County",
                                    "6": "+38.7121872",
                                    "7": "-088.0854523"
                                },
                                {
                                    "0": "36",
                                    "1": "17",
                                    "2": "129",
                                    "3": "17129",
                                    "4": "Menard",
                                    "5": "Menard County",
                                    "6": "+40.0225693",
                                    "7": "-089.7941326"
                                },
                                {
                                    "0": "37",
                                    "1": "17",
                                    "2": "065",
                                    "3": "17065",
                                    "4": "Hamilton",
                                    "5": "Hamilton County",
                                    "6": "+38.0852273",
                                    "7": "-088.5390093"
                                },
                                {
                                    "0": "38",
                                    "1": "17",
                                    "2": "193",
                                    "3": "17193",
                                    "4": "White",
                                    "5": "White County",
                                    "6": "+38.0873259",
                                    "7": "-088.1786227"
                                },
                                {
                                    "0": "39",
                                    "1": "17",
                                    "2": "039",
                                    "3": "17039",
                                    "4": "De Witt",
                                    "5": "De Witt County",
                                    "6": "+40.1814993",
                                    "7": "-088.9018526"
                                },
                                {
                                    "0": "40",
                                    "1": "17",
                                    "2": "155",
                                    "3": "17155",
                                    "4": "Putnam",
                                    "5": "Putnam County",
                                    "6": "+41.1989613",
                                    "7": "-089.2983474"
                                },
                                {
                                    "0": "41",
                                    "1": "17",
                                    "2": "169",
                                    "3": "17169",
                                    "4": "Schuyler",
                                    "5": "Schuyler County",
                                    "6": "+40.1569048",
                                    "7": "-090.6134641"
                                },
                                {
                                    "0": "42",
                                    "1": "17",
                                    "2": "177",
                                    "3": "17177",
                                    "4": "Stephenson",
                                    "5": "Stephenson County",
                                    "6": "+42.3497262",
                                    "7": "-089.6659942"
                                },
                                {
                                    "0": "43",
                                    "1": "17",
                                    "2": "181",
                                    "3": "17181",
                                    "4": "Union",
                                    "5": "Union County",
                                    "6": "+37.4856521",
                                    "7": "-089.2446391"
                                },
                                {
                                    "0": "44",
                                    "1": "17",
                                    "2": "091",
                                    "3": "17091",
                                    "4": "Kankakee",
                                    "5": "Kankakee County",
                                    "6": "+41.1395105",
                                    "7": "-087.8611165"
                                },
                                {
                                    "0": "45",
                                    "1": "17",
                                    "2": "027",
                                    "3": "17027",
                                    "4": "Clinton",
                                    "5": "Clinton County",
                                    "6": "+38.6062953",
                                    "7": "-089.4262278"
                                },
                                {
                                    "0": "46",
                                    "1": "17",
                                    "2": "085",
                                    "3": "17085",
                                    "4": "Jo Daviess",
                                    "5": "Jo Daviess County",
                                    "6": "+42.3623905",
                                    "7": "-090.2114705"
                                },
                                {
                                    "0": "47",
                                    "1": "17",
                                    "2": "199",
                                    "3": "17199",
                                    "4": "Williamson",
                                    "5": "Williamson County",
                                    "6": "+37.7303533",
                                    "7": "-088.9300182"
                                },
                                {
                                    "0": "48",
                                    "1": "17",
                                    "2": "125",
                                    "3": "17125",
                                    "4": "Mason",
                                    "5": "Mason County",
                                    "6": "+40.2369926",
                                    "7": "-089.9135746"
                                },
                                {
                                    "0": "49",
                                    "1": "17",
                                    "2": "105",
                                    "3": "17105",
                                    "4": "Livingston",
                                    "5": "Livingston County",
                                    "6": "+40.8943761",
                                    "7": "-088.5528518"
                                },
                                {
                                    "0": "50",
                                    "1": "17",
                                    "2": "191",
                                    "3": "17191",
                                    "4": "Wayne",
                                    "5": "Wayne County",
                                    "6": "+38.4318573",
                                    "7": "-088.4324302"
                                },
                                {
                                    "0": "51",
                                    "1": "17",
                                    "2": "089",
                                    "3": "17089",
                                    "4": "Kane",
                                    "5": "Kane County",
                                    "6": "+41.9395938",
                                    "7": "-088.4280395"
                                },
                                {
                                    "0": "52",
                                    "1": "17",
                                    "2": "069",
                                    "3": "17069",
                                    "4": "Hardin",
                                    "5": "Hardin County",
                                    "6": "+37.5178517",
                                    "7": "-088.2661478"
                                },
                                {
                                    "0": "53",
                                    "1": "17",
                                    "2": "063",
                                    "3": "17063",
                                    "4": "Grundy",
                                    "5": "Grundy County",
                                    "6": "+41.2924096",
                                    "7": "-088.4010545"
                                },
                                {
                                    "0": "54",
                                    "1": "17",
                                    "2": "109",
                                    "3": "17109",
                                    "4": "McDonough",
                                    "5": "McDonough County",
                                    "6": "+40.4558082",
                                    "7": "-090.6789543"
                                },
                                {
                                    "0": "55",
                                    "1": "17",
                                    "2": "127",
                                    "3": "17127",
                                    "4": "Massac",
                                    "5": "Massac County",
                                    "6": "+37.2161190",
                                    "7": "-088.7056578"
                                },
                                {
                                    "0": "56",
                                    "1": "17",
                                    "2": "073",
                                    "3": "17073",
                                    "4": "Henry",
                                    "5": "Henry County",
                                    "6": "+41.3500209",
                                    "7": "-090.1308378"
                                },
                                {
                                    "0": "57",
                                    "1": "17",
                                    "2": "061",
                                    "3": "17061",
                                    "4": "Greene",
                                    "5": "Greene County",
                                    "6": "+39.3554391",
                                    "7": "-090.3876823"
                                },
                                {
                                    "0": "58",
                                    "1": "17",
                                    "2": "157",
                                    "3": "17157",
                                    "4": "Randolph",
                                    "5": "Randolph County",
                                    "6": "+38.0565149",
                                    "7": "-089.8212096"
                                },
                                {
                                    "0": "59",
                                    "1": "17",
                                    "2": "149",
                                    "3": "17149",
                                    "4": "Pike",
                                    "5": "Pike County",
                                    "6": "+39.6251059",
                                    "7": "-090.8890344"
                                },
                                {
                                    "0": "60",
                                    "1": "17",
                                    "2": "203",
                                    "3": "17203",
                                    "4": "Woodford",
                                    "5": "Woodford County",
                                    "6": "+40.7897870",
                                    "7": "-089.2105871"
                                },
                                {
                                    "0": "61",
                                    "1": "17",
                                    "2": "145",
                                    "3": "17145",
                                    "4": "Perry",
                                    "5": "Perry County",
                                    "6": "+38.0843809",
                                    "7": "-089.3685249"
                                },
                                {
                                    "0": "62",
                                    "1": "17",
                                    "2": "087",
                                    "3": "17087",
                                    "4": "Johnson",
                                    "5": "Johnson County",
                                    "6": "+37.4607092",
                                    "7": "-088.8821305"
                                },
                                {
                                    "0": "63",
                                    "1": "17",
                                    "2": "173",
                                    "3": "17173",
                                    "4": "Shelby",
                                    "5": "Shelby County",
                                    "6": "+39.3849258",
                                    "7": "-088.7988615"
                                },
                                {
                                    "0": "64",
                                    "1": "17",
                                    "2": "051",
                                    "3": "17051",
                                    "4": "Fayette",
                                    "5": "Fayette County",
                                    "6": "+39.0011246",
                                    "7": "-089.0179232"
                                },
                                {
                                    "0": "65",
                                    "1": "17",
                                    "2": "201",
                                    "3": "17201",
                                    "4": "Winnebago",
                                    "5": "Winnebago County",
                                    "6": "+42.3373957",
                                    "7": "-089.1612053"
                                },
                                {
                                    "0": "66",
                                    "1": "17",
                                    "2": "141",
                                    "3": "17141",
                                    "4": "Ogle",
                                    "5": "Ogle County",
                                    "6": "+42.0418840",
                                    "7": "-089.3201764"
                                },
                                {
                                    "0": "67",
                                    "1": "17",
                                    "2": "139",
                                    "3": "17139",
                                    "4": "Moultrie",
                                    "5": "Moultrie County",
                                    "6": "+39.6368956",
                                    "7": "-088.6257259"
                                },
                                {
                                    "0": "68",
                                    "1": "17",
                                    "2": "017",
                                    "3": "17017",
                                    "4": "Cass",
                                    "5": "Cass County",
                                    "6": "+39.9692024",
                                    "7": "-090.2457045"
                                },
                                {
                                    "0": "69",
                                    "1": "17",
                                    "2": "167",
                                    "3": "17167",
                                    "4": "Sangamon",
                                    "5": "Sangamon County",
                                    "6": "+39.7568675",
                                    "7": "-089.6624251"
                                },
                                {
                                    "0": "70",
                                    "1": "17",
                                    "2": "179",
                                    "3": "17179",
                                    "4": "Tazewell",
                                    "5": "Tazewell County",
                                    "6": "+40.5080743",
                                    "7": "-089.5162598"
                                },
                                {
                                    "0": "71",
                                    "1": "17",
                                    "2": "099",
                                    "3": "17099",
                                    "4": "LaSalle",
                                    "5": "LaSalle County",
                                    "6": "+41.3433407",
                                    "7": "-088.8859312"
                                },
                                {
                                    "0": "72",
                                    "1": "17",
                                    "2": "183",
                                    "3": "17183",
                                    "4": "Vermilion",
                                    "5": "Vermilion County",
                                    "6": "+40.1867542",
                                    "7": "-087.7267779"
                                },
                                {
                                    "0": "73",
                                    "1": "17",
                                    "2": "007",
                                    "3": "17007",
                                    "4": "Boone",
                                    "5": "Boone County",
                                    "6": "+42.3189831",
                                    "7": "-088.8242951"
                                },
                                {
                                    "0": "74",
                                    "1": "17",
                                    "2": "137",
                                    "3": "17137",
                                    "4": "Morgan",
                                    "5": "Morgan County",
                                    "6": "+39.7176678",
                                    "7": "-090.2050054"
                                },
                                {
                                    "0": "75",
                                    "1": "17",
                                    "2": "123",
                                    "3": "17123",
                                    "4": "Marshall",
                                    "5": "Marshall County",
                                    "6": "+41.0311192",
                                    "7": "-089.3423714"
                                },
                                {
                                    "0": "76",
                                    "1": "17",
                                    "2": "079",
                                    "3": "17079",
                                    "4": "Jasper",
                                    "5": "Jasper County",
                                    "6": "+39.0048737",
                                    "7": "-088.1507629"
                                },
                                {
                                    "0": "77",
                                    "1": "17",
                                    "2": "013",
                                    "3": "17013",
                                    "4": "Calhoun",
                                    "5": "Calhoun County",
                                    "6": "+39.1642619",
                                    "7": "-090.6662949"
                                },
                                {
                                    "0": "78",
                                    "1": "17",
                                    "2": "121",
                                    "3": "17121",
                                    "4": "Marion",
                                    "5": "Marion County",
                                    "6": "+38.6482361",
                                    "7": "-088.9203624"
                                },
                                {
                                    "0": "79",
                                    "1": "17",
                                    "2": "187",
                                    "3": "17187",
                                    "4": "Warren",
                                    "5": "Warren County",
                                    "6": "+40.8504412",
                                    "7": "-090.6202228"
                                },
                                {
                                    "0": "80",
                                    "1": "17",
                                    "2": "197",
                                    "3": "17197",
                                    "4": "Will",
                                    "5": "Will County",
                                    "6": "+41.4484742",
                                    "7": "-087.9784564"
                                },
                                {
                                    "0": "81",
                                    "1": "17",
                                    "2": "153",
                                    "3": "17153",
                                    "4": "Pulaski",
                                    "5": "Pulaski County",
                                    "6": "+37.2156152",
                                    "7": "-089.1277549"
                                },
                                {
                                    "0": "82",
                                    "1": "17",
                                    "2": "119",
                                    "3": "17119",
                                    "4": "Madison",
                                    "5": "Madison County",
                                    "6": "+38.8271195",
                                    "7": "-089.9002267"
                                },
                                {
                                    "0": "83",
                                    "1": "17",
                                    "2": "133",
                                    "3": "17133",
                                    "4": "Monroe",
                                    "5": "Monroe County",
                                    "6": "+38.2779831",
                                    "7": "-090.1790777"
                                },
                                {
                                    "0": "84",
                                    "1": "17",
                                    "2": "003",
                                    "3": "17003",
                                    "4": "Alexander",
                                    "5": "Alexander County",
                                    "6": "+37.1836583",
                                    "7": "-089.3495158"
                                },
                                {
                                    "0": "85",
                                    "1": "17",
                                    "2": "043",
                                    "3": "17043",
                                    "4": "DuPage",
                                    "5": "DuPage County",
                                    "6": "+41.8520577",
                                    "7": "-088.0860389"
                                },
                                {
                                    "0": "86",
                                    "1": "17",
                                    "2": "165",
                                    "3": "17165",
                                    "4": "Saline",
                                    "5": "Saline County",
                                    "6": "+37.7515083",
                                    "7": "-088.5450236"
                                },
                                {
                                    "0": "87",
                                    "1": "17",
                                    "2": "097",
                                    "3": "17097",
                                    "4": "Lake",
                                    "5": "Lake County",
                                    "6": "+42.3264410",
                                    "7": "-087.4359760"
                                },
                                {
                                    "0": "88",
                                    "1": "17",
                                    "2": "117",
                                    "3": "17117",
                                    "4": "Macoupin",
                                    "5": "Macoupin County",
                                    "6": "+39.2659138",
                                    "7": "-089.9263301"
                                },
                                {
                                    "0": "89",
                                    "1": "17",
                                    "2": "195",
                                    "3": "17195",
                                    "4": "Whiteside",
                                    "5": "Whiteside County",
                                    "6": "+41.7506733",
                                    "7": "-089.9110045"
                                },
                                {
                                    "0": "90",
                                    "1": "17",
                                    "2": "107",
                                    "3": "17107",
                                    "4": "Logan",
                                    "5": "Logan County",
                                    "6": "+40.1292768",
                                    "7": "-089.3653086"
                                },
                                {
                                    "0": "91",
                                    "1": "17",
                                    "2": "081",
                                    "3": "17081",
                                    "4": "Jefferson",
                                    "5": "Jefferson County",
                                    "6": "+38.3007796",
                                    "7": "-088.9242100"
                                },
                                {
                                    "0": "92",
                                    "1": "17",
                                    "2": "101",
                                    "3": "17101",
                                    "4": "Lawrence",
                                    "5": "Lawrence County",
                                    "6": "+38.7189542",
                                    "7": "-087.7302207"
                                },
                                {
                                    "0": "93",
                                    "1": "17",
                                    "2": "143",
                                    "3": "17143",
                                    "4": "Peoria",
                                    "5": "Peoria County",
                                    "6": "+40.7859722",
                                    "7": "-089.7669933"
                                },
                                {
                                    "0": "94",
                                    "1": "17",
                                    "2": "019",
                                    "3": "17019",
                                    "4": "Champaign",
                                    "5": "Champaign County",
                                    "6": "+40.1389845",
                                    "7": "-088.1969749"
                                },
                                {
                                    "0": "95",
                                    "1": "17",
                                    "2": "045",
                                    "3": "17045",
                                    "4": "Edgar",
                                    "5": "Edgar County",
                                    "6": "+39.6790370",
                                    "7": "-087.7471102"
                                },
                                {
                                    "0": "96",
                                    "1": "17",
                                    "2": "021",
                                    "3": "17021",
                                    "4": "Christian",
                                    "5": "Christian County",
                                    "6": "+39.5455242",
                                    "7": "-089.2795927"
                                },
                                {
                                    "0": "97",
                                    "1": "17",
                                    "2": "095",
                                    "3": "17095",
                                    "4": "Knox",
                                    "5": "Knox County",
                                    "6": "+40.9309446",
                                    "7": "-090.2137921"
                                },
                                {
                                    "0": "98",
                                    "1": "17",
                                    "2": "111",
                                    "3": "17111",
                                    "4": "McHenry",
                                    "5": "McHenry County",
                                    "6": "+42.3242982",
                                    "7": "-088.4522450"
                                },
                                {
                                    "0": "99",
                                    "1": "17",
                                    "2": "015",
                                    "3": "17015",
                                    "4": "Carroll",
                                    "5": "Carroll County",
                                    "6": "+42.0709000",
                                    "7": "-089.9241894"
                                },
                                {
                                    "0": "100",
                                    "1": "17",
                                    "2": "047",
                                    "3": "17047",
                                    "4": "Edwards",
                                    "5": "Edwards County",
                                    "6": "+38.4170954",
                                    "7": "-088.0479408"
                                },
                                {
                                    "0": "101",
                                    "1": "17",
                                    "2": "071",
                                    "3": "17071",
                                    "4": "Henderson",
                                    "5": "Henderson County",
                                    "6": "+40.8144710",
                                    "7": "-090.9412464"
                                },
                                {
                                    "0": "102",
                                    "1": "17",
                                    "2": "077",
                                    "3": "17077",
                                    "4": "Jackson",
                                    "5": "Jackson County",
                                    "6": "+37.7860959",
                                    "7": "-089.3812119"
                                }
                            ]
                        },
                        "text/html": "<table><tr><th>ogr_fid</th><th>statefp</th><th>countyfp</th><th>geoid</th><th>name</th><th>namelsad</th><th>intptlat</th><th>intptlon</th></tr><tr><td>1</td><td>17</td><td>067</td><td>17067</td><td>Hancock</td><td>Hancock County</td><td>+40.4013180</td><td>-091.1688008</td></tr><tr><td>2</td><td>17</td><td>025</td><td>17025</td><td>Clay</td><td>Clay County</td><td>+38.7468187</td><td>-088.4823254</td></tr><tr><td>3</td><td>17</td><td>185</td><td>17185</td><td>Wabash</td><td>Wabash County</td><td>+38.4458209</td><td>-087.8391674</td></tr><tr><td>4</td><td>17</td><td>113</td><td>17113</td><td>McLean</td><td>McLean County</td><td>+40.4945594</td><td>-088.8445391</td></tr><tr><td>5</td><td>17</td><td>005</td><td>17005</td><td>Bond</td><td>Bond County</td><td>+38.8859240</td><td>-089.4365916</td></tr><tr><td>6</td><td>17</td><td>009</td><td>17009</td><td>Brown</td><td>Brown County</td><td>+39.9620694</td><td>-090.7503095</td></tr><tr><td>7</td><td>17</td><td>083</td><td>17083</td><td>Jersey</td><td>Jersey County</td><td>+39.0801945</td><td>-090.3613850</td></tr><tr><td>8</td><td>17</td><td>147</td><td>17147</td><td>Piatt</td><td>Piatt County</td><td>+40.0090327</td><td>-088.5923546</td></tr><tr><td>9</td><td>17</td><td>151</td><td>17151</td><td>Pope</td><td>Pope County</td><td>+37.4171687</td><td>-088.5423737</td></tr><tr><td>10</td><td>17</td><td>011</td><td>17011</td><td>Bureau</td><td>Bureau County</td><td>+41.4013043</td><td>-089.5283772</td></tr><tr><td>11</td><td>17</td><td>029</td><td>17029</td><td>Coles</td><td>Coles County</td><td>+39.5136797</td><td>-088.2207820</td></tr><tr><td>12</td><td>17</td><td>131</td><td>17131</td><td>Mercer</td><td>Mercer County</td><td>+41.2056046</td><td>-090.7417698</td></tr><tr><td>13</td><td>17</td><td>049</td><td>17049</td><td>Effingham</td><td>Effingham County</td><td>+39.0479445</td><td>-088.5928488</td></tr><tr><td>14</td><td>17</td><td>035</td><td>17035</td><td>Cumberland</td><td>Cumberland County</td><td>+39.2731210</td><td>-088.2406193</td></tr><tr><td>15</td><td>17</td><td>033</td><td>17033</td><td>Crawford</td><td>Crawford County</td><td>+39.0027865</td><td>-087.7606193</td></tr><tr><td>16</td><td>17</td><td>057</td><td>17057</td><td>Fulton</td><td>Fulton County</td><td>+40.4652401</td><td>-090.2022689</td></tr><tr><td>17</td><td>17</td><td>135</td><td>17135</td><td>Montgomery</td><td>Montgomery County</td><td>+39.2280681</td><td>-089.4781407</td></tr><tr><td>18</td><td>17</td><td>115</td><td>17115</td><td>Macon</td><td>Macon County</td><td>+39.8602372</td><td>-088.9615288</td></tr><tr><td>19</td><td>17</td><td>055</td><td>17055</td><td>Franklin</td><td>Franklin County</td><td>+37.9918516</td><td>-088.9263215</td></tr><tr><td>20</td><td>17</td><td>023</td><td>17023</td><td>Clark</td><td>Clark County</td><td>+39.3323343</td><td>-087.7916832</td></tr><tr><td>21</td><td>17</td><td>161</td><td>17161</td><td>Rock Island</td><td>Rock Island County</td><td>+41.4684205</td><td>-090.5721252</td></tr><tr><td>22</td><td>17</td><td>093</td><td>17093</td><td>Kendall</td><td>Kendall County</td><td>+41.5881403</td><td>-088.4306257</td></tr><tr><td>23</td><td>17</td><td>031</td><td>17031</td><td>Cook</td><td>Cook County</td><td>+41.8942937</td><td>-087.6454546</td></tr><tr><td>24</td><td>17</td><td>059</td><td>17059</td><td>Gallatin</td><td>Gallatin County</td><td>+37.7686768</td><td>-088.2279642</td></tr><tr><td>25</td><td>17</td><td>103</td><td>17103</td><td>Lee</td><td>Lee County</td><td>+41.7474465</td><td>-089.2993616</td></tr><tr><td>26</td><td>17</td><td>037</td><td>17037</td><td>DeKalb</td><td>DeKalb County</td><td>+41.8946125</td><td>-088.7689910</td></tr><tr><td>27</td><td>17</td><td>175</td><td>17175</td><td>Stark</td><td>Stark County</td><td>+41.0969077</td><td>-089.7974111</td></tr><tr><td>28</td><td>17</td><td>001</td><td>17001</td><td>Adams</td><td>Adams County</td><td>+39.9860525</td><td>-091.1949607</td></tr><tr><td>29</td><td>17</td><td>075</td><td>17075</td><td>Iroquois</td><td>Iroquois County</td><td>+40.7488665</td><td>-087.8336010</td></tr><tr><td>30</td><td>17</td><td>053</td><td>17053</td><td>Ford</td><td>Ford County</td><td>+40.5965386</td><td>-088.2245882</td></tr><tr><td>31</td><td>17</td><td>041</td><td>17041</td><td>Douglas</td><td>Douglas County</td><td>+39.7660780</td><td>-088.2228656</td></tr><tr><td>32</td><td>17</td><td>163</td><td>17163</td><td>St. Clair</td><td>St. Clair County</td><td>+38.4701976</td><td>-089.9285459</td></tr><tr><td>33</td><td>17</td><td>189</td><td>17189</td><td>Washington</td><td>Washington County</td><td>+38.3531405</td><td>-089.4171873</td></tr><tr><td>34</td><td>17</td><td>171</td><td>17171</td><td>Scott</td><td>Scott County</td><td>+39.6370016</td><td>-090.4777707</td></tr><tr><td>35</td><td>17</td><td>159</td><td>17159</td><td>Richland</td><td>Richland County</td><td>+38.7121872</td><td>-088.0854523</td></tr><tr><td>36</td><td>17</td><td>129</td><td>17129</td><td>Menard</td><td>Menard County</td><td>+40.0225693</td><td>-089.7941326</td></tr><tr><td>37</td><td>17</td><td>065</td><td>17065</td><td>Hamilton</td><td>Hamilton County</td><td>+38.0852273</td><td>-088.5390093</td></tr><tr><td>38</td><td>17</td><td>193</td><td>17193</td><td>White</td><td>White County</td><td>+38.0873259</td><td>-088.1786227</td></tr><tr><td>39</td><td>17</td><td>039</td><td>17039</td><td>De Witt</td><td>De Witt County</td><td>+40.1814993</td><td>-088.9018526</td></tr><tr><td>40</td><td>17</td><td>155</td><td>17155</td><td>Putnam</td><td>Putnam County</td><td>+41.1989613</td><td>-089.2983474</td></tr><tr><td>41</td><td>17</td><td>169</td><td>17169</td><td>Schuyler</td><td>Schuyler County</td><td>+40.1569048</td><td>-090.6134641</td></tr><tr><td>42</td><td>17</td><td>177</td><td>17177</td><td>Stephenson</td><td>Stephenson County</td><td>+42.3497262</td><td>-089.6659942</td></tr><tr><td>43</td><td>17</td><td>181</td><td>17181</td><td>Union</td><td>Union County</td><td>+37.4856521</td><td>-089.2446391</td></tr><tr><td>44</td><td>17</td><td>091</td><td>17091</td><td>Kankakee</td><td>Kankakee County</td><td>+41.1395105</td><td>-087.8611165</td></tr><tr><td>45</td><td>17</td><td>027</td><td>17027</td><td>Clinton</td><td>Clinton County</td><td>+38.6062953</td><td>-089.4262278</td></tr><tr><td>46</td><td>17</td><td>085</td><td>17085</td><td>Jo Daviess</td><td>Jo Daviess County</td><td>+42.3623905</td><td>-090.2114705</td></tr><tr><td>47</td><td>17</td><td>199</td><td>17199</td><td>Williamson</td><td>Williamson County</td><td>+37.7303533</td><td>-088.9300182</td></tr><tr><td>48</td><td>17</td><td>125</td><td>17125</td><td>Mason</td><td>Mason County</td><td>+40.2369926</td><td>-089.9135746</td></tr><tr><td>49</td><td>17</td><td>105</td><td>17105</td><td>Livingston</td><td>Livingston County</td><td>+40.8943761</td><td>-088.5528518</td></tr><tr><td>50</td><td>17</td><td>191</td><td>17191</td><td>Wayne</td><td>Wayne County</td><td>+38.4318573</td><td>-088.4324302</td></tr><tr><td>51</td><td>17</td><td>089</td><td>17089</td><td>Kane</td><td>Kane County</td><td>+41.9395938</td><td>-088.4280395</td></tr><tr><td>52</td><td>17</td><td>069</td><td>17069</td><td>Hardin</td><td>Hardin County</td><td>+37.5178517</td><td>-088.2661478</td></tr><tr><td>53</td><td>17</td><td>063</td><td>17063</td><td>Grundy</td><td>Grundy County</td><td>+41.2924096</td><td>-088.4010545</td></tr><tr><td>54</td><td>17</td><td>109</td><td>17109</td><td>McDonough</td><td>McDonough County</td><td>+40.4558082</td><td>-090.6789543</td></tr><tr><td>55</td><td>17</td><td>127</td><td>17127</td><td>Massac</td><td>Massac County</td><td>+37.2161190</td><td>-088.7056578</td></tr><tr><td>56</td><td>17</td><td>073</td><td>17073</td><td>Henry</td><td>Henry County</td><td>+41.3500209</td><td>-090.1308378</td></tr><tr><td>57</td><td>17</td><td>061</td><td>17061</td><td>Greene</td><td>Greene County</td><td>+39.3554391</td><td>-090.3876823</td></tr><tr><td>58</td><td>17</td><td>157</td><td>17157</td><td>Randolph</td><td>Randolph County</td><td>+38.0565149</td><td>-089.8212096</td></tr><tr><td>59</td><td>17</td><td>149</td><td>17149</td><td>Pike</td><td>Pike County</td><td>+39.6251059</td><td>-090.8890344</td></tr><tr><td>60</td><td>17</td><td>203</td><td>17203</td><td>Woodford</td><td>Woodford County</td><td>+40.7897870</td><td>-089.2105871</td></tr><tr><td>61</td><td>17</td><td>145</td><td>17145</td><td>Perry</td><td>Perry County</td><td>+38.0843809</td><td>-089.3685249</td></tr><tr><td>62</td><td>17</td><td>087</td><td>17087</td><td>Johnson</td><td>Johnson County</td><td>+37.4607092</td><td>-088.8821305</td></tr><tr><td>63</td><td>17</td><td>173</td><td>17173</td><td>Shelby</td><td>Shelby County</td><td>+39.3849258</td><td>-088.7988615</td></tr><tr><td>64</td><td>17</td><td>051</td><td>17051</td><td>Fayette</td><td>Fayette County</td><td>+39.0011246</td><td>-089.0179232</td></tr><tr><td>65</td><td>17</td><td>201</td><td>17201</td><td>Winnebago</td><td>Winnebago County</td><td>+42.3373957</td><td>-089.1612053</td></tr><tr><td>66</td><td>17</td><td>141</td><td>17141</td><td>Ogle</td><td>Ogle County</td><td>+42.0418840</td><td>-089.3201764</td></tr><tr><td>67</td><td>17</td><td>139</td><td>17139</td><td>Moultrie</td><td>Moultrie County</td><td>+39.6368956</td><td>-088.6257259</td></tr><tr><td>68</td><td>17</td><td>017</td><td>17017</td><td>Cass</td><td>Cass County</td><td>+39.9692024</td><td>-090.2457045</td></tr><tr><td>69</td><td>17</td><td>167</td><td>17167</td><td>Sangamon</td><td>Sangamon County</td><td>+39.7568675</td><td>-089.6624251</td></tr><tr><td>70</td><td>17</td><td>179</td><td>17179</td><td>Tazewell</td><td>Tazewell County</td><td>+40.5080743</td><td>-089.5162598</td></tr><tr><td>71</td><td>17</td><td>099</td><td>17099</td><td>LaSalle</td><td>LaSalle County</td><td>+41.3433407</td><td>-088.8859312</td></tr><tr><td>72</td><td>17</td><td>183</td><td>17183</td><td>Vermilion</td><td>Vermilion County</td><td>+40.1867542</td><td>-087.7267779</td></tr><tr><td>73</td><td>17</td><td>007</td><td>17007</td><td>Boone</td><td>Boone County</td><td>+42.3189831</td><td>-088.8242951</td></tr><tr><td>74</td><td>17</td><td>137</td><td>17137</td><td>Morgan</td><td>Morgan County</td><td>+39.7176678</td><td>-090.2050054</td></tr><tr><td>75</td><td>17</td><td>123</td><td>17123</td><td>Marshall</td><td>Marshall County</td><td>+41.0311192</td><td>-089.3423714</td></tr><tr><td>76</td><td>17</td><td>079</td><td>17079</td><td>Jasper</td><td>Jasper County</td><td>+39.0048737</td><td>-088.1507629</td></tr><tr><td>77</td><td>17</td><td>013</td><td>17013</td><td>Calhoun</td><td>Calhoun County</td><td>+39.1642619</td><td>-090.6662949</td></tr><tr><td>78</td><td>17</td><td>121</td><td>17121</td><td>Marion</td><td>Marion County</td><td>+38.6482361</td><td>-088.9203624</td></tr><tr><td>79</td><td>17</td><td>187</td><td>17187</td><td>Warren</td><td>Warren County</td><td>+40.8504412</td><td>-090.6202228</td></tr><tr><td>80</td><td>17</td><td>197</td><td>17197</td><td>Will</td><td>Will County</td><td>+41.4484742</td><td>-087.9784564</td></tr><tr><td>81</td><td>17</td><td>153</td><td>17153</td><td>Pulaski</td><td>Pulaski County</td><td>+37.2156152</td><td>-089.1277549</td></tr><tr><td>82</td><td>17</td><td>119</td><td>17119</td><td>Madison</td><td>Madison County</td><td>+38.8271195</td><td>-089.9002267</td></tr><tr><td>83</td><td>17</td><td>133</td><td>17133</td><td>Monroe</td><td>Monroe County</td><td>+38.2779831</td><td>-090.1790777</td></tr><tr><td>84</td><td>17</td><td>003</td><td>17003</td><td>Alexander</td><td>Alexander County</td><td>+37.1836583</td><td>-089.3495158</td></tr><tr><td>85</td><td>17</td><td>043</td><td>17043</td><td>DuPage</td><td>DuPage County</td><td>+41.8520577</td><td>-088.0860389</td></tr><tr><td>86</td><td>17</td><td>165</td><td>17165</td><td>Saline</td><td>Saline County</td><td>+37.7515083</td><td>-088.5450236</td></tr><tr><td>87</td><td>17</td><td>097</td><td>17097</td><td>Lake</td><td>Lake County</td><td>+42.3264410</td><td>-087.4359760</td></tr><tr><td>88</td><td>17</td><td>117</td><td>17117</td><td>Macoupin</td><td>Macoupin County</td><td>+39.2659138</td><td>-089.9263301</td></tr><tr><td>89</td><td>17</td><td>195</td><td>17195</td><td>Whiteside</td><td>Whiteside County</td><td>+41.7506733</td><td>-089.9110045</td></tr><tr><td>90</td><td>17</td><td>107</td><td>17107</td><td>Logan</td><td>Logan County</td><td>+40.1292768</td><td>-089.3653086</td></tr><tr><td>91</td><td>17</td><td>081</td><td>17081</td><td>Jefferson</td><td>Jefferson County</td><td>+38.3007796</td><td>-088.9242100</td></tr><tr><td>92</td><td>17</td><td>101</td><td>17101</td><td>Lawrence</td><td>Lawrence County</td><td>+38.7189542</td><td>-087.7302207</td></tr><tr><td>93</td><td>17</td><td>143</td><td>17143</td><td>Peoria</td><td>Peoria County</td><td>+40.7859722</td><td>-089.7669933</td></tr><tr><td>94</td><td>17</td><td>019</td><td>17019</td><td>Champaign</td><td>Champaign County</td><td>+40.1389845</td><td>-088.1969749</td></tr><tr><td>95</td><td>17</td><td>045</td><td>17045</td><td>Edgar</td><td>Edgar County</td><td>+39.6790370</td><td>-087.7471102</td></tr><tr><td>96</td><td>17</td><td>021</td><td>17021</td><td>Christian</td><td>Christian County</td><td>+39.5455242</td><td>-089.2795927</td></tr><tr><td>97</td><td>17</td><td>095</td><td>17095</td><td>Knox</td><td>Knox County</td><td>+40.9309446</td><td>-090.2137921</td></tr><tr><td>98</td><td>17</td><td>111</td><td>17111</td><td>McHenry</td><td>McHenry County</td><td>+42.3242982</td><td>-088.4522450</td></tr><tr><td>99</td><td>17</td><td>015</td><td>17015</td><td>Carroll</td><td>Carroll County</td><td>+42.0709000</td><td>-089.9241894</td></tr><tr><td>100</td><td>17</td><td>047</td><td>17047</td><td>Edwards</td><td>Edwards County</td><td>+38.4170954</td><td>-088.0479408</td></tr><tr><td>101</td><td>17</td><td>071</td><td>17071</td><td>Henderson</td><td>Henderson County</td><td>+40.8144710</td><td>-090.9412464</td></tr><tr><td>102</td><td>17</td><td>077</td><td>17077</td><td>Jackson</td><td>Jackson County</td><td>+37.7860959</td><td>-089.3812119</td></tr></table>"
                    },
                    "metadata": {}
                }
            ],
            "execution_count": 10
        },
        {
            "cell_type": "markdown",
            "source": [
                "## **Combine State and Counties (County records only for Illinois)**"
            ],
            "metadata": {
                "azdata_cell_guid": "015f19a7-57e3-4ca3-b4ec-3e255be4c29a"
            },
            "attachments": {}
        },
        {
            "cell_type": "code",
            "source": [
                "\r\n",
                " SELECT S.[ogr_fid] as [id]\r\n",
                "       ,S.[region] as [region]\r\n",
                "       ,S.[division] as [division]\r\n",
                "       ,S.[statefp] as [statefp]\r\n",
                "       ,S.[statens] as [statens]\r\n",
                "       ,S.[stusps] as [stusps]\r\n",
                "       ,S.[name] as [state],\r\n",
                "\t\t    (SELECT C.[ogr_fid]\r\n",
                "\t\t\t\t  ,C.[statefp]\r\n",
                "\t\t\t\t  ,C.[countyfp]\r\n",
                "\t\t\t\t  ,C.[geoid]\r\n",
                "\t\t\t\t  ,C.[name]\r\n",
                "\t\t\t\t  ,C.[namelsad]\r\n",
                "\t\t\t\t  ,C.[intptlat]\r\n",
                "\t\t\t\t  ,C.[intptlon]\r\n",
                "\t\t\t  FROM [PythonDB].[dbo].[us_il_counties] C\r\n",
                "\t\t\t  WHERE C.[statefp] = S.[statefp]\r\n",
                "\t\t\t  FOR JSON PATH) as [counties]\r\n",
                "  FROM [PythonDB].[dbo].[us_states] S\r\n",
                "  FOR JSON PATH, root('state_counties')"
            ],
            "metadata": {
                "azdata_cell_guid": "1c854d5f-eca1-45c5-8321-76c4b49d64d2"
            },
            "outputs": [
                {
                    "output_type": "display_data",
                    "data": {
                        "text/html": "(56 rows affected)"
                    },
                    "metadata": {}
                },
                {
                    "output_type": "display_data",
                    "data": {
                        "text/html": "Total execution time: 00:00:00.017"
                    },
                    "metadata": {}
                },
                {
                    "output_type": "execute_result",
                    "execution_count": 11,
                    "data": {
                        "application/vnd.dataresource+json": {
                            "schema": {
                                "fields": [
                                    {
                                        "name": "JSON_F52E2B61-18A1-11d1-B105-00805F49916B"
                                    }
                                ]
                            },
                            "data": [
                                {
                                    "0": "{\"state_counties\":[{\"id\":1,\"region\":\"3\",\"division\":\"5\",\"statefp\":\"54\",\"statens\":\"01779805\",\"stusps\":\"WV\",\"state\":\"West Virginia\"},{\"id\":7,\"region\":\"4\",\"division\":\"8\",\"statefp\":\"16\",\"statens\":\"01779783\",\"stusps\":\"ID\",\"state\":\"Idaho\"},{\"id\":11,\"region\":\"1\",\"division\":\"1\",\"statefp\":\"09\",\"statens\":\"01779780\",\"stusps\":\"CT\",\"state\":\"Connecticut\"},{\"id\":15,\"region\":\"1\",\"division\":\"2\",\"statefp\":\"34\",\"statens\":\"01779795\",\"stusps\":\"NJ\",\"state\":\"New Jersey\"},{\"id\":19,\"region\":\"1\",\"division\":\"2\",\"statefp\":\"42\",\"statens\":\"01779798\",\"stusps\":\"PA\",\"state\":\"Pennsylvania\"},{\"id\":21,\"region\":\"3\",\"division\":\"7\",\"statefp\":\"22\",\"statens\":\"01629543\",\"stusps\":\"LA\",\"state\":\"Louisiana\"},{\"id\":22,\"region\":\"3\",\"division\":\"5\",\"statefp\":\"13\",\"statens\":\"01705317\",\"stusps\":\"GA\",\"state\":\"Georgia\"},{\"id\":23,\"region\":\"3\",\"division\":\"6\",\"statefp\":\"01\",\"statens\":\"01779775\",\"stusps\":\"AL\",\"state\":\"Alabama\"},{\"id\":24,\"region\":\"4\",\"division\":\"8\",\"statefp\":\"49\",\"statens\":\"01455989\",\"stusps\":\"UT\",\"state\":\"Utah\"},{\"id\":28,\"region\":\"3\",\"division\":\"5\",\"statefp\":\"45\",\"statens\":\"01779799\",\"stusps\":\"SC\",\"state\":\"South Carolina\"},{\"id\":29,\"region\":\"3\",\"division\":\"7\",\"statefp\":\"40\",\"statens\":\"01102857\",\"stusps\":\"OK\",\"state\":\"Oklahoma\"},{\"id\":30,\"region\":\"3\",\"division\":\"6\",\"statefp\":\"47\",\"statens\":\"01325873\",\"stusps\":\"TN\",\"state\":\"Tennessee\"},{\"id\":31,\"region\":\"4\",\"division\":\"8\",\"statefp\":\"56\",\"statens\":\"01779807\",\"stusps\":\"WY\",\"state\":\"Wyoming\"},{\"id\":33,\"region\":\"2\",\"division\":\"4\",\"statefp\":\"38\",\"statens\":\"01779797\",\"stusps\":\"ND\",\"state\":\"North Dakota\"},{\"id\":39,\"region\":\"1\",\"division\":\"2\",\"statefp\":\"36\",\"statens\":\"01779796\",\"stusps\":\"NY\",\"state\":\"New York\"},{\"id\":40,\"region\":\"4\",\"division\":\"8\",\"statefp\":\"32\",\"statens\":\"01779793\",\"stusps\":\"NV\",\"state\":\"Nevada\"},{\"id\":45,\"region\":\"3\",\"division\":\"6\",\"statefp\":\"28\",\"statens\":\"01779790\",\"stusps\":\"MS\",\"state\":\"Mississippi\"},{\"id\":47,\"region\":\"4\",\"division\":\"8\",\"statefp\":\"30\",\"statens\":\"00767982\",\"stusps\":\"MT\",\"state\":\"Montana\"},{\"id\":48,\"region\":\"2\",\"division\":\"4\",\"statefp\":\"20\",\"statens\":\"00481813\",\"stusps\":\"KS\",\"state\":\"Kansas\"},{\"id\":49,\"region\":\"2\",\"division\":\"3\",\"statefp\":\"18\",\"statens\":\"00448508\",\"stusps\":\"IN\",\"state\":\"Indiana\"},{\"id\":53,\"region\":\"3\",\"division\":\"5\",\"statefp\":\"51\",\"statens\":\"01779803\",\"stusps\":\"VA\",\"state\":\"Virginia\"},{\"id\":54,\"region\":\"3\",\"division\":\"5\",\"statefp\":\"11\",\"statens\":\"01702382\",\"stusps\":\"DC\",\"state\":\"District of Columbia\"},{\"id\":61,\"region\":\"3\",\"division\":\"5\",\"statefp\":\"24\",\"statens\":\"01714934\",\"stusps\":\"MD\",\"state\":\"Maryland\"},{\"id\":70,\"region\":\"4\",\"division\":\"9\",\"statefp\":\"06\",\"statens\":\"01779778\",\"stusps\":\"CA\",\"state\":\"California\"},{\"id\":73,\"region\":\"No\",\"division\":\"9\",\"statefp\":\"41\",\"statens\":\"01155107\",\"stusps\":\"OR\",\"state\":\"Oregon\"},{\"id\":74,\"region\":\"2\",\"division\":\"4\",\"statefp\":\"31\",\"statens\":\"01779792\",\"stusps\":\"NE\",\"state\":\"Nebraska\"},{\"id\":81,\"region\":\"2\",\"division\":\"3\",\"statefp\":\"39\",\"statens\":\"01085497\",\"stusps\":\"OH\",\"state\":\"Ohio\"},{\"id\":82,\"region\":\"3\",\"division\":\"7\",\"statefp\":\"48\",\"statens\":\"01779801\",\"stusps\":\"TX\",\"state\":\"Texas\"},{\"id\":88,\"region\":\"4\",\"division\":\"9\",\"statefp\":\"15\",\"statens\":\"01779782\",\"stusps\":\"HI\",\"state\":\"Hawaii\"},{\"id\":91,\"region\":\"9\",\"division\":\"0\",\"statefp\":\"78\",\"statens\":\"01802710\",\"stusps\":\"VI\",\"state\":\"United States Virgin Islands\"},{\"id\":92,\"region\":\"9\",\"division\":\"0\",\"statefp\":\"69\",\"statens\":\"01779809\",\"stusps\":\"MP\",\"state\":\"Commonwealth of the Northern Mariana Islands\"},{\"id\":94,\"region\":\"1\",\"division\":\"1\",\"statefp\":\"23\",\"statens\":\"01779787\",\"stusps\":\"ME\",\"state\":\"Maine\"},{\"id\":97,\"region\":\"4\",\"division\":\"9\",\"statefp\":\"02\",\"statens\":\"01785533\",\"stusps\":\"AK\",\"state\":\"Alaska\"},{\"id\":98,\"region\":\"9\",\"division\":\"0\",\"statefp\":\"60\",\"statens\":\"01802701\",\"stusps\":\"AS\",\"state\":\"American Samoa\"},{\"id\":100,\"region\":\"3\",\"division\":\"7\",\"statefp\":\"05\",\"statens\":\"00068085\",\"stusps\":\"AR\",\"state\":\"Arkansas\"},{\"id\":107,\"region\":\"2\",\"division\":\"4\",\"statefp\":\"46\",\"statens\":\"01785534\",\"stusps\":\"SD\",\"state\":\"South Dakota\"},{\"id\":108,\"region\":\"1\",\"division\":\"1\",\"statefp\":\"25\",\"statens\":\"00606926\",\"stusps\":\"MA\",\"state\":\"Massachusetts\"},{\"id\":114,\"region\":\"3\",\"division\":\"5\",\"statefp\":\"12\",\"statens\":\"00294478\",\"stusps\":\"FL\",\"state\":\"Florida\"},{\"id\":115,\"region\":\"2\",\"division\":\"3\",\"statefp\":\"17\",\"statens\":\"01779784\",\"stusps\":\"IL\",\"state\":\"Illinois\",\"counties\":[{\"ogr_fid\":1,\"statefp\":\"17\",\"countyfp\":\"067\",\"geoid\":\"17067\",\"name\":\"Hancock\",\"namelsad\":\"Hancock County\",\"intptlat\":\"+40.4013180\",\"intptlon\":\"-091.1688008\"},{\"ogr_fid\":2,\"statefp\":\"17\",\"countyfp\":\"025\",\"geoid\":\"17025\",\"name\":\"Clay\",\"namelsad\":\"Clay County\",\"intptlat\":\"+38.7468187\",\"intptlon\":\"-088.4823254\"},{\"ogr_fid\":3,\"statefp\":\"17\",\"countyfp\":\"185\",\"geoid\":\"17185\",\"name\":\"Wabash\",\"namelsad\":\"Wabash County\",\"intptlat\":\"+38.4458209\",\"intptlon\":\"-087.8391674\"},{\"ogr_fid\":4,\"statefp\":\"17\",\"countyfp\":\"113\",\"geoid\":\"17113\",\"name\":\"McLean\",\"namelsad\":\"McLean County\",\"intptlat\":\"+40.4945594\",\"intptlon\":\"-088.8445391\"},{\"ogr_fid\":5,\"statefp\":\"17\",\"countyfp\":\"005\",\"geoid\":\"17005\",\"name\":\"Bond\",\"namelsad\":\"Bond County\",\"intptlat\":\"+38.8859240\",\"intptlon\":\"-089.4365916\"},{\"ogr_fid\":6,\"statefp\":\"17\",\"countyfp\":\"009\",\"geoid\":\"17009\",\"name\":\"Brown\",\"namelsad\":\"Brown County\",\"intptlat\":\"+39.9620694\",\"intptlon\":\"-090.7503095\"},{\"ogr_fid\":7,\"statefp\":\"17\",\"countyfp\":\"083\",\"geoid\":\"17083\",\"name\":\"Jersey\",\"namelsad\":\"Jersey County\",\"intptlat\":\"+39.0801945\",\"intptlon\":\"-090.3613850\"},{\"ogr_fid\":8,\"statefp\":\"17\",\"countyfp\":\"147\",\"geoid\":\"17147\",\"name\":\"Piatt\",\"namelsad\":\"Piatt County\",\"intptlat\":\"+40.0090327\",\"intptlon\":\"-088.5923546\"},{\"ogr_fid\":9,\"statefp\":\"17\",\"countyfp\":\"151\",\"geoid\":\"17151\",\"name\":\"Pope\",\"namelsad\":\"Pope County\",\"intptlat\":\"+37.4171687\",\"intptlon\":\"-088.5423737\"},{\"ogr_fid\":10,\"statefp\":\"17\",\"countyfp\":\"011\",\"geoid\":\"17011\",\"name\":\"Bureau\",\"namelsad\":\"Bureau County\",\"intptlat\":\"+41.4013043\",\"intptlon\":\"-089.5283772\"},{\"ogr_fid\":11,\"statefp\":\"17\",\"countyfp\":\"029\",\"geoid\":\"17029\",\"name\":\"Coles\",\"namelsad\":\"Coles County\",\"intptlat\":\"+39.5136797\",\"intptlon\":\"-088.2207820\"},{\"ogr_fid\":12,\"statefp\":\"17\",\"countyfp\":\"131\",\"geoid\":\"17131\",\"name\":\"Mercer\",\"namelsad\":\"Mercer County\",\"intptlat\":\"+41.2056046\",\"intptlon\":\"-090.7417698\"},{\"ogr_fid\":13,\"statefp\":\"17\",\"countyfp\":\"049\",\"geoid\":\"17049\",\"name\":\"Effingham\",\"namelsad\":\"Effingham County\",\"intptlat\":\"+39.0479445\",\"intptlon\":\"-088.5928488\"},{\"ogr_fid\":14,\"statefp\":\"17\",\"countyfp\":\"035\",\"geoid\":\"17035\",\"name\":\"Cumberland\",\"namelsad\":\"Cumberland County\",\"intptlat\":\"+39.2731210\",\"intptlon\":\"-088.2406193\"},{\"ogr_fid\":15,\"statefp\":\"17\",\"countyfp\":\"033\",\"geoid\":\"17033\",\"name\":\"Crawford\",\"namelsad\":\"Crawford County\",\"intptlat\":\"+39.0027865\",\"intptlon\":\"-087.7606193\"},{\"ogr_fid\":16,\"statefp\":\"17\",\"countyfp\":\"057\",\"geoid\":\"17057\",\"name\":\"Fulton\",\"namelsad\":\"Fulton County\",\"intptlat\":\"+40.4652401\",\"intptlon\":\"-090.2022689\"},{\"ogr_fid\":17,\"statefp\":\"17\",\"countyfp\":\"135\",\"geoid\":\"17135\",\"name\":\"Montgomery\",\"namelsad\":\"Montgomery County\",\"intptlat\":\"+39.2280681\",\"intptlon\":\"-089.4781407\"},{\"ogr_fid\":18,\"statefp\":\"17\",\"countyfp\":\"115\",\"geoid\":\"17115\",\"name\":\"Macon\",\"namelsad\":\"Macon County\",\"intptlat\":\"+39.8602372\",\"intptlon\":\"-088.9615288\"},{\"ogr_fid\":19,\"statefp\":\"17\",\"countyfp\":\"055\",\"geoid\":\"17055\",\"name\":\"Franklin\",\"namelsad\":\"Franklin County\",\"intptlat\":\"+37.9918516\",\"intptlon\":\"-088.9263215\"},{\"ogr_fid\":20,\"statefp\":\"17\",\"countyfp\":\"023\",\"geoid\":\"17023\",\"name\":\"Clark\",\"namelsad\":\"Clark County\",\"intptlat\":\"+39.3323343\",\"intptlon\":\"-087.7916832\"},{\"ogr_fid\":21,\"statefp\":\"17\",\"countyfp\":\"161\",\"geoid\":\"17161\",\"name\":\"Rock Island\",\"namelsad\":\"Rock Island County\",\"intptlat\":\"+41.4684205\",\"intptlon\":\"-090.5721252\"},{\"ogr_fid\":22,\"statefp\":\"17\",\"countyfp\":\"093\",\"geoid\":\"17093\",\"name\":\"Kendall\",\"namelsad\":\"Kendall County\",\"intptlat\":\"+41.5881403\",\"intptlon\":\"-088.4306257\"},{\"ogr_fid\":23,\"statefp\":\"17\",\"countyfp\":\"031\",\"geoid\":\"17031\",\"name\":\"Cook\",\"namelsad\":\"Cook County\",\"intptlat\":\"+41.8942937\",\"intptlon\":\"-087.6454546\"},{\"ogr_fid\":24,\"statefp\":\"17\",\"countyfp\":\"059\",\"geoid\":\"17059\",\"name\":\"Gallatin\",\"namelsad\":\"Gallatin County\",\"intptlat\":\"+37.7686768\",\"intptlon\":\"-088.2279642\"},{\"ogr_fid\":25,\"statefp\":\"17\",\"countyfp\":\"103\",\"geoid\":\"17103\",\"name\":\"Lee\",\"namelsad\":\"Lee County\",\"intptlat\":\"+41.7474465\",\"intptlon\":\"-089.2993616\"},{\"ogr_fid\":26,\"statefp\":\"17\",\"countyfp\":\"037\",\"geoid\":\"17037\",\"name\":\"DeKalb\",\"namelsad\":\"DeKalb County\",\"intptlat\":\"+41.8946125\",\"intptlon\":\"-088.7689910\"},{\"ogr_fid\":27,\"statefp\":\"17\",\"countyfp\":\"175\",\"geoid\":\"17175\",\"name\":\"Stark\",\"namelsad\":\"Stark County\",\"intptlat\":\"+41.0969077\",\"intptlon\":\"-089.7974111\"},{\"ogr_fid\":28,\"statefp\":\"17\",\"countyfp\":\"001\",\"geoid\":\"17001\",\"name\":\"Adams\",\"namelsad\":\"Adams County\",\"intptlat\":\"+39.9860525\",\"intptlon\":\"-091.1949607\"},{\"ogr_fid\":29,\"statefp\":\"17\",\"countyfp\":\"075\",\"geoid\":\"17075\",\"name\":\"Iroquois\",\"namelsad\":\"Iroquois County\",\"intptlat\":\"+40.7488665\",\"intptlon\":\"-087.8336010\"},{\"ogr_fid\":30,\"statefp\":\"17\",\"countyfp\":\"053\",\"geoid\":\"17053\",\"name\":\"Ford\",\"namelsad\":\"Ford County\",\"intptlat\":\"+40.5965386\",\"intptlon\":\"-088.2245882\"},{\"ogr_fid\":31,\"statefp\":\"17\",\"countyfp\":\"041\",\"geoid\":\"17041\",\"name\":\"Douglas\",\"namelsad\":\"Douglas County\",\"intptlat\":\"+39.7660780\",\"intptlon\":\"-088.2228656\"},{\"ogr_fid\":32,\"statefp\":\"17\",\"countyfp\":\"163\",\"geoid\":\"17163\",\"name\":\"St. Clair\",\"namelsad\":\"St. Clair County\",\"intptlat\":\"+38.4701976\",\"intptlon\":\"-089.9285459\"},{\"ogr_fid\":33,\"statefp\":\"17\",\"countyfp\":\"189\",\"geoid\":\"17189\",\"name\":\"Washington\",\"namelsad\":\"Washington County\",\"intptlat\":\"+38.3531405\",\"intptlon\":\"-089.4171873\"},{\"ogr_fid\":34,\"statefp\":\"17\",\"countyfp\":\"171\",\"geoid\":\"17171\",\"name\":\"Scott\",\"namelsad\":\"Scott County\",\"intptlat\":\"+39.6370016\",\"intptlon\":\"-090.4777707\"},{\"ogr_fid\":35,\"statefp\":\"17\",\"countyfp\":\"159\",\"geoid\":\"17159\",\"name\":\"Richland\",\"namelsad\":\"Richland County\",\"intptlat\":\"+38.7121872\",\"intptlon\":\"-088.0854523\"},{\"ogr_fid\":36,\"statefp\":\"17\",\"countyfp\":\"129\",\"geoid\":\"17129\",\"name\":\"Menard\",\"namelsad\":\"Menard County\",\"intptlat\":\"+40.0225693\",\"intptlon\":\"-089.7941326\"},{\"ogr_fid\":37,\"statefp\":\"17\",\"countyfp\":\"065\",\"geoid\":\"17065\",\"name\":\"Hamilton\",\"namelsad\":\"Hamilton County\",\"intptlat\":\"+38.0852273\",\"intptlon\":\"-088.5390093\"},{\"ogr_fid\":38,\"statefp\":\"17\",\"countyfp\":\"193\",\"geoid\":\"17193\",\"name\":\"White\",\"namelsad\":\"White County\",\"intptlat\":\"+38.0873259\",\"intptlon\":\"-088.1786227\"},{\"ogr_fid\":39,\"statefp\":\"17\",\"countyfp\":\"039\",\"geoid\":\"17039\",\"name\":\"De Witt\",\"namelsad\":\"De Witt County\",\"intptlat\":\"+40.1814993\",\"intptlon\":\"-088.9018526\"},{\"ogr_fid\":40,\"statefp\":\"17\",\"countyfp\":\"155\",\"geoid\":\"17155\",\"name\":\"Putnam\",\"namelsad\":\"Putnam County\",\"intptlat\":\"+41.1989613\",\"intptlon\":\"-089.2983474\"},{\"ogr_fid\":41,\"statefp\":\"17\",\"countyfp\":\"169\",\"geoid\":\"17169\",\"name\":\"Schuyler\",\"namelsad\":\"Schuyler County\",\"intptlat\":\"+40.1569048\",\"intptlon\":\"-090.6134641\"},{\"ogr_fid\":42,\"statefp\":\"17\",\"countyfp\":\"177\",\"geoid\":\"17177\",\"name\":\"Stephenson\",\"namelsad\":\"Stephenson County\",\"intptlat\":\"+42.3497262\",\"intptlon\":\"-089.6659942\"},{\"ogr_fid\":43,\"statefp\":\"17\",\"countyfp\":\"181\",\"geoid\":\"17181\",\"name\":\"Union\",\"namelsad\":\"Union County\",\"intptlat\":\"+37.4856521\",\"intptlon\":\"-089.2446391\"},{\"ogr_fid\":44,\"statefp\":\"17\",\"countyfp\":\"091\",\"geoid\":\"17091\",\"name\":\"Kankakee\",\"namelsad\":\"Kankakee County\",\"intptlat\":\"+41.1395105\",\"intptlon\":\"-087.8611165\"},{\"ogr_fid\":45,\"statefp\":\"17\",\"countyfp\":\"027\",\"geoid\":\"17027\",\"name\":\"Clinton\",\"namelsad\":\"Clinton County\",\"intptlat\":\"+38.6062953\",\"intptlon\":\"-089.4262278\"},{\"ogr_fid\":46,\"statefp\":\"17\",\"countyfp\":\"085\",\"geoid\":\"17085\",\"name\":\"Jo Daviess\",\"namelsad\":\"Jo Daviess County\",\"intptlat\":\"+42.3623905\",\"intptlon\":\"-090.2114705\"},{\"ogr_fid\":47,\"statefp\":\"17\",\"countyfp\":\"199\",\"geoid\":\"17199\",\"name\":\"Williamson\",\"namelsad\":\"Williamson County\",\"intptlat\":\"+37.7303533\",\"intptlon\":\"-088.9300182\"},{\"ogr_fid\":48,\"statefp\":\"17\",\"countyfp\":\"125\",\"geoid\":\"17125\",\"name\":\"Mason\",\"namelsad\":\"Mason County\",\"intptlat\":\"+40.2369926\",\"intptlon\":\"-089.9135746\"},{\"ogr_fid\":49,\"statefp\":\"17\",\"countyfp\":\"105\",\"geoid\":\"17105\",\"name\":\"Livingston\",\"namelsad\":\"Livingston County\",\"intptlat\":\"+40.8943761\",\"intptlon\":\"-088.5528518\"},{\"ogr_fid\":50,\"statefp\":\"17\",\"countyfp\":\"191\",\"geoid\":\"17191\",\"name\":\"Wayne\",\"namelsad\":\"Wayne County\",\"intptlat\":\"+38.4318573\",\"intptlon\":\"-088.4324302\"},{\"ogr_fid\":51,\"statefp\":\"17\",\"countyfp\":\"089\",\"geoid\":\"17089\",\"name\":\"Kane\",\"namelsad\":\"Kane County\",\"intptlat\":\"+41.9395938\",\"intptlon\":\"-088.4280395\"},{\"ogr_fid\":52,\"statefp\":\"17\",\"countyfp\":\"069\",\"geoid\":\"17069\",\"name\":\"Hardin\",\"namelsad\":\"Hardin County\",\"intptlat\":\"+37.5178517\",\"intptlon\":\"-088.2661478\"},{\"ogr_fid\":53,\"statefp\":\"17\",\"countyfp\":\"063\",\"geoid\":\"17063\",\"name\":\"Grundy\",\"namelsad\":\"Grundy County\",\"intptlat\":\"+41.2924096\",\"intptlon\":\"-088.4010545\"},{\"ogr_fid\":54,\"statefp\":\"17\",\"countyfp\":\"109\",\"geoid\":\"17109\",\"name\":\"McDonough\",\"namelsad\":\"McDonough County\",\"intptlat\":\"+40.4558082\",\"intptlon\":\"-090.6789543\"},{\"ogr_fid\":55,\"statefp\":\"17\",\"countyfp\":\"127\",\"geoid\":\"17127\",\"name\":\"Massac\",\"namelsad\":\"Massac County\",\"intptlat\":\"+37.2161190\",\"intptlon\":\"-088.7056578\"},{\"ogr_fid\":56,\"statefp\":\"17\",\"countyfp\":\"073\",\"geoid\":\"17073\",\"name\":\"Henry\",\"namelsad\":\"Henry County\",\"intptlat\":\"+41.3500209\",\"intptlon\":\"-090.1308378\"},{\"ogr_fid\":57,\"statefp\":\"17\",\"countyfp\":\"061\",\"geoid\":\"17061\",\"name\":\"Greene\",\"namelsad\":\"Greene County\",\"intptlat\":\"+39.3554391\",\"intptlon\":\"-090.3876823\"},{\"ogr_fid\":58,\"statefp\":\"17\",\"countyfp\":\"157\",\"geoid\":\"17157\",\"name\":\"Randolph\",\"namelsad\":\"Randolph County\",\"intptlat\":\"+38.0565149\",\"intptlon\":\"-089.8212096\"},{\"ogr_fid\":59,\"statefp\":\"17\",\"countyfp\":\"149\",\"geoid\":\"17149\",\"name\":\"Pike\",\"namelsad\":\"Pike County\",\"intptlat\":\"+39.6251059\",\"intptlon\":\"-090.8890344\"},{\"ogr_fid\":60,\"statefp\":\"17\",\"countyfp\":\"203\",\"geoid\":\"17203\",\"name\":\"Woodford\",\"namelsad\":\"Woodford County\",\"intptlat\":\"+40.7897870\",\"intptlon\":\"-089.2105871\"},{\"ogr_fid\":61,\"statefp\":\"17\",\"countyfp\":\"145\",\"geoid\":\"17145\",\"name\":\"Perry\",\"namelsad\":\"Perry County\",\"intptlat\":\"+38.0843809\",\"intptlon\":\"-089.3685249\"},{\"ogr_fid\":62,\"statefp\":\"17\",\"countyfp\":\"087\",\"geoid\":\"17087\",\"name\":\"Johnson\",\"namelsad\":\"Johnson County\",\"intptlat\":\"+37.4607092\",\"intptlon\":\"-088.8821305\"},{\"ogr_fid\":63,\"statefp\":\"17\",\"countyfp\":\"173\",\"geoid\":\"17173\",\"name\":\"Shelby\",\"namelsad\":\"Shelby County\",\"intptlat\":\"+39.3849258\",\"intptlon\":\"-088.7988615\"},{\"ogr_fid\":64,\"statefp\":\"17\",\"countyfp\":\"051\",\"geoid\":\"17051\",\"name\":\"Fayette\",\"namelsad\":\"Fayette County\",\"intptlat\":\"+39.0011246\",\"intptlon\":\"-089.0179232\"},{\"ogr_fid\":65,\"statefp\":\"17\",\"countyfp\":\"201\",\"geoid\":\"17201\",\"name\":\"Winnebago\",\"namelsad\":\"Winnebago County\",\"intptlat\":\"+42.3373957\",\"intptlon\":\"-089.1612053\"},{\"ogr_fid\":66,\"statefp\":\"17\",\"countyfp\":\"141\",\"geoid\":\"17141\",\"name\":\"Ogle\",\"namelsad\":\"Ogle County\",\"intptlat\":\"+42.0418840\",\"intptlon\":\"-089.3201764\"},{\"ogr_fid\":67,\"statefp\":\"17\",\"countyfp\":\"139\",\"geoid\":\"17139\",\"name\":\"Moultrie\",\"namelsad\":\"Moultrie County\",\"intptlat\":\"+39.6368956\",\"intptlon\":\"-088.6257259\"},{\"ogr_fid\":68,\"statefp\":\"17\",\"countyfp\":\"017\",\"geoid\":\"17017\",\"name\":\"Cass\",\"namelsad\":\"Cass County\",\"intptlat\":\"+39.9692024\",\"intptlon\":\"-090.2457045\"},{\"ogr_fid\":69,\"statefp\":\"17\",\"countyfp\":\"167\",\"geoid\":\"17167\",\"name\":\"Sangamon\",\"namelsad\":\"Sangamon County\",\"intptlat\":\"+39.7568675\",\"intptlon\":\"-089.6624251\"},{\"ogr_fid\":70,\"statefp\":\"17\",\"countyfp\":\"179\",\"geoid\":\"17179\",\"name\":\"Tazewell\",\"namelsad\":\"Tazewell County\",\"intptlat\":\"+40.5080743\",\"intptlon\":\"-089.5162598\"},{\"ogr_fid\":71,\"statefp\":\"17\",\"countyfp\":\"099\",\"geoid\":\"17099\",\"name\":\"LaSalle\",\"namelsad\":\"LaSalle County\",\"intptlat\":\"+41.3433407\",\"intptlon\":\"-088.8859312\"},{\"ogr_fid\":72,\"statefp\":\"17\",\"countyfp\":\"183\",\"geoid\":\"17183\",\"name\":\"Vermilion\",\"namelsad\":\"Vermilion County\",\"intptlat\":\"+40.1867542\",\"intptlon\":\"-087.7267779\"},{\"ogr_fid\":73,\"statefp\":\"17\",\"countyfp\":\"007\",\"geoid\":\"17007\",\"name\":\"Boone\",\"namelsad\":\"Boone County\",\"intptlat\":\"+42.3189831\",\"intptlon\":\"-088.8242951\"},{\"ogr_fid\":74,\"statefp\":\"17\",\"countyfp\":\"137\",\"geoid\":\"17137\",\"name\":\"Morgan\",\"namelsad\":\"Morgan County\",\"intptlat\":\"+39.7176678\",\"intptlon\":\"-090.2050054\"},{\"ogr_fid\":75,\"statefp\":\"17\",\"countyfp\":\"123\",\"geoid\":\"17123\",\"name\":\"Marshall\",\"namelsad\":\"Marshall County\",\"intptlat\":\"+41.0311192\",\"intptlon\":\"-089.3423714\"},{\"ogr_fid\":76,\"statefp\":\"17\",\"countyfp\":\"079\",\"geoid\":\"17079\",\"name\":\"Jasper\",\"namelsad\":\"Jasper County\",\"intptlat\":\"+39.0048737\",\"intptlon\":\"-088.1507629\"},{\"ogr_fid\":77,\"statefp\":\"17\",\"countyfp\":\"013\",\"geoid\":\"17013\",\"name\":\"Calhoun\",\"namelsad\":\"Calhoun County\",\"intptlat\":\"+39.1642619\",\"intptlon\":\"-090.6662949\"},{\"ogr_fid\":78,\"statefp\":\"17\",\"countyfp\":\"121\",\"geoid\":\"17121\",\"name\":\"Marion\",\"namelsad\":\"Marion County\",\"intptlat\":\"+38.6482361\",\"intptlon\":\"-088.9203624\"},{\"ogr_fid\":79,\"statefp\":\"17\",\"countyfp\":\"187\",\"geoid\":\"17187\",\"name\":\"Warren\",\"namelsad\":\"Warren County\",\"intptlat\":\"+40.8504412\",\"intptlon\":\"-090.6202228\"},{\"ogr_fid\":80,\"statefp\":\"17\",\"countyfp\":\"197\",\"geoid\":\"17197\",\"name\":\"Will\",\"namelsad\":\"Will County\",\"intptlat\":\"+41.4484742\",\"intptlon\":\"-087.9784564\"},{\"ogr_fid\":81,\"statefp\":\"17\",\"countyfp\":\"153\",\"geoid\":\"17153\",\"name\":\"Pulaski\",\"namelsad\":\"Pulaski County\",\"intptlat\":\"+37.2156152\",\"intptlon\":\"-089.1277549\"},{\"ogr_fid\":82,\"statefp\":\"17\",\"countyfp\":\"119\",\"geoid\":\"17119\",\"name\":\"Madison\",\"namelsad\":\"Madison County\",\"intptlat\":\"+38.8271195\",\"intptlon\":\"-089.9002267\"},{\"ogr_fid\":83,\"statefp\":\"17\",\"countyfp\":\"133\",\"geoid\":\"17133\",\"name\":\"Monroe\",\"namelsad\":\"Monroe County\",\"intptlat\":\"+38.2779831\",\"intptlon\":\"-090.1790777\"},{\"ogr_fid\":84,\"statefp\":\"17\",\"countyfp\":\"003\",\"geoid\":\"17003\",\"name\":\"Alexander\",\"namelsad\":\"Alexander County\",\"intptlat\":\"+37.1836583\",\"intptlon\":\"-089.3495158\"},{\"ogr_fid\":85,\"statefp\":\"17\",\"countyfp\":\"043\",\"geoid\":\"17043\",\"name\":\"DuPage\",\"namelsad\":\"DuPage County\",\"intptlat\":\"+41.8520577\",\"intptlon\":\"-088.0860389\"},{\"ogr_fid\":86,\"statefp\":\"17\",\"countyfp\":\"165\",\"geoid\":\"17165\",\"name\":\"Saline\",\"namelsad\":\"Saline County\",\"intptlat\":\"+37.7515083\",\"intptlon\":\"-088.5450236\"},{\"ogr_fid\":87,\"statefp\":\"17\",\"countyfp\":\"097\",\"geoid\":\"17097\",\"name\":\"Lake\",\"namelsad\":\"Lake County\",\"intptlat\":\"+42.3264410\",\"intptlon\":\"-087.4359760\"},{\"ogr_fid\":88,\"statefp\":\"17\",\"countyfp\":\"117\",\"geoid\":\"17117\",\"name\":\"Macoupin\",\"namelsad\":\"Macoupin County\",\"intptlat\":\"+39.2659138\",\"intptlon\":\"-089.9263301\"},{\"ogr_fid\":89,\"statefp\":\"17\",\"countyfp\":\"195\",\"geoid\":\"17195\",\"name\":\"Whiteside\",\"namelsad\":\"Whiteside County\",\"intptlat\":\"+41.7506733\",\"intptlon\":\"-089.9110045\"},{\"ogr_fid\":90,\"statefp\":\"17\",\"countyfp\":\"107\",\"geoid\":\"17107\",\"name\":\"Logan\",\"namelsad\":\"Logan County\",\"intptlat\":\"+40.1292768\",\"intptlon\":\"-089.3653086\"},{\"ogr_fid\":91,\"statefp\":\"17\",\"countyfp\":\"081\",\"geoid\":\"17081\",\"name\":\"Jefferson\",\"namelsad\":\"Jefferson County\",\"intptlat\":\"+38.3007796\",\"intptlon\":\"-088.9242100\"},{\"ogr_fid\":92,\"statefp\":\"17\",\"countyfp\":\"101\",\"geoid\":\"17101\",\"name\":\"Lawrence\",\"namelsad\":\"Lawrence County\",\"intptlat\":\"+38.7189542\",\"intptlon\":\"-087.7302207\"},{\"ogr_fid\":93,\"statefp\":\"17\",\"countyfp\":\"143\",\"geoid\":\"17143\",\"name\":\"Peoria\",\"namelsad\":\"Peoria County\",\"intptlat\":\"+40.7859722\",\"intptlon\":\"-089.7669933\"},{\"ogr_fid\":94,\"statefp\":\"17\",\"countyfp\":\"019\",\"geoid\":\"17019\",\"name\":\"Champaign\",\"namelsad\":\"Champaign County\",\"intptlat\":\"+40.1389845\",\"intptlon\":\"-088.1969749\"},{\"ogr_fid\":95,\"statefp\":\"17\",\"countyfp\":\"045\",\"geoid\":\"17045\",\"name\":\"Edgar\",\"namelsad\":\"Edgar County\",\"intptlat\":\"+39.6790370\",\"intptlon\":\"-087.7471102\"},{\"ogr_fid\":96,\"statefp\":\"17\",\"countyfp\":\"021\",\"geoid\":\"17021\",\"name\":\"Christian\",\"namelsad\":\"Christian County\",\"intptlat\":\"+39.5455242\",\"intptlon\":\"-089.2795927\"},{\"ogr_fid\":97,\"statefp\":\"17\",\"countyfp\":\"095\",\"geoid\":\"17095\",\"name\":\"Knox\",\"namelsad\":\"Knox County\",\"intptlat\":\"+40.9309446\",\"intptlon\":\"-090.2137921\"},{\"ogr_fid\":98,\"statefp\":\"17\",\"countyfp\":\"111\",\"geoid\":\"17111\",\"name\":\"McHenry\",\"namelsad\":\"McHenry County\",\"intptlat\":\"+42.3242982\",\"intptlon\":\"-088.4522450\"},{\"ogr_fid\":99,\"statefp\":\"17\",\"countyfp\":\"015\",\"geoid\":\"17015\",\"name\":\"Carroll\",\"namelsad\":\"Carroll County\",\"intptlat\":\"+42.0709000\",\"intptlon\":\"-089.9241894\"},{\"ogr_fid\":100,\"statefp\":\"17\",\"countyfp\":\"047\",\"geoid\":\"17047\",\"name\":\"Edwards\",\"namelsad\":\"Edwards County\",\"intptlat\":\"+38.4170954\",\"intptlon\":\"-088.0479408\"},{\"ogr_fid\":101,\"statefp\":\"17\",\"countyfp\":\"071\",\"geoid\":\"17071\",\"name\":\"Henderson\",\"namelsad\":\"Henderson County\",\"intptlat\":\"+40.8144710\",\"intptlon\":\"-090.9412464\"},{\"ogr_fid\":102,\"statefp\":\"17\",\"countyfp\":\"077\",\"geoid\":\"17077\",\"name\":\"Jackson\",\"namelsad\":\"Jackson County\",\"intptlat\":\"+37.7860959\",\"intptlon\":\"-089.3812119\"}]},{\"id\":116,\"region\":\"2\",\"division\":\"4\",\"statefp\":\"27\",\"statens\":\"00662849\",\"stusps\":\"MN\",\"state\":\"Minnesota\"},{\"id\":118,\"region\":\"1\",\"division\":\"1\",\"statefp\":\"44\",\"statens\":\"01219835\",\"stusps\":\"RI\",\"state\":\"Rhode Island\"},{\"id\":120,\"region\":\"1\",\"division\":\"1\",\"statefp\":\"33\",\"statens\":\"01779794\",\"stusps\":\"NH\",\"state\":\"New Hampshire\"},{\"id\":121,\"region\":\"3\",\"division\":\"5\",\"statefp\":\"37\",\"statens\":\"01027616\",\"stusps\":\"NC\",\"state\":\"North Carolina\"},{\"id\":122,\"region\":\"1\",\"division\":\"1\",\"statefp\":\"50\",\"statens\":\"01779802\",\"stusps\":\"VT\",\"state\":\"Vermont\"},{\"id\":124,\"region\":\"3\",\"division\":\"5\",\"statefp\":\"10\",\"statens\":\"01779781\",\"stusps\":\"DE\",\"state\":\"Delaware\"},{\"id\":125,\"region\":\"4\",\"division\":\"8\",\"statefp\":\"35\",\"statens\":\"00897535\",\"stusps\":\"NM\",\"state\":\"New Mexico\"},{\"id\":128,\"region\":\"2\",\"division\":\"3\",\"statefp\":\"55\",\"statens\":\"01779806\",\"stusps\":\"WI\",\"state\":\"Wisconsin\"},{\"id\":132,\"region\":\"No\",\"division\":\"9\",\"statefp\":\"53\",\"statens\":\"01779804\",\"stusps\":\"WA\",\"state\":\"Washington\"},{\"id\":139,\"region\":\"4\",\"division\":\"8\",\"statefp\":\"08\",\"statens\":\"01779779\",\"stusps\":\"CO\",\"state\":\"Colorado\"},{\"id\":146,\"region\":\"3\",\"division\":\"6\",\"statefp\":\"21\",\"statens\":\"01779786\",\"stusps\":\"KY\",\"state\":\"Kentucky\"},{\"id\":149,\"region\":\"9\",\"division\":\"0\",\"statefp\":\"66\",\"statens\":\"01802705\",\"stusps\":\"GU\",\"state\":\"Guam\"},{\"id\":155,\"region\":\"2\",\"division\":\"3\",\"statefp\":\"26\",\"statens\":\"01779789\",\"stusps\":\"MI\",\"state\":\"Michigan\"},{\"id\":158,\"region\":\"2\",\"division\":\"4\",\"statefp\":\"29\",\"statens\":\"01779791\",\"stusps\":\"MO\",\"state\":\"Missouri\"},{\"id\":162,\"region\":\"9\",\"division\":\"0\",\"statefp\":\"72\",\"statens\":\"01779808\",\"stusps\":\"PR\",\"state\":\"Puerto Rico\"},{\"id\":167,\"region\":\"2\",\"division\":\"4\",\"statefp\":\"19\",\"statens\":\"01779785\",\"stusps\":\"IA\",\"state\":\"Iowa\"},{\"id\":168,\"region\":\"4\",\"division\":\"8\",\"statefp\":\"04\",\"statens\":\"01779777\",\"stusps\":\"AZ\",\"state\":\"Arizona\"}]}"
                                }
                            ]
                        },
                        "text/html": "<table><tr><th>JSON_F52E2B61-18A1-11d1-B105-00805F49916B</th></tr><tr><td>{&quot;state_counties&quot;:[{&quot;id&quot;:1,&quot;region&quot;:&quot;3&quot;,&quot;division&quot;:&quot;5&quot;,&quot;statefp&quot;:&quot;54&quot;,&quot;statens&quot;:&quot;01779805&quot;,&quot;stusps&quot;:&quot;WV&quot;,&quot;state&quot;:&quot;West Virginia&quot;},{&quot;id&quot;:7,&quot;region&quot;:&quot;4&quot;,&quot;division&quot;:&quot;8&quot;,&quot;statefp&quot;:&quot;16&quot;,&quot;statens&quot;:&quot;01779783&quot;,&quot;stusps&quot;:&quot;ID&quot;,&quot;state&quot;:&quot;Idaho&quot;},{&quot;id&quot;:11,&quot;region&quot;:&quot;1&quot;,&quot;division&quot;:&quot;1&quot;,&quot;statefp&quot;:&quot;09&quot;,&quot;statens&quot;:&quot;01779780&quot;,&quot;stusps&quot;:&quot;CT&quot;,&quot;state&quot;:&quot;Connecticut&quot;},{&quot;id&quot;:15,&quot;region&quot;:&quot;1&quot;,&quot;division&quot;:&quot;2&quot;,&quot;statefp&quot;:&quot;34&quot;,&quot;statens&quot;:&quot;01779795&quot;,&quot;stusps&quot;:&quot;NJ&quot;,&quot;state&quot;:&quot;New Jersey&quot;},{&quot;id&quot;:19,&quot;region&quot;:&quot;1&quot;,&quot;division&quot;:&quot;2&quot;,&quot;statefp&quot;:&quot;42&quot;,&quot;statens&quot;:&quot;01779798&quot;,&quot;stusps&quot;:&quot;PA&quot;,&quot;state&quot;:&quot;Pennsylvania&quot;},{&quot;id&quot;:21,&quot;region&quot;:&quot;3&quot;,&quot;division&quot;:&quot;7&quot;,&quot;statefp&quot;:&quot;22&quot;,&quot;statens&quot;:&quot;01629543&quot;,&quot;stusps&quot;:&quot;LA&quot;,&quot;state&quot;:&quot;Louisiana&quot;},{&quot;id&quot;:22,&quot;region&quot;:&quot;3&quot;,&quot;division&quot;:&quot;5&quot;,&quot;statefp&quot;:&quot;13&quot;,&quot;statens&quot;:&quot;01705317&quot;,&quot;stusps&quot;:&quot;GA&quot;,&quot;state&quot;:&quot;Georgia&quot;},{&quot;id&quot;:23,&quot;region&quot;:&quot;3&quot;,&quot;division&quot;:&quot;6&quot;,&quot;statefp&quot;:&quot;01&quot;,&quot;statens&quot;:&quot;01779775&quot;,&quot;stusps&quot;:&quot;AL&quot;,&quot;state&quot;:&quot;Alabama&quot;},{&quot;id&quot;:24,&quot;region&quot;:&quot;4&quot;,&quot;division&quot;:&quot;8&quot;,&quot;statefp&quot;:&quot;49&quot;,&quot;statens&quot;:&quot;01455989&quot;,&quot;stusps&quot;:&quot;UT&quot;,&quot;state&quot;:&quot;Utah&quot;},{&quot;id&quot;:28,&quot;region&quot;:&quot;3&quot;,&quot;division&quot;:&quot;5&quot;,&quot;statefp&quot;:&quot;45&quot;,&quot;statens&quot;:&quot;01779799&quot;,&quot;stusps&quot;:&quot;SC&quot;,&quot;state&quot;:&quot;South Carolina&quot;},{&quot;id&quot;:29,&quot;region&quot;:&quot;3&quot;,&quot;division&quot;:&quot;7&quot;,&quot;statefp&quot;:&quot;40&quot;,&quot;statens&quot;:&quot;01102857&quot;,&quot;stusps&quot;:&quot;OK&quot;,&quot;state&quot;:&quot;Oklahoma&quot;},{&quot;id&quot;:30,&quot;region&quot;:&quot;3&quot;,&quot;division&quot;:&quot;6&quot;,&quot;statefp&quot;:&quot;47&quot;,&quot;statens&quot;:&quot;01325873&quot;,&quot;stusps&quot;:&quot;TN&quot;,&quot;state&quot;:&quot;Tennessee&quot;},{&quot;id&quot;:31,&quot;region&quot;:&quot;4&quot;,&quot;division&quot;:&quot;8&quot;,&quot;statefp&quot;:&quot;56&quot;,&quot;statens&quot;:&quot;01779807&quot;,&quot;stusps&quot;:&quot;WY&quot;,&quot;state&quot;:&quot;Wyoming&quot;},{&quot;id&quot;:33,&quot;region&quot;:&quot;2&quot;,&quot;division&quot;:&quot;4&quot;,&quot;statefp&quot;:&quot;38&quot;,&quot;statens&quot;:&quot;01779797&quot;,&quot;stusps&quot;:&quot;ND&quot;,&quot;state&quot;:&quot;North Dakota&quot;},{&quot;id&quot;:39,&quot;region&quot;:&quot;1&quot;,&quot;division&quot;:&quot;2&quot;,&quot;statefp&quot;:&quot;36&quot;,&quot;statens&quot;:&quot;01779796&quot;,&quot;stusps&quot;:&quot;NY&quot;,&quot;state&quot;:&quot;New York&quot;},{&quot;id&quot;:40,&quot;region&quot;:&quot;4&quot;,&quot;division&quot;:&quot;8&quot;,&quot;statefp&quot;:&quot;32&quot;,&quot;statens&quot;:&quot;01779793&quot;,&quot;stusps&quot;:&quot;NV&quot;,&quot;state&quot;:&quot;Nevada&quot;},{&quot;id&quot;:45,&quot;region&quot;:&quot;3&quot;,&quot;division&quot;:&quot;6&quot;,&quot;statefp&quot;:&quot;28&quot;,&quot;statens&quot;:&quot;01779790&quot;,&quot;stusps&quot;:&quot;MS&quot;,&quot;state&quot;:&quot;Mississippi&quot;},{&quot;id&quot;:47,&quot;region&quot;:&quot;4&quot;,&quot;division&quot;:&quot;8&quot;,&quot;statefp&quot;:&quot;30&quot;,&quot;statens&quot;:&quot;00767982&quot;,&quot;stusps&quot;:&quot;MT&quot;,&quot;state&quot;:&quot;Montana&quot;},{&quot;id&quot;:48,&quot;region&quot;:&quot;2&quot;,&quot;division&quot;:&quot;4&quot;,&quot;statefp&quot;:&quot;20&quot;,&quot;statens&quot;:&quot;00481813&quot;,&quot;stusps&quot;:&quot;KS&quot;,&quot;state&quot;:&quot;Kansas&quot;},{&quot;id&quot;:49,&quot;region&quot;:&quot;2&quot;,&quot;division&quot;:&quot;3&quot;,&quot;statefp&quot;:&quot;18&quot;,&quot;statens&quot;:&quot;00448508&quot;,&quot;stusps&quot;:&quot;IN&quot;,&quot;state&quot;:&quot;Indiana&quot;},{&quot;id&quot;:53,&quot;region&quot;:&quot;3&quot;,&quot;division&quot;:&quot;5&quot;,&quot;statefp&quot;:&quot;51&quot;,&quot;statens&quot;:&quot;01779803&quot;,&quot;stusps&quot;:&quot;VA&quot;,&quot;state&quot;:&quot;Virginia&quot;},{&quot;id&quot;:54,&quot;region&quot;:&quot;3&quot;,&quot;division&quot;:&quot;5&quot;,&quot;statefp&quot;:&quot;11&quot;,&quot;statens&quot;:&quot;01702382&quot;,&quot;stusps&quot;:&quot;DC&quot;,&quot;state&quot;:&quot;District of Columbia&quot;},{&quot;id&quot;:61,&quot;region&quot;:&quot;3&quot;,&quot;division&quot;:&quot;5&quot;,&quot;statefp&quot;:&quot;24&quot;,&quot;statens&quot;:&quot;01714934&quot;,&quot;stusps&quot;:&quot;MD&quot;,&quot;state&quot;:&quot;Maryland&quot;},{&quot;id&quot;:70,&quot;region&quot;:&quot;4&quot;,&quot;division&quot;:&quot;9&quot;,&quot;statefp&quot;:&quot;06&quot;,&quot;statens&quot;:&quot;01779778&quot;,&quot;stusps&quot;:&quot;CA&quot;,&quot;state&quot;:&quot;California&quot;},{&quot;id&quot;:73,&quot;region&quot;:&quot;No&quot;,&quot;division&quot;:&quot;9&quot;,&quot;statefp&quot;:&quot;41&quot;,&quot;statens&quot;:&quot;01155107&quot;,&quot;stusps&quot;:&quot;OR&quot;,&quot;state&quot;:&quot;Oregon&quot;},{&quot;id&quot;:74,&quot;region&quot;:&quot;2&quot;,&quot;division&quot;:&quot;4&quot;,&quot;statefp&quot;:&quot;31&quot;,&quot;statens&quot;:&quot;01779792&quot;,&quot;stusps&quot;:&quot;NE&quot;,&quot;state&quot;:&quot;Nebraska&quot;},{&quot;id&quot;:81,&quot;region&quot;:&quot;2&quot;,&quot;division&quot;:&quot;3&quot;,&quot;statefp&quot;:&quot;39&quot;,&quot;statens&quot;:&quot;01085497&quot;,&quot;stusps&quot;:&quot;OH&quot;,&quot;state&quot;:&quot;Ohio&quot;},{&quot;id&quot;:82,&quot;region&quot;:&quot;3&quot;,&quot;division&quot;:&quot;7&quot;,&quot;statefp&quot;:&quot;48&quot;,&quot;statens&quot;:&quot;01779801&quot;,&quot;stusps&quot;:&quot;TX&quot;,&quot;state&quot;:&quot;Texas&quot;},{&quot;id&quot;:88,&quot;region&quot;:&quot;4&quot;,&quot;division&quot;:&quot;9&quot;,&quot;statefp&quot;:&quot;15&quot;,&quot;statens&quot;:&quot;01779782&quot;,&quot;stusps&quot;:&quot;HI&quot;,&quot;state&quot;:&quot;Hawaii&quot;},{&quot;id&quot;:91,&quot;region&quot;:&quot;9&quot;,&quot;division&quot;:&quot;0&quot;,&quot;statefp&quot;:&quot;78&quot;,&quot;statens&quot;:&quot;01802710&quot;,&quot;stusps&quot;:&quot;VI&quot;,&quot;state&quot;:&quot;United States Virgin Islands&quot;},{&quot;id&quot;:92,&quot;region&quot;:&quot;9&quot;,&quot;division&quot;:&quot;0&quot;,&quot;statefp&quot;:&quot;69&quot;,&quot;statens&quot;:&quot;01779809&quot;,&quot;stusps&quot;:&quot;MP&quot;,&quot;state&quot;:&quot;Commonwealth of the Northern Mariana Islands&quot;},{&quot;id&quot;:94,&quot;region&quot;:&quot;1&quot;,&quot;division&quot;:&quot;1&quot;,&quot;statefp&quot;:&quot;23&quot;,&quot;statens&quot;:&quot;01779787&quot;,&quot;stusps&quot;:&quot;ME&quot;,&quot;state&quot;:&quot;Maine&quot;},{&quot;id&quot;:97,&quot;region&quot;:&quot;4&quot;,&quot;division&quot;:&quot;9&quot;,&quot;statefp&quot;:&quot;02&quot;,&quot;statens&quot;:&quot;01785533&quot;,&quot;stusps&quot;:&quot;AK&quot;,&quot;state&quot;:&quot;Alaska&quot;},{&quot;id&quot;:98,&quot;region&quot;:&quot;9&quot;,&quot;division&quot;:&quot;0&quot;,&quot;statefp&quot;:&quot;60&quot;,&quot;statens&quot;:&quot;01802701&quot;,&quot;stusps&quot;:&quot;AS&quot;,&quot;state&quot;:&quot;American Samoa&quot;},{&quot;id&quot;:100,&quot;region&quot;:&quot;3&quot;,&quot;division&quot;:&quot;7&quot;,&quot;statefp&quot;:&quot;05&quot;,&quot;statens&quot;:&quot;00068085&quot;,&quot;stusps&quot;:&quot;AR&quot;,&quot;state&quot;:&quot;Arkansas&quot;},{&quot;id&quot;:107,&quot;region&quot;:&quot;2&quot;,&quot;division&quot;:&quot;4&quot;,&quot;statefp&quot;:&quot;46&quot;,&quot;statens&quot;:&quot;01785534&quot;,&quot;stusps&quot;:&quot;SD&quot;,&quot;state&quot;:&quot;South Dakota&quot;},{&quot;id&quot;:108,&quot;region&quot;:&quot;1&quot;,&quot;division&quot;:&quot;1&quot;,&quot;statefp&quot;:&quot;25&quot;,&quot;statens&quot;:&quot;00606926&quot;,&quot;stusps&quot;:&quot;MA&quot;,&quot;state&quot;:&quot;Massachusetts&quot;},{&quot;id&quot;:114,&quot;region&quot;:&quot;3&quot;,&quot;division&quot;:&quot;5&quot;,&quot;statefp&quot;:&quot;12&quot;,&quot;statens&quot;:&quot;00294478&quot;,&quot;stusps&quot;:&quot;FL&quot;,&quot;state&quot;:&quot;Florida&quot;},{&quot;id&quot;:115,&quot;region&quot;:&quot;2&quot;,&quot;division&quot;:&quot;3&quot;,&quot;statefp&quot;:&quot;17&quot;,&quot;statens&quot;:&quot;01779784&quot;,&quot;stusps&quot;:&quot;IL&quot;,&quot;state&quot;:&quot;Illinois&quot;,&quot;counties&quot;:[{&quot;ogr_fid&quot;:1,&quot;statefp&quot;:&quot;17&quot;,&quot;countyfp&quot;:&quot;067&quot;,&quot;geoid&quot;:&quot;17067&quot;,&quot;name&quot;:&quot;Hancock&quot;,&quot;namelsad&quot;:&quot;Hancock County&quot;,&quot;intptlat&quot;:&quot;+40.4013180&quot;,&quot;intptlon&quot;:&quot;-091.1688008&quot;},{&quot;ogr_fid&quot;:2,&quot;statefp&quot;:&quot;17&quot;,&quot;countyfp&quot;:&quot;025&quot;,&quot;geoid&quot;:&quot;17025&quot;,&quot;name&quot;:&quot;Clay&quot;,&quot;namelsad&quot;:&quot;Clay County&quot;,&quot;intptlat&quot;:&quot;+38.7468187&quot;,&quot;intptlon&quot;:&quot;-088.4823254&quot;},{&quot;ogr_fid&quot;:3,&quot;statefp&quot;:&quot;17&quot;,&quot;countyfp&quot;:&quot;185&quot;,&quot;geoid&quot;:&quot;17185&quot;,&quot;name&quot;:&quot;Wabash&quot;,&quot;namelsad&quot;:&quot;Wabash County&quot;,&quot;intptlat&quot;:&quot;+38.4458209&quot;,&quot;intptlon&quot;:&quot;-087.8391674&quot;},{&quot;ogr_fid&quot;:4,&quot;statefp&quot;:&quot;17&quot;,&quot;countyfp&quot;:&quot;113&quot;,&quot;geoid&quot;:&quot;17113&quot;,&quot;name&quot;:&quot;McLean&quot;,&quot;namelsad&quot;:&quot;McLean County&quot;,&quot;intptlat&quot;:&quot;+40.4945594&quot;,&quot;intptlon&quot;:&quot;-088.8445391&quot;},{&quot;ogr_fid&quot;:5,&quot;statefp&quot;:&quot;17&quot;,&quot;countyfp&quot;:&quot;005&quot;,&quot;geoid&quot;:&quot;17005&quot;,&quot;name&quot;:&quot;Bond&quot;,&quot;namelsad&quot;:&quot;Bond County&quot;,&quot;intptlat&quot;:&quot;+38.8859240&quot;,&quot;intptlon&quot;:&quot;-089.4365916&quot;},{&quot;ogr_fid&quot;:6,&quot;statefp&quot;:&quot;17&quot;,&quot;countyfp&quot;:&quot;009&quot;,&quot;geoid&quot;:&quot;17009&quot;,&quot;name&quot;:&quot;Brown&quot;,&quot;namelsad&quot;:&quot;Brown County&quot;,&quot;intptlat&quot;:&quot;+39.9620694&quot;,&quot;intptlon&quot;:&quot;-090.7503095&quot;},{&quot;ogr_fid&quot;:7,&quot;statefp&quot;:&quot;17&quot;,&quot;countyfp&quot;:&quot;083&quot;,&quot;geoid&quot;:&quot;17083&quot;,&quot;name&quot;:&quot;Jersey&quot;,&quot;namelsad&quot;:&quot;Jersey County&quot;,&quot;intptlat&quot;:&quot;+39.0801945&quot;,&quot;intptlon&quot;:&quot;-090.3613850&quot;},{&quot;ogr_fid&quot;:8,&quot;statefp&quot;:&quot;17&quot;,&quot;countyfp&quot;:&quot;147&quot;,&quot;geoid&quot;:&quot;17147&quot;,&quot;name&quot;:&quot;Piatt&quot;,&quot;namelsad&quot;:&quot;Piatt County&quot;,&quot;intptlat&quot;:&quot;+40.0090327&quot;,&quot;intptlon&quot;:&quot;-088.5923546&quot;},{&quot;ogr_fid&quot;:9,&quot;statefp&quot;:&quot;17&quot;,&quot;countyfp&quot;:&quot;151&quot;,&quot;geoid&quot;:&quot;17151&quot;,&quot;name&quot;:&quot;Pope&quot;,&quot;namelsad&quot;:&quot;Pope County&quot;,&quot;intptlat&quot;:&quot;+37.4171687&quot;,&quot;intptlon&quot;:&quot;-088.5423737&quot;},{&quot;ogr_fid&quot;:10,&quot;statefp&quot;:&quot;17&quot;,&quot;countyfp&quot;:&quot;011&quot;,&quot;geoid&quot;:&quot;17011&quot;,&quot;name&quot;:&quot;Bureau&quot;,&quot;namelsad&quot;:&quot;Bureau County&quot;,&quot;intptlat&quot;:&quot;+41.4013043&quot;,&quot;intptlon&quot;:&quot;-089.5283772&quot;},{&quot;ogr_fid&quot;:11,&quot;statefp&quot;:&quot;17&quot;,&quot;countyfp&quot;:&quot;029&quot;,&quot;geoid&quot;:&quot;17029&quot;,&quot;name&quot;:&quot;Coles&quot;,&quot;namelsad&quot;:&quot;Coles County&quot;,&quot;intptlat&quot;:&quot;+39.5136797&quot;,&quot;intptlon&quot;:&quot;-088.2207820&quot;},{&quot;ogr_fid&quot;:12,&quot;statefp&quot;:&quot;17&quot;,&quot;countyfp&quot;:&quot;131&quot;,&quot;geoid&quot;:&quot;17131&quot;,&quot;name&quot;:&quot;Mercer&quot;,&quot;namelsad&quot;:&quot;Mercer County&quot;,&quot;intptlat&quot;:&quot;+41.2056046&quot;,&quot;intptlon&quot;:&quot;-090.7417698&quot;},{&quot;ogr_fid&quot;:13,&quot;statefp&quot;:&quot;17&quot;,&quot;countyfp&quot;:&quot;049&quot;,&quot;geoid&quot;:&quot;17049&quot;,&quot;name&quot;:&quot;Effingham&quot;,&quot;namelsad&quot;:&quot;Effingham County&quot;,&quot;intptlat&quot;:&quot;+39.0479445&quot;,&quot;intptlon&quot;:&quot;-088.5928488&quot;},{&quot;ogr_fid&quot;:14,&quot;statefp&quot;:&quot;17&quot;,&quot;countyfp&quot;:&quot;035&quot;,&quot;geoid&quot;:&quot;17035&quot;,&quot;name&quot;:&quot;Cumberland&quot;,&quot;namelsad&quot;:&quot;Cumberland County&quot;,&quot;intptlat&quot;:&quot;+39.2731210&quot;,&quot;intptlon&quot;:&quot;-088.2406193&quot;},{&quot;ogr_fid&quot;:15,&quot;statefp&quot;:&quot;17&quot;,&quot;countyfp&quot;:&quot;033&quot;,&quot;geoid&quot;:&quot;17033&quot;,&quot;name&quot;:&quot;Crawford&quot;,&quot;namelsad&quot;:&quot;Crawford County&quot;,&quot;intptlat&quot;:&quot;+39.0027865&quot;,&quot;intptlon&quot;:&quot;-087.7606193&quot;},{&quot;ogr_fid&quot;:16,&quot;statefp&quot;:&quot;17&quot;,&quot;countyfp&quot;:&quot;057&quot;,&quot;geoid&quot;:&quot;17057&quot;,&quot;name&quot;:&quot;Fulton&quot;,&quot;namelsad&quot;:&quot;Fulton County&quot;,&quot;intptlat&quot;:&quot;+40.4652401&quot;,&quot;intptlon&quot;:&quot;-090.2022689&quot;},{&quot;ogr_fid&quot;:17,&quot;statefp&quot;:&quot;17&quot;,&quot;countyfp&quot;:&quot;135&quot;,&quot;geoid&quot;:&quot;17135&quot;,&quot;name&quot;:&quot;Montgomery&quot;,&quot;namelsad&quot;:&quot;Montgomery County&quot;,&quot;intptlat&quot;:&quot;+39.2280681&quot;,&quot;intptlon&quot;:&quot;-089.4781407&quot;},{&quot;ogr_fid&quot;:18,&quot;statefp&quot;:&quot;17&quot;,&quot;countyfp&quot;:&quot;115&quot;,&quot;geoid&quot;:&quot;17115&quot;,&quot;name&quot;:&quot;Macon&quot;,&quot;namelsad&quot;:&quot;Macon County&quot;,&quot;intptlat&quot;:&quot;+39.8602372&quot;,&quot;intptlon&quot;:&quot;-088.9615288&quot;},{&quot;ogr_fid&quot;:19,&quot;statefp&quot;:&quot;17&quot;,&quot;countyfp&quot;:&quot;055&quot;,&quot;geoid&quot;:&quot;17055&quot;,&quot;name&quot;:&quot;Franklin&quot;,&quot;namelsad&quot;:&quot;Franklin County&quot;,&quot;intptlat&quot;:&quot;+37.9918516&quot;,&quot;intptlon&quot;:&quot;-088.9263215&quot;},{&quot;ogr_fid&quot;:20,&quot;statefp&quot;:&quot;17&quot;,&quot;countyfp&quot;:&quot;023&quot;,&quot;geoid&quot;:&quot;17023&quot;,&quot;name&quot;:&quot;Clark&quot;,&quot;namelsad&quot;:&quot;Clark County&quot;,&quot;intptlat&quot;:&quot;+39.3323343&quot;,&quot;intptlon&quot;:&quot;-087.7916832&quot;},{&quot;ogr_fid&quot;:21,&quot;statefp&quot;:&quot;17&quot;,&quot;countyfp&quot;:&quot;161&quot;,&quot;geoid&quot;:&quot;17161&quot;,&quot;name&quot;:&quot;Rock Island&quot;,&quot;namelsad&quot;:&quot;Rock Island County&quot;,&quot;intptlat&quot;:&quot;+41.4684205&quot;,&quot;intptlon&quot;:&quot;-090.5721252&quot;},{&quot;ogr_fid&quot;:22,&quot;statefp&quot;:&quot;17&quot;,&quot;countyfp&quot;:&quot;093&quot;,&quot;geoid&quot;:&quot;17093&quot;,&quot;name&quot;:&quot;Kendall&quot;,&quot;namelsad&quot;:&quot;Kendall County&quot;,&quot;intptlat&quot;:&quot;+41.5881403&quot;,&quot;intptlon&quot;:&quot;-088.4306257&quot;},{&quot;ogr_fid&quot;:23,&quot;statefp&quot;:&quot;17&quot;,&quot;countyfp&quot;:&quot;031&quot;,&quot;geoid&quot;:&quot;17031&quot;,&quot;name&quot;:&quot;Cook&quot;,&quot;namelsad&quot;:&quot;Cook County&quot;,&quot;intptlat&quot;:&quot;+41.8942937&quot;,&quot;intptlon&quot;:&quot;-087.6454546&quot;},{&quot;ogr_fid&quot;:24,&quot;statefp&quot;:&quot;17&quot;,&quot;countyfp&quot;:&quot;059&quot;,&quot;geoid&quot;:&quot;17059&quot;,&quot;name&quot;:&quot;Gallatin&quot;,&quot;namelsad&quot;:&quot;Gallatin County&quot;,&quot;intptlat&quot;:&quot;+37.7686768&quot;,&quot;intptlon&quot;:&quot;-088.2279642&quot;},{&quot;ogr_fid&quot;:25,&quot;statefp&quot;:&quot;17&quot;,&quot;countyfp&quot;:&quot;103&quot;,&quot;geoid&quot;:&quot;17103&quot;,&quot;name&quot;:&quot;Lee&quot;,&quot;namelsad&quot;:&quot;Lee County&quot;,&quot;intptlat&quot;:&quot;+41.7474465&quot;,&quot;intptlon&quot;:&quot;-089.2993616&quot;},{&quot;ogr_fid&quot;:26,&quot;statefp&quot;:&quot;17&quot;,&quot;countyfp&quot;:&quot;037&quot;,&quot;geoid&quot;:&quot;17037&quot;,&quot;name&quot;:&quot;DeKalb&quot;,&quot;namelsad&quot;:&quot;DeKalb County&quot;,&quot;intptlat&quot;:&quot;+41.8946125&quot;,&quot;intptlon&quot;:&quot;-088.7689910&quot;},{&quot;ogr_fid&quot;:27,&quot;statefp&quot;:&quot;17&quot;,&quot;countyfp&quot;:&quot;175&quot;,&quot;geoid&quot;:&quot;17175&quot;,&quot;name&quot;:&quot;Stark&quot;,&quot;namelsad&quot;:&quot;Stark County&quot;,&quot;intptlat&quot;:&quot;+41.0969077&quot;,&quot;intptlon&quot;:&quot;-089.7974111&quot;},{&quot;ogr_fid&quot;:28,&quot;statefp&quot;:&quot;17&quot;,&quot;countyfp&quot;:&quot;001&quot;,&quot;geoid&quot;:&quot;17001&quot;,&quot;name&quot;:&quot;Adams&quot;,&quot;namelsad&quot;:&quot;Adams County&quot;,&quot;intptlat&quot;:&quot;+39.9860525&quot;,&quot;intptlon&quot;:&quot;-091.1949607&quot;},{&quot;ogr_fid&quot;:29,&quot;statefp&quot;:&quot;17&quot;,&quot;countyfp&quot;:&quot;075&quot;,&quot;geoid&quot;:&quot;17075&quot;,&quot;name&quot;:&quot;Iroquois&quot;,&quot;namelsad&quot;:&quot;Iroquois County&quot;,&quot;intptlat&quot;:&quot;+40.7488665&quot;,&quot;intptlon&quot;:&quot;-087.8336010&quot;},{&quot;ogr_fid&quot;:30,&quot;statefp&quot;:&quot;17&quot;,&quot;countyfp&quot;:&quot;053&quot;,&quot;geoid&quot;:&quot;17053&quot;,&quot;name&quot;:&quot;Ford&quot;,&quot;namelsad&quot;:&quot;Ford County&quot;,&quot;intptlat&quot;:&quot;+40.5965386&quot;,&quot;intptlon&quot;:&quot;-088.2245882&quot;},{&quot;ogr_fid&quot;:31,&quot;statefp&quot;:&quot;17&quot;,&quot;countyfp&quot;:&quot;041&quot;,&quot;geoid&quot;:&quot;17041&quot;,&quot;name&quot;:&quot;Douglas&quot;,&quot;namelsad&quot;:&quot;Douglas County&quot;,&quot;intptlat&quot;:&quot;+39.7660780&quot;,&quot;intptlon&quot;:&quot;-088.2228656&quot;},{&quot;ogr_fid&quot;:32,&quot;statefp&quot;:&quot;17&quot;,&quot;countyfp&quot;:&quot;163&quot;,&quot;geoid&quot;:&quot;17163&quot;,&quot;name&quot;:&quot;St. Clair&quot;,&quot;namelsad&quot;:&quot;St. Clair County&quot;,&quot;intptlat&quot;:&quot;+38.4701976&quot;,&quot;intptlon&quot;:&quot;-089.9285459&quot;},{&quot;ogr_fid&quot;:33,&quot;statefp&quot;:&quot;17&quot;,&quot;countyfp&quot;:&quot;189&quot;,&quot;geoid&quot;:&quot;17189&quot;,&quot;name&quot;:&quot;Washington&quot;,&quot;namelsad&quot;:&quot;Washington County&quot;,&quot;intptlat&quot;:&quot;+38.3531405&quot;,&quot;intptlon&quot;:&quot;-089.4171873&quot;},{&quot;ogr_fid&quot;:34,&quot;statefp&quot;:&quot;17&quot;,&quot;countyfp&quot;:&quot;171&quot;,&quot;geoid&quot;:&quot;17171&quot;,&quot;name&quot;:&quot;Scott&quot;,&quot;namelsad&quot;:&quot;Scott County&quot;,&quot;intptlat&quot;:&quot;+39.6370016&quot;,&quot;intptlon&quot;:&quot;-090.4777707&quot;},{&quot;ogr_fid&quot;:35,&quot;statefp&quot;:&quot;17&quot;,&quot;countyfp&quot;:&quot;159&quot;,&quot;geoid&quot;:&quot;17159&quot;,&quot;name&quot;:&quot;Richland&quot;,&quot;namelsad&quot;:&quot;Richland County&quot;,&quot;intptlat&quot;:&quot;+38.7121872&quot;,&quot;intptlon&quot;:&quot;-088.0854523&quot;},{&quot;ogr_fid&quot;:36,&quot;statefp&quot;:&quot;17&quot;,&quot;countyfp&quot;:&quot;129&quot;,&quot;geoid&quot;:&quot;17129&quot;,&quot;name&quot;:&quot;Menard&quot;,&quot;namelsad&quot;:&quot;Menard County&quot;,&quot;intptlat&quot;:&quot;+40.0225693&quot;,&quot;intptlon&quot;:&quot;-089.7941326&quot;},{&quot;ogr_fid&quot;:37,&quot;statefp&quot;:&quot;17&quot;,&quot;countyfp&quot;:&quot;065&quot;,&quot;geoid&quot;:&quot;17065&quot;,&quot;name&quot;:&quot;Hamilton&quot;,&quot;namelsad&quot;:&quot;Hamilton County&quot;,&quot;intptlat&quot;:&quot;+38.0852273&quot;,&quot;intptlon&quot;:&quot;-088.5390093&quot;},{&quot;ogr_fid&quot;:38,&quot;statefp&quot;:&quot;17&quot;,&quot;countyfp&quot;:&quot;193&quot;,&quot;geoid&quot;:&quot;17193&quot;,&quot;name&quot;:&quot;White&quot;,&quot;namelsad&quot;:&quot;White County&quot;,&quot;intptlat&quot;:&quot;+38.0873259&quot;,&quot;intptlon&quot;:&quot;-088.1786227&quot;},{&quot;ogr_fid&quot;:39,&quot;statefp&quot;:&quot;17&quot;,&quot;countyfp&quot;:&quot;039&quot;,&quot;geoid&quot;:&quot;17039&quot;,&quot;name&quot;:&quot;De Witt&quot;,&quot;namelsad&quot;:&quot;De Witt County&quot;,&quot;intptlat&quot;:&quot;+40.1814993&quot;,&quot;intptlon&quot;:&quot;-088.9018526&quot;},{&quot;ogr_fid&quot;:40,&quot;statefp&quot;:&quot;17&quot;,&quot;countyfp&quot;:&quot;155&quot;,&quot;geoid&quot;:&quot;17155&quot;,&quot;name&quot;:&quot;Putnam&quot;,&quot;namelsad&quot;:&quot;Putnam County&quot;,&quot;intptlat&quot;:&quot;+41.1989613&quot;,&quot;intptlon&quot;:&quot;-089.2983474&quot;},{&quot;ogr_fid&quot;:41,&quot;statefp&quot;:&quot;17&quot;,&quot;countyfp&quot;:&quot;169&quot;,&quot;geoid&quot;:&quot;17169&quot;,&quot;name&quot;:&quot;Schuyler&quot;,&quot;namelsad&quot;:&quot;Schuyler County&quot;,&quot;intptlat&quot;:&quot;+40.1569048&quot;,&quot;intptlon&quot;:&quot;-090.6134641&quot;},{&quot;ogr_fid&quot;:42,&quot;statefp&quot;:&quot;17&quot;,&quot;countyfp&quot;:&quot;177&quot;,&quot;geoid&quot;:&quot;17177&quot;,&quot;name&quot;:&quot;Stephenson&quot;,&quot;namelsad&quot;:&quot;Stephenson County&quot;,&quot;intptlat&quot;:&quot;+42.3497262&quot;,&quot;intptlon&quot;:&quot;-089.6659942&quot;},{&quot;ogr_fid&quot;:43,&quot;statefp&quot;:&quot;17&quot;,&quot;countyfp&quot;:&quot;181&quot;,&quot;geoid&quot;:&quot;17181&quot;,&quot;name&quot;:&quot;Union&quot;,&quot;namelsad&quot;:&quot;Union County&quot;,&quot;intptlat&quot;:&quot;+37.4856521&quot;,&quot;intptlon&quot;:&quot;-089.2446391&quot;},{&quot;ogr_fid&quot;:44,&quot;statefp&quot;:&quot;17&quot;,&quot;countyfp&quot;:&quot;091&quot;,&quot;geoid&quot;:&quot;17091&quot;,&quot;name&quot;:&quot;Kankakee&quot;,&quot;namelsad&quot;:&quot;Kankakee County&quot;,&quot;intptlat&quot;:&quot;+41.1395105&quot;,&quot;intptlon&quot;:&quot;-087.8611165&quot;},{&quot;ogr_fid&quot;:45,&quot;statefp&quot;:&quot;17&quot;,&quot;countyfp&quot;:&quot;027&quot;,&quot;geoid&quot;:&quot;17027&quot;,&quot;name&quot;:&quot;Clinton&quot;,&quot;namelsad&quot;:&quot;Clinton County&quot;,&quot;intptlat&quot;:&quot;+38.6062953&quot;,&quot;intptlon&quot;:&quot;-089.4262278&quot;},{&quot;ogr_fid&quot;:46,&quot;statefp&quot;:&quot;17&quot;,&quot;countyfp&quot;:&quot;085&quot;,&quot;geoid&quot;:&quot;17085&quot;,&quot;name&quot;:&quot;Jo Daviess&quot;,&quot;namelsad&quot;:&quot;Jo Daviess County&quot;,&quot;intptlat&quot;:&quot;+42.3623905&quot;,&quot;intptlon&quot;:&quot;-090.2114705&quot;},{&quot;ogr_fid&quot;:47,&quot;statefp&quot;:&quot;17&quot;,&quot;countyfp&quot;:&quot;199&quot;,&quot;geoid&quot;:&quot;17199&quot;,&quot;name&quot;:&quot;Williamson&quot;,&quot;namelsad&quot;:&quot;Williamson County&quot;,&quot;intptlat&quot;:&quot;+37.7303533&quot;,&quot;intptlon&quot;:&quot;-088.9300182&quot;},{&quot;ogr_fid&quot;:48,&quot;statefp&quot;:&quot;17&quot;,&quot;countyfp&quot;:&quot;125&quot;,&quot;geoid&quot;:&quot;17125&quot;,&quot;name&quot;:&quot;Mason&quot;,&quot;namelsad&quot;:&quot;Mason County&quot;,&quot;intptlat&quot;:&quot;+40.2369926&quot;,&quot;intptlon&quot;:&quot;-089.9135746&quot;},{&quot;ogr_fid&quot;:49,&quot;statefp&quot;:&quot;17&quot;,&quot;countyfp&quot;:&quot;105&quot;,&quot;geoid&quot;:&quot;17105&quot;,&quot;name&quot;:&quot;Livingston&quot;,&quot;namelsad&quot;:&quot;Livingston County&quot;,&quot;intptlat&quot;:&quot;+40.8943761&quot;,&quot;intptlon&quot;:&quot;-088.5528518&quot;},{&quot;ogr_fid&quot;:50,&quot;statefp&quot;:&quot;17&quot;,&quot;countyfp&quot;:&quot;191&quot;,&quot;geoid&quot;:&quot;17191&quot;,&quot;name&quot;:&quot;Wayne&quot;,&quot;namelsad&quot;:&quot;Wayne County&quot;,&quot;intptlat&quot;:&quot;+38.4318573&quot;,&quot;intptlon&quot;:&quot;-088.4324302&quot;},{&quot;ogr_fid&quot;:51,&quot;statefp&quot;:&quot;17&quot;,&quot;countyfp&quot;:&quot;089&quot;,&quot;geoid&quot;:&quot;17089&quot;,&quot;name&quot;:&quot;Kane&quot;,&quot;namelsad&quot;:&quot;Kane County&quot;,&quot;intptlat&quot;:&quot;+41.9395938&quot;,&quot;intptlon&quot;:&quot;-088.4280395&quot;},{&quot;ogr_fid&quot;:52,&quot;statefp&quot;:&quot;17&quot;,&quot;countyfp&quot;:&quot;069&quot;,&quot;geoid&quot;:&quot;17069&quot;,&quot;name&quot;:&quot;Hardin&quot;,&quot;namelsad&quot;:&quot;Hardin County&quot;,&quot;intptlat&quot;:&quot;+37.5178517&quot;,&quot;intptlon&quot;:&quot;-088.2661478&quot;},{&quot;ogr_fid&quot;:53,&quot;statefp&quot;:&quot;17&quot;,&quot;countyfp&quot;:&quot;063&quot;,&quot;geoid&quot;:&quot;17063&quot;,&quot;name&quot;:&quot;Grundy&quot;,&quot;namelsad&quot;:&quot;Grundy County&quot;,&quot;intptlat&quot;:&quot;+41.2924096&quot;,&quot;intptlon&quot;:&quot;-088.4010545&quot;},{&quot;ogr_fid&quot;:54,&quot;statefp&quot;:&quot;17&quot;,&quot;countyfp&quot;:&quot;109&quot;,&quot;geoid&quot;:&quot;17109&quot;,&quot;name&quot;:&quot;McDonough&quot;,&quot;namelsad&quot;:&quot;McDonough County&quot;,&quot;intptlat&quot;:&quot;+40.4558082&quot;,&quot;intptlon&quot;:&quot;-090.6789543&quot;},{&quot;ogr_fid&quot;:55,&quot;statefp&quot;:&quot;17&quot;,&quot;countyfp&quot;:&quot;127&quot;,&quot;geoid&quot;:&quot;17127&quot;,&quot;name&quot;:&quot;Massac&quot;,&quot;namelsad&quot;:&quot;Massac County&quot;,&quot;intptlat&quot;:&quot;+37.2161190&quot;,&quot;intptlon&quot;:&quot;-088.7056578&quot;},{&quot;ogr_fid&quot;:56,&quot;statefp&quot;:&quot;17&quot;,&quot;countyfp&quot;:&quot;073&quot;,&quot;geoid&quot;:&quot;17073&quot;,&quot;name&quot;:&quot;Henry&quot;,&quot;namelsad&quot;:&quot;Henry County&quot;,&quot;intptlat&quot;:&quot;+41.3500209&quot;,&quot;intptlon&quot;:&quot;-090.1308378&quot;},{&quot;ogr_fid&quot;:57,&quot;statefp&quot;:&quot;17&quot;,&quot;countyfp&quot;:&quot;061&quot;,&quot;geoid&quot;:&quot;17061&quot;,&quot;name&quot;:&quot;Greene&quot;,&quot;namelsad&quot;:&quot;Greene County&quot;,&quot;intptlat&quot;:&quot;+39.3554391&quot;,&quot;intptlon&quot;:&quot;-090.3876823&quot;},{&quot;ogr_fid&quot;:58,&quot;statefp&quot;:&quot;17&quot;,&quot;countyfp&quot;:&quot;157&quot;,&quot;geoid&quot;:&quot;17157&quot;,&quot;name&quot;:&quot;Randolph&quot;,&quot;namelsad&quot;:&quot;Randolph County&quot;,&quot;intptlat&quot;:&quot;+38.0565149&quot;,&quot;intptlon&quot;:&quot;-089.8212096&quot;},{&quot;ogr_fid&quot;:59,&quot;statefp&quot;:&quot;17&quot;,&quot;countyfp&quot;:&quot;149&quot;,&quot;geoid&quot;:&quot;17149&quot;,&quot;name&quot;:&quot;Pike&quot;,&quot;namelsad&quot;:&quot;Pike County&quot;,&quot;intptlat&quot;:&quot;+39.6251059&quot;,&quot;intptlon&quot;:&quot;-090.8890344&quot;},{&quot;ogr_fid&quot;:60,&quot;statefp&quot;:&quot;17&quot;,&quot;countyfp&quot;:&quot;203&quot;,&quot;geoid&quot;:&quot;17203&quot;,&quot;name&quot;:&quot;Woodford&quot;,&quot;namelsad&quot;:&quot;Woodford County&quot;,&quot;intptlat&quot;:&quot;+40.7897870&quot;,&quot;intptlon&quot;:&quot;-089.2105871&quot;},{&quot;ogr_fid&quot;:61,&quot;statefp&quot;:&quot;17&quot;,&quot;countyfp&quot;:&quot;145&quot;,&quot;geoid&quot;:&quot;17145&quot;,&quot;name&quot;:&quot;Perry&quot;,&quot;namelsad&quot;:&quot;Perry County&quot;,&quot;intptlat&quot;:&quot;+38.0843809&quot;,&quot;intptlon&quot;:&quot;-089.3685249&quot;},{&quot;ogr_fid&quot;:62,&quot;statefp&quot;:&quot;17&quot;,&quot;countyfp&quot;:&quot;087&quot;,&quot;geoid&quot;:&quot;17087&quot;,&quot;name&quot;:&quot;Johnson&quot;,&quot;namelsad&quot;:&quot;Johnson County&quot;,&quot;intptlat&quot;:&quot;+37.4607092&quot;,&quot;intptlon&quot;:&quot;-088.8821305&quot;},{&quot;ogr_fid&quot;:63,&quot;statefp&quot;:&quot;17&quot;,&quot;countyfp&quot;:&quot;173&quot;,&quot;geoid&quot;:&quot;17173&quot;,&quot;name&quot;:&quot;Shelby&quot;,&quot;namelsad&quot;:&quot;Shelby County&quot;,&quot;intptlat&quot;:&quot;+39.3849258&quot;,&quot;intptlon&quot;:&quot;-088.7988615&quot;},{&quot;ogr_fid&quot;:64,&quot;statefp&quot;:&quot;17&quot;,&quot;countyfp&quot;:&quot;051&quot;,&quot;geoid&quot;:&quot;17051&quot;,&quot;name&quot;:&quot;Fayette&quot;,&quot;namelsad&quot;:&quot;Fayette County&quot;,&quot;intptlat&quot;:&quot;+39.0011246&quot;,&quot;intptlon&quot;:&quot;-089.0179232&quot;},{&quot;ogr_fid&quot;:65,&quot;statefp&quot;:&quot;17&quot;,&quot;countyfp&quot;:&quot;201&quot;,&quot;geoid&quot;:&quot;17201&quot;,&quot;name&quot;:&quot;Winnebago&quot;,&quot;namelsad&quot;:&quot;Winnebago County&quot;,&quot;intptlat&quot;:&quot;+42.3373957&quot;,&quot;intptlon&quot;:&quot;-089.1612053&quot;},{&quot;ogr_fid&quot;:66,&quot;statefp&quot;:&quot;17&quot;,&quot;countyfp&quot;:&quot;141&quot;,&quot;geoid&quot;:&quot;17141&quot;,&quot;name&quot;:&quot;Ogle&quot;,&quot;namelsad&quot;:&quot;Ogle County&quot;,&quot;intptlat&quot;:&quot;+42.0418840&quot;,&quot;intptlon&quot;:&quot;-089.3201764&quot;},{&quot;ogr_fid&quot;:67,&quot;statefp&quot;:&quot;17&quot;,&quot;countyfp&quot;:&quot;139&quot;,&quot;geoid&quot;:&quot;17139&quot;,&quot;name&quot;:&quot;Moultrie&quot;,&quot;namelsad&quot;:&quot;Moultrie County&quot;,&quot;intptlat&quot;:&quot;+39.6368956&quot;,&quot;intptlon&quot;:&quot;-088.6257259&quot;},{&quot;ogr_fid&quot;:68,&quot;statefp&quot;:&quot;17&quot;,&quot;countyfp&quot;:&quot;017&quot;,&quot;geoid&quot;:&quot;17017&quot;,&quot;name&quot;:&quot;Cass&quot;,&quot;namelsad&quot;:&quot;Cass County&quot;,&quot;intptlat&quot;:&quot;+39.9692024&quot;,&quot;intptlon&quot;:&quot;-090.2457045&quot;},{&quot;ogr_fid&quot;:69,&quot;statefp&quot;:&quot;17&quot;,&quot;countyfp&quot;:&quot;167&quot;,&quot;geoid&quot;:&quot;17167&quot;,&quot;name&quot;:&quot;Sangamon&quot;,&quot;namelsad&quot;:&quot;Sangamon County&quot;,&quot;intptlat&quot;:&quot;+39.7568675&quot;,&quot;intptlon&quot;:&quot;-089.6624251&quot;},{&quot;ogr_fid&quot;:70,&quot;statefp&quot;:&quot;17&quot;,&quot;countyfp&quot;:&quot;179&quot;,&quot;geoid&quot;:&quot;17179&quot;,&quot;name&quot;:&quot;Tazewell&quot;,&quot;namelsad&quot;:&quot;Tazewell County&quot;,&quot;intptlat&quot;:&quot;+40.5080743&quot;,&quot;intptlon&quot;:&quot;-089.5162598&quot;},{&quot;ogr_fid&quot;:71,&quot;statefp&quot;:&quot;17&quot;,&quot;countyfp&quot;:&quot;099&quot;,&quot;geoid&quot;:&quot;17099&quot;,&quot;name&quot;:&quot;LaSalle&quot;,&quot;namelsad&quot;:&quot;LaSalle County&quot;,&quot;intptlat&quot;:&quot;+41.3433407&quot;,&quot;intptlon&quot;:&quot;-088.8859312&quot;},{&quot;ogr_fid&quot;:72,&quot;statefp&quot;:&quot;17&quot;,&quot;countyfp&quot;:&quot;183&quot;,&quot;geoid&quot;:&quot;17183&quot;,&quot;name&quot;:&quot;Vermilion&quot;,&quot;namelsad&quot;:&quot;Vermilion County&quot;,&quot;intptlat&quot;:&quot;+40.1867542&quot;,&quot;intptlon&quot;:&quot;-087.7267779&quot;},{&quot;ogr_fid&quot;:73,&quot;statefp&quot;:&quot;17&quot;,&quot;countyfp&quot;:&quot;007&quot;,&quot;geoid&quot;:&quot;17007&quot;,&quot;name&quot;:&quot;Boone&quot;,&quot;namelsad&quot;:&quot;Boone County&quot;,&quot;intptlat&quot;:&quot;+42.3189831&quot;,&quot;intptlon&quot;:&quot;-088.8242951&quot;},{&quot;ogr_fid&quot;:74,&quot;statefp&quot;:&quot;17&quot;,&quot;countyfp&quot;:&quot;137&quot;,&quot;geoid&quot;:&quot;17137&quot;,&quot;name&quot;:&quot;Morgan&quot;,&quot;namelsad&quot;:&quot;Morgan County&quot;,&quot;intptlat&quot;:&quot;+39.7176678&quot;,&quot;intptlon&quot;:&quot;-090.2050054&quot;},{&quot;ogr_fid&quot;:75,&quot;statefp&quot;:&quot;17&quot;,&quot;countyfp&quot;:&quot;123&quot;,&quot;geoid&quot;:&quot;17123&quot;,&quot;name&quot;:&quot;Marshall&quot;,&quot;namelsad&quot;:&quot;Marshall County&quot;,&quot;intptlat&quot;:&quot;+41.0311192&quot;,&quot;intptlon&quot;:&quot;-089.3423714&quot;},{&quot;ogr_fid&quot;:76,&quot;statefp&quot;:&quot;17&quot;,&quot;countyfp&quot;:&quot;079&quot;,&quot;geoid&quot;:&quot;17079&quot;,&quot;name&quot;:&quot;Jasper&quot;,&quot;namelsad&quot;:&quot;Jasper County&quot;,&quot;intptlat&quot;:&quot;+39.0048737&quot;,&quot;intptlon&quot;:&quot;-088.1507629&quot;},{&quot;ogr_fid&quot;:77,&quot;statefp&quot;:&quot;17&quot;,&quot;countyfp&quot;:&quot;013&quot;,&quot;geoid&quot;:&quot;17013&quot;,&quot;name&quot;:&quot;Calhoun&quot;,&quot;namelsad&quot;:&quot;Calhoun County&quot;,&quot;intptlat&quot;:&quot;+39.1642619&quot;,&quot;intptlon&quot;:&quot;-090.6662949&quot;},{&quot;ogr_fid&quot;:78,&quot;statefp&quot;:&quot;17&quot;,&quot;countyfp&quot;:&quot;121&quot;,&quot;geoid&quot;:&quot;17121&quot;,&quot;name&quot;:&quot;Marion&quot;,&quot;namelsad&quot;:&quot;Marion County&quot;,&quot;intptlat&quot;:&quot;+38.6482361&quot;,&quot;intptlon&quot;:&quot;-088.9203624&quot;},{&quot;ogr_fid&quot;:79,&quot;statefp&quot;:&quot;17&quot;,&quot;countyfp&quot;:&quot;187&quot;,&quot;geoid&quot;:&quot;17187&quot;,&quot;name&quot;:&quot;Warren&quot;,&quot;namelsad&quot;:&quot;Warren County&quot;,&quot;intptlat&quot;:&quot;+40.8504412&quot;,&quot;intptlon&quot;:&quot;-090.6202228&quot;},{&quot;ogr_fid&quot;:80,&quot;statefp&quot;:&quot;17&quot;,&quot;countyfp&quot;:&quot;197&quot;,&quot;geoid&quot;:&quot;17197&quot;,&quot;name&quot;:&quot;Will&quot;,&quot;namelsad&quot;:&quot;Will County&quot;,&quot;intptlat&quot;:&quot;+41.4484742&quot;,&quot;intptlon&quot;:&quot;-087.9784564&quot;},{&quot;ogr_fid&quot;:81,&quot;statefp&quot;:&quot;17&quot;,&quot;countyfp&quot;:&quot;153&quot;,&quot;geoid&quot;:&quot;17153&quot;,&quot;name&quot;:&quot;Pulaski&quot;,&quot;namelsad&quot;:&quot;Pulaski County&quot;,&quot;intptlat&quot;:&quot;+37.2156152&quot;,&quot;intptlon&quot;:&quot;-089.1277549&quot;},{&quot;ogr_fid&quot;:82,&quot;statefp&quot;:&quot;17&quot;,&quot;countyfp&quot;:&quot;119&quot;,&quot;geoid&quot;:&quot;17119&quot;,&quot;name&quot;:&quot;Madison&quot;,&quot;namelsad&quot;:&quot;Madison County&quot;,&quot;intptlat&quot;:&quot;+38.8271195&quot;,&quot;intptlon&quot;:&quot;-089.9002267&quot;},{&quot;ogr_fid&quot;:83,&quot;statefp&quot;:&quot;17&quot;,&quot;countyfp&quot;:&quot;133&quot;,&quot;geoid&quot;:&quot;17133&quot;,&quot;name&quot;:&quot;Monroe&quot;,&quot;namelsad&quot;:&quot;Monroe County&quot;,&quot;intptlat&quot;:&quot;+38.2779831&quot;,&quot;intptlon&quot;:&quot;-090.1790777&quot;},{&quot;ogr_fid&quot;:84,&quot;statefp&quot;:&quot;17&quot;,&quot;countyfp&quot;:&quot;003&quot;,&quot;geoid&quot;:&quot;17003&quot;,&quot;name&quot;:&quot;Alexander&quot;,&quot;namelsad&quot;:&quot;Alexander County&quot;,&quot;intptlat&quot;:&quot;+37.1836583&quot;,&quot;intptlon&quot;:&quot;-089.3495158&quot;},{&quot;ogr_fid&quot;:85,&quot;statefp&quot;:&quot;17&quot;,&quot;countyfp&quot;:&quot;043&quot;,&quot;geoid&quot;:&quot;17043&quot;,&quot;name&quot;:&quot;DuPage&quot;,&quot;namelsad&quot;:&quot;DuPage County&quot;,&quot;intptlat&quot;:&quot;+41.8520577&quot;,&quot;intptlon&quot;:&quot;-088.0860389&quot;},{&quot;ogr_fid&quot;:86,&quot;statefp&quot;:&quot;17&quot;,&quot;countyfp&quot;:&quot;165&quot;,&quot;geoid&quot;:&quot;17165&quot;,&quot;name&quot;:&quot;Saline&quot;,&quot;namelsad&quot;:&quot;Saline County&quot;,&quot;intptlat&quot;:&quot;+37.7515083&quot;,&quot;intptlon&quot;:&quot;-088.5450236&quot;},{&quot;ogr_fid&quot;:87,&quot;statefp&quot;:&quot;17&quot;,&quot;countyfp&quot;:&quot;097&quot;,&quot;geoid&quot;:&quot;17097&quot;,&quot;name&quot;:&quot;Lake&quot;,&quot;namelsad&quot;:&quot;Lake County&quot;,&quot;intptlat&quot;:&quot;+42.3264410&quot;,&quot;intptlon&quot;:&quot;-087.4359760&quot;},{&quot;ogr_fid&quot;:88,&quot;statefp&quot;:&quot;17&quot;,&quot;countyfp&quot;:&quot;117&quot;,&quot;geoid&quot;:&quot;17117&quot;,&quot;name&quot;:&quot;Macoupin&quot;,&quot;namelsad&quot;:&quot;Macoupin County&quot;,&quot;intptlat&quot;:&quot;+39.2659138&quot;,&quot;intptlon&quot;:&quot;-089.9263301&quot;},{&quot;ogr_fid&quot;:89,&quot;statefp&quot;:&quot;17&quot;,&quot;countyfp&quot;:&quot;195&quot;,&quot;geoid&quot;:&quot;17195&quot;,&quot;name&quot;:&quot;Whiteside&quot;,&quot;namelsad&quot;:&quot;Whiteside County&quot;,&quot;intptlat&quot;:&quot;+41.7506733&quot;,&quot;intptlon&quot;:&quot;-089.9110045&quot;},{&quot;ogr_fid&quot;:90,&quot;statefp&quot;:&quot;17&quot;,&quot;countyfp&quot;:&quot;107&quot;,&quot;geoid&quot;:&quot;17107&quot;,&quot;name&quot;:&quot;Logan&quot;,&quot;namelsad&quot;:&quot;Logan County&quot;,&quot;intptlat&quot;:&quot;+40.1292768&quot;,&quot;intptlon&quot;:&quot;-089.3653086&quot;},{&quot;ogr_fid&quot;:91,&quot;statefp&quot;:&quot;17&quot;,&quot;countyfp&quot;:&quot;081&quot;,&quot;geoid&quot;:&quot;17081&quot;,&quot;name&quot;:&quot;Jefferson&quot;,&quot;namelsad&quot;:&quot;Jefferson County&quot;,&quot;intptlat&quot;:&quot;+38.3007796&quot;,&quot;intptlon&quot;:&quot;-088.9242100&quot;},{&quot;ogr_fid&quot;:92,&quot;statefp&quot;:&quot;17&quot;,&quot;countyfp&quot;:&quot;101&quot;,&quot;geoid&quot;:&quot;17101&quot;,&quot;name&quot;:&quot;Lawrence&quot;,&quot;namelsad&quot;:&quot;Lawrence County&quot;,&quot;intptlat&quot;:&quot;+38.7189542&quot;,&quot;intptlon&quot;:&quot;-087.7302207&quot;},{&quot;ogr_fid&quot;:93,&quot;statefp&quot;:&quot;17&quot;,&quot;countyfp&quot;:&quot;143&quot;,&quot;geoid&quot;:&quot;17143&quot;,&quot;name&quot;:&quot;Peoria&quot;,&quot;namelsad&quot;:&quot;Peoria County&quot;,&quot;intptlat&quot;:&quot;+40.7859722&quot;,&quot;intptlon&quot;:&quot;-089.7669933&quot;},{&quot;ogr_fid&quot;:94,&quot;statefp&quot;:&quot;17&quot;,&quot;countyfp&quot;:&quot;019&quot;,&quot;geoid&quot;:&quot;17019&quot;,&quot;name&quot;:&quot;Champaign&quot;,&quot;namelsad&quot;:&quot;Champaign County&quot;,&quot;intptlat&quot;:&quot;+40.1389845&quot;,&quot;intptlon&quot;:&quot;-088.1969749&quot;},{&quot;ogr_fid&quot;:95,&quot;statefp&quot;:&quot;17&quot;,&quot;countyfp&quot;:&quot;045&quot;,&quot;geoid&quot;:&quot;17045&quot;,&quot;name&quot;:&quot;Edgar&quot;,&quot;namelsad&quot;:&quot;Edgar County&quot;,&quot;intptlat&quot;:&quot;+39.6790370&quot;,&quot;intptlon&quot;:&quot;-087.7471102&quot;},{&quot;ogr_fid&quot;:96,&quot;statefp&quot;:&quot;17&quot;,&quot;countyfp&quot;:&quot;021&quot;,&quot;geoid&quot;:&quot;17021&quot;,&quot;name&quot;:&quot;Christian&quot;,&quot;namelsad&quot;:&quot;Christian County&quot;,&quot;intptlat&quot;:&quot;+39.5455242&quot;,&quot;intptlon&quot;:&quot;-089.2795927&quot;},{&quot;ogr_fid&quot;:97,&quot;statefp&quot;:&quot;17&quot;,&quot;countyfp&quot;:&quot;095&quot;,&quot;geoid&quot;:&quot;17095&quot;,&quot;name&quot;:&quot;Knox&quot;,&quot;namelsad&quot;:&quot;Knox County&quot;,&quot;intptlat&quot;:&quot;+40.9309446&quot;,&quot;intptlon&quot;:&quot;-090.2137921&quot;},{&quot;ogr_fid&quot;:98,&quot;statefp&quot;:&quot;17&quot;,&quot;countyfp&quot;:&quot;111&quot;,&quot;geoid&quot;:&quot;17111&quot;,&quot;name&quot;:&quot;McHenry&quot;,&quot;namelsad&quot;:&quot;McHenry County&quot;,&quot;intptlat&quot;:&quot;+42.3242982&quot;,&quot;intptlon&quot;:&quot;-088.4522450&quot;},{&quot;ogr_fid&quot;:99,&quot;statefp&quot;:&quot;17&quot;,&quot;countyfp&quot;:&quot;015&quot;,&quot;geoid&quot;:&quot;17015&quot;,&quot;name&quot;:&quot;Carroll&quot;,&quot;namelsad&quot;:&quot;Carroll County&quot;,&quot;intptlat&quot;:&quot;+42.0709000&quot;,&quot;intptlon&quot;:&quot;-089.9241894&quot;},{&quot;ogr_fid&quot;:100,&quot;statefp&quot;:&quot;17&quot;,&quot;countyfp&quot;:&quot;047&quot;,&quot;geoid&quot;:&quot;17047&quot;,&quot;name&quot;:&quot;Edwards&quot;,&quot;namelsad&quot;:&quot;Edwards County&quot;,&quot;intptlat&quot;:&quot;+38.4170954&quot;,&quot;intptlon&quot;:&quot;-088.0479408&quot;},{&quot;ogr_fid&quot;:101,&quot;statefp&quot;:&quot;17&quot;,&quot;countyfp&quot;:&quot;071&quot;,&quot;geoid&quot;:&quot;17071&quot;,&quot;name&quot;:&quot;Henderson&quot;,&quot;namelsad&quot;:&quot;Henderson County&quot;,&quot;intptlat&quot;:&quot;+40.8144710&quot;,&quot;intptlon&quot;:&quot;-090.9412464&quot;},{&quot;ogr_fid&quot;:102,&quot;statefp&quot;:&quot;17&quot;,&quot;countyfp&quot;:&quot;077&quot;,&quot;geoid&quot;:&quot;17077&quot;,&quot;name&quot;:&quot;Jackson&quot;,&quot;namelsad&quot;:&quot;Jackson County&quot;,&quot;intptlat&quot;:&quot;+37.7860959&quot;,&quot;intptlon&quot;:&quot;-089.3812119&quot;}]},{&quot;id&quot;:116,&quot;region&quot;:&quot;2&quot;,&quot;division&quot;:&quot;4&quot;,&quot;statefp&quot;:&quot;27&quot;,&quot;statens&quot;:&quot;00662849&quot;,&quot;stusps&quot;:&quot;MN&quot;,&quot;state&quot;:&quot;Minnesota&quot;},{&quot;id&quot;:118,&quot;region&quot;:&quot;1&quot;,&quot;division&quot;:&quot;1&quot;,&quot;statefp&quot;:&quot;44&quot;,&quot;statens&quot;:&quot;01219835&quot;,&quot;stusps&quot;:&quot;RI&quot;,&quot;state&quot;:&quot;Rhode Island&quot;},{&quot;id&quot;:120,&quot;region&quot;:&quot;1&quot;,&quot;division&quot;:&quot;1&quot;,&quot;statefp&quot;:&quot;33&quot;,&quot;statens&quot;:&quot;01779794&quot;,&quot;stusps&quot;:&quot;NH&quot;,&quot;state&quot;:&quot;New Hampshire&quot;},{&quot;id&quot;:121,&quot;region&quot;:&quot;3&quot;,&quot;division&quot;:&quot;5&quot;,&quot;statefp&quot;:&quot;37&quot;,&quot;statens&quot;:&quot;01027616&quot;,&quot;stusps&quot;:&quot;NC&quot;,&quot;state&quot;:&quot;North Carolina&quot;},{&quot;id&quot;:122,&quot;region&quot;:&quot;1&quot;,&quot;division&quot;:&quot;1&quot;,&quot;statefp&quot;:&quot;50&quot;,&quot;statens&quot;:&quot;01779802&quot;,&quot;stusps&quot;:&quot;VT&quot;,&quot;state&quot;:&quot;Vermont&quot;},{&quot;id&quot;:124,&quot;region&quot;:&quot;3&quot;,&quot;division&quot;:&quot;5&quot;,&quot;statefp&quot;:&quot;10&quot;,&quot;statens&quot;:&quot;01779781&quot;,&quot;stusps&quot;:&quot;DE&quot;,&quot;state&quot;:&quot;Delaware&quot;},{&quot;id&quot;:125,&quot;region&quot;:&quot;4&quot;,&quot;division&quot;:&quot;8&quot;,&quot;statefp&quot;:&quot;35&quot;,&quot;statens&quot;:&quot;00897535&quot;,&quot;stusps&quot;:&quot;NM&quot;,&quot;state&quot;:&quot;New Mexico&quot;},{&quot;id&quot;:128,&quot;region&quot;:&quot;2&quot;,&quot;division&quot;:&quot;3&quot;,&quot;statefp&quot;:&quot;55&quot;,&quot;statens&quot;:&quot;01779806&quot;,&quot;stusps&quot;:&quot;WI&quot;,&quot;state&quot;:&quot;Wisconsin&quot;},{&quot;id&quot;:132,&quot;region&quot;:&quot;No&quot;,&quot;division&quot;:&quot;9&quot;,&quot;statefp&quot;:&quot;53&quot;,&quot;statens&quot;:&quot;01779804&quot;,&quot;stusps&quot;:&quot;WA&quot;,&quot;state&quot;:&quot;Washington&quot;},{&quot;id&quot;:139,&quot;region&quot;:&quot;4&quot;,&quot;division&quot;:&quot;8&quot;,&quot;statefp&quot;:&quot;08&quot;,&quot;statens&quot;:&quot;01779779&quot;,&quot;stusps&quot;:&quot;CO&quot;,&quot;state&quot;:&quot;Colorado&quot;},{&quot;id&quot;:146,&quot;region&quot;:&quot;3&quot;,&quot;division&quot;:&quot;6&quot;,&quot;statefp&quot;:&quot;21&quot;,&quot;statens&quot;:&quot;01779786&quot;,&quot;stusps&quot;:&quot;KY&quot;,&quot;state&quot;:&quot;Kentucky&quot;},{&quot;id&quot;:149,&quot;region&quot;:&quot;9&quot;,&quot;division&quot;:&quot;0&quot;,&quot;statefp&quot;:&quot;66&quot;,&quot;statens&quot;:&quot;01802705&quot;,&quot;stusps&quot;:&quot;GU&quot;,&quot;state&quot;:&quot;Guam&quot;},{&quot;id&quot;:155,&quot;region&quot;:&quot;2&quot;,&quot;division&quot;:&quot;3&quot;,&quot;statefp&quot;:&quot;26&quot;,&quot;statens&quot;:&quot;01779789&quot;,&quot;stusps&quot;:&quot;MI&quot;,&quot;state&quot;:&quot;Michigan&quot;},{&quot;id&quot;:158,&quot;region&quot;:&quot;2&quot;,&quot;division&quot;:&quot;4&quot;,&quot;statefp&quot;:&quot;29&quot;,&quot;statens&quot;:&quot;01779791&quot;,&quot;stusps&quot;:&quot;MO&quot;,&quot;state&quot;:&quot;Missouri&quot;},{&quot;id&quot;:162,&quot;region&quot;:&quot;9&quot;,&quot;division&quot;:&quot;0&quot;,&quot;statefp&quot;:&quot;72&quot;,&quot;statens&quot;:&quot;01779808&quot;,&quot;stusps&quot;:&quot;PR&quot;,&quot;state&quot;:&quot;Puerto Rico&quot;},{&quot;id&quot;:167,&quot;region&quot;:&quot;2&quot;,&quot;division&quot;:&quot;4&quot;,&quot;statefp&quot;:&quot;19&quot;,&quot;statens&quot;:&quot;01779785&quot;,&quot;stusps&quot;:&quot;IA&quot;,&quot;state&quot;:&quot;Iowa&quot;},{&quot;id&quot;:168,&quot;region&quot;:&quot;4&quot;,&quot;division&quot;:&quot;8&quot;,&quot;statefp&quot;:&quot;04&quot;,&quot;statens&quot;:&quot;01779777&quot;,&quot;stusps&quot;:&quot;AZ&quot;,&quot;state&quot;:&quot;Arizona&quot;}]}</td></tr></table>"
                    },
                    "metadata": {}
                }
            ],
            "execution_count": 11
        },
        {
            "cell_type": "markdown",
            "source": [
                "## **You can get similar results by using the following syntax:**"
            ],
            "metadata": {
                "azdata_cell_guid": "a4dc9e74-50a5-4143-8696-bb60b97c8436"
            },
            "attachments": {}
        },
        {
            "cell_type": "code",
            "source": [
                " SELECT S.[ogr_fid] as [state.id]\r\n",
                "\t   ,S.[region] as [state.region]\r\n",
                "\t   ,S.[division] as [state.division]\r\n",
                "\t   ,S.[statefp] as [state.statefp]\r\n",
                "\t   ,S.[statens] as [state.statens]\r\n",
                "\t   ,S.[stusps] as [state.stusps]\r\n",
                "\t   ,S.[name] as [state.name]\r\n",
                "  \t   ,C.[statefp] as 'state.Counties.statefp'\r\n",
                "\t   ,C.[countyfp] as 'state.Counties.countyfp'\r\n",
                "\t   ,C.[geoid] as 'state.Counties.geoid'\r\n",
                "\t   ,C.[name] as 'state.Counties.name'\r\n",
                "\t   ,C.[namelsad] as 'state.Counties.namelsad'\r\n",
                "\t   ,C.[intptlat] as 'state.Counties.Location.Latitude'\r\n",
                "\t   ,C.[intptlon] as 'state.Counties.Location.Longitude'\r\n",
                " FROM [PythonDB].[dbo].[us_states] S\r\n",
                " LEFT OUTER JOIN [PythonDB].[dbo].[us_il_counties] C\r\n",
                " ON S.[statefp] = C.[statefp]\r\n",
                " FOR JSON PATH, root('state_counties')"
            ],
            "metadata": {
                "azdata_cell_guid": "b2342fe0-71e2-451c-9e5c-79fa70252b4a"
            },
            "outputs": [
                {
                    "output_type": "display_data",
                    "data": {
                        "text/html": "(157 rows affected)"
                    },
                    "metadata": {}
                },
                {
                    "output_type": "display_data",
                    "data": {
                        "text/html": "Total execution time: 00:00:00.015"
                    },
                    "metadata": {}
                },
                {
                    "output_type": "execute_result",
                    "execution_count": 12,
                    "data": {
                        "application/vnd.dataresource+json": {
                            "schema": {
                                "fields": [
                                    {
                                        "name": "JSON_F52E2B61-18A1-11d1-B105-00805F49916B"
                                    }
                                ]
                            },
                            "data": [
                                {
                                    "0": "{\"state_counties\":[{\"state\":{\"id\":115,\"region\":\"2\",\"division\":\"3\",\"statefp\":\"17\",\"statens\":\"01779784\",\"stusps\":\"IL\",\"name\":\"Illinois\",\"Counties\":{\"statefp\":\"17\",\"countyfp\":\"067\",\"geoid\":\"17067\",\"name\":\"Hancock\",\"namelsad\":\"Hancock County\",\"Location\":{\"Latitude\":\"+40.4013180\",\"Longitude\":\"-091.1688008\"}}}},{\"state\":{\"id\":115,\"region\":\"2\",\"division\":\"3\",\"statefp\":\"17\",\"statens\":\"01779784\",\"stusps\":\"IL\",\"name\":\"Illinois\",\"Counties\":{\"statefp\":\"17\",\"countyfp\":\"025\",\"geoid\":\"17025\",\"name\":\"Clay\",\"namelsad\":\"Clay County\",\"Location\":{\"Latitude\":\"+38.7468187\",\"Longitude\":\"-088.4823254\"}}}},{\"state\":{\"id\":115,\"region\":\"2\",\"division\":\"3\",\"statefp\":\"17\",\"statens\":\"01779784\",\"stusps\":\"IL\",\"name\":\"Illinois\",\"Counties\":{\"statefp\":\"17\",\"countyfp\":\"185\",\"geoid\":\"17185\",\"name\":\"Wabash\",\"namelsad\":\"Wabash County\",\"Location\":{\"Latitude\":\"+38.4458209\",\"Longitude\":\"-087.8391674\"}}}},{\"state\":{\"id\":115,\"region\":\"2\",\"division\":\"3\",\"statefp\":\"17\",\"statens\":\"01779784\",\"stusps\":\"IL\",\"name\":\"Illinois\",\"Counties\":{\"statefp\":\"17\",\"countyfp\":\"113\",\"geoid\":\"17113\",\"name\":\"McLean\",\"namelsad\":\"McLean County\",\"Location\":{\"Latitude\":\"+40.4945594\",\"Longitude\":\"-088.8445391\"}}}},{\"state\":{\"id\":115,\"region\":\"2\",\"division\":\"3\",\"statefp\":\"17\",\"statens\":\"01779784\",\"stusps\":\"IL\",\"name\":\"Illinois\",\"Counties\":{\"statefp\":\"17\",\"countyfp\":\"005\",\"geoid\":\"17005\",\"name\":\"Bond\",\"namelsad\":\"Bond County\",\"Location\":{\"Latitude\":\"+38.8859240\",\"Longitude\":\"-089.4365916\"}}}},{\"state\":{\"id\":115,\"region\":\"2\",\"division\":\"3\",\"statefp\":\"17\",\"statens\":\"01779784\",\"stusps\":\"IL\",\"name\":\"Illinois\",\"Counties\":{\"statefp\":\"17\",\"countyfp\":\"009\",\"geoid\":\"17009\",\"name\":\"Brown\",\"namelsad\":\"Brown County\",\"Location\":{\"Latitude\":\"+39.9620694\",\"Longitude\":\"-090.7503095\"}}}},{\"state\":{\"id\":115,\"region\":\"2\",\"division\":\"3\",\"statefp\":\"17\",\"statens\":\"01779784\",\"stusps\":\"IL\",\"name\":\"Illinois\",\"Counties\":{\"statefp\":\"17\",\"countyfp\":\"083\",\"geoid\":\"17083\",\"name\":\"Jersey\",\"namelsad\":\"Jersey County\",\"Location\":{\"Latitude\":\"+39.0801945\",\"Longitude\":\"-090.3613850\"}}}},{\"state\":{\"id\":115,\"region\":\"2\",\"division\":\"3\",\"statefp\":\"17\",\"statens\":\"01779784\",\"stusps\":\"IL\",\"name\":\"Illinois\",\"Counties\":{\"statefp\":\"17\",\"countyfp\":\"147\",\"geoid\":\"17147\",\"name\":\"Piatt\",\"namelsad\":\"Piatt County\",\"Location\":{\"Latitude\":\"+40.0090327\",\"Longitude\":\"-088.5923546\"}}}},{\"state\":{\"id\":115,\"region\":\"2\",\"division\":\"3\",\"statefp\":\"17\",\"statens\":\"01779784\",\"stusps\":\"IL\",\"name\":\"Illinois\",\"Counties\":{\"statefp\":\"17\",\"countyfp\":\"151\",\"geoid\":\"17151\",\"name\":\"Pope\",\"namelsad\":\"Pope County\",\"Location\":{\"Latitude\":\"+37.4171687\",\"Longitude\":\"-088.5423737\"}}}},{\"state\":{\"id\":115,\"region\":\"2\",\"division\":\"3\",\"statefp\":\"17\",\"statens\":\"01779784\",\"stusps\":\"IL\",\"name\":\"Illinois\",\"Counties\":{\"statefp\":\"17\",\"countyfp\":\"011\",\"geoid\":\"17011\",\"name\":\"Bureau\",\"namelsad\":\"Bureau County\",\"Location\":{\"Latitude\":\"+41.4013043\",\"Longitude\":\"-089.5283772\"}}}},{\"state\":{\"id\":115,\"region\":\"2\",\"division\":\"3\",\"statefp\":\"17\",\"statens\":\"01779784\",\"stusps\":\"IL\",\"name\":\"Illinois\",\"Counties\":{\"statefp\":\"17\",\"countyfp\":\"029\",\"geoid\":\"17029\",\"name\":\"Coles\",\"namelsad\":\"Coles County\",\"Location\":{\"Latitude\":\"+39.5136797\",\"Longitude\":\"-088.2207820\"}}}},{\"state\":{\"id\":115,\"region\":\"2\",\"division\":\"3\",\"statefp\":\"17\",\"statens\":\"01779784\",\"stusps\":\"IL\",\"name\":\"Illinois\",\"Counties\":{\"statefp\":\"17\",\"countyfp\":\"131\",\"geoid\":\"17131\",\"name\":\"Mercer\",\"namelsad\":\"Mercer County\",\"Location\":{\"Latitude\":\"+41.2056046\",\"Longitude\":\"-090.7417698\"}}}},{\"state\":{\"id\":115,\"region\":\"2\",\"division\":\"3\",\"statefp\":\"17\",\"statens\":\"01779784\",\"stusps\":\"IL\",\"name\":\"Illinois\",\"Counties\":{\"statefp\":\"17\",\"countyfp\":\"049\",\"geoid\":\"17049\",\"name\":\"Effingham\",\"namelsad\":\"Effingham County\",\"Location\":{\"Latitude\":\"+39.0479445\",\"Longitude\":\"-088.5928488\"}}}},{\"state\":{\"id\":115,\"region\":\"2\",\"division\":\"3\",\"statefp\":\"17\",\"statens\":\"01779784\",\"stusps\":\"IL\",\"name\":\"Illinois\",\"Counties\":{\"statefp\":\"17\",\"countyfp\":\"035\",\"geoid\":\"17035\",\"name\":\"Cumberland\",\"namelsad\":\"Cumberland County\",\"Location\":{\"Latitude\":\"+39.2731210\",\"Longitude\":\"-088.2406193\"}}}},{\"state\":{\"id\":115,\"region\":\"2\",\"division\":\"3\",\"statefp\":\"17\",\"statens\":\"01779784\",\"stusps\":\"IL\",\"name\":\"Illinois\",\"Counties\":{\"statefp\":\"17\",\"countyfp\":\"033\",\"geoid\":\"17033\",\"name\":\"Crawford\",\"namelsad\":\"Crawford County\",\"Location\":{\"Latitude\":\"+39.0027865\",\"Longitude\":\"-087.7606193\"}}}},{\"state\":{\"id\":115,\"region\":\"2\",\"division\":\"3\",\"statefp\":\"17\",\"statens\":\"01779784\",\"stusps\":\"IL\",\"name\":\"Illinois\",\"Counties\":{\"statefp\":\"17\",\"countyfp\":\"057\",\"geoid\":\"17057\",\"name\":\"Fulton\",\"namelsad\":\"Fulton County\",\"Location\":{\"Latitude\":\"+40.4652401\",\"Longitude\":\"-090.2022689\"}}}},{\"state\":{\"id\":115,\"region\":\"2\",\"division\":\"3\",\"statefp\":\"17\",\"statens\":\"01779784\",\"stusps\":\"IL\",\"name\":\"Illinois\",\"Counties\":{\"statefp\":\"17\",\"countyfp\":\"135\",\"geoid\":\"17135\",\"name\":\"Montgomery\",\"namelsad\":\"Montgomery County\",\"Location\":{\"Latitude\":\"+39.2280681\",\"Longitude\":\"-089.4781407\"}}}},{\"state\":{\"id\":115,\"region\":\"2\",\"division\":\"3\",\"statefp\":\"17\",\"statens\":\"01779784\",\"stusps\":\"IL\",\"name\":\"Illinois\",\"Counties\":{\"statefp\":\"17\",\"countyfp\":\"115\",\"geoid\":\"17115\",\"name\":\"Macon\",\"namelsad\":\"Macon County\",\"Location\":{\"Latitude\":\"+39.8602372\",\"Longitude\":\"-088.9615288\"}}}},{\"state\":{\"id\":115,\"region\":\"2\",\"division\":\"3\",\"statefp\":\"17\",\"statens\":\"01779784\",\"stusps\":\"IL\",\"name\":\"Illinois\",\"Counties\":{\"statefp\":\"17\",\"countyfp\":\"055\",\"geoid\":\"17055\",\"name\":\"Franklin\",\"namelsad\":\"Franklin County\",\"Location\":{\"Latitude\":\"+37.9918516\",\"Longitude\":\"-088.9263215\"}}}},{\"state\":{\"id\":115,\"region\":\"2\",\"division\":\"3\",\"statefp\":\"17\",\"statens\":\"01779784\",\"stusps\":\"IL\",\"name\":\"Illinois\",\"Counties\":{\"statefp\":\"17\",\"countyfp\":\"023\",\"geoid\":\"17023\",\"name\":\"Clark\",\"namelsad\":\"Clark County\",\"Location\":{\"Latitude\":\"+39.3323343\",\"Longitude\":\"-087.7916832\"}}}},{\"state\":{\"id\":115,\"region\":\"2\",\"division\":\"3\",\"statefp\":\"17\",\"statens\":\"01779784\",\"stusps\":\"IL\",\"name\":\"Illinois\",\"Counties\":{\"statefp\":\"17\",\"countyfp\":\"161\",\"geoid\":\"17161\",\"name\":\"Rock Island\",\"namelsad\":\"Rock Island County\",\"Location\":{\"Latitude\":\"+41.4684205\",\"Longitude\":\"-090.5721252\"}}}},{\"state\":{\"id\":115,\"region\":\"2\",\"division\":\"3\",\"statefp\":\"17\",\"statens\":\"01779784\",\"stusps\":\"IL\",\"name\":\"Illinois\",\"Counties\":{\"statefp\":\"17\",\"countyfp\":\"093\",\"geoid\":\"17093\",\"name\":\"Kendall\",\"namelsad\":\"Kendall County\",\"Location\":{\"Latitude\":\"+41.5881403\",\"Longitude\":\"-088.4306257\"}}}},{\"state\":{\"id\":115,\"region\":\"2\",\"division\":\"3\",\"statefp\":\"17\",\"statens\":\"01779784\",\"stusps\":\"IL\",\"name\":\"Illinois\",\"Counties\":{\"statefp\":\"17\",\"countyfp\":\"031\",\"geoid\":\"17031\",\"name\":\"Cook\",\"namelsad\":\"Cook County\",\"Location\":{\"Latitude\":\"+41.8942937\",\"Longitude\":\"-087.6454546\"}}}},{\"state\":{\"id\":115,\"region\":\"2\",\"division\":\"3\",\"statefp\":\"17\",\"statens\":\"01779784\",\"stusps\":\"IL\",\"name\":\"Illinois\",\"Counties\":{\"statefp\":\"17\",\"countyfp\":\"059\",\"geoid\":\"17059\",\"name\":\"Gallatin\",\"namelsad\":\"Gallatin County\",\"Location\":{\"Latitude\":\"+37.7686768\",\"Longitude\":\"-088.2279642\"}}}},{\"state\":{\"id\":115,\"region\":\"2\",\"division\":\"3\",\"statefp\":\"17\",\"statens\":\"01779784\",\"stusps\":\"IL\",\"name\":\"Illinois\",\"Counties\":{\"statefp\":\"17\",\"countyfp\":\"103\",\"geoid\":\"17103\",\"name\":\"Lee\",\"namelsad\":\"Lee County\",\"Location\":{\"Latitude\":\"+41.7474465\",\"Longitude\":\"-089.2993616\"}}}},{\"state\":{\"id\":115,\"region\":\"2\",\"division\":\"3\",\"statefp\":\"17\",\"statens\":\"01779784\",\"stusps\":\"IL\",\"name\":\"Illinois\",\"Counties\":{\"statefp\":\"17\",\"countyfp\":\"037\",\"geoid\":\"17037\",\"name\":\"DeKalb\",\"namelsad\":\"DeKalb County\",\"Location\":{\"Latitude\":\"+41.8946125\",\"Longitude\":\"-088.7689910\"}}}},{\"state\":{\"id\":115,\"region\":\"2\",\"division\":\"3\",\"statefp\":\"17\",\"statens\":\"01779784\",\"stusps\":\"IL\",\"name\":\"Illinois\",\"Counties\":{\"statefp\":\"17\",\"countyfp\":\"175\",\"geoid\":\"17175\",\"name\":\"Stark\",\"namelsad\":\"Stark County\",\"Location\":{\"Latitude\":\"+41.0969077\",\"Longitude\":\"-089.7974111\"}}}},{\"state\":{\"id\":115,\"region\":\"2\",\"division\":\"3\",\"statefp\":\"17\",\"statens\":\"01779784\",\"stusps\":\"IL\",\"name\":\"Illinois\",\"Counties\":{\"statefp\":\"17\",\"countyfp\":\"001\",\"geoid\":\"17001\",\"name\":\"Adams\",\"namelsad\":\"Adams County\",\"Location\":{\"Latitude\":\"+39.9860525\",\"Longitude\":\"-091.1949607\"}}}},{\"state\":{\"id\":115,\"region\":\"2\",\"division\":\"3\",\"statefp\":\"17\",\"statens\":\"01779784\",\"stusps\":\"IL\",\"name\":\"Illinois\",\"Counties\":{\"statefp\":\"17\",\"countyfp\":\"075\",\"geoid\":\"17075\",\"name\":\"Iroquois\",\"namelsad\":\"Iroquois County\",\"Location\":{\"Latitude\":\"+40.7488665\",\"Longitude\":\"-087.8336010\"}}}},{\"state\":{\"id\":115,\"region\":\"2\",\"division\":\"3\",\"statefp\":\"17\",\"statens\":\"01779784\",\"stusps\":\"IL\",\"name\":\"Illinois\",\"Counties\":{\"statefp\":\"17\",\"countyfp\":\"053\",\"geoid\":\"17053\",\"name\":\"Ford\",\"namelsad\":\"Ford County\",\"Location\":{\"Latitude\":\"+40.5965386\",\"Longitude\":\"-088.2245882\"}}}},{\"state\":{\"id\":115,\"region\":\"2\",\"division\":\"3\",\"statefp\":\"17\",\"statens\":\"01779784\",\"stusps\":\"IL\",\"name\":\"Illinois\",\"Counties\":{\"statefp\":\"17\",\"countyfp\":\"041\",\"geoid\":\"17041\",\"name\":\"Douglas\",\"namelsad\":\"Douglas County\",\"Location\":{\"Latitude\":\"+39.7660780\",\"Longitude\":\"-088.2228656\"}}}},{\"state\":{\"id\":115,\"region\":\"2\",\"division\":\"3\",\"statefp\":\"17\",\"statens\":\"01779784\",\"stusps\":\"IL\",\"name\":\"Illinois\",\"Counties\":{\"statefp\":\"17\",\"countyfp\":\"163\",\"geoid\":\"17163\",\"name\":\"St. Clair\",\"namelsad\":\"St. Clair County\",\"Location\":{\"Latitude\":\"+38.4701976\",\"Longitude\":\"-089.9285459\"}}}},{\"state\":{\"id\":115,\"region\":\"2\",\"division\":\"3\",\"statefp\":\"17\",\"statens\":\"01779784\",\"stusps\":\"IL\",\"name\":\"Illinois\",\"Counties\":{\"statefp\":\"17\",\"countyfp\":\"189\",\"geoid\":\"17189\",\"name\":\"Washington\",\"namelsad\":\"Washington County\",\"Location\":{\"Latitude\":\"+38.3531405\",\"Longitude\":\"-089.4171873\"}}}},{\"state\":{\"id\":115,\"region\":\"2\",\"division\":\"3\",\"statefp\":\"17\",\"statens\":\"01779784\",\"stusps\":\"IL\",\"name\":\"Illinois\",\"Counties\":{\"statefp\":\"17\",\"countyfp\":\"171\",\"geoid\":\"17171\",\"name\":\"Scott\",\"namelsad\":\"Scott County\",\"Location\":{\"Latitude\":\"+39.6370016\",\"Longitude\":\"-090.4777707\"}}}},{\"state\":{\"id\":115,\"region\":\"2\",\"division\":\"3\",\"statefp\":\"17\",\"statens\":\"01779784\",\"stusps\":\"IL\",\"name\":\"Illinois\",\"Counties\":{\"statefp\":\"17\",\"countyfp\":\"159\",\"geoid\":\"17159\",\"name\":\"Richland\",\"namelsad\":\"Richland County\",\"Location\":{\"Latitude\":\"+38.7121872\",\"Longitude\":\"-088.0854523\"}}}},{\"state\":{\"id\":115,\"region\":\"2\",\"division\":\"3\",\"statefp\":\"17\",\"statens\":\"01779784\",\"stusps\":\"IL\",\"name\":\"Illinois\",\"Counties\":{\"statefp\":\"17\",\"countyfp\":\"129\",\"geoid\":\"17129\",\"name\":\"Menard\",\"namelsad\":\"Menard County\",\"Location\":{\"Latitude\":\"+40.0225693\",\"Longitude\":\"-089.7941326\"}}}},{\"state\":{\"id\":115,\"region\":\"2\",\"division\":\"3\",\"statefp\":\"17\",\"statens\":\"01779784\",\"stusps\":\"IL\",\"name\":\"Illinois\",\"Counties\":{\"statefp\":\"17\",\"countyfp\":\"065\",\"geoid\":\"17065\",\"name\":\"Hamilton\",\"namelsad\":\"Hamilton County\",\"Location\":{\"Latitude\":\"+38.0852273\",\"Longitude\":\"-088.5390093\"}}}},{\"state\":{\"id\":115,\"region\":\"2\",\"division\":\"3\",\"statefp\":\"17\",\"statens\":\"01779784\",\"stusps\":\"IL\",\"name\":\"Illinois\",\"Counties\":{\"statefp\":\"17\",\"countyfp\":\"193\",\"geoid\":\"17193\",\"name\":\"White\",\"namelsad\":\"White County\",\"Location\":{\"Latitude\":\"+38.0873259\",\"Longitude\":\"-088.1786227\"}}}},{\"state\":{\"id\":115,\"region\":\"2\",\"division\":\"3\",\"statefp\":\"17\",\"statens\":\"01779784\",\"stusps\":\"IL\",\"name\":\"Illinois\",\"Counties\":{\"statefp\":\"17\",\"countyfp\":\"039\",\"geoid\":\"17039\",\"name\":\"De Witt\",\"namelsad\":\"De Witt County\",\"Location\":{\"Latitude\":\"+40.1814993\",\"Longitude\":\"-088.9018526\"}}}},{\"state\":{\"id\":115,\"region\":\"2\",\"division\":\"3\",\"statefp\":\"17\",\"statens\":\"01779784\",\"stusps\":\"IL\",\"name\":\"Illinois\",\"Counties\":{\"statefp\":\"17\",\"countyfp\":\"155\",\"geoid\":\"17155\",\"name\":\"Putnam\",\"namelsad\":\"Putnam County\",\"Location\":{\"Latitude\":\"+41.1989613\",\"Longitude\":\"-089.2983474\"}}}},{\"state\":{\"id\":115,\"region\":\"2\",\"division\":\"3\",\"statefp\":\"17\",\"statens\":\"01779784\",\"stusps\":\"IL\",\"name\":\"Illinois\",\"Counties\":{\"statefp\":\"17\",\"countyfp\":\"169\",\"geoid\":\"17169\",\"name\":\"Schuyler\",\"namelsad\":\"Schuyler County\",\"Location\":{\"Latitude\":\"+40.1569048\",\"Longitude\":\"-090.6134641\"}}}},{\"state\":{\"id\":115,\"region\":\"2\",\"division\":\"3\",\"statefp\":\"17\",\"statens\":\"01779784\",\"stusps\":\"IL\",\"name\":\"Illinois\",\"Counties\":{\"statefp\":\"17\",\"countyfp\":\"177\",\"geoid\":\"17177\",\"name\":\"Stephenson\",\"namelsad\":\"Stephenson County\",\"Location\":{\"Latitude\":\"+42.3497262\",\"Longitude\":\"-089.6659942\"}}}},{\"state\":{\"id\":115,\"region\":\"2\",\"division\":\"3\",\"statefp\":\"17\",\"statens\":\"01779784\",\"stusps\":\"IL\",\"name\":\"Illinois\",\"Counties\":{\"statefp\":\"17\",\"countyfp\":\"181\",\"geoid\":\"17181\",\"name\":\"Union\",\"namelsad\":\"Union County\",\"Location\":{\"Latitude\":\"+37.4856521\",\"Longitude\":\"-089.2446391\"}}}},{\"state\":{\"id\":115,\"region\":\"2\",\"division\":\"3\",\"statefp\":\"17\",\"statens\":\"01779784\",\"stusps\":\"IL\",\"name\":\"Illinois\",\"Counties\":{\"statefp\":\"17\",\"countyfp\":\"091\",\"geoid\":\"17091\",\"name\":\"Kankakee\",\"namelsad\":\"Kankakee County\",\"Location\":{\"Latitude\":\"+41.1395105\",\"Longitude\":\"-087.8611165\"}}}},{\"state\":{\"id\":115,\"region\":\"2\",\"division\":\"3\",\"statefp\":\"17\",\"statens\":\"01779784\",\"stusps\":\"IL\",\"name\":\"Illinois\",\"Counties\":{\"statefp\":\"17\",\"countyfp\":\"027\",\"geoid\":\"17027\",\"name\":\"Clinton\",\"namelsad\":\"Clinton County\",\"Location\":{\"Latitude\":\"+38.6062953\",\"Longitude\":\"-089.4262278\"}}}},{\"state\":{\"id\":115,\"region\":\"2\",\"division\":\"3\",\"statefp\":\"17\",\"statens\":\"01779784\",\"stusps\":\"IL\",\"name\":\"Illinois\",\"Counties\":{\"statefp\":\"17\",\"countyfp\":\"085\",\"geoid\":\"17085\",\"name\":\"Jo Daviess\",\"namelsad\":\"Jo Daviess County\",\"Location\":{\"Latitude\":\"+42.3623905\",\"Longitude\":\"-090.2114705\"}}}},{\"state\":{\"id\":115,\"region\":\"2\",\"division\":\"3\",\"statefp\":\"17\",\"statens\":\"01779784\",\"stusps\":\"IL\",\"name\":\"Illinois\",\"Counties\":{\"statefp\":\"17\",\"countyfp\":\"199\",\"geoid\":\"17199\",\"name\":\"Williamson\",\"namelsad\":\"Williamson County\",\"Location\":{\"Latitude\":\"+37.7303533\",\"Longitude\":\"-088.9300182\"}}}},{\"state\":{\"id\":115,\"region\":\"2\",\"division\":\"3\",\"statefp\":\"17\",\"statens\":\"01779784\",\"stusps\":\"IL\",\"name\":\"Illinois\",\"Counties\":{\"statefp\":\"17\",\"countyfp\":\"125\",\"geoid\":\"17125\",\"name\":\"Mason\",\"namelsad\":\"Mason County\",\"Location\":{\"Latitude\":\"+40.2369926\",\"Longitude\":\"-089.9135746\"}}}},{\"state\":{\"id\":115,\"region\":\"2\",\"division\":\"3\",\"statefp\":\"17\",\"statens\":\"01779784\",\"stusps\":\"IL\",\"name\":\"Illinois\",\"Counties\":{\"statefp\":\"17\",\"countyfp\":\"105\",\"geoid\":\"17105\",\"name\":\"Livingston\",\"namelsad\":\"Livingston County\",\"Location\":{\"Latitude\":\"+40.8943761\",\"Longitude\":\"-088.5528518\"}}}},{\"state\":{\"id\":115,\"region\":\"2\",\"division\":\"3\",\"statefp\":\"17\",\"statens\":\"01779784\",\"stusps\":\"IL\",\"name\":\"Illinois\",\"Counties\":{\"statefp\":\"17\",\"countyfp\":\"191\",\"geoid\":\"17191\",\"name\":\"Wayne\",\"namelsad\":\"Wayne County\",\"Location\":{\"Latitude\":\"+38.4318573\",\"Longitude\":\"-088.4324302\"}}}},{\"state\":{\"id\":115,\"region\":\"2\",\"division\":\"3\",\"statefp\":\"17\",\"statens\":\"01779784\",\"stusps\":\"IL\",\"name\":\"Illinois\",\"Counties\":{\"statefp\":\"17\",\"countyfp\":\"089\",\"geoid\":\"17089\",\"name\":\"Kane\",\"namelsad\":\"Kane County\",\"Location\":{\"Latitude\":\"+41.9395938\",\"Longitude\":\"-088.4280395\"}}}},{\"state\":{\"id\":115,\"region\":\"2\",\"division\":\"3\",\"statefp\":\"17\",\"statens\":\"01779784\",\"stusps\":\"IL\",\"name\":\"Illinois\",\"Counties\":{\"statefp\":\"17\",\"countyfp\":\"069\",\"geoid\":\"17069\",\"name\":\"Hardin\",\"namelsad\":\"Hardin County\",\"Location\":{\"Latitude\":\"+37.5178517\",\"Longitude\":\"-088.2661478\"}}}},{\"state\":{\"id\":115,\"region\":\"2\",\"division\":\"3\",\"statefp\":\"17\",\"statens\":\"01779784\",\"stusps\":\"IL\",\"name\":\"Illinois\",\"Counties\":{\"statefp\":\"17\",\"countyfp\":\"063\",\"geoid\":\"17063\",\"name\":\"Grundy\",\"namelsad\":\"Grundy County\",\"Location\":{\"Latitude\":\"+41.2924096\",\"Longitude\":\"-088.4010545\"}}}},{\"state\":{\"id\":115,\"region\":\"2\",\"division\":\"3\",\"statefp\":\"17\",\"statens\":\"01779784\",\"stusps\":\"IL\",\"name\":\"Illinois\",\"Counties\":{\"statefp\":\"17\",\"countyfp\":\"109\",\"geoid\":\"17109\",\"name\":\"McDonough\",\"namelsad\":\"McDonough County\",\"Location\":{\"Latitude\":\"+40.4558082\",\"Longitude\":\"-090.6789543\"}}}},{\"state\":{\"id\":115,\"region\":\"2\",\"division\":\"3\",\"statefp\":\"17\",\"statens\":\"01779784\",\"stusps\":\"IL\",\"name\":\"Illinois\",\"Counties\":{\"statefp\":\"17\",\"countyfp\":\"127\",\"geoid\":\"17127\",\"name\":\"Massac\",\"namelsad\":\"Massac County\",\"Location\":{\"Latitude\":\"+37.2161190\",\"Longitude\":\"-088.7056578\"}}}},{\"state\":{\"id\":115,\"region\":\"2\",\"division\":\"3\",\"statefp\":\"17\",\"statens\":\"01779784\",\"stusps\":\"IL\",\"name\":\"Illinois\",\"Counties\":{\"statefp\":\"17\",\"countyfp\":\"073\",\"geoid\":\"17073\",\"name\":\"Henry\",\"namelsad\":\"Henry County\",\"Location\":{\"Latitude\":\"+41.3500209\",\"Longitude\":\"-090.1308378\"}}}},{\"state\":{\"id\":115,\"region\":\"2\",\"division\":\"3\",\"statefp\":\"17\",\"statens\":\"01779784\",\"stusps\":\"IL\",\"name\":\"Illinois\",\"Counties\":{\"statefp\":\"17\",\"countyfp\":\"061\",\"geoid\":\"17061\",\"name\":\"Greene\",\"namelsad\":\"Greene County\",\"Location\":{\"Latitude\":\"+39.3554391\",\"Longitude\":\"-090.3876823\"}}}},{\"state\":{\"id\":115,\"region\":\"2\",\"division\":\"3\",\"statefp\":\"17\",\"statens\":\"01779784\",\"stusps\":\"IL\",\"name\":\"Illinois\",\"Counties\":{\"statefp\":\"17\",\"countyfp\":\"157\",\"geoid\":\"17157\",\"name\":\"Randolph\",\"namelsad\":\"Randolph County\",\"Location\":{\"Latitude\":\"+38.0565149\",\"Longitude\":\"-089.8212096\"}}}},{\"state\":{\"id\":115,\"region\":\"2\",\"division\":\"3\",\"statefp\":\"17\",\"statens\":\"01779784\",\"stusps\":\"IL\",\"name\":\"Illinois\",\"Counties\":{\"statefp\":\"17\",\"countyfp\":\"149\",\"geoid\":\"17149\",\"name\":\"Pike\",\"namelsad\":\"Pike County\",\"Location\":{\"Latitude\":\"+39.6251059\",\"Longitude\":\"-090.8890344\"}}}},{\"state\":{\"id\":115,\"region\":\"2\",\"division\":\"3\",\"statefp\":\"17\",\"statens\":\"01779784\",\"stusps\":\"IL\",\"name\":\"Illinois\",\"Counties\":{\"statefp\":\"17\",\"countyfp\":\"203\",\"geoid\":\"17203\",\"name\":\"Woodford\",\"namelsad\":\"Woodford County\",\"Location\":{\"Latitude\":\"+40.7897870\",\"Longitude\":\"-089.2105871\"}}}},{\"state\":{\"id\":115,\"region\":\"2\",\"division\":\"3\",\"statefp\":\"17\",\"statens\":\"01779784\",\"stusps\":\"IL\",\"name\":\"Illinois\",\"Counties\":{\"statefp\":\"17\",\"countyfp\":\"145\",\"geoid\":\"17145\",\"name\":\"Perry\",\"namelsad\":\"Perry County\",\"Location\":{\"Latitude\":\"+38.0843809\",\"Longitude\":\"-089.3685249\"}}}},{\"state\":{\"id\":115,\"region\":\"2\",\"division\":\"3\",\"statefp\":\"17\",\"statens\":\"01779784\",\"stusps\":\"IL\",\"name\":\"Illinois\",\"Counties\":{\"statefp\":\"17\",\"countyfp\":\"087\",\"geoid\":\"17087\",\"name\":\"Johnson\",\"namelsad\":\"Johnson County\",\"Location\":{\"Latitude\":\"+37.4607092\",\"Longitude\":\"-088.8821305\"}}}},{\"state\":{\"id\":115,\"region\":\"2\",\"division\":\"3\",\"statefp\":\"17\",\"statens\":\"01779784\",\"stusps\":\"IL\",\"name\":\"Illinois\",\"Counties\":{\"statefp\":\"17\",\"countyfp\":\"173\",\"geoid\":\"17173\",\"name\":\"Shelby\",\"namelsad\":\"Shelby County\",\"Location\":{\"Latitude\":\"+39.3849258\",\"Longitude\":\"-088.7988615\"}}}},{\"state\":{\"id\":115,\"region\":\"2\",\"division\":\"3\",\"statefp\":\"17\",\"statens\":\"01779784\",\"stusps\":\"IL\",\"name\":\"Illinois\",\"Counties\":{\"statefp\":\"17\",\"countyfp\":\"051\",\"geoid\":\"17051\",\"name\":\"Fayette\",\"namelsad\":\"Fayette County\",\"Location\":{\"Latitude\":\"+39.0011246\",\"Longitude\":\"-089.0179232\"}}}},{\"state\":{\"id\":115,\"region\":\"2\",\"division\":\"3\",\"statefp\":\"17\",\"statens\":\"01779784\",\"stusps\":\"IL\",\"name\":\"Illinois\",\"Counties\":{\"statefp\":\"17\",\"countyfp\":\"201\",\"geoid\":\"17201\",\"name\":\"Winnebago\",\"namelsad\":\"Winnebago County\",\"Location\":{\"Latitude\":\"+42.3373957\",\"Longitude\":\"-089.1612053\"}}}},{\"state\":{\"id\":115,\"region\":\"2\",\"division\":\"3\",\"statefp\":\"17\",\"statens\":\"01779784\",\"stusps\":\"IL\",\"name\":\"Illinois\",\"Counties\":{\"statefp\":\"17\",\"countyfp\":\"141\",\"geoid\":\"17141\",\"name\":\"Ogle\",\"namelsad\":\"Ogle County\",\"Location\":{\"Latitude\":\"+42.0418840\",\"Longitude\":\"-089.3201764\"}}}},{\"state\":{\"id\":115,\"region\":\"2\",\"division\":\"3\",\"statefp\":\"17\",\"statens\":\"01779784\",\"stusps\":\"IL\",\"name\":\"Illinois\",\"Counties\":{\"statefp\":\"17\",\"countyfp\":\"139\",\"geoid\":\"17139\",\"name\":\"Moultrie\",\"namelsad\":\"Moultrie County\",\"Location\":{\"Latitude\":\"+39.6368956\",\"Longitude\":\"-088.6257259\"}}}},{\"state\":{\"id\":115,\"region\":\"2\",\"division\":\"3\",\"statefp\":\"17\",\"statens\":\"01779784\",\"stusps\":\"IL\",\"name\":\"Illinois\",\"Counties\":{\"statefp\":\"17\",\"countyfp\":\"017\",\"geoid\":\"17017\",\"name\":\"Cass\",\"namelsad\":\"Cass County\",\"Location\":{\"Latitude\":\"+39.9692024\",\"Longitude\":\"-090.2457045\"}}}},{\"state\":{\"id\":115,\"region\":\"2\",\"division\":\"3\",\"statefp\":\"17\",\"statens\":\"01779784\",\"stusps\":\"IL\",\"name\":\"Illinois\",\"Counties\":{\"statefp\":\"17\",\"countyfp\":\"167\",\"geoid\":\"17167\",\"name\":\"Sangamon\",\"namelsad\":\"Sangamon County\",\"Location\":{\"Latitude\":\"+39.7568675\",\"Longitude\":\"-089.6624251\"}}}},{\"state\":{\"id\":115,\"region\":\"2\",\"division\":\"3\",\"statefp\":\"17\",\"statens\":\"01779784\",\"stusps\":\"IL\",\"name\":\"Illinois\",\"Counties\":{\"statefp\":\"17\",\"countyfp\":\"179\",\"geoid\":\"17179\",\"name\":\"Tazewell\",\"namelsad\":\"Tazewell County\",\"Location\":{\"Latitude\":\"+40.5080743\",\"Longitude\":\"-089.5162598\"}}}},{\"state\":{\"id\":115,\"region\":\"2\",\"division\":\"3\",\"statefp\":\"17\",\"statens\":\"01779784\",\"stusps\":\"IL\",\"name\":\"Illinois\",\"Counties\":{\"statefp\":\"17\",\"countyfp\":\"099\",\"geoid\":\"17099\",\"name\":\"LaSalle\",\"namelsad\":\"LaSalle County\",\"Location\":{\"Latitude\":\"+41.3433407\",\"Longitude\":\"-088.8859312\"}}}},{\"state\":{\"id\":115,\"region\":\"2\",\"division\":\"3\",\"statefp\":\"17\",\"statens\":\"01779784\",\"stusps\":\"IL\",\"name\":\"Illinois\",\"Counties\":{\"statefp\":\"17\",\"countyfp\":\"183\",\"geoid\":\"17183\",\"name\":\"Vermilion\",\"namelsad\":\"Vermilion County\",\"Location\":{\"Latitude\":\"+40.1867542\",\"Longitude\":\"-087.7267779\"}}}},{\"state\":{\"id\":115,\"region\":\"2\",\"division\":\"3\",\"statefp\":\"17\",\"statens\":\"01779784\",\"stusps\":\"IL\",\"name\":\"Illinois\",\"Counties\":{\"statefp\":\"17\",\"countyfp\":\"007\",\"geoid\":\"17007\",\"name\":\"Boone\",\"namelsad\":\"Boone County\",\"Location\":{\"Latitude\":\"+42.3189831\",\"Longitude\":\"-088.8242951\"}}}},{\"state\":{\"id\":115,\"region\":\"2\",\"division\":\"3\",\"statefp\":\"17\",\"statens\":\"01779784\",\"stusps\":\"IL\",\"name\":\"Illinois\",\"Counties\":{\"statefp\":\"17\",\"countyfp\":\"137\",\"geoid\":\"17137\",\"name\":\"Morgan\",\"namelsad\":\"Morgan County\",\"Location\":{\"Latitude\":\"+39.7176678\",\"Longitude\":\"-090.2050054\"}}}},{\"state\":{\"id\":115,\"region\":\"2\",\"division\":\"3\",\"statefp\":\"17\",\"statens\":\"01779784\",\"stusps\":\"IL\",\"name\":\"Illinois\",\"Counties\":{\"statefp\":\"17\",\"countyfp\":\"123\",\"geoid\":\"17123\",\"name\":\"Marshall\",\"namelsad\":\"Marshall County\",\"Location\":{\"Latitude\":\"+41.0311192\",\"Longitude\":\"-089.3423714\"}}}},{\"state\":{\"id\":115,\"region\":\"2\",\"division\":\"3\",\"statefp\":\"17\",\"statens\":\"01779784\",\"stusps\":\"IL\",\"name\":\"Illinois\",\"Counties\":{\"statefp\":\"17\",\"countyfp\":\"079\",\"geoid\":\"17079\",\"name\":\"Jasper\",\"namelsad\":\"Jasper County\",\"Location\":{\"Latitude\":\"+39.0048737\",\"Longitude\":\"-088.1507629\"}}}},{\"state\":{\"id\":115,\"region\":\"2\",\"division\":\"3\",\"statefp\":\"17\",\"statens\":\"01779784\",\"stusps\":\"IL\",\"name\":\"Illinois\",\"Counties\":{\"statefp\":\"17\",\"countyfp\":\"013\",\"geoid\":\"17013\",\"name\":\"Calhoun\",\"namelsad\":\"Calhoun County\",\"Location\":{\"Latitude\":\"+39.1642619\",\"Longitude\":\"-090.6662949\"}}}},{\"state\":{\"id\":115,\"region\":\"2\",\"division\":\"3\",\"statefp\":\"17\",\"statens\":\"01779784\",\"stusps\":\"IL\",\"name\":\"Illinois\",\"Counties\":{\"statefp\":\"17\",\"countyfp\":\"121\",\"geoid\":\"17121\",\"name\":\"Marion\",\"namelsad\":\"Marion County\",\"Location\":{\"Latitude\":\"+38.6482361\",\"Longitude\":\"-088.9203624\"}}}},{\"state\":{\"id\":115,\"region\":\"2\",\"division\":\"3\",\"statefp\":\"17\",\"statens\":\"01779784\",\"stusps\":\"IL\",\"name\":\"Illinois\",\"Counties\":{\"statefp\":\"17\",\"countyfp\":\"187\",\"geoid\":\"17187\",\"name\":\"Warren\",\"namelsad\":\"Warren County\",\"Location\":{\"Latitude\":\"+40.8504412\",\"Longitude\":\"-090.6202228\"}}}},{\"state\":{\"id\":115,\"region\":\"2\",\"division\":\"3\",\"statefp\":\"17\",\"statens\":\"01779784\",\"stusps\":\"IL\",\"name\":\"Illinois\",\"Counties\":{\"statefp\":\"17\",\"countyfp\":\"197\",\"geoid\":\"17197\",\"name\":\"Will\",\"namelsad\":\"Will County\",\"Location\":{\"Latitude\":\"+41.4484742\",\"Longitude\":\"-087.9784564\"}}}},{\"state\":{\"id\":115,\"region\":\"2\",\"division\":\"3\",\"statefp\":\"17\",\"statens\":\"01779784\",\"stusps\":\"IL\",\"name\":\"Illinois\",\"Counties\":{\"statefp\":\"17\",\"countyfp\":\"153\",\"geoid\":\"17153\",\"name\":\"Pulaski\",\"namelsad\":\"Pulaski County\",\"Location\":{\"Latitude\":\"+37.2156152\",\"Longitude\":\"-089.1277549\"}}}},{\"state\":{\"id\":115,\"region\":\"2\",\"division\":\"3\",\"statefp\":\"17\",\"statens\":\"01779784\",\"stusps\":\"IL\",\"name\":\"Illinois\",\"Counties\":{\"statefp\":\"17\",\"countyfp\":\"119\",\"geoid\":\"17119\",\"name\":\"Madison\",\"namelsad\":\"Madison County\",\"Location\":{\"Latitude\":\"+38.8271195\",\"Longitude\":\"-089.9002267\"}}}},{\"state\":{\"id\":115,\"region\":\"2\",\"division\":\"3\",\"statefp\":\"17\",\"statens\":\"01779784\",\"stusps\":\"IL\",\"name\":\"Illinois\",\"Counties\":{\"statefp\":\"17\",\"countyfp\":\"133\",\"geoid\":\"17133\",\"name\":\"Monroe\",\"namelsad\":\"Monroe County\",\"Location\":{\"Latitude\":\"+38.2779831\",\"Longitude\":\"-090.1790777\"}}}},{\"state\":{\"id\":115,\"region\":\"2\",\"division\":\"3\",\"statefp\":\"17\",\"statens\":\"01779784\",\"stusps\":\"IL\",\"name\":\"Illinois\",\"Counties\":{\"statefp\":\"17\",\"countyfp\":\"003\",\"geoid\":\"17003\",\"name\":\"Alexander\",\"namelsad\":\"Alexander County\",\"Location\":{\"Latitude\":\"+37.1836583\",\"Longitude\":\"-089.3495158\"}}}},{\"state\":{\"id\":115,\"region\":\"2\",\"division\":\"3\",\"statefp\":\"17\",\"statens\":\"01779784\",\"stusps\":\"IL\",\"name\":\"Illinois\",\"Counties\":{\"statefp\":\"17\",\"countyfp\":\"043\",\"geoid\":\"17043\",\"name\":\"DuPage\",\"namelsad\":\"DuPage County\",\"Location\":{\"Latitude\":\"+41.8520577\",\"Longitude\":\"-088.0860389\"}}}},{\"state\":{\"id\":115,\"region\":\"2\",\"division\":\"3\",\"statefp\":\"17\",\"statens\":\"01779784\",\"stusps\":\"IL\",\"name\":\"Illinois\",\"Counties\":{\"statefp\":\"17\",\"countyfp\":\"165\",\"geoid\":\"17165\",\"name\":\"Saline\",\"namelsad\":\"Saline County\",\"Location\":{\"Latitude\":\"+37.7515083\",\"Longitude\":\"-088.5450236\"}}}},{\"state\":{\"id\":115,\"region\":\"2\",\"division\":\"3\",\"statefp\":\"17\",\"statens\":\"01779784\",\"stusps\":\"IL\",\"name\":\"Illinois\",\"Counties\":{\"statefp\":\"17\",\"countyfp\":\"097\",\"geoid\":\"17097\",\"name\":\"Lake\",\"namelsad\":\"Lake County\",\"Location\":{\"Latitude\":\"+42.3264410\",\"Longitude\":\"-087.4359760\"}}}},{\"state\":{\"id\":115,\"region\":\"2\",\"division\":\"3\",\"statefp\":\"17\",\"statens\":\"01779784\",\"stusps\":\"IL\",\"name\":\"Illinois\",\"Counties\":{\"statefp\":\"17\",\"countyfp\":\"117\",\"geoid\":\"17117\",\"name\":\"Macoupin\",\"namelsad\":\"Macoupin County\",\"Location\":{\"Latitude\":\"+39.2659138\",\"Longitude\":\"-089.9263301\"}}}},{\"state\":{\"id\":115,\"region\":\"2\",\"division\":\"3\",\"statefp\":\"17\",\"statens\":\"01779784\",\"stusps\":\"IL\",\"name\":\"Illinois\",\"Counties\":{\"statefp\":\"17\",\"countyfp\":\"195\",\"geoid\":\"17195\",\"name\":\"Whiteside\",\"namelsad\":\"Whiteside County\",\"Location\":{\"Latitude\":\"+41.7506733\",\"Longitude\":\"-089.9110045\"}}}},{\"state\":{\"id\":115,\"region\":\"2\",\"division\":\"3\",\"statefp\":\"17\",\"statens\":\"01779784\",\"stusps\":\"IL\",\"name\":\"Illinois\",\"Counties\":{\"statefp\":\"17\",\"countyfp\":\"107\",\"geoid\":\"17107\",\"name\":\"Logan\",\"namelsad\":\"Logan County\",\"Location\":{\"Latitude\":\"+40.1292768\",\"Longitude\":\"-089.3653086\"}}}},{\"state\":{\"id\":115,\"region\":\"2\",\"division\":\"3\",\"statefp\":\"17\",\"statens\":\"01779784\",\"stusps\":\"IL\",\"name\":\"Illinois\",\"Counties\":{\"statefp\":\"17\",\"countyfp\":\"081\",\"geoid\":\"17081\",\"name\":\"Jefferson\",\"namelsad\":\"Jefferson County\",\"Location\":{\"Latitude\":\"+38.3007796\",\"Longitude\":\"-088.9242100\"}}}},{\"state\":{\"id\":115,\"region\":\"2\",\"division\":\"3\",\"statefp\":\"17\",\"statens\":\"01779784\",\"stusps\":\"IL\",\"name\":\"Illinois\",\"Counties\":{\"statefp\":\"17\",\"countyfp\":\"101\",\"geoid\":\"17101\",\"name\":\"Lawrence\",\"namelsad\":\"Lawrence County\",\"Location\":{\"Latitude\":\"+38.7189542\",\"Longitude\":\"-087.7302207\"}}}},{\"state\":{\"id\":115,\"region\":\"2\",\"division\":\"3\",\"statefp\":\"17\",\"statens\":\"01779784\",\"stusps\":\"IL\",\"name\":\"Illinois\",\"Counties\":{\"statefp\":\"17\",\"countyfp\":\"143\",\"geoid\":\"17143\",\"name\":\"Peoria\",\"namelsad\":\"Peoria County\",\"Location\":{\"Latitude\":\"+40.7859722\",\"Longitude\":\"-089.7669933\"}}}},{\"state\":{\"id\":115,\"region\":\"2\",\"division\":\"3\",\"statefp\":\"17\",\"statens\":\"01779784\",\"stusps\":\"IL\",\"name\":\"Illinois\",\"Counties\":{\"statefp\":\"17\",\"countyfp\":\"019\",\"geoid\":\"17019\",\"name\":\"Champaign\",\"namelsad\":\"Champaign County\",\"Location\":{\"Latitude\":\"+40.1389845\",\"Longitude\":\"-088.1969749\"}}}},{\"state\":{\"id\":115,\"region\":\"2\",\"division\":\"3\",\"statefp\":\"17\",\"statens\":\"01779784\",\"stusps\":\"IL\",\"name\":\"Illinois\",\"Counties\":{\"statefp\":\"17\",\"countyfp\":\"045\",\"geoid\":\"17045\",\"name\":\"Edgar\",\"namelsad\":\"Edgar County\",\"Location\":{\"Latitude\":\"+39.6790370\",\"Longitude\":\"-087.7471102\"}}}},{\"state\":{\"id\":115,\"region\":\"2\",\"division\":\"3\",\"statefp\":\"17\",\"statens\":\"01779784\",\"stusps\":\"IL\",\"name\":\"Illinois\",\"Counties\":{\"statefp\":\"17\",\"countyfp\":\"021\",\"geoid\":\"17021\",\"name\":\"Christian\",\"namelsad\":\"Christian County\",\"Location\":{\"Latitude\":\"+39.5455242\",\"Longitude\":\"-089.2795927\"}}}},{\"state\":{\"id\":115,\"region\":\"2\",\"division\":\"3\",\"statefp\":\"17\",\"statens\":\"01779784\",\"stusps\":\"IL\",\"name\":\"Illinois\",\"Counties\":{\"statefp\":\"17\",\"countyfp\":\"095\",\"geoid\":\"17095\",\"name\":\"Knox\",\"namelsad\":\"Knox County\",\"Location\":{\"Latitude\":\"+40.9309446\",\"Longitude\":\"-090.2137921\"}}}},{\"state\":{\"id\":115,\"region\":\"2\",\"division\":\"3\",\"statefp\":\"17\",\"statens\":\"01779784\",\"stusps\":\"IL\",\"name\":\"Illinois\",\"Counties\":{\"statefp\":\"17\",\"countyfp\":\"111\",\"geoid\":\"17111\",\"name\":\"McHenry\",\"namelsad\":\"McHenry County\",\"Location\":{\"Latitude\":\"+42.3242982\",\"Longitude\":\"-088.4522450\"}}}},{\"state\":{\"id\":115,\"region\":\"2\",\"division\":\"3\",\"statefp\":\"17\",\"statens\":\"01779784\",\"stusps\":\"IL\",\"name\":\"Illinois\",\"Counties\":{\"statefp\":\"17\",\"countyfp\":\"015\",\"geoid\":\"17015\",\"name\":\"Carroll\",\"namelsad\":\"Carroll County\",\"Location\":{\"Latitude\":\"+42.0709000\",\"Longitude\":\"-089.9241894\"}}}},{\"state\":{\"id\":115,\"region\":\"2\",\"division\":\"3\",\"statefp\":\"17\",\"statens\":\"01779784\",\"stusps\":\"IL\",\"name\":\"Illinois\",\"Counties\":{\"statefp\":\"17\",\"countyfp\":\"047\",\"geoid\":\"17047\",\"name\":\"Edwards\",\"namelsad\":\"Edwards County\",\"Location\":{\"Latitude\":\"+38.4170954\",\"Longitude\":\"-088.0479408\"}}}},{\"state\":{\"id\":115,\"region\":\"2\",\"division\":\"3\",\"statefp\":\"17\",\"statens\":\"01779784\",\"stusps\":\"IL\",\"name\":\"Illinois\",\"Counties\":{\"statefp\":\"17\",\"countyfp\":\"071\",\"geoid\":\"17071\",\"name\":\"Henderson\",\"namelsad\":\"Henderson County\",\"Location\":{\"Latitude\":\"+40.8144710\",\"Longitude\":\"-090.9412464\"}}}},{\"state\":{\"id\":115,\"region\":\"2\",\"division\":\"3\",\"statefp\":\"17\",\"statens\":\"01779784\",\"stusps\":\"IL\",\"name\":\"Illinois\",\"Counties\":{\"statefp\":\"17\",\"countyfp\":\"077\",\"geoid\":\"17077\",\"name\":\"Jackson\",\"namelsad\":\"Jackson County\",\"Location\":{\"Latitude\":\"+37.7860959\",\"Longitude\":\"-089.3812119\"}}}},{\"state\":{\"id\":15,\"region\":\"1\",\"division\":\"2\",\"statefp\":\"34\",\"statens\":\"01779795\",\"stusps\":\"NJ\",\"name\":\"New Jersey\"}},{\"state\":{\"id\":81,\"region\":\"2\",\"division\":\"3\",\"statefp\":\"39\",\"statens\":\"01085497\",\"stusps\":\"OH\",\"name\":\"Ohio\"}},{\"state\":{\"id\":91,\"region\":\"9\",\"division\":\"0\",\"statefp\":\"78\",\"statens\":\"01802710\",\"stusps\":\"VI\",\"name\":\"United States Virgin Islands\"}},{\"state\":{\"id\":92,\"region\":\"9\",\"division\":\"0\",\"statefp\":\"69\",\"statens\":\"01779809\",\"stusps\":\"MP\",\"name\":\"Commonwealth of the Northern Mariana Islands\"}},{\"state\":{\"id\":88,\"region\":\"4\",\"division\":\"9\",\"statefp\":\"15\",\"statens\":\"01779782\",\"stusps\":\"HI\",\"name\":\"Hawaii\"}},{\"state\":{\"id\":28,\"region\":\"3\",\"division\":\"5\",\"statefp\":\"45\",\"statens\":\"01779799\",\"stusps\":\"SC\",\"name\":\"South Carolina\"}},{\"state\":{\"id\":53,\"region\":\"3\",\"division\":\"5\",\"statefp\":\"51\",\"statens\":\"01779803\",\"stusps\":\"VA\",\"name\":\"Virginia\"}},{\"state\":{\"id\":100,\"region\":\"3\",\"division\":\"7\",\"statefp\":\"05\",\"statens\":\"00068085\",\"stusps\":\"AR\",\"name\":\"Arkansas\"}},{\"state\":{\"id\":155,\"region\":\"2\",\"division\":\"3\",\"statefp\":\"26\",\"statens\":\"01779789\",\"stusps\":\"MI\",\"name\":\"Michigan\"}},{\"state\":{\"id\":11,\"region\":\"1\",\"division\":\"1\",\"statefp\":\"09\",\"statens\":\"01779780\",\"stusps\":\"CT\",\"name\":\"Connecticut\"}},{\"state\":{\"id\":31,\"region\":\"4\",\"division\":\"8\",\"statefp\":\"56\",\"statens\":\"01779807\",\"stusps\":\"WY\",\"name\":\"Wyoming\"}},{\"state\":{\"id\":146,\"region\":\"3\",\"division\":\"6\",\"statefp\":\"21\",\"statens\":\"01779786\",\"stusps\":\"KY\",\"name\":\"Kentucky\"}},{\"state\":{\"id\":94,\"region\":\"1\",\"division\":\"1\",\"statefp\":\"23\",\"statens\":\"01779787\",\"stusps\":\"ME\",\"name\":\"Maine\"}},{\"state\":{\"id\":54,\"region\":\"3\",\"division\":\"5\",\"statefp\":\"11\",\"statens\":\"01702382\",\"stusps\":\"DC\",\"name\":\"District of Columbia\"}},{\"state\":{\"id\":107,\"region\":\"2\",\"division\":\"4\",\"statefp\":\"46\",\"statens\":\"01785534\",\"stusps\":\"SD\",\"name\":\"South Dakota\"}},{\"state\":{\"id\":162,\"region\":\"9\",\"division\":\"0\",\"statefp\":\"72\",\"statens\":\"01779808\",\"stusps\":\"PR\",\"name\":\"Puerto Rico\"}},{\"state\":{\"id\":73,\"region\":\"No\",\"division\":\"9\",\"statefp\":\"41\",\"statens\":\"01155107\",\"stusps\":\"OR\",\"name\":\"Oregon\"}},{\"state\":{\"id\":125,\"region\":\"4\",\"division\":\"8\",\"statefp\":\"35\",\"statens\":\"00897535\",\"stusps\":\"NM\",\"name\":\"New Mexico\"}},{\"state\":{\"id\":24,\"region\":\"4\",\"division\":\"8\",\"statefp\":\"49\",\"statens\":\"01455989\",\"stusps\":\"UT\",\"name\":\"Utah\"}},{\"state\":{\"id\":7,\"region\":\"4\",\"division\":\"8\",\"statefp\":\"16\",\"statens\":\"01779783\",\"stusps\":\"ID\",\"name\":\"Idaho\"}},{\"state\":{\"id\":132,\"region\":\"No\",\"division\":\"9\",\"statefp\":\"53\",\"statens\":\"01779804\",\"stusps\":\"WA\",\"name\":\"Washington\"}},{\"state\":{\"id\":70,\"region\":\"4\",\"division\":\"9\",\"statefp\":\"06\",\"statens\":\"01779778\",\"stusps\":\"CA\",\"name\":\"California\"}},{\"state\":{\"id\":139,\"region\":\"4\",\"division\":\"8\",\"statefp\":\"08\",\"statens\":\"01779779\",\"stusps\":\"CO\",\"name\":\"Colorado\"}},{\"state\":{\"id\":23,\"region\":\"3\",\"division\":\"6\",\"statefp\":\"01\",\"statens\":\"01779775\",\"stusps\":\"AL\",\"name\":\"Alabama\"}},{\"state\":{\"id\":21,\"region\":\"3\",\"division\":\"7\",\"statefp\":\"22\",\"statens\":\"01629543\",\"stusps\":\"LA\",\"name\":\"Louisiana\"}},{\"state\":{\"id\":74,\"region\":\"2\",\"division\":\"4\",\"statefp\":\"31\",\"statens\":\"01779792\",\"stusps\":\"NE\",\"name\":\"Nebraska\"}},{\"state\":{\"id\":1,\"region\":\"3\",\"division\":\"5\",\"statefp\":\"54\",\"statens\":\"01779805\",\"stusps\":\"WV\",\"name\":\"West Virginia\"}},{\"state\":{\"id\":124,\"region\":\"3\",\"division\":\"5\",\"statefp\":\"10\",\"statens\":\"01779781\",\"stusps\":\"DE\",\"name\":\"Delaware\"}},{\"state\":{\"id\":29,\"region\":\"3\",\"division\":\"7\",\"statefp\":\"40\",\"statens\":\"01102857\",\"stusps\":\"OK\",\"name\":\"Oklahoma\"}},{\"state\":{\"id\":116,\"region\":\"2\",\"division\":\"4\",\"statefp\":\"27\",\"statens\":\"00662849\",\"stusps\":\"MN\",\"name\":\"Minnesota\"}},{\"state\":{\"id\":22,\"region\":\"3\",\"division\":\"5\",\"statefp\":\"13\",\"statens\":\"01705317\",\"stusps\":\"GA\",\"name\":\"Georgia\"}},{\"state\":{\"id\":30,\"region\":\"3\",\"division\":\"6\",\"statefp\":\"47\",\"statens\":\"01325873\",\"stusps\":\"TN\",\"name\":\"Tennessee\"}},{\"state\":{\"id\":33,\"region\":\"2\",\"division\":\"4\",\"statefp\":\"38\",\"statens\":\"01779797\",\"stusps\":\"ND\",\"name\":\"North Dakota\"}},{\"state\":{\"id\":61,\"region\":\"3\",\"division\":\"5\",\"statefp\":\"24\",\"statens\":\"01714934\",\"stusps\":\"MD\",\"name\":\"Maryland\"}},{\"state\":{\"id\":158,\"region\":\"2\",\"division\":\"4\",\"statefp\":\"29\",\"statens\":\"01779791\",\"stusps\":\"MO\",\"name\":\"Missouri\"}},{\"state\":{\"id\":167,\"region\":\"2\",\"division\":\"4\",\"statefp\":\"19\",\"statens\":\"01779785\",\"stusps\":\"IA\",\"name\":\"Iowa\"}},{\"state\":{\"id\":48,\"region\":\"2\",\"division\":\"4\",\"statefp\":\"20\",\"statens\":\"00481813\",\"stusps\":\"KS\",\"name\":\"Kansas\"}},{\"state\":{\"id\":114,\"region\":\"3\",\"division\":\"5\",\"statefp\":\"12\",\"statens\":\"00294478\",\"stusps\":\"FL\",\"name\":\"Florida\"}},{\"state\":{\"id\":118,\"region\":\"1\",\"division\":\"1\",\"statefp\":\"44\",\"statens\":\"01219835\",\"stusps\":\"RI\",\"name\":\"Rhode Island\"}},{\"state\":{\"id\":122,\"region\":\"1\",\"division\":\"1\",\"statefp\":\"50\",\"statens\":\"01779802\",\"stusps\":\"VT\",\"name\":\"Vermont\"}},{\"state\":{\"id\":19,\"region\":\"1\",\"division\":\"2\",\"statefp\":\"42\",\"statens\":\"01779798\",\"stusps\":\"PA\",\"name\":\"Pennsylvania\"}},{\"state\":{\"id\":47,\"region\":\"4\",\"division\":\"8\",\"statefp\":\"30\",\"statens\":\"00767982\",\"stusps\":\"MT\",\"name\":\"Montana\"}},{\"state\":{\"id\":98,\"region\":\"9\",\"division\":\"0\",\"statefp\":\"60\",\"statens\":\"01802701\",\"stusps\":\"AS\",\"name\":\"American Samoa\"}},{\"state\":{\"id\":121,\"region\":\"3\",\"division\":\"5\",\"statefp\":\"37\",\"statens\":\"01027616\",\"stusps\":\"NC\",\"name\":\"North Carolina\"}},{\"state\":{\"id\":149,\"region\":\"9\",\"division\":\"0\",\"statefp\":\"66\",\"statens\":\"01802705\",\"stusps\":\"GU\",\"name\":\"Guam\"}},{\"state\":{\"id\":120,\"region\":\"1\",\"division\":\"1\",\"statefp\":\"33\",\"statens\":\"01779794\",\"stusps\":\"NH\",\"name\":\"New Hampshire\"}},{\"state\":{\"id\":108,\"region\":\"1\",\"division\":\"1\",\"statefp\":\"25\",\"statens\":\"00606926\",\"stusps\":\"MA\",\"name\":\"Massachusetts\"}},{\"state\":{\"id\":128,\"region\":\"2\",\"division\":\"3\",\"statefp\":\"55\",\"statens\":\"01779806\",\"stusps\":\"WI\",\"name\":\"Wisconsin\"}},{\"state\":{\"id\":45,\"region\":\"3\",\"division\":\"6\",\"statefp\":\"28\",\"statens\":\"01779790\",\"stusps\":\"MS\",\"name\":\"Mississippi\"}},{\"state\":{\"id\":168,\"region\":\"4\",\"division\":\"8\",\"statefp\":\"04\",\"statens\":\"01779777\",\"stusps\":\"AZ\",\"name\":\"Arizona\"}},{\"state\":{\"id\":97,\"region\":\"4\",\"division\":\"9\",\"statefp\":\"02\",\"statens\":\"01785533\",\"stusps\":\"AK\",\"name\":\"Alaska\"}},{\"state\":{\"id\":82,\"region\":\"3\",\"division\":\"7\",\"statefp\":\"48\",\"statens\":\"01779801\",\"stusps\":\"TX\",\"name\":\"Texas\"}},{\"state\":{\"id\":40,\"region\":\"4\",\"division\":\"8\",\"statefp\":\"32\",\"statens\":\"01779793\",\"stusps\":\"NV\",\"name\":\"Nevada\"}},{\"state\":{\"id\":39,\"region\":\"1\",\"division\":\"2\",\"statefp\":\"36\",\"statens\":\"01779796\",\"stusps\":\"NY\",\"name\":\"New York\"}},{\"state\":{\"id\":49,\"region\":\"2\",\"division\":\"3\",\"statefp\":\"18\",\"statens\":\"00448508\",\"stusps\":\"IN\",\"name\":\"Indiana\"}}]}"
                                }
                            ]
                        },
                        "text/html": "<table><tr><th>JSON_F52E2B61-18A1-11d1-B105-00805F49916B</th></tr><tr><td>{&quot;state_counties&quot;:[{&quot;state&quot;:{&quot;id&quot;:115,&quot;region&quot;:&quot;2&quot;,&quot;division&quot;:&quot;3&quot;,&quot;statefp&quot;:&quot;17&quot;,&quot;statens&quot;:&quot;01779784&quot;,&quot;stusps&quot;:&quot;IL&quot;,&quot;name&quot;:&quot;Illinois&quot;,&quot;Counties&quot;:{&quot;statefp&quot;:&quot;17&quot;,&quot;countyfp&quot;:&quot;067&quot;,&quot;geoid&quot;:&quot;17067&quot;,&quot;name&quot;:&quot;Hancock&quot;,&quot;namelsad&quot;:&quot;Hancock County&quot;,&quot;Location&quot;:{&quot;Latitude&quot;:&quot;+40.4013180&quot;,&quot;Longitude&quot;:&quot;-091.1688008&quot;}}}},{&quot;state&quot;:{&quot;id&quot;:115,&quot;region&quot;:&quot;2&quot;,&quot;division&quot;:&quot;3&quot;,&quot;statefp&quot;:&quot;17&quot;,&quot;statens&quot;:&quot;01779784&quot;,&quot;stusps&quot;:&quot;IL&quot;,&quot;name&quot;:&quot;Illinois&quot;,&quot;Counties&quot;:{&quot;statefp&quot;:&quot;17&quot;,&quot;countyfp&quot;:&quot;025&quot;,&quot;geoid&quot;:&quot;17025&quot;,&quot;name&quot;:&quot;Clay&quot;,&quot;namelsad&quot;:&quot;Clay County&quot;,&quot;Location&quot;:{&quot;Latitude&quot;:&quot;+38.7468187&quot;,&quot;Longitude&quot;:&quot;-088.4823254&quot;}}}},{&quot;state&quot;:{&quot;id&quot;:115,&quot;region&quot;:&quot;2&quot;,&quot;division&quot;:&quot;3&quot;,&quot;statefp&quot;:&quot;17&quot;,&quot;statens&quot;:&quot;01779784&quot;,&quot;stusps&quot;:&quot;IL&quot;,&quot;name&quot;:&quot;Illinois&quot;,&quot;Counties&quot;:{&quot;statefp&quot;:&quot;17&quot;,&quot;countyfp&quot;:&quot;185&quot;,&quot;geoid&quot;:&quot;17185&quot;,&quot;name&quot;:&quot;Wabash&quot;,&quot;namelsad&quot;:&quot;Wabash County&quot;,&quot;Location&quot;:{&quot;Latitude&quot;:&quot;+38.4458209&quot;,&quot;Longitude&quot;:&quot;-087.8391674&quot;}}}},{&quot;state&quot;:{&quot;id&quot;:115,&quot;region&quot;:&quot;2&quot;,&quot;division&quot;:&quot;3&quot;,&quot;statefp&quot;:&quot;17&quot;,&quot;statens&quot;:&quot;01779784&quot;,&quot;stusps&quot;:&quot;IL&quot;,&quot;name&quot;:&quot;Illinois&quot;,&quot;Counties&quot;:{&quot;statefp&quot;:&quot;17&quot;,&quot;countyfp&quot;:&quot;113&quot;,&quot;geoid&quot;:&quot;17113&quot;,&quot;name&quot;:&quot;McLean&quot;,&quot;namelsad&quot;:&quot;McLean County&quot;,&quot;Location&quot;:{&quot;Latitude&quot;:&quot;+40.4945594&quot;,&quot;Longitude&quot;:&quot;-088.8445391&quot;}}}},{&quot;state&quot;:{&quot;id&quot;:115,&quot;region&quot;:&quot;2&quot;,&quot;division&quot;:&quot;3&quot;,&quot;statefp&quot;:&quot;17&quot;,&quot;statens&quot;:&quot;01779784&quot;,&quot;stusps&quot;:&quot;IL&quot;,&quot;name&quot;:&quot;Illinois&quot;,&quot;Counties&quot;:{&quot;statefp&quot;:&quot;17&quot;,&quot;countyfp&quot;:&quot;005&quot;,&quot;geoid&quot;:&quot;17005&quot;,&quot;name&quot;:&quot;Bond&quot;,&quot;namelsad&quot;:&quot;Bond County&quot;,&quot;Location&quot;:{&quot;Latitude&quot;:&quot;+38.8859240&quot;,&quot;Longitude&quot;:&quot;-089.4365916&quot;}}}},{&quot;state&quot;:{&quot;id&quot;:115,&quot;region&quot;:&quot;2&quot;,&quot;division&quot;:&quot;3&quot;,&quot;statefp&quot;:&quot;17&quot;,&quot;statens&quot;:&quot;01779784&quot;,&quot;stusps&quot;:&quot;IL&quot;,&quot;name&quot;:&quot;Illinois&quot;,&quot;Counties&quot;:{&quot;statefp&quot;:&quot;17&quot;,&quot;countyfp&quot;:&quot;009&quot;,&quot;geoid&quot;:&quot;17009&quot;,&quot;name&quot;:&quot;Brown&quot;,&quot;namelsad&quot;:&quot;Brown County&quot;,&quot;Location&quot;:{&quot;Latitude&quot;:&quot;+39.9620694&quot;,&quot;Longitude&quot;:&quot;-090.7503095&quot;}}}},{&quot;state&quot;:{&quot;id&quot;:115,&quot;region&quot;:&quot;2&quot;,&quot;division&quot;:&quot;3&quot;,&quot;statefp&quot;:&quot;17&quot;,&quot;statens&quot;:&quot;01779784&quot;,&quot;stusps&quot;:&quot;IL&quot;,&quot;name&quot;:&quot;Illinois&quot;,&quot;Counties&quot;:{&quot;statefp&quot;:&quot;17&quot;,&quot;countyfp&quot;:&quot;083&quot;,&quot;geoid&quot;:&quot;17083&quot;,&quot;name&quot;:&quot;Jersey&quot;,&quot;namelsad&quot;:&quot;Jersey County&quot;,&quot;Location&quot;:{&quot;Latitude&quot;:&quot;+39.0801945&quot;,&quot;Longitude&quot;:&quot;-090.3613850&quot;}}}},{&quot;state&quot;:{&quot;id&quot;:115,&quot;region&quot;:&quot;2&quot;,&quot;division&quot;:&quot;3&quot;,&quot;statefp&quot;:&quot;17&quot;,&quot;statens&quot;:&quot;01779784&quot;,&quot;stusps&quot;:&quot;IL&quot;,&quot;name&quot;:&quot;Illinois&quot;,&quot;Counties&quot;:{&quot;statefp&quot;:&quot;17&quot;,&quot;countyfp&quot;:&quot;147&quot;,&quot;geoid&quot;:&quot;17147&quot;,&quot;name&quot;:&quot;Piatt&quot;,&quot;namelsad&quot;:&quot;Piatt County&quot;,&quot;Location&quot;:{&quot;Latitude&quot;:&quot;+40.0090327&quot;,&quot;Longitude&quot;:&quot;-088.5923546&quot;}}}},{&quot;state&quot;:{&quot;id&quot;:115,&quot;region&quot;:&quot;2&quot;,&quot;division&quot;:&quot;3&quot;,&quot;statefp&quot;:&quot;17&quot;,&quot;statens&quot;:&quot;01779784&quot;,&quot;stusps&quot;:&quot;IL&quot;,&quot;name&quot;:&quot;Illinois&quot;,&quot;Counties&quot;:{&quot;statefp&quot;:&quot;17&quot;,&quot;countyfp&quot;:&quot;151&quot;,&quot;geoid&quot;:&quot;17151&quot;,&quot;name&quot;:&quot;Pope&quot;,&quot;namelsad&quot;:&quot;Pope County&quot;,&quot;Location&quot;:{&quot;Latitude&quot;:&quot;+37.4171687&quot;,&quot;Longitude&quot;:&quot;-088.5423737&quot;}}}},{&quot;state&quot;:{&quot;id&quot;:115,&quot;region&quot;:&quot;2&quot;,&quot;division&quot;:&quot;3&quot;,&quot;statefp&quot;:&quot;17&quot;,&quot;statens&quot;:&quot;01779784&quot;,&quot;stusps&quot;:&quot;IL&quot;,&quot;name&quot;:&quot;Illinois&quot;,&quot;Counties&quot;:{&quot;statefp&quot;:&quot;17&quot;,&quot;countyfp&quot;:&quot;011&quot;,&quot;geoid&quot;:&quot;17011&quot;,&quot;name&quot;:&quot;Bureau&quot;,&quot;namelsad&quot;:&quot;Bureau County&quot;,&quot;Location&quot;:{&quot;Latitude&quot;:&quot;+41.4013043&quot;,&quot;Longitude&quot;:&quot;-089.5283772&quot;}}}},{&quot;state&quot;:{&quot;id&quot;:115,&quot;region&quot;:&quot;2&quot;,&quot;division&quot;:&quot;3&quot;,&quot;statefp&quot;:&quot;17&quot;,&quot;statens&quot;:&quot;01779784&quot;,&quot;stusps&quot;:&quot;IL&quot;,&quot;name&quot;:&quot;Illinois&quot;,&quot;Counties&quot;:{&quot;statefp&quot;:&quot;17&quot;,&quot;countyfp&quot;:&quot;029&quot;,&quot;geoid&quot;:&quot;17029&quot;,&quot;name&quot;:&quot;Coles&quot;,&quot;namelsad&quot;:&quot;Coles County&quot;,&quot;Location&quot;:{&quot;Latitude&quot;:&quot;+39.5136797&quot;,&quot;Longitude&quot;:&quot;-088.2207820&quot;}}}},{&quot;state&quot;:{&quot;id&quot;:115,&quot;region&quot;:&quot;2&quot;,&quot;division&quot;:&quot;3&quot;,&quot;statefp&quot;:&quot;17&quot;,&quot;statens&quot;:&quot;01779784&quot;,&quot;stusps&quot;:&quot;IL&quot;,&quot;name&quot;:&quot;Illinois&quot;,&quot;Counties&quot;:{&quot;statefp&quot;:&quot;17&quot;,&quot;countyfp&quot;:&quot;131&quot;,&quot;geoid&quot;:&quot;17131&quot;,&quot;name&quot;:&quot;Mercer&quot;,&quot;namelsad&quot;:&quot;Mercer County&quot;,&quot;Location&quot;:{&quot;Latitude&quot;:&quot;+41.2056046&quot;,&quot;Longitude&quot;:&quot;-090.7417698&quot;}}}},{&quot;state&quot;:{&quot;id&quot;:115,&quot;region&quot;:&quot;2&quot;,&quot;division&quot;:&quot;3&quot;,&quot;statefp&quot;:&quot;17&quot;,&quot;statens&quot;:&quot;01779784&quot;,&quot;stusps&quot;:&quot;IL&quot;,&quot;name&quot;:&quot;Illinois&quot;,&quot;Counties&quot;:{&quot;statefp&quot;:&quot;17&quot;,&quot;countyfp&quot;:&quot;049&quot;,&quot;geoid&quot;:&quot;17049&quot;,&quot;name&quot;:&quot;Effingham&quot;,&quot;namelsad&quot;:&quot;Effingham County&quot;,&quot;Location&quot;:{&quot;Latitude&quot;:&quot;+39.0479445&quot;,&quot;Longitude&quot;:&quot;-088.5928488&quot;}}}},{&quot;state&quot;:{&quot;id&quot;:115,&quot;region&quot;:&quot;2&quot;,&quot;division&quot;:&quot;3&quot;,&quot;statefp&quot;:&quot;17&quot;,&quot;statens&quot;:&quot;01779784&quot;,&quot;stusps&quot;:&quot;IL&quot;,&quot;name&quot;:&quot;Illinois&quot;,&quot;Counties&quot;:{&quot;statefp&quot;:&quot;17&quot;,&quot;countyfp&quot;:&quot;035&quot;,&quot;geoid&quot;:&quot;17035&quot;,&quot;name&quot;:&quot;Cumberland&quot;,&quot;namelsad&quot;:&quot;Cumberland County&quot;,&quot;Location&quot;:{&quot;Latitude&quot;:&quot;+39.2731210&quot;,&quot;Longitude&quot;:&quot;-088.2406193&quot;}}}},{&quot;state&quot;:{&quot;id&quot;:115,&quot;region&quot;:&quot;2&quot;,&quot;division&quot;:&quot;3&quot;,&quot;statefp&quot;:&quot;17&quot;,&quot;statens&quot;:&quot;01779784&quot;,&quot;stusps&quot;:&quot;IL&quot;,&quot;name&quot;:&quot;Illinois&quot;,&quot;Counties&quot;:{&quot;statefp&quot;:&quot;17&quot;,&quot;countyfp&quot;:&quot;033&quot;,&quot;geoid&quot;:&quot;17033&quot;,&quot;name&quot;:&quot;Crawford&quot;,&quot;namelsad&quot;:&quot;Crawford County&quot;,&quot;Location&quot;:{&quot;Latitude&quot;:&quot;+39.0027865&quot;,&quot;Longitude&quot;:&quot;-087.7606193&quot;}}}},{&quot;state&quot;:{&quot;id&quot;:115,&quot;region&quot;:&quot;2&quot;,&quot;division&quot;:&quot;3&quot;,&quot;statefp&quot;:&quot;17&quot;,&quot;statens&quot;:&quot;01779784&quot;,&quot;stusps&quot;:&quot;IL&quot;,&quot;name&quot;:&quot;Illinois&quot;,&quot;Counties&quot;:{&quot;statefp&quot;:&quot;17&quot;,&quot;countyfp&quot;:&quot;057&quot;,&quot;geoid&quot;:&quot;17057&quot;,&quot;name&quot;:&quot;Fulton&quot;,&quot;namelsad&quot;:&quot;Fulton County&quot;,&quot;Location&quot;:{&quot;Latitude&quot;:&quot;+40.4652401&quot;,&quot;Longitude&quot;:&quot;-090.2022689&quot;}}}},{&quot;state&quot;:{&quot;id&quot;:115,&quot;region&quot;:&quot;2&quot;,&quot;division&quot;:&quot;3&quot;,&quot;statefp&quot;:&quot;17&quot;,&quot;statens&quot;:&quot;01779784&quot;,&quot;stusps&quot;:&quot;IL&quot;,&quot;name&quot;:&quot;Illinois&quot;,&quot;Counties&quot;:{&quot;statefp&quot;:&quot;17&quot;,&quot;countyfp&quot;:&quot;135&quot;,&quot;geoid&quot;:&quot;17135&quot;,&quot;name&quot;:&quot;Montgomery&quot;,&quot;namelsad&quot;:&quot;Montgomery County&quot;,&quot;Location&quot;:{&quot;Latitude&quot;:&quot;+39.2280681&quot;,&quot;Longitude&quot;:&quot;-089.4781407&quot;}}}},{&quot;state&quot;:{&quot;id&quot;:115,&quot;region&quot;:&quot;2&quot;,&quot;division&quot;:&quot;3&quot;,&quot;statefp&quot;:&quot;17&quot;,&quot;statens&quot;:&quot;01779784&quot;,&quot;stusps&quot;:&quot;IL&quot;,&quot;name&quot;:&quot;Illinois&quot;,&quot;Counties&quot;:{&quot;statefp&quot;:&quot;17&quot;,&quot;countyfp&quot;:&quot;115&quot;,&quot;geoid&quot;:&quot;17115&quot;,&quot;name&quot;:&quot;Macon&quot;,&quot;namelsad&quot;:&quot;Macon County&quot;,&quot;Location&quot;:{&quot;Latitude&quot;:&quot;+39.8602372&quot;,&quot;Longitude&quot;:&quot;-088.9615288&quot;}}}},{&quot;state&quot;:{&quot;id&quot;:115,&quot;region&quot;:&quot;2&quot;,&quot;division&quot;:&quot;3&quot;,&quot;statefp&quot;:&quot;17&quot;,&quot;statens&quot;:&quot;01779784&quot;,&quot;stusps&quot;:&quot;IL&quot;,&quot;name&quot;:&quot;Illinois&quot;,&quot;Counties&quot;:{&quot;statefp&quot;:&quot;17&quot;,&quot;countyfp&quot;:&quot;055&quot;,&quot;geoid&quot;:&quot;17055&quot;,&quot;name&quot;:&quot;Franklin&quot;,&quot;namelsad&quot;:&quot;Franklin County&quot;,&quot;Location&quot;:{&quot;Latitude&quot;:&quot;+37.9918516&quot;,&quot;Longitude&quot;:&quot;-088.9263215&quot;}}}},{&quot;state&quot;:{&quot;id&quot;:115,&quot;region&quot;:&quot;2&quot;,&quot;division&quot;:&quot;3&quot;,&quot;statefp&quot;:&quot;17&quot;,&quot;statens&quot;:&quot;01779784&quot;,&quot;stusps&quot;:&quot;IL&quot;,&quot;name&quot;:&quot;Illinois&quot;,&quot;Counties&quot;:{&quot;statefp&quot;:&quot;17&quot;,&quot;countyfp&quot;:&quot;023&quot;,&quot;geoid&quot;:&quot;17023&quot;,&quot;name&quot;:&quot;Clark&quot;,&quot;namelsad&quot;:&quot;Clark County&quot;,&quot;Location&quot;:{&quot;Latitude&quot;:&quot;+39.3323343&quot;,&quot;Longitude&quot;:&quot;-087.7916832&quot;}}}},{&quot;state&quot;:{&quot;id&quot;:115,&quot;region&quot;:&quot;2&quot;,&quot;division&quot;:&quot;3&quot;,&quot;statefp&quot;:&quot;17&quot;,&quot;statens&quot;:&quot;01779784&quot;,&quot;stusps&quot;:&quot;IL&quot;,&quot;name&quot;:&quot;Illinois&quot;,&quot;Counties&quot;:{&quot;statefp&quot;:&quot;17&quot;,&quot;countyfp&quot;:&quot;161&quot;,&quot;geoid&quot;:&quot;17161&quot;,&quot;name&quot;:&quot;Rock Island&quot;,&quot;namelsad&quot;:&quot;Rock Island County&quot;,&quot;Location&quot;:{&quot;Latitude&quot;:&quot;+41.4684205&quot;,&quot;Longitude&quot;:&quot;-090.5721252&quot;}}}},{&quot;state&quot;:{&quot;id&quot;:115,&quot;region&quot;:&quot;2&quot;,&quot;division&quot;:&quot;3&quot;,&quot;statefp&quot;:&quot;17&quot;,&quot;statens&quot;:&quot;01779784&quot;,&quot;stusps&quot;:&quot;IL&quot;,&quot;name&quot;:&quot;Illinois&quot;,&quot;Counties&quot;:{&quot;statefp&quot;:&quot;17&quot;,&quot;countyfp&quot;:&quot;093&quot;,&quot;geoid&quot;:&quot;17093&quot;,&quot;name&quot;:&quot;Kendall&quot;,&quot;namelsad&quot;:&quot;Kendall County&quot;,&quot;Location&quot;:{&quot;Latitude&quot;:&quot;+41.5881403&quot;,&quot;Longitude&quot;:&quot;-088.4306257&quot;}}}},{&quot;state&quot;:{&quot;id&quot;:115,&quot;region&quot;:&quot;2&quot;,&quot;division&quot;:&quot;3&quot;,&quot;statefp&quot;:&quot;17&quot;,&quot;statens&quot;:&quot;01779784&quot;,&quot;stusps&quot;:&quot;IL&quot;,&quot;name&quot;:&quot;Illinois&quot;,&quot;Counties&quot;:{&quot;statefp&quot;:&quot;17&quot;,&quot;countyfp&quot;:&quot;031&quot;,&quot;geoid&quot;:&quot;17031&quot;,&quot;name&quot;:&quot;Cook&quot;,&quot;namelsad&quot;:&quot;Cook County&quot;,&quot;Location&quot;:{&quot;Latitude&quot;:&quot;+41.8942937&quot;,&quot;Longitude&quot;:&quot;-087.6454546&quot;}}}},{&quot;state&quot;:{&quot;id&quot;:115,&quot;region&quot;:&quot;2&quot;,&quot;division&quot;:&quot;3&quot;,&quot;statefp&quot;:&quot;17&quot;,&quot;statens&quot;:&quot;01779784&quot;,&quot;stusps&quot;:&quot;IL&quot;,&quot;name&quot;:&quot;Illinois&quot;,&quot;Counties&quot;:{&quot;statefp&quot;:&quot;17&quot;,&quot;countyfp&quot;:&quot;059&quot;,&quot;geoid&quot;:&quot;17059&quot;,&quot;name&quot;:&quot;Gallatin&quot;,&quot;namelsad&quot;:&quot;Gallatin County&quot;,&quot;Location&quot;:{&quot;Latitude&quot;:&quot;+37.7686768&quot;,&quot;Longitude&quot;:&quot;-088.2279642&quot;}}}},{&quot;state&quot;:{&quot;id&quot;:115,&quot;region&quot;:&quot;2&quot;,&quot;division&quot;:&quot;3&quot;,&quot;statefp&quot;:&quot;17&quot;,&quot;statens&quot;:&quot;01779784&quot;,&quot;stusps&quot;:&quot;IL&quot;,&quot;name&quot;:&quot;Illinois&quot;,&quot;Counties&quot;:{&quot;statefp&quot;:&quot;17&quot;,&quot;countyfp&quot;:&quot;103&quot;,&quot;geoid&quot;:&quot;17103&quot;,&quot;name&quot;:&quot;Lee&quot;,&quot;namelsad&quot;:&quot;Lee County&quot;,&quot;Location&quot;:{&quot;Latitude&quot;:&quot;+41.7474465&quot;,&quot;Longitude&quot;:&quot;-089.2993616&quot;}}}},{&quot;state&quot;:{&quot;id&quot;:115,&quot;region&quot;:&quot;2&quot;,&quot;division&quot;:&quot;3&quot;,&quot;statefp&quot;:&quot;17&quot;,&quot;statens&quot;:&quot;01779784&quot;,&quot;stusps&quot;:&quot;IL&quot;,&quot;name&quot;:&quot;Illinois&quot;,&quot;Counties&quot;:{&quot;statefp&quot;:&quot;17&quot;,&quot;countyfp&quot;:&quot;037&quot;,&quot;geoid&quot;:&quot;17037&quot;,&quot;name&quot;:&quot;DeKalb&quot;,&quot;namelsad&quot;:&quot;DeKalb County&quot;,&quot;Location&quot;:{&quot;Latitude&quot;:&quot;+41.8946125&quot;,&quot;Longitude&quot;:&quot;-088.7689910&quot;}}}},{&quot;state&quot;:{&quot;id&quot;:115,&quot;region&quot;:&quot;2&quot;,&quot;division&quot;:&quot;3&quot;,&quot;statefp&quot;:&quot;17&quot;,&quot;statens&quot;:&quot;01779784&quot;,&quot;stusps&quot;:&quot;IL&quot;,&quot;name&quot;:&quot;Illinois&quot;,&quot;Counties&quot;:{&quot;statefp&quot;:&quot;17&quot;,&quot;countyfp&quot;:&quot;175&quot;,&quot;geoid&quot;:&quot;17175&quot;,&quot;name&quot;:&quot;Stark&quot;,&quot;namelsad&quot;:&quot;Stark County&quot;,&quot;Location&quot;:{&quot;Latitude&quot;:&quot;+41.0969077&quot;,&quot;Longitude&quot;:&quot;-089.7974111&quot;}}}},{&quot;state&quot;:{&quot;id&quot;:115,&quot;region&quot;:&quot;2&quot;,&quot;division&quot;:&quot;3&quot;,&quot;statefp&quot;:&quot;17&quot;,&quot;statens&quot;:&quot;01779784&quot;,&quot;stusps&quot;:&quot;IL&quot;,&quot;name&quot;:&quot;Illinois&quot;,&quot;Counties&quot;:{&quot;statefp&quot;:&quot;17&quot;,&quot;countyfp&quot;:&quot;001&quot;,&quot;geoid&quot;:&quot;17001&quot;,&quot;name&quot;:&quot;Adams&quot;,&quot;namelsad&quot;:&quot;Adams County&quot;,&quot;Location&quot;:{&quot;Latitude&quot;:&quot;+39.9860525&quot;,&quot;Longitude&quot;:&quot;-091.1949607&quot;}}}},{&quot;state&quot;:{&quot;id&quot;:115,&quot;region&quot;:&quot;2&quot;,&quot;division&quot;:&quot;3&quot;,&quot;statefp&quot;:&quot;17&quot;,&quot;statens&quot;:&quot;01779784&quot;,&quot;stusps&quot;:&quot;IL&quot;,&quot;name&quot;:&quot;Illinois&quot;,&quot;Counties&quot;:{&quot;statefp&quot;:&quot;17&quot;,&quot;countyfp&quot;:&quot;075&quot;,&quot;geoid&quot;:&quot;17075&quot;,&quot;name&quot;:&quot;Iroquois&quot;,&quot;namelsad&quot;:&quot;Iroquois County&quot;,&quot;Location&quot;:{&quot;Latitude&quot;:&quot;+40.7488665&quot;,&quot;Longitude&quot;:&quot;-087.8336010&quot;}}}},{&quot;state&quot;:{&quot;id&quot;:115,&quot;region&quot;:&quot;2&quot;,&quot;division&quot;:&quot;3&quot;,&quot;statefp&quot;:&quot;17&quot;,&quot;statens&quot;:&quot;01779784&quot;,&quot;stusps&quot;:&quot;IL&quot;,&quot;name&quot;:&quot;Illinois&quot;,&quot;Counties&quot;:{&quot;statefp&quot;:&quot;17&quot;,&quot;countyfp&quot;:&quot;053&quot;,&quot;geoid&quot;:&quot;17053&quot;,&quot;name&quot;:&quot;Ford&quot;,&quot;namelsad&quot;:&quot;Ford County&quot;,&quot;Location&quot;:{&quot;Latitude&quot;:&quot;+40.5965386&quot;,&quot;Longitude&quot;:&quot;-088.2245882&quot;}}}},{&quot;state&quot;:{&quot;id&quot;:115,&quot;region&quot;:&quot;2&quot;,&quot;division&quot;:&quot;3&quot;,&quot;statefp&quot;:&quot;17&quot;,&quot;statens&quot;:&quot;01779784&quot;,&quot;stusps&quot;:&quot;IL&quot;,&quot;name&quot;:&quot;Illinois&quot;,&quot;Counties&quot;:{&quot;statefp&quot;:&quot;17&quot;,&quot;countyfp&quot;:&quot;041&quot;,&quot;geoid&quot;:&quot;17041&quot;,&quot;name&quot;:&quot;Douglas&quot;,&quot;namelsad&quot;:&quot;Douglas County&quot;,&quot;Location&quot;:{&quot;Latitude&quot;:&quot;+39.7660780&quot;,&quot;Longitude&quot;:&quot;-088.2228656&quot;}}}},{&quot;state&quot;:{&quot;id&quot;:115,&quot;region&quot;:&quot;2&quot;,&quot;division&quot;:&quot;3&quot;,&quot;statefp&quot;:&quot;17&quot;,&quot;statens&quot;:&quot;01779784&quot;,&quot;stusps&quot;:&quot;IL&quot;,&quot;name&quot;:&quot;Illinois&quot;,&quot;Counties&quot;:{&quot;statefp&quot;:&quot;17&quot;,&quot;countyfp&quot;:&quot;163&quot;,&quot;geoid&quot;:&quot;17163&quot;,&quot;name&quot;:&quot;St. Clair&quot;,&quot;namelsad&quot;:&quot;St. Clair County&quot;,&quot;Location&quot;:{&quot;Latitude&quot;:&quot;+38.4701976&quot;,&quot;Longitude&quot;:&quot;-089.9285459&quot;}}}},{&quot;state&quot;:{&quot;id&quot;:115,&quot;region&quot;:&quot;2&quot;,&quot;division&quot;:&quot;3&quot;,&quot;statefp&quot;:&quot;17&quot;,&quot;statens&quot;:&quot;01779784&quot;,&quot;stusps&quot;:&quot;IL&quot;,&quot;name&quot;:&quot;Illinois&quot;,&quot;Counties&quot;:{&quot;statefp&quot;:&quot;17&quot;,&quot;countyfp&quot;:&quot;189&quot;,&quot;geoid&quot;:&quot;17189&quot;,&quot;name&quot;:&quot;Washington&quot;,&quot;namelsad&quot;:&quot;Washington County&quot;,&quot;Location&quot;:{&quot;Latitude&quot;:&quot;+38.3531405&quot;,&quot;Longitude&quot;:&quot;-089.4171873&quot;}}}},{&quot;state&quot;:{&quot;id&quot;:115,&quot;region&quot;:&quot;2&quot;,&quot;division&quot;:&quot;3&quot;,&quot;statefp&quot;:&quot;17&quot;,&quot;statens&quot;:&quot;01779784&quot;,&quot;stusps&quot;:&quot;IL&quot;,&quot;name&quot;:&quot;Illinois&quot;,&quot;Counties&quot;:{&quot;statefp&quot;:&quot;17&quot;,&quot;countyfp&quot;:&quot;171&quot;,&quot;geoid&quot;:&quot;17171&quot;,&quot;name&quot;:&quot;Scott&quot;,&quot;namelsad&quot;:&quot;Scott County&quot;,&quot;Location&quot;:{&quot;Latitude&quot;:&quot;+39.6370016&quot;,&quot;Longitude&quot;:&quot;-090.4777707&quot;}}}},{&quot;state&quot;:{&quot;id&quot;:115,&quot;region&quot;:&quot;2&quot;,&quot;division&quot;:&quot;3&quot;,&quot;statefp&quot;:&quot;17&quot;,&quot;statens&quot;:&quot;01779784&quot;,&quot;stusps&quot;:&quot;IL&quot;,&quot;name&quot;:&quot;Illinois&quot;,&quot;Counties&quot;:{&quot;statefp&quot;:&quot;17&quot;,&quot;countyfp&quot;:&quot;159&quot;,&quot;geoid&quot;:&quot;17159&quot;,&quot;name&quot;:&quot;Richland&quot;,&quot;namelsad&quot;:&quot;Richland County&quot;,&quot;Location&quot;:{&quot;Latitude&quot;:&quot;+38.7121872&quot;,&quot;Longitude&quot;:&quot;-088.0854523&quot;}}}},{&quot;state&quot;:{&quot;id&quot;:115,&quot;region&quot;:&quot;2&quot;,&quot;division&quot;:&quot;3&quot;,&quot;statefp&quot;:&quot;17&quot;,&quot;statens&quot;:&quot;01779784&quot;,&quot;stusps&quot;:&quot;IL&quot;,&quot;name&quot;:&quot;Illinois&quot;,&quot;Counties&quot;:{&quot;statefp&quot;:&quot;17&quot;,&quot;countyfp&quot;:&quot;129&quot;,&quot;geoid&quot;:&quot;17129&quot;,&quot;name&quot;:&quot;Menard&quot;,&quot;namelsad&quot;:&quot;Menard County&quot;,&quot;Location&quot;:{&quot;Latitude&quot;:&quot;+40.0225693&quot;,&quot;Longitude&quot;:&quot;-089.7941326&quot;}}}},{&quot;state&quot;:{&quot;id&quot;:115,&quot;region&quot;:&quot;2&quot;,&quot;division&quot;:&quot;3&quot;,&quot;statefp&quot;:&quot;17&quot;,&quot;statens&quot;:&quot;01779784&quot;,&quot;stusps&quot;:&quot;IL&quot;,&quot;name&quot;:&quot;Illinois&quot;,&quot;Counties&quot;:{&quot;statefp&quot;:&quot;17&quot;,&quot;countyfp&quot;:&quot;065&quot;,&quot;geoid&quot;:&quot;17065&quot;,&quot;name&quot;:&quot;Hamilton&quot;,&quot;namelsad&quot;:&quot;Hamilton County&quot;,&quot;Location&quot;:{&quot;Latitude&quot;:&quot;+38.0852273&quot;,&quot;Longitude&quot;:&quot;-088.5390093&quot;}}}},{&quot;state&quot;:{&quot;id&quot;:115,&quot;region&quot;:&quot;2&quot;,&quot;division&quot;:&quot;3&quot;,&quot;statefp&quot;:&quot;17&quot;,&quot;statens&quot;:&quot;01779784&quot;,&quot;stusps&quot;:&quot;IL&quot;,&quot;name&quot;:&quot;Illinois&quot;,&quot;Counties&quot;:{&quot;statefp&quot;:&quot;17&quot;,&quot;countyfp&quot;:&quot;193&quot;,&quot;geoid&quot;:&quot;17193&quot;,&quot;name&quot;:&quot;White&quot;,&quot;namelsad&quot;:&quot;White County&quot;,&quot;Location&quot;:{&quot;Latitude&quot;:&quot;+38.0873259&quot;,&quot;Longitude&quot;:&quot;-088.1786227&quot;}}}},{&quot;state&quot;:{&quot;id&quot;:115,&quot;region&quot;:&quot;2&quot;,&quot;division&quot;:&quot;3&quot;,&quot;statefp&quot;:&quot;17&quot;,&quot;statens&quot;:&quot;01779784&quot;,&quot;stusps&quot;:&quot;IL&quot;,&quot;name&quot;:&quot;Illinois&quot;,&quot;Counties&quot;:{&quot;statefp&quot;:&quot;17&quot;,&quot;countyfp&quot;:&quot;039&quot;,&quot;geoid&quot;:&quot;17039&quot;,&quot;name&quot;:&quot;De Witt&quot;,&quot;namelsad&quot;:&quot;De Witt County&quot;,&quot;Location&quot;:{&quot;Latitude&quot;:&quot;+40.1814993&quot;,&quot;Longitude&quot;:&quot;-088.9018526&quot;}}}},{&quot;state&quot;:{&quot;id&quot;:115,&quot;region&quot;:&quot;2&quot;,&quot;division&quot;:&quot;3&quot;,&quot;statefp&quot;:&quot;17&quot;,&quot;statens&quot;:&quot;01779784&quot;,&quot;stusps&quot;:&quot;IL&quot;,&quot;name&quot;:&quot;Illinois&quot;,&quot;Counties&quot;:{&quot;statefp&quot;:&quot;17&quot;,&quot;countyfp&quot;:&quot;155&quot;,&quot;geoid&quot;:&quot;17155&quot;,&quot;name&quot;:&quot;Putnam&quot;,&quot;namelsad&quot;:&quot;Putnam County&quot;,&quot;Location&quot;:{&quot;Latitude&quot;:&quot;+41.1989613&quot;,&quot;Longitude&quot;:&quot;-089.2983474&quot;}}}},{&quot;state&quot;:{&quot;id&quot;:115,&quot;region&quot;:&quot;2&quot;,&quot;division&quot;:&quot;3&quot;,&quot;statefp&quot;:&quot;17&quot;,&quot;statens&quot;:&quot;01779784&quot;,&quot;stusps&quot;:&quot;IL&quot;,&quot;name&quot;:&quot;Illinois&quot;,&quot;Counties&quot;:{&quot;statefp&quot;:&quot;17&quot;,&quot;countyfp&quot;:&quot;169&quot;,&quot;geoid&quot;:&quot;17169&quot;,&quot;name&quot;:&quot;Schuyler&quot;,&quot;namelsad&quot;:&quot;Schuyler County&quot;,&quot;Location&quot;:{&quot;Latitude&quot;:&quot;+40.1569048&quot;,&quot;Longitude&quot;:&quot;-090.6134641&quot;}}}},{&quot;state&quot;:{&quot;id&quot;:115,&quot;region&quot;:&quot;2&quot;,&quot;division&quot;:&quot;3&quot;,&quot;statefp&quot;:&quot;17&quot;,&quot;statens&quot;:&quot;01779784&quot;,&quot;stusps&quot;:&quot;IL&quot;,&quot;name&quot;:&quot;Illinois&quot;,&quot;Counties&quot;:{&quot;statefp&quot;:&quot;17&quot;,&quot;countyfp&quot;:&quot;177&quot;,&quot;geoid&quot;:&quot;17177&quot;,&quot;name&quot;:&quot;Stephenson&quot;,&quot;namelsad&quot;:&quot;Stephenson County&quot;,&quot;Location&quot;:{&quot;Latitude&quot;:&quot;+42.3497262&quot;,&quot;Longitude&quot;:&quot;-089.6659942&quot;}}}},{&quot;state&quot;:{&quot;id&quot;:115,&quot;region&quot;:&quot;2&quot;,&quot;division&quot;:&quot;3&quot;,&quot;statefp&quot;:&quot;17&quot;,&quot;statens&quot;:&quot;01779784&quot;,&quot;stusps&quot;:&quot;IL&quot;,&quot;name&quot;:&quot;Illinois&quot;,&quot;Counties&quot;:{&quot;statefp&quot;:&quot;17&quot;,&quot;countyfp&quot;:&quot;181&quot;,&quot;geoid&quot;:&quot;17181&quot;,&quot;name&quot;:&quot;Union&quot;,&quot;namelsad&quot;:&quot;Union County&quot;,&quot;Location&quot;:{&quot;Latitude&quot;:&quot;+37.4856521&quot;,&quot;Longitude&quot;:&quot;-089.2446391&quot;}}}},{&quot;state&quot;:{&quot;id&quot;:115,&quot;region&quot;:&quot;2&quot;,&quot;division&quot;:&quot;3&quot;,&quot;statefp&quot;:&quot;17&quot;,&quot;statens&quot;:&quot;01779784&quot;,&quot;stusps&quot;:&quot;IL&quot;,&quot;name&quot;:&quot;Illinois&quot;,&quot;Counties&quot;:{&quot;statefp&quot;:&quot;17&quot;,&quot;countyfp&quot;:&quot;091&quot;,&quot;geoid&quot;:&quot;17091&quot;,&quot;name&quot;:&quot;Kankakee&quot;,&quot;namelsad&quot;:&quot;Kankakee County&quot;,&quot;Location&quot;:{&quot;Latitude&quot;:&quot;+41.1395105&quot;,&quot;Longitude&quot;:&quot;-087.8611165&quot;}}}},{&quot;state&quot;:{&quot;id&quot;:115,&quot;region&quot;:&quot;2&quot;,&quot;division&quot;:&quot;3&quot;,&quot;statefp&quot;:&quot;17&quot;,&quot;statens&quot;:&quot;01779784&quot;,&quot;stusps&quot;:&quot;IL&quot;,&quot;name&quot;:&quot;Illinois&quot;,&quot;Counties&quot;:{&quot;statefp&quot;:&quot;17&quot;,&quot;countyfp&quot;:&quot;027&quot;,&quot;geoid&quot;:&quot;17027&quot;,&quot;name&quot;:&quot;Clinton&quot;,&quot;namelsad&quot;:&quot;Clinton County&quot;,&quot;Location&quot;:{&quot;Latitude&quot;:&quot;+38.6062953&quot;,&quot;Longitude&quot;:&quot;-089.4262278&quot;}}}},{&quot;state&quot;:{&quot;id&quot;:115,&quot;region&quot;:&quot;2&quot;,&quot;division&quot;:&quot;3&quot;,&quot;statefp&quot;:&quot;17&quot;,&quot;statens&quot;:&quot;01779784&quot;,&quot;stusps&quot;:&quot;IL&quot;,&quot;name&quot;:&quot;Illinois&quot;,&quot;Counties&quot;:{&quot;statefp&quot;:&quot;17&quot;,&quot;countyfp&quot;:&quot;085&quot;,&quot;geoid&quot;:&quot;17085&quot;,&quot;name&quot;:&quot;Jo Daviess&quot;,&quot;namelsad&quot;:&quot;Jo Daviess County&quot;,&quot;Location&quot;:{&quot;Latitude&quot;:&quot;+42.3623905&quot;,&quot;Longitude&quot;:&quot;-090.2114705&quot;}}}},{&quot;state&quot;:{&quot;id&quot;:115,&quot;region&quot;:&quot;2&quot;,&quot;division&quot;:&quot;3&quot;,&quot;statefp&quot;:&quot;17&quot;,&quot;statens&quot;:&quot;01779784&quot;,&quot;stusps&quot;:&quot;IL&quot;,&quot;name&quot;:&quot;Illinois&quot;,&quot;Counties&quot;:{&quot;statefp&quot;:&quot;17&quot;,&quot;countyfp&quot;:&quot;199&quot;,&quot;geoid&quot;:&quot;17199&quot;,&quot;name&quot;:&quot;Williamson&quot;,&quot;namelsad&quot;:&quot;Williamson County&quot;,&quot;Location&quot;:{&quot;Latitude&quot;:&quot;+37.7303533&quot;,&quot;Longitude&quot;:&quot;-088.9300182&quot;}}}},{&quot;state&quot;:{&quot;id&quot;:115,&quot;region&quot;:&quot;2&quot;,&quot;division&quot;:&quot;3&quot;,&quot;statefp&quot;:&quot;17&quot;,&quot;statens&quot;:&quot;01779784&quot;,&quot;stusps&quot;:&quot;IL&quot;,&quot;name&quot;:&quot;Illinois&quot;,&quot;Counties&quot;:{&quot;statefp&quot;:&quot;17&quot;,&quot;countyfp&quot;:&quot;125&quot;,&quot;geoid&quot;:&quot;17125&quot;,&quot;name&quot;:&quot;Mason&quot;,&quot;namelsad&quot;:&quot;Mason County&quot;,&quot;Location&quot;:{&quot;Latitude&quot;:&quot;+40.2369926&quot;,&quot;Longitude&quot;:&quot;-089.9135746&quot;}}}},{&quot;state&quot;:{&quot;id&quot;:115,&quot;region&quot;:&quot;2&quot;,&quot;division&quot;:&quot;3&quot;,&quot;statefp&quot;:&quot;17&quot;,&quot;statens&quot;:&quot;01779784&quot;,&quot;stusps&quot;:&quot;IL&quot;,&quot;name&quot;:&quot;Illinois&quot;,&quot;Counties&quot;:{&quot;statefp&quot;:&quot;17&quot;,&quot;countyfp&quot;:&quot;105&quot;,&quot;geoid&quot;:&quot;17105&quot;,&quot;name&quot;:&quot;Livingston&quot;,&quot;namelsad&quot;:&quot;Livingston County&quot;,&quot;Location&quot;:{&quot;Latitude&quot;:&quot;+40.8943761&quot;,&quot;Longitude&quot;:&quot;-088.5528518&quot;}}}},{&quot;state&quot;:{&quot;id&quot;:115,&quot;region&quot;:&quot;2&quot;,&quot;division&quot;:&quot;3&quot;,&quot;statefp&quot;:&quot;17&quot;,&quot;statens&quot;:&quot;01779784&quot;,&quot;stusps&quot;:&quot;IL&quot;,&quot;name&quot;:&quot;Illinois&quot;,&quot;Counties&quot;:{&quot;statefp&quot;:&quot;17&quot;,&quot;countyfp&quot;:&quot;191&quot;,&quot;geoid&quot;:&quot;17191&quot;,&quot;name&quot;:&quot;Wayne&quot;,&quot;namelsad&quot;:&quot;Wayne County&quot;,&quot;Location&quot;:{&quot;Latitude&quot;:&quot;+38.4318573&quot;,&quot;Longitude&quot;:&quot;-088.4324302&quot;}}}},{&quot;state&quot;:{&quot;id&quot;:115,&quot;region&quot;:&quot;2&quot;,&quot;division&quot;:&quot;3&quot;,&quot;statefp&quot;:&quot;17&quot;,&quot;statens&quot;:&quot;01779784&quot;,&quot;stusps&quot;:&quot;IL&quot;,&quot;name&quot;:&quot;Illinois&quot;,&quot;Counties&quot;:{&quot;statefp&quot;:&quot;17&quot;,&quot;countyfp&quot;:&quot;089&quot;,&quot;geoid&quot;:&quot;17089&quot;,&quot;name&quot;:&quot;Kane&quot;,&quot;namelsad&quot;:&quot;Kane County&quot;,&quot;Location&quot;:{&quot;Latitude&quot;:&quot;+41.9395938&quot;,&quot;Longitude&quot;:&quot;-088.4280395&quot;}}}},{&quot;state&quot;:{&quot;id&quot;:115,&quot;region&quot;:&quot;2&quot;,&quot;division&quot;:&quot;3&quot;,&quot;statefp&quot;:&quot;17&quot;,&quot;statens&quot;:&quot;01779784&quot;,&quot;stusps&quot;:&quot;IL&quot;,&quot;name&quot;:&quot;Illinois&quot;,&quot;Counties&quot;:{&quot;statefp&quot;:&quot;17&quot;,&quot;countyfp&quot;:&quot;069&quot;,&quot;geoid&quot;:&quot;17069&quot;,&quot;name&quot;:&quot;Hardin&quot;,&quot;namelsad&quot;:&quot;Hardin County&quot;,&quot;Location&quot;:{&quot;Latitude&quot;:&quot;+37.5178517&quot;,&quot;Longitude&quot;:&quot;-088.2661478&quot;}}}},{&quot;state&quot;:{&quot;id&quot;:115,&quot;region&quot;:&quot;2&quot;,&quot;division&quot;:&quot;3&quot;,&quot;statefp&quot;:&quot;17&quot;,&quot;statens&quot;:&quot;01779784&quot;,&quot;stusps&quot;:&quot;IL&quot;,&quot;name&quot;:&quot;Illinois&quot;,&quot;Counties&quot;:{&quot;statefp&quot;:&quot;17&quot;,&quot;countyfp&quot;:&quot;063&quot;,&quot;geoid&quot;:&quot;17063&quot;,&quot;name&quot;:&quot;Grundy&quot;,&quot;namelsad&quot;:&quot;Grundy County&quot;,&quot;Location&quot;:{&quot;Latitude&quot;:&quot;+41.2924096&quot;,&quot;Longitude&quot;:&quot;-088.4010545&quot;}}}},{&quot;state&quot;:{&quot;id&quot;:115,&quot;region&quot;:&quot;2&quot;,&quot;division&quot;:&quot;3&quot;,&quot;statefp&quot;:&quot;17&quot;,&quot;statens&quot;:&quot;01779784&quot;,&quot;stusps&quot;:&quot;IL&quot;,&quot;name&quot;:&quot;Illinois&quot;,&quot;Counties&quot;:{&quot;statefp&quot;:&quot;17&quot;,&quot;countyfp&quot;:&quot;109&quot;,&quot;geoid&quot;:&quot;17109&quot;,&quot;name&quot;:&quot;McDonough&quot;,&quot;namelsad&quot;:&quot;McDonough County&quot;,&quot;Location&quot;:{&quot;Latitude&quot;:&quot;+40.4558082&quot;,&quot;Longitude&quot;:&quot;-090.6789543&quot;}}}},{&quot;state&quot;:{&quot;id&quot;:115,&quot;region&quot;:&quot;2&quot;,&quot;division&quot;:&quot;3&quot;,&quot;statefp&quot;:&quot;17&quot;,&quot;statens&quot;:&quot;01779784&quot;,&quot;stusps&quot;:&quot;IL&quot;,&quot;name&quot;:&quot;Illinois&quot;,&quot;Counties&quot;:{&quot;statefp&quot;:&quot;17&quot;,&quot;countyfp&quot;:&quot;127&quot;,&quot;geoid&quot;:&quot;17127&quot;,&quot;name&quot;:&quot;Massac&quot;,&quot;namelsad&quot;:&quot;Massac County&quot;,&quot;Location&quot;:{&quot;Latitude&quot;:&quot;+37.2161190&quot;,&quot;Longitude&quot;:&quot;-088.7056578&quot;}}}},{&quot;state&quot;:{&quot;id&quot;:115,&quot;region&quot;:&quot;2&quot;,&quot;division&quot;:&quot;3&quot;,&quot;statefp&quot;:&quot;17&quot;,&quot;statens&quot;:&quot;01779784&quot;,&quot;stusps&quot;:&quot;IL&quot;,&quot;name&quot;:&quot;Illinois&quot;,&quot;Counties&quot;:{&quot;statefp&quot;:&quot;17&quot;,&quot;countyfp&quot;:&quot;073&quot;,&quot;geoid&quot;:&quot;17073&quot;,&quot;name&quot;:&quot;Henry&quot;,&quot;namelsad&quot;:&quot;Henry County&quot;,&quot;Location&quot;:{&quot;Latitude&quot;:&quot;+41.3500209&quot;,&quot;Longitude&quot;:&quot;-090.1308378&quot;}}}},{&quot;state&quot;:{&quot;id&quot;:115,&quot;region&quot;:&quot;2&quot;,&quot;division&quot;:&quot;3&quot;,&quot;statefp&quot;:&quot;17&quot;,&quot;statens&quot;:&quot;01779784&quot;,&quot;stusps&quot;:&quot;IL&quot;,&quot;name&quot;:&quot;Illinois&quot;,&quot;Counties&quot;:{&quot;statefp&quot;:&quot;17&quot;,&quot;countyfp&quot;:&quot;061&quot;,&quot;geoid&quot;:&quot;17061&quot;,&quot;name&quot;:&quot;Greene&quot;,&quot;namelsad&quot;:&quot;Greene County&quot;,&quot;Location&quot;:{&quot;Latitude&quot;:&quot;+39.3554391&quot;,&quot;Longitude&quot;:&quot;-090.3876823&quot;}}}},{&quot;state&quot;:{&quot;id&quot;:115,&quot;region&quot;:&quot;2&quot;,&quot;division&quot;:&quot;3&quot;,&quot;statefp&quot;:&quot;17&quot;,&quot;statens&quot;:&quot;01779784&quot;,&quot;stusps&quot;:&quot;IL&quot;,&quot;name&quot;:&quot;Illinois&quot;,&quot;Counties&quot;:{&quot;statefp&quot;:&quot;17&quot;,&quot;countyfp&quot;:&quot;157&quot;,&quot;geoid&quot;:&quot;17157&quot;,&quot;name&quot;:&quot;Randolph&quot;,&quot;namelsad&quot;:&quot;Randolph County&quot;,&quot;Location&quot;:{&quot;Latitude&quot;:&quot;+38.0565149&quot;,&quot;Longitude&quot;:&quot;-089.8212096&quot;}}}},{&quot;state&quot;:{&quot;id&quot;:115,&quot;region&quot;:&quot;2&quot;,&quot;division&quot;:&quot;3&quot;,&quot;statefp&quot;:&quot;17&quot;,&quot;statens&quot;:&quot;01779784&quot;,&quot;stusps&quot;:&quot;IL&quot;,&quot;name&quot;:&quot;Illinois&quot;,&quot;Counties&quot;:{&quot;statefp&quot;:&quot;17&quot;,&quot;countyfp&quot;:&quot;149&quot;,&quot;geoid&quot;:&quot;17149&quot;,&quot;name&quot;:&quot;Pike&quot;,&quot;namelsad&quot;:&quot;Pike County&quot;,&quot;Location&quot;:{&quot;Latitude&quot;:&quot;+39.6251059&quot;,&quot;Longitude&quot;:&quot;-090.8890344&quot;}}}},{&quot;state&quot;:{&quot;id&quot;:115,&quot;region&quot;:&quot;2&quot;,&quot;division&quot;:&quot;3&quot;,&quot;statefp&quot;:&quot;17&quot;,&quot;statens&quot;:&quot;01779784&quot;,&quot;stusps&quot;:&quot;IL&quot;,&quot;name&quot;:&quot;Illinois&quot;,&quot;Counties&quot;:{&quot;statefp&quot;:&quot;17&quot;,&quot;countyfp&quot;:&quot;203&quot;,&quot;geoid&quot;:&quot;17203&quot;,&quot;name&quot;:&quot;Woodford&quot;,&quot;namelsad&quot;:&quot;Woodford County&quot;,&quot;Location&quot;:{&quot;Latitude&quot;:&quot;+40.7897870&quot;,&quot;Longitude&quot;:&quot;-089.2105871&quot;}}}},{&quot;state&quot;:{&quot;id&quot;:115,&quot;region&quot;:&quot;2&quot;,&quot;division&quot;:&quot;3&quot;,&quot;statefp&quot;:&quot;17&quot;,&quot;statens&quot;:&quot;01779784&quot;,&quot;stusps&quot;:&quot;IL&quot;,&quot;name&quot;:&quot;Illinois&quot;,&quot;Counties&quot;:{&quot;statefp&quot;:&quot;17&quot;,&quot;countyfp&quot;:&quot;145&quot;,&quot;geoid&quot;:&quot;17145&quot;,&quot;name&quot;:&quot;Perry&quot;,&quot;namelsad&quot;:&quot;Perry County&quot;,&quot;Location&quot;:{&quot;Latitude&quot;:&quot;+38.0843809&quot;,&quot;Longitude&quot;:&quot;-089.3685249&quot;}}}},{&quot;state&quot;:{&quot;id&quot;:115,&quot;region&quot;:&quot;2&quot;,&quot;division&quot;:&quot;3&quot;,&quot;statefp&quot;:&quot;17&quot;,&quot;statens&quot;:&quot;01779784&quot;,&quot;stusps&quot;:&quot;IL&quot;,&quot;name&quot;:&quot;Illinois&quot;,&quot;Counties&quot;:{&quot;statefp&quot;:&quot;17&quot;,&quot;countyfp&quot;:&quot;087&quot;,&quot;geoid&quot;:&quot;17087&quot;,&quot;name&quot;:&quot;Johnson&quot;,&quot;namelsad&quot;:&quot;Johnson County&quot;,&quot;Location&quot;:{&quot;Latitude&quot;:&quot;+37.4607092&quot;,&quot;Longitude&quot;:&quot;-088.8821305&quot;}}}},{&quot;state&quot;:{&quot;id&quot;:115,&quot;region&quot;:&quot;2&quot;,&quot;division&quot;:&quot;3&quot;,&quot;statefp&quot;:&quot;17&quot;,&quot;statens&quot;:&quot;01779784&quot;,&quot;stusps&quot;:&quot;IL&quot;,&quot;name&quot;:&quot;Illinois&quot;,&quot;Counties&quot;:{&quot;statefp&quot;:&quot;17&quot;,&quot;countyfp&quot;:&quot;173&quot;,&quot;geoid&quot;:&quot;17173&quot;,&quot;name&quot;:&quot;Shelby&quot;,&quot;namelsad&quot;:&quot;Shelby County&quot;,&quot;Location&quot;:{&quot;Latitude&quot;:&quot;+39.3849258&quot;,&quot;Longitude&quot;:&quot;-088.7988615&quot;}}}},{&quot;state&quot;:{&quot;id&quot;:115,&quot;region&quot;:&quot;2&quot;,&quot;division&quot;:&quot;3&quot;,&quot;statefp&quot;:&quot;17&quot;,&quot;statens&quot;:&quot;01779784&quot;,&quot;stusps&quot;:&quot;IL&quot;,&quot;name&quot;:&quot;Illinois&quot;,&quot;Counties&quot;:{&quot;statefp&quot;:&quot;17&quot;,&quot;countyfp&quot;:&quot;051&quot;,&quot;geoid&quot;:&quot;17051&quot;,&quot;name&quot;:&quot;Fayette&quot;,&quot;namelsad&quot;:&quot;Fayette County&quot;,&quot;Location&quot;:{&quot;Latitude&quot;:&quot;+39.0011246&quot;,&quot;Longitude&quot;:&quot;-089.0179232&quot;}}}},{&quot;state&quot;:{&quot;id&quot;:115,&quot;region&quot;:&quot;2&quot;,&quot;division&quot;:&quot;3&quot;,&quot;statefp&quot;:&quot;17&quot;,&quot;statens&quot;:&quot;01779784&quot;,&quot;stusps&quot;:&quot;IL&quot;,&quot;name&quot;:&quot;Illinois&quot;,&quot;Counties&quot;:{&quot;statefp&quot;:&quot;17&quot;,&quot;countyfp&quot;:&quot;201&quot;,&quot;geoid&quot;:&quot;17201&quot;,&quot;name&quot;:&quot;Winnebago&quot;,&quot;namelsad&quot;:&quot;Winnebago County&quot;,&quot;Location&quot;:{&quot;Latitude&quot;:&quot;+42.3373957&quot;,&quot;Longitude&quot;:&quot;-089.1612053&quot;}}}},{&quot;state&quot;:{&quot;id&quot;:115,&quot;region&quot;:&quot;2&quot;,&quot;division&quot;:&quot;3&quot;,&quot;statefp&quot;:&quot;17&quot;,&quot;statens&quot;:&quot;01779784&quot;,&quot;stusps&quot;:&quot;IL&quot;,&quot;name&quot;:&quot;Illinois&quot;,&quot;Counties&quot;:{&quot;statefp&quot;:&quot;17&quot;,&quot;countyfp&quot;:&quot;141&quot;,&quot;geoid&quot;:&quot;17141&quot;,&quot;name&quot;:&quot;Ogle&quot;,&quot;namelsad&quot;:&quot;Ogle County&quot;,&quot;Location&quot;:{&quot;Latitude&quot;:&quot;+42.0418840&quot;,&quot;Longitude&quot;:&quot;-089.3201764&quot;}}}},{&quot;state&quot;:{&quot;id&quot;:115,&quot;region&quot;:&quot;2&quot;,&quot;division&quot;:&quot;3&quot;,&quot;statefp&quot;:&quot;17&quot;,&quot;statens&quot;:&quot;01779784&quot;,&quot;stusps&quot;:&quot;IL&quot;,&quot;name&quot;:&quot;Illinois&quot;,&quot;Counties&quot;:{&quot;statefp&quot;:&quot;17&quot;,&quot;countyfp&quot;:&quot;139&quot;,&quot;geoid&quot;:&quot;17139&quot;,&quot;name&quot;:&quot;Moultrie&quot;,&quot;namelsad&quot;:&quot;Moultrie County&quot;,&quot;Location&quot;:{&quot;Latitude&quot;:&quot;+39.6368956&quot;,&quot;Longitude&quot;:&quot;-088.6257259&quot;}}}},{&quot;state&quot;:{&quot;id&quot;:115,&quot;region&quot;:&quot;2&quot;,&quot;division&quot;:&quot;3&quot;,&quot;statefp&quot;:&quot;17&quot;,&quot;statens&quot;:&quot;01779784&quot;,&quot;stusps&quot;:&quot;IL&quot;,&quot;name&quot;:&quot;Illinois&quot;,&quot;Counties&quot;:{&quot;statefp&quot;:&quot;17&quot;,&quot;countyfp&quot;:&quot;017&quot;,&quot;geoid&quot;:&quot;17017&quot;,&quot;name&quot;:&quot;Cass&quot;,&quot;namelsad&quot;:&quot;Cass County&quot;,&quot;Location&quot;:{&quot;Latitude&quot;:&quot;+39.9692024&quot;,&quot;Longitude&quot;:&quot;-090.2457045&quot;}}}},{&quot;state&quot;:{&quot;id&quot;:115,&quot;region&quot;:&quot;2&quot;,&quot;division&quot;:&quot;3&quot;,&quot;statefp&quot;:&quot;17&quot;,&quot;statens&quot;:&quot;01779784&quot;,&quot;stusps&quot;:&quot;IL&quot;,&quot;name&quot;:&quot;Illinois&quot;,&quot;Counties&quot;:{&quot;statefp&quot;:&quot;17&quot;,&quot;countyfp&quot;:&quot;167&quot;,&quot;geoid&quot;:&quot;17167&quot;,&quot;name&quot;:&quot;Sangamon&quot;,&quot;namelsad&quot;:&quot;Sangamon County&quot;,&quot;Location&quot;:{&quot;Latitude&quot;:&quot;+39.7568675&quot;,&quot;Longitude&quot;:&quot;-089.6624251&quot;}}}},{&quot;state&quot;:{&quot;id&quot;:115,&quot;region&quot;:&quot;2&quot;,&quot;division&quot;:&quot;3&quot;,&quot;statefp&quot;:&quot;17&quot;,&quot;statens&quot;:&quot;01779784&quot;,&quot;stusps&quot;:&quot;IL&quot;,&quot;name&quot;:&quot;Illinois&quot;,&quot;Counties&quot;:{&quot;statefp&quot;:&quot;17&quot;,&quot;countyfp&quot;:&quot;179&quot;,&quot;geoid&quot;:&quot;17179&quot;,&quot;name&quot;:&quot;Tazewell&quot;,&quot;namelsad&quot;:&quot;Tazewell County&quot;,&quot;Location&quot;:{&quot;Latitude&quot;:&quot;+40.5080743&quot;,&quot;Longitude&quot;:&quot;-089.5162598&quot;}}}},{&quot;state&quot;:{&quot;id&quot;:115,&quot;region&quot;:&quot;2&quot;,&quot;division&quot;:&quot;3&quot;,&quot;statefp&quot;:&quot;17&quot;,&quot;statens&quot;:&quot;01779784&quot;,&quot;stusps&quot;:&quot;IL&quot;,&quot;name&quot;:&quot;Illinois&quot;,&quot;Counties&quot;:{&quot;statefp&quot;:&quot;17&quot;,&quot;countyfp&quot;:&quot;099&quot;,&quot;geoid&quot;:&quot;17099&quot;,&quot;name&quot;:&quot;LaSalle&quot;,&quot;namelsad&quot;:&quot;LaSalle County&quot;,&quot;Location&quot;:{&quot;Latitude&quot;:&quot;+41.3433407&quot;,&quot;Longitude&quot;:&quot;-088.8859312&quot;}}}},{&quot;state&quot;:{&quot;id&quot;:115,&quot;region&quot;:&quot;2&quot;,&quot;division&quot;:&quot;3&quot;,&quot;statefp&quot;:&quot;17&quot;,&quot;statens&quot;:&quot;01779784&quot;,&quot;stusps&quot;:&quot;IL&quot;,&quot;name&quot;:&quot;Illinois&quot;,&quot;Counties&quot;:{&quot;statefp&quot;:&quot;17&quot;,&quot;countyfp&quot;:&quot;183&quot;,&quot;geoid&quot;:&quot;17183&quot;,&quot;name&quot;:&quot;Vermilion&quot;,&quot;namelsad&quot;:&quot;Vermilion County&quot;,&quot;Location&quot;:{&quot;Latitude&quot;:&quot;+40.1867542&quot;,&quot;Longitude&quot;:&quot;-087.7267779&quot;}}}},{&quot;state&quot;:{&quot;id&quot;:115,&quot;region&quot;:&quot;2&quot;,&quot;division&quot;:&quot;3&quot;,&quot;statefp&quot;:&quot;17&quot;,&quot;statens&quot;:&quot;01779784&quot;,&quot;stusps&quot;:&quot;IL&quot;,&quot;name&quot;:&quot;Illinois&quot;,&quot;Counties&quot;:{&quot;statefp&quot;:&quot;17&quot;,&quot;countyfp&quot;:&quot;007&quot;,&quot;geoid&quot;:&quot;17007&quot;,&quot;name&quot;:&quot;Boone&quot;,&quot;namelsad&quot;:&quot;Boone County&quot;,&quot;Location&quot;:{&quot;Latitude&quot;:&quot;+42.3189831&quot;,&quot;Longitude&quot;:&quot;-088.8242951&quot;}}}},{&quot;state&quot;:{&quot;id&quot;:115,&quot;region&quot;:&quot;2&quot;,&quot;division&quot;:&quot;3&quot;,&quot;statefp&quot;:&quot;17&quot;,&quot;statens&quot;:&quot;01779784&quot;,&quot;stusps&quot;:&quot;IL&quot;,&quot;name&quot;:&quot;Illinois&quot;,&quot;Counties&quot;:{&quot;statefp&quot;:&quot;17&quot;,&quot;countyfp&quot;:&quot;137&quot;,&quot;geoid&quot;:&quot;17137&quot;,&quot;name&quot;:&quot;Morgan&quot;,&quot;namelsad&quot;:&quot;Morgan County&quot;,&quot;Location&quot;:{&quot;Latitude&quot;:&quot;+39.7176678&quot;,&quot;Longitude&quot;:&quot;-090.2050054&quot;}}}},{&quot;state&quot;:{&quot;id&quot;:115,&quot;region&quot;:&quot;2&quot;,&quot;division&quot;:&quot;3&quot;,&quot;statefp&quot;:&quot;17&quot;,&quot;statens&quot;:&quot;01779784&quot;,&quot;stusps&quot;:&quot;IL&quot;,&quot;name&quot;:&quot;Illinois&quot;,&quot;Counties&quot;:{&quot;statefp&quot;:&quot;17&quot;,&quot;countyfp&quot;:&quot;123&quot;,&quot;geoid&quot;:&quot;17123&quot;,&quot;name&quot;:&quot;Marshall&quot;,&quot;namelsad&quot;:&quot;Marshall County&quot;,&quot;Location&quot;:{&quot;Latitude&quot;:&quot;+41.0311192&quot;,&quot;Longitude&quot;:&quot;-089.3423714&quot;}}}},{&quot;state&quot;:{&quot;id&quot;:115,&quot;region&quot;:&quot;2&quot;,&quot;division&quot;:&quot;3&quot;,&quot;statefp&quot;:&quot;17&quot;,&quot;statens&quot;:&quot;01779784&quot;,&quot;stusps&quot;:&quot;IL&quot;,&quot;name&quot;:&quot;Illinois&quot;,&quot;Counties&quot;:{&quot;statefp&quot;:&quot;17&quot;,&quot;countyfp&quot;:&quot;079&quot;,&quot;geoid&quot;:&quot;17079&quot;,&quot;name&quot;:&quot;Jasper&quot;,&quot;namelsad&quot;:&quot;Jasper County&quot;,&quot;Location&quot;:{&quot;Latitude&quot;:&quot;+39.0048737&quot;,&quot;Longitude&quot;:&quot;-088.1507629&quot;}}}},{&quot;state&quot;:{&quot;id&quot;:115,&quot;region&quot;:&quot;2&quot;,&quot;division&quot;:&quot;3&quot;,&quot;statefp&quot;:&quot;17&quot;,&quot;statens&quot;:&quot;01779784&quot;,&quot;stusps&quot;:&quot;IL&quot;,&quot;name&quot;:&quot;Illinois&quot;,&quot;Counties&quot;:{&quot;statefp&quot;:&quot;17&quot;,&quot;countyfp&quot;:&quot;013&quot;,&quot;geoid&quot;:&quot;17013&quot;,&quot;name&quot;:&quot;Calhoun&quot;,&quot;namelsad&quot;:&quot;Calhoun County&quot;,&quot;Location&quot;:{&quot;Latitude&quot;:&quot;+39.1642619&quot;,&quot;Longitude&quot;:&quot;-090.6662949&quot;}}}},{&quot;state&quot;:{&quot;id&quot;:115,&quot;region&quot;:&quot;2&quot;,&quot;division&quot;:&quot;3&quot;,&quot;statefp&quot;:&quot;17&quot;,&quot;statens&quot;:&quot;01779784&quot;,&quot;stusps&quot;:&quot;IL&quot;,&quot;name&quot;:&quot;Illinois&quot;,&quot;Counties&quot;:{&quot;statefp&quot;:&quot;17&quot;,&quot;countyfp&quot;:&quot;121&quot;,&quot;geoid&quot;:&quot;17121&quot;,&quot;name&quot;:&quot;Marion&quot;,&quot;namelsad&quot;:&quot;Marion County&quot;,&quot;Location&quot;:{&quot;Latitude&quot;:&quot;+38.6482361&quot;,&quot;Longitude&quot;:&quot;-088.9203624&quot;}}}},{&quot;state&quot;:{&quot;id&quot;:115,&quot;region&quot;:&quot;2&quot;,&quot;division&quot;:&quot;3&quot;,&quot;statefp&quot;:&quot;17&quot;,&quot;statens&quot;:&quot;01779784&quot;,&quot;stusps&quot;:&quot;IL&quot;,&quot;name&quot;:&quot;Illinois&quot;,&quot;Counties&quot;:{&quot;statefp&quot;:&quot;17&quot;,&quot;countyfp&quot;:&quot;187&quot;,&quot;geoid&quot;:&quot;17187&quot;,&quot;name&quot;:&quot;Warren&quot;,&quot;namelsad&quot;:&quot;Warren County&quot;,&quot;Location&quot;:{&quot;Latitude&quot;:&quot;+40.8504412&quot;,&quot;Longitude&quot;:&quot;-090.6202228&quot;}}}},{&quot;state&quot;:{&quot;id&quot;:115,&quot;region&quot;:&quot;2&quot;,&quot;division&quot;:&quot;3&quot;,&quot;statefp&quot;:&quot;17&quot;,&quot;statens&quot;:&quot;01779784&quot;,&quot;stusps&quot;:&quot;IL&quot;,&quot;name&quot;:&quot;Illinois&quot;,&quot;Counties&quot;:{&quot;statefp&quot;:&quot;17&quot;,&quot;countyfp&quot;:&quot;197&quot;,&quot;geoid&quot;:&quot;17197&quot;,&quot;name&quot;:&quot;Will&quot;,&quot;namelsad&quot;:&quot;Will County&quot;,&quot;Location&quot;:{&quot;Latitude&quot;:&quot;+41.4484742&quot;,&quot;Longitude&quot;:&quot;-087.9784564&quot;}}}},{&quot;state&quot;:{&quot;id&quot;:115,&quot;region&quot;:&quot;2&quot;,&quot;division&quot;:&quot;3&quot;,&quot;statefp&quot;:&quot;17&quot;,&quot;statens&quot;:&quot;01779784&quot;,&quot;stusps&quot;:&quot;IL&quot;,&quot;name&quot;:&quot;Illinois&quot;,&quot;Counties&quot;:{&quot;statefp&quot;:&quot;17&quot;,&quot;countyfp&quot;:&quot;153&quot;,&quot;geoid&quot;:&quot;17153&quot;,&quot;name&quot;:&quot;Pulaski&quot;,&quot;namelsad&quot;:&quot;Pulaski County&quot;,&quot;Location&quot;:{&quot;Latitude&quot;:&quot;+37.2156152&quot;,&quot;Longitude&quot;:&quot;-089.1277549&quot;}}}},{&quot;state&quot;:{&quot;id&quot;:115,&quot;region&quot;:&quot;2&quot;,&quot;division&quot;:&quot;3&quot;,&quot;statefp&quot;:&quot;17&quot;,&quot;statens&quot;:&quot;01779784&quot;,&quot;stusps&quot;:&quot;IL&quot;,&quot;name&quot;:&quot;Illinois&quot;,&quot;Counties&quot;:{&quot;statefp&quot;:&quot;17&quot;,&quot;countyfp&quot;:&quot;119&quot;,&quot;geoid&quot;:&quot;17119&quot;,&quot;name&quot;:&quot;Madison&quot;,&quot;namelsad&quot;:&quot;Madison County&quot;,&quot;Location&quot;:{&quot;Latitude&quot;:&quot;+38.8271195&quot;,&quot;Longitude&quot;:&quot;-089.9002267&quot;}}}},{&quot;state&quot;:{&quot;id&quot;:115,&quot;region&quot;:&quot;2&quot;,&quot;division&quot;:&quot;3&quot;,&quot;statefp&quot;:&quot;17&quot;,&quot;statens&quot;:&quot;01779784&quot;,&quot;stusps&quot;:&quot;IL&quot;,&quot;name&quot;:&quot;Illinois&quot;,&quot;Counties&quot;:{&quot;statefp&quot;:&quot;17&quot;,&quot;countyfp&quot;:&quot;133&quot;,&quot;geoid&quot;:&quot;17133&quot;,&quot;name&quot;:&quot;Monroe&quot;,&quot;namelsad&quot;:&quot;Monroe County&quot;,&quot;Location&quot;:{&quot;Latitude&quot;:&quot;+38.2779831&quot;,&quot;Longitude&quot;:&quot;-090.1790777&quot;}}}},{&quot;state&quot;:{&quot;id&quot;:115,&quot;region&quot;:&quot;2&quot;,&quot;division&quot;:&quot;3&quot;,&quot;statefp&quot;:&quot;17&quot;,&quot;statens&quot;:&quot;01779784&quot;,&quot;stusps&quot;:&quot;IL&quot;,&quot;name&quot;:&quot;Illinois&quot;,&quot;Counties&quot;:{&quot;statefp&quot;:&quot;17&quot;,&quot;countyfp&quot;:&quot;003&quot;,&quot;geoid&quot;:&quot;17003&quot;,&quot;name&quot;:&quot;Alexander&quot;,&quot;namelsad&quot;:&quot;Alexander County&quot;,&quot;Location&quot;:{&quot;Latitude&quot;:&quot;+37.1836583&quot;,&quot;Longitude&quot;:&quot;-089.3495158&quot;}}}},{&quot;state&quot;:{&quot;id&quot;:115,&quot;region&quot;:&quot;2&quot;,&quot;division&quot;:&quot;3&quot;,&quot;statefp&quot;:&quot;17&quot;,&quot;statens&quot;:&quot;01779784&quot;,&quot;stusps&quot;:&quot;IL&quot;,&quot;name&quot;:&quot;Illinois&quot;,&quot;Counties&quot;:{&quot;statefp&quot;:&quot;17&quot;,&quot;countyfp&quot;:&quot;043&quot;,&quot;geoid&quot;:&quot;17043&quot;,&quot;name&quot;:&quot;DuPage&quot;,&quot;namelsad&quot;:&quot;DuPage County&quot;,&quot;Location&quot;:{&quot;Latitude&quot;:&quot;+41.8520577&quot;,&quot;Longitude&quot;:&quot;-088.0860389&quot;}}}},{&quot;state&quot;:{&quot;id&quot;:115,&quot;region&quot;:&quot;2&quot;,&quot;division&quot;:&quot;3&quot;,&quot;statefp&quot;:&quot;17&quot;,&quot;statens&quot;:&quot;01779784&quot;,&quot;stusps&quot;:&quot;IL&quot;,&quot;name&quot;:&quot;Illinois&quot;,&quot;Counties&quot;:{&quot;statefp&quot;:&quot;17&quot;,&quot;countyfp&quot;:&quot;165&quot;,&quot;geoid&quot;:&quot;17165&quot;,&quot;name&quot;:&quot;Saline&quot;,&quot;namelsad&quot;:&quot;Saline County&quot;,&quot;Location&quot;:{&quot;Latitude&quot;:&quot;+37.7515083&quot;,&quot;Longitude&quot;:&quot;-088.5450236&quot;}}}},{&quot;state&quot;:{&quot;id&quot;:115,&quot;region&quot;:&quot;2&quot;,&quot;division&quot;:&quot;3&quot;,&quot;statefp&quot;:&quot;17&quot;,&quot;statens&quot;:&quot;01779784&quot;,&quot;stusps&quot;:&quot;IL&quot;,&quot;name&quot;:&quot;Illinois&quot;,&quot;Counties&quot;:{&quot;statefp&quot;:&quot;17&quot;,&quot;countyfp&quot;:&quot;097&quot;,&quot;geoid&quot;:&quot;17097&quot;,&quot;name&quot;:&quot;Lake&quot;,&quot;namelsad&quot;:&quot;Lake County&quot;,&quot;Location&quot;:{&quot;Latitude&quot;:&quot;+42.3264410&quot;,&quot;Longitude&quot;:&quot;-087.4359760&quot;}}}},{&quot;state&quot;:{&quot;id&quot;:115,&quot;region&quot;:&quot;2&quot;,&quot;division&quot;:&quot;3&quot;,&quot;statefp&quot;:&quot;17&quot;,&quot;statens&quot;:&quot;01779784&quot;,&quot;stusps&quot;:&quot;IL&quot;,&quot;name&quot;:&quot;Illinois&quot;,&quot;Counties&quot;:{&quot;statefp&quot;:&quot;17&quot;,&quot;countyfp&quot;:&quot;117&quot;,&quot;geoid&quot;:&quot;17117&quot;,&quot;name&quot;:&quot;Macoupin&quot;,&quot;namelsad&quot;:&quot;Macoupin County&quot;,&quot;Location&quot;:{&quot;Latitude&quot;:&quot;+39.2659138&quot;,&quot;Longitude&quot;:&quot;-089.9263301&quot;}}}},{&quot;state&quot;:{&quot;id&quot;:115,&quot;region&quot;:&quot;2&quot;,&quot;division&quot;:&quot;3&quot;,&quot;statefp&quot;:&quot;17&quot;,&quot;statens&quot;:&quot;01779784&quot;,&quot;stusps&quot;:&quot;IL&quot;,&quot;name&quot;:&quot;Illinois&quot;,&quot;Counties&quot;:{&quot;statefp&quot;:&quot;17&quot;,&quot;countyfp&quot;:&quot;195&quot;,&quot;geoid&quot;:&quot;17195&quot;,&quot;name&quot;:&quot;Whiteside&quot;,&quot;namelsad&quot;:&quot;Whiteside County&quot;,&quot;Location&quot;:{&quot;Latitude&quot;:&quot;+41.7506733&quot;,&quot;Longitude&quot;:&quot;-089.9110045&quot;}}}},{&quot;state&quot;:{&quot;id&quot;:115,&quot;region&quot;:&quot;2&quot;,&quot;division&quot;:&quot;3&quot;,&quot;statefp&quot;:&quot;17&quot;,&quot;statens&quot;:&quot;01779784&quot;,&quot;stusps&quot;:&quot;IL&quot;,&quot;name&quot;:&quot;Illinois&quot;,&quot;Counties&quot;:{&quot;statefp&quot;:&quot;17&quot;,&quot;countyfp&quot;:&quot;107&quot;,&quot;geoid&quot;:&quot;17107&quot;,&quot;name&quot;:&quot;Logan&quot;,&quot;namelsad&quot;:&quot;Logan County&quot;,&quot;Location&quot;:{&quot;Latitude&quot;:&quot;+40.1292768&quot;,&quot;Longitude&quot;:&quot;-089.3653086&quot;}}}},{&quot;state&quot;:{&quot;id&quot;:115,&quot;region&quot;:&quot;2&quot;,&quot;division&quot;:&quot;3&quot;,&quot;statefp&quot;:&quot;17&quot;,&quot;statens&quot;:&quot;01779784&quot;,&quot;stusps&quot;:&quot;IL&quot;,&quot;name&quot;:&quot;Illinois&quot;,&quot;Counties&quot;:{&quot;statefp&quot;:&quot;17&quot;,&quot;countyfp&quot;:&quot;081&quot;,&quot;geoid&quot;:&quot;17081&quot;,&quot;name&quot;:&quot;Jefferson&quot;,&quot;namelsad&quot;:&quot;Jefferson County&quot;,&quot;Location&quot;:{&quot;Latitude&quot;:&quot;+38.3007796&quot;,&quot;Longitude&quot;:&quot;-088.9242100&quot;}}}},{&quot;state&quot;:{&quot;id&quot;:115,&quot;region&quot;:&quot;2&quot;,&quot;division&quot;:&quot;3&quot;,&quot;statefp&quot;:&quot;17&quot;,&quot;statens&quot;:&quot;01779784&quot;,&quot;stusps&quot;:&quot;IL&quot;,&quot;name&quot;:&quot;Illinois&quot;,&quot;Counties&quot;:{&quot;statefp&quot;:&quot;17&quot;,&quot;countyfp&quot;:&quot;101&quot;,&quot;geoid&quot;:&quot;17101&quot;,&quot;name&quot;:&quot;Lawrence&quot;,&quot;namelsad&quot;:&quot;Lawrence County&quot;,&quot;Location&quot;:{&quot;Latitude&quot;:&quot;+38.7189542&quot;,&quot;Longitude&quot;:&quot;-087.7302207&quot;}}}},{&quot;state&quot;:{&quot;id&quot;:115,&quot;region&quot;:&quot;2&quot;,&quot;division&quot;:&quot;3&quot;,&quot;statefp&quot;:&quot;17&quot;,&quot;statens&quot;:&quot;01779784&quot;,&quot;stusps&quot;:&quot;IL&quot;,&quot;name&quot;:&quot;Illinois&quot;,&quot;Counties&quot;:{&quot;statefp&quot;:&quot;17&quot;,&quot;countyfp&quot;:&quot;143&quot;,&quot;geoid&quot;:&quot;17143&quot;,&quot;name&quot;:&quot;Peoria&quot;,&quot;namelsad&quot;:&quot;Peoria County&quot;,&quot;Location&quot;:{&quot;Latitude&quot;:&quot;+40.7859722&quot;,&quot;Longitude&quot;:&quot;-089.7669933&quot;}}}},{&quot;state&quot;:{&quot;id&quot;:115,&quot;region&quot;:&quot;2&quot;,&quot;division&quot;:&quot;3&quot;,&quot;statefp&quot;:&quot;17&quot;,&quot;statens&quot;:&quot;01779784&quot;,&quot;stusps&quot;:&quot;IL&quot;,&quot;name&quot;:&quot;Illinois&quot;,&quot;Counties&quot;:{&quot;statefp&quot;:&quot;17&quot;,&quot;countyfp&quot;:&quot;019&quot;,&quot;geoid&quot;:&quot;17019&quot;,&quot;name&quot;:&quot;Champaign&quot;,&quot;namelsad&quot;:&quot;Champaign County&quot;,&quot;Location&quot;:{&quot;Latitude&quot;:&quot;+40.1389845&quot;,&quot;Longitude&quot;:&quot;-088.1969749&quot;}}}},{&quot;state&quot;:{&quot;id&quot;:115,&quot;region&quot;:&quot;2&quot;,&quot;division&quot;:&quot;3&quot;,&quot;statefp&quot;:&quot;17&quot;,&quot;statens&quot;:&quot;01779784&quot;,&quot;stusps&quot;:&quot;IL&quot;,&quot;name&quot;:&quot;Illinois&quot;,&quot;Counties&quot;:{&quot;statefp&quot;:&quot;17&quot;,&quot;countyfp&quot;:&quot;045&quot;,&quot;geoid&quot;:&quot;17045&quot;,&quot;name&quot;:&quot;Edgar&quot;,&quot;namelsad&quot;:&quot;Edgar County&quot;,&quot;Location&quot;:{&quot;Latitude&quot;:&quot;+39.6790370&quot;,&quot;Longitude&quot;:&quot;-087.7471102&quot;}}}},{&quot;state&quot;:{&quot;id&quot;:115,&quot;region&quot;:&quot;2&quot;,&quot;division&quot;:&quot;3&quot;,&quot;statefp&quot;:&quot;17&quot;,&quot;statens&quot;:&quot;01779784&quot;,&quot;stusps&quot;:&quot;IL&quot;,&quot;name&quot;:&quot;Illinois&quot;,&quot;Counties&quot;:{&quot;statefp&quot;:&quot;17&quot;,&quot;countyfp&quot;:&quot;021&quot;,&quot;geoid&quot;:&quot;17021&quot;,&quot;name&quot;:&quot;Christian&quot;,&quot;namelsad&quot;:&quot;Christian County&quot;,&quot;Location&quot;:{&quot;Latitude&quot;:&quot;+39.5455242&quot;,&quot;Longitude&quot;:&quot;-089.2795927&quot;}}}},{&quot;state&quot;:{&quot;id&quot;:115,&quot;region&quot;:&quot;2&quot;,&quot;division&quot;:&quot;3&quot;,&quot;statefp&quot;:&quot;17&quot;,&quot;statens&quot;:&quot;01779784&quot;,&quot;stusps&quot;:&quot;IL&quot;,&quot;name&quot;:&quot;Illinois&quot;,&quot;Counties&quot;:{&quot;statefp&quot;:&quot;17&quot;,&quot;countyfp&quot;:&quot;095&quot;,&quot;geoid&quot;:&quot;17095&quot;,&quot;name&quot;:&quot;Knox&quot;,&quot;namelsad&quot;:&quot;Knox County&quot;,&quot;Location&quot;:{&quot;Latitude&quot;:&quot;+40.9309446&quot;,&quot;Longitude&quot;:&quot;-090.2137921&quot;}}}},{&quot;state&quot;:{&quot;id&quot;:115,&quot;region&quot;:&quot;2&quot;,&quot;division&quot;:&quot;3&quot;,&quot;statefp&quot;:&quot;17&quot;,&quot;statens&quot;:&quot;01779784&quot;,&quot;stusps&quot;:&quot;IL&quot;,&quot;name&quot;:&quot;Illinois&quot;,&quot;Counties&quot;:{&quot;statefp&quot;:&quot;17&quot;,&quot;countyfp&quot;:&quot;111&quot;,&quot;geoid&quot;:&quot;17111&quot;,&quot;name&quot;:&quot;McHenry&quot;,&quot;namelsad&quot;:&quot;McHenry County&quot;,&quot;Location&quot;:{&quot;Latitude&quot;:&quot;+42.3242982&quot;,&quot;Longitude&quot;:&quot;-088.4522450&quot;}}}},{&quot;state&quot;:{&quot;id&quot;:115,&quot;region&quot;:&quot;2&quot;,&quot;division&quot;:&quot;3&quot;,&quot;statefp&quot;:&quot;17&quot;,&quot;statens&quot;:&quot;01779784&quot;,&quot;stusps&quot;:&quot;IL&quot;,&quot;name&quot;:&quot;Illinois&quot;,&quot;Counties&quot;:{&quot;statefp&quot;:&quot;17&quot;,&quot;countyfp&quot;:&quot;015&quot;,&quot;geoid&quot;:&quot;17015&quot;,&quot;name&quot;:&quot;Carroll&quot;,&quot;namelsad&quot;:&quot;Carroll County&quot;,&quot;Location&quot;:{&quot;Latitude&quot;:&quot;+42.0709000&quot;,&quot;Longitude&quot;:&quot;-089.9241894&quot;}}}},{&quot;state&quot;:{&quot;id&quot;:115,&quot;region&quot;:&quot;2&quot;,&quot;division&quot;:&quot;3&quot;,&quot;statefp&quot;:&quot;17&quot;,&quot;statens&quot;:&quot;01779784&quot;,&quot;stusps&quot;:&quot;IL&quot;,&quot;name&quot;:&quot;Illinois&quot;,&quot;Counties&quot;:{&quot;statefp&quot;:&quot;17&quot;,&quot;countyfp&quot;:&quot;047&quot;,&quot;geoid&quot;:&quot;17047&quot;,&quot;name&quot;:&quot;Edwards&quot;,&quot;namelsad&quot;:&quot;Edwards County&quot;,&quot;Location&quot;:{&quot;Latitude&quot;:&quot;+38.4170954&quot;,&quot;Longitude&quot;:&quot;-088.0479408&quot;}}}},{&quot;state&quot;:{&quot;id&quot;:115,&quot;region&quot;:&quot;2&quot;,&quot;division&quot;:&quot;3&quot;,&quot;statefp&quot;:&quot;17&quot;,&quot;statens&quot;:&quot;01779784&quot;,&quot;stusps&quot;:&quot;IL&quot;,&quot;name&quot;:&quot;Illinois&quot;,&quot;Counties&quot;:{&quot;statefp&quot;:&quot;17&quot;,&quot;countyfp&quot;:&quot;071&quot;,&quot;geoid&quot;:&quot;17071&quot;,&quot;name&quot;:&quot;Henderson&quot;,&quot;namelsad&quot;:&quot;Henderson County&quot;,&quot;Location&quot;:{&quot;Latitude&quot;:&quot;+40.8144710&quot;,&quot;Longitude&quot;:&quot;-090.9412464&quot;}}}},{&quot;state&quot;:{&quot;id&quot;:115,&quot;region&quot;:&quot;2&quot;,&quot;division&quot;:&quot;3&quot;,&quot;statefp&quot;:&quot;17&quot;,&quot;statens&quot;:&quot;01779784&quot;,&quot;stusps&quot;:&quot;IL&quot;,&quot;name&quot;:&quot;Illinois&quot;,&quot;Counties&quot;:{&quot;statefp&quot;:&quot;17&quot;,&quot;countyfp&quot;:&quot;077&quot;,&quot;geoid&quot;:&quot;17077&quot;,&quot;name&quot;:&quot;Jackson&quot;,&quot;namelsad&quot;:&quot;Jackson County&quot;,&quot;Location&quot;:{&quot;Latitude&quot;:&quot;+37.7860959&quot;,&quot;Longitude&quot;:&quot;-089.3812119&quot;}}}},{&quot;state&quot;:{&quot;id&quot;:15,&quot;region&quot;:&quot;1&quot;,&quot;division&quot;:&quot;2&quot;,&quot;statefp&quot;:&quot;34&quot;,&quot;statens&quot;:&quot;01779795&quot;,&quot;stusps&quot;:&quot;NJ&quot;,&quot;name&quot;:&quot;New Jersey&quot;}},{&quot;state&quot;:{&quot;id&quot;:81,&quot;region&quot;:&quot;2&quot;,&quot;division&quot;:&quot;3&quot;,&quot;statefp&quot;:&quot;39&quot;,&quot;statens&quot;:&quot;01085497&quot;,&quot;stusps&quot;:&quot;OH&quot;,&quot;name&quot;:&quot;Ohio&quot;}},{&quot;state&quot;:{&quot;id&quot;:91,&quot;region&quot;:&quot;9&quot;,&quot;division&quot;:&quot;0&quot;,&quot;statefp&quot;:&quot;78&quot;,&quot;statens&quot;:&quot;01802710&quot;,&quot;stusps&quot;:&quot;VI&quot;,&quot;name&quot;:&quot;United States Virgin Islands&quot;}},{&quot;state&quot;:{&quot;id&quot;:92,&quot;region&quot;:&quot;9&quot;,&quot;division&quot;:&quot;0&quot;,&quot;statefp&quot;:&quot;69&quot;,&quot;statens&quot;:&quot;01779809&quot;,&quot;stusps&quot;:&quot;MP&quot;,&quot;name&quot;:&quot;Commonwealth of the Northern Mariana Islands&quot;}},{&quot;state&quot;:{&quot;id&quot;:88,&quot;region&quot;:&quot;4&quot;,&quot;division&quot;:&quot;9&quot;,&quot;statefp&quot;:&quot;15&quot;,&quot;statens&quot;:&quot;01779782&quot;,&quot;stusps&quot;:&quot;HI&quot;,&quot;name&quot;:&quot;Hawaii&quot;}},{&quot;state&quot;:{&quot;id&quot;:28,&quot;region&quot;:&quot;3&quot;,&quot;division&quot;:&quot;5&quot;,&quot;statefp&quot;:&quot;45&quot;,&quot;statens&quot;:&quot;01779799&quot;,&quot;stusps&quot;:&quot;SC&quot;,&quot;name&quot;:&quot;South Carolina&quot;}},{&quot;state&quot;:{&quot;id&quot;:53,&quot;region&quot;:&quot;3&quot;,&quot;division&quot;:&quot;5&quot;,&quot;statefp&quot;:&quot;51&quot;,&quot;statens&quot;:&quot;01779803&quot;,&quot;stusps&quot;:&quot;VA&quot;,&quot;name&quot;:&quot;Virginia&quot;}},{&quot;state&quot;:{&quot;id&quot;:100,&quot;region&quot;:&quot;3&quot;,&quot;division&quot;:&quot;7&quot;,&quot;statefp&quot;:&quot;05&quot;,&quot;statens&quot;:&quot;00068085&quot;,&quot;stusps&quot;:&quot;AR&quot;,&quot;name&quot;:&quot;Arkansas&quot;}},{&quot;state&quot;:{&quot;id&quot;:155,&quot;region&quot;:&quot;2&quot;,&quot;division&quot;:&quot;3&quot;,&quot;statefp&quot;:&quot;26&quot;,&quot;statens&quot;:&quot;01779789&quot;,&quot;stusps&quot;:&quot;MI&quot;,&quot;name&quot;:&quot;Michigan&quot;}},{&quot;state&quot;:{&quot;id&quot;:11,&quot;region&quot;:&quot;1&quot;,&quot;division&quot;:&quot;1&quot;,&quot;statefp&quot;:&quot;09&quot;,&quot;statens&quot;:&quot;01779780&quot;,&quot;stusps&quot;:&quot;CT&quot;,&quot;name&quot;:&quot;Connecticut&quot;}},{&quot;state&quot;:{&quot;id&quot;:31,&quot;region&quot;:&quot;4&quot;,&quot;division&quot;:&quot;8&quot;,&quot;statefp&quot;:&quot;56&quot;,&quot;statens&quot;:&quot;01779807&quot;,&quot;stusps&quot;:&quot;WY&quot;,&quot;name&quot;:&quot;Wyoming&quot;}},{&quot;state&quot;:{&quot;id&quot;:146,&quot;region&quot;:&quot;3&quot;,&quot;division&quot;:&quot;6&quot;,&quot;statefp&quot;:&quot;21&quot;,&quot;statens&quot;:&quot;01779786&quot;,&quot;stusps&quot;:&quot;KY&quot;,&quot;name&quot;:&quot;Kentucky&quot;}},{&quot;state&quot;:{&quot;id&quot;:94,&quot;region&quot;:&quot;1&quot;,&quot;division&quot;:&quot;1&quot;,&quot;statefp&quot;:&quot;23&quot;,&quot;statens&quot;:&quot;01779787&quot;,&quot;stusps&quot;:&quot;ME&quot;,&quot;name&quot;:&quot;Maine&quot;}},{&quot;state&quot;:{&quot;id&quot;:54,&quot;region&quot;:&quot;3&quot;,&quot;division&quot;:&quot;5&quot;,&quot;statefp&quot;:&quot;11&quot;,&quot;statens&quot;:&quot;01702382&quot;,&quot;stusps&quot;:&quot;DC&quot;,&quot;name&quot;:&quot;District of Columbia&quot;}},{&quot;state&quot;:{&quot;id&quot;:107,&quot;region&quot;:&quot;2&quot;,&quot;division&quot;:&quot;4&quot;,&quot;statefp&quot;:&quot;46&quot;,&quot;statens&quot;:&quot;01785534&quot;,&quot;stusps&quot;:&quot;SD&quot;,&quot;name&quot;:&quot;South Dakota&quot;}},{&quot;state&quot;:{&quot;id&quot;:162,&quot;region&quot;:&quot;9&quot;,&quot;division&quot;:&quot;0&quot;,&quot;statefp&quot;:&quot;72&quot;,&quot;statens&quot;:&quot;01779808&quot;,&quot;stusps&quot;:&quot;PR&quot;,&quot;name&quot;:&quot;Puerto Rico&quot;}},{&quot;state&quot;:{&quot;id&quot;:73,&quot;region&quot;:&quot;No&quot;,&quot;division&quot;:&quot;9&quot;,&quot;statefp&quot;:&quot;41&quot;,&quot;statens&quot;:&quot;01155107&quot;,&quot;stusps&quot;:&quot;OR&quot;,&quot;name&quot;:&quot;Oregon&quot;}},{&quot;state&quot;:{&quot;id&quot;:125,&quot;region&quot;:&quot;4&quot;,&quot;division&quot;:&quot;8&quot;,&quot;statefp&quot;:&quot;35&quot;,&quot;statens&quot;:&quot;00897535&quot;,&quot;stusps&quot;:&quot;NM&quot;,&quot;name&quot;:&quot;New Mexico&quot;}},{&quot;state&quot;:{&quot;id&quot;:24,&quot;region&quot;:&quot;4&quot;,&quot;division&quot;:&quot;8&quot;,&quot;statefp&quot;:&quot;49&quot;,&quot;statens&quot;:&quot;01455989&quot;,&quot;stusps&quot;:&quot;UT&quot;,&quot;name&quot;:&quot;Utah&quot;}},{&quot;state&quot;:{&quot;id&quot;:7,&quot;region&quot;:&quot;4&quot;,&quot;division&quot;:&quot;8&quot;,&quot;statefp&quot;:&quot;16&quot;,&quot;statens&quot;:&quot;01779783&quot;,&quot;stusps&quot;:&quot;ID&quot;,&quot;name&quot;:&quot;Idaho&quot;}},{&quot;state&quot;:{&quot;id&quot;:132,&quot;region&quot;:&quot;No&quot;,&quot;division&quot;:&quot;9&quot;,&quot;statefp&quot;:&quot;53&quot;,&quot;statens&quot;:&quot;01779804&quot;,&quot;stusps&quot;:&quot;WA&quot;,&quot;name&quot;:&quot;Washington&quot;}},{&quot;state&quot;:{&quot;id&quot;:70,&quot;region&quot;:&quot;4&quot;,&quot;division&quot;:&quot;9&quot;,&quot;statefp&quot;:&quot;06&quot;,&quot;statens&quot;:&quot;01779778&quot;,&quot;stusps&quot;:&quot;CA&quot;,&quot;name&quot;:&quot;California&quot;}},{&quot;state&quot;:{&quot;id&quot;:139,&quot;region&quot;:&quot;4&quot;,&quot;division&quot;:&quot;8&quot;,&quot;statefp&quot;:&quot;08&quot;,&quot;statens&quot;:&quot;01779779&quot;,&quot;stusps&quot;:&quot;CO&quot;,&quot;name&quot;:&quot;Colorado&quot;}},{&quot;state&quot;:{&quot;id&quot;:23,&quot;region&quot;:&quot;3&quot;,&quot;division&quot;:&quot;6&quot;,&quot;statefp&quot;:&quot;01&quot;,&quot;statens&quot;:&quot;01779775&quot;,&quot;stusps&quot;:&quot;AL&quot;,&quot;name&quot;:&quot;Alabama&quot;}},{&quot;state&quot;:{&quot;id&quot;:21,&quot;region&quot;:&quot;3&quot;,&quot;division&quot;:&quot;7&quot;,&quot;statefp&quot;:&quot;22&quot;,&quot;statens&quot;:&quot;01629543&quot;,&quot;stusps&quot;:&quot;LA&quot;,&quot;name&quot;:&quot;Louisiana&quot;}},{&quot;state&quot;:{&quot;id&quot;:74,&quot;region&quot;:&quot;2&quot;,&quot;division&quot;:&quot;4&quot;,&quot;statefp&quot;:&quot;31&quot;,&quot;statens&quot;:&quot;01779792&quot;,&quot;stusps&quot;:&quot;NE&quot;,&quot;name&quot;:&quot;Nebraska&quot;}},{&quot;state&quot;:{&quot;id&quot;:1,&quot;region&quot;:&quot;3&quot;,&quot;division&quot;:&quot;5&quot;,&quot;statefp&quot;:&quot;54&quot;,&quot;statens&quot;:&quot;01779805&quot;,&quot;stusps&quot;:&quot;WV&quot;,&quot;name&quot;:&quot;West Virginia&quot;}},{&quot;state&quot;:{&quot;id&quot;:124,&quot;region&quot;:&quot;3&quot;,&quot;division&quot;:&quot;5&quot;,&quot;statefp&quot;:&quot;10&quot;,&quot;statens&quot;:&quot;01779781&quot;,&quot;stusps&quot;:&quot;DE&quot;,&quot;name&quot;:&quot;Delaware&quot;}},{&quot;state&quot;:{&quot;id&quot;:29,&quot;region&quot;:&quot;3&quot;,&quot;division&quot;:&quot;7&quot;,&quot;statefp&quot;:&quot;40&quot;,&quot;statens&quot;:&quot;01102857&quot;,&quot;stusps&quot;:&quot;OK&quot;,&quot;name&quot;:&quot;Oklahoma&quot;}},{&quot;state&quot;:{&quot;id&quot;:116,&quot;region&quot;:&quot;2&quot;,&quot;division&quot;:&quot;4&quot;,&quot;statefp&quot;:&quot;27&quot;,&quot;statens&quot;:&quot;00662849&quot;,&quot;stusps&quot;:&quot;MN&quot;,&quot;name&quot;:&quot;Minnesota&quot;}},{&quot;state&quot;:{&quot;id&quot;:22,&quot;region&quot;:&quot;3&quot;,&quot;division&quot;:&quot;5&quot;,&quot;statefp&quot;:&quot;13&quot;,&quot;statens&quot;:&quot;01705317&quot;,&quot;stusps&quot;:&quot;GA&quot;,&quot;name&quot;:&quot;Georgia&quot;}},{&quot;state&quot;:{&quot;id&quot;:30,&quot;region&quot;:&quot;3&quot;,&quot;division&quot;:&quot;6&quot;,&quot;statefp&quot;:&quot;47&quot;,&quot;statens&quot;:&quot;01325873&quot;,&quot;stusps&quot;:&quot;TN&quot;,&quot;name&quot;:&quot;Tennessee&quot;}},{&quot;state&quot;:{&quot;id&quot;:33,&quot;region&quot;:&quot;2&quot;,&quot;division&quot;:&quot;4&quot;,&quot;statefp&quot;:&quot;38&quot;,&quot;statens&quot;:&quot;01779797&quot;,&quot;stusps&quot;:&quot;ND&quot;,&quot;name&quot;:&quot;North Dakota&quot;}},{&quot;state&quot;:{&quot;id&quot;:61,&quot;region&quot;:&quot;3&quot;,&quot;division&quot;:&quot;5&quot;,&quot;statefp&quot;:&quot;24&quot;,&quot;statens&quot;:&quot;01714934&quot;,&quot;stusps&quot;:&quot;MD&quot;,&quot;name&quot;:&quot;Maryland&quot;}},{&quot;state&quot;:{&quot;id&quot;:158,&quot;region&quot;:&quot;2&quot;,&quot;division&quot;:&quot;4&quot;,&quot;statefp&quot;:&quot;29&quot;,&quot;statens&quot;:&quot;01779791&quot;,&quot;stusps&quot;:&quot;MO&quot;,&quot;name&quot;:&quot;Missouri&quot;}},{&quot;state&quot;:{&quot;id&quot;:167,&quot;region&quot;:&quot;2&quot;,&quot;division&quot;:&quot;4&quot;,&quot;statefp&quot;:&quot;19&quot;,&quot;statens&quot;:&quot;01779785&quot;,&quot;stusps&quot;:&quot;IA&quot;,&quot;name&quot;:&quot;Iowa&quot;}},{&quot;state&quot;:{&quot;id&quot;:48,&quot;region&quot;:&quot;2&quot;,&quot;division&quot;:&quot;4&quot;,&quot;statefp&quot;:&quot;20&quot;,&quot;statens&quot;:&quot;00481813&quot;,&quot;stusps&quot;:&quot;KS&quot;,&quot;name&quot;:&quot;Kansas&quot;}},{&quot;state&quot;:{&quot;id&quot;:114,&quot;region&quot;:&quot;3&quot;,&quot;division&quot;:&quot;5&quot;,&quot;statefp&quot;:&quot;12&quot;,&quot;statens&quot;:&quot;00294478&quot;,&quot;stusps&quot;:&quot;FL&quot;,&quot;name&quot;:&quot;Florida&quot;}},{&quot;state&quot;:{&quot;id&quot;:118,&quot;region&quot;:&quot;1&quot;,&quot;division&quot;:&quot;1&quot;,&quot;statefp&quot;:&quot;44&quot;,&quot;statens&quot;:&quot;01219835&quot;,&quot;stusps&quot;:&quot;RI&quot;,&quot;name&quot;:&quot;Rhode Island&quot;}},{&quot;state&quot;:{&quot;id&quot;:122,&quot;region&quot;:&quot;1&quot;,&quot;division&quot;:&quot;1&quot;,&quot;statefp&quot;:&quot;50&quot;,&quot;statens&quot;:&quot;01779802&quot;,&quot;stusps&quot;:&quot;VT&quot;,&quot;name&quot;:&quot;Vermont&quot;}},{&quot;state&quot;:{&quot;id&quot;:19,&quot;region&quot;:&quot;1&quot;,&quot;division&quot;:&quot;2&quot;,&quot;statefp&quot;:&quot;42&quot;,&quot;statens&quot;:&quot;01779798&quot;,&quot;stusps&quot;:&quot;PA&quot;,&quot;name&quot;:&quot;Pennsylvania&quot;}},{&quot;state&quot;:{&quot;id&quot;:47,&quot;region&quot;:&quot;4&quot;,&quot;division&quot;:&quot;8&quot;,&quot;statefp&quot;:&quot;30&quot;,&quot;statens&quot;:&quot;00767982&quot;,&quot;stusps&quot;:&quot;MT&quot;,&quot;name&quot;:&quot;Montana&quot;}},{&quot;state&quot;:{&quot;id&quot;:98,&quot;region&quot;:&quot;9&quot;,&quot;division&quot;:&quot;0&quot;,&quot;statefp&quot;:&quot;60&quot;,&quot;statens&quot;:&quot;01802701&quot;,&quot;stusps&quot;:&quot;AS&quot;,&quot;name&quot;:&quot;American Samoa&quot;}},{&quot;state&quot;:{&quot;id&quot;:121,&quot;region&quot;:&quot;3&quot;,&quot;division&quot;:&quot;5&quot;,&quot;statefp&quot;:&quot;37&quot;,&quot;statens&quot;:&quot;01027616&quot;,&quot;stusps&quot;:&quot;NC&quot;,&quot;name&quot;:&quot;North Carolina&quot;}},{&quot;state&quot;:{&quot;id&quot;:149,&quot;region&quot;:&quot;9&quot;,&quot;division&quot;:&quot;0&quot;,&quot;statefp&quot;:&quot;66&quot;,&quot;statens&quot;:&quot;01802705&quot;,&quot;stusps&quot;:&quot;GU&quot;,&quot;name&quot;:&quot;Guam&quot;}},{&quot;state&quot;:{&quot;id&quot;:120,&quot;region&quot;:&quot;1&quot;,&quot;division&quot;:&quot;1&quot;,&quot;statefp&quot;:&quot;33&quot;,&quot;statens&quot;:&quot;01779794&quot;,&quot;stusps&quot;:&quot;NH&quot;,&quot;name&quot;:&quot;New Hampshire&quot;}},{&quot;state&quot;:{&quot;id&quot;:108,&quot;region&quot;:&quot;1&quot;,&quot;division&quot;:&quot;1&quot;,&quot;statefp&quot;:&quot;25&quot;,&quot;statens&quot;:&quot;00606926&quot;,&quot;stusps&quot;:&quot;MA&quot;,&quot;name&quot;:&quot;Massachusetts&quot;}},{&quot;state&quot;:{&quot;id&quot;:128,&quot;region&quot;:&quot;2&quot;,&quot;division&quot;:&quot;3&quot;,&quot;statefp&quot;:&quot;55&quot;,&quot;statens&quot;:&quot;01779806&quot;,&quot;stusps&quot;:&quot;WI&quot;,&quot;name&quot;:&quot;Wisconsin&quot;}},{&quot;state&quot;:{&quot;id&quot;:45,&quot;region&quot;:&quot;3&quot;,&quot;division&quot;:&quot;6&quot;,&quot;statefp&quot;:&quot;28&quot;,&quot;statens&quot;:&quot;01779790&quot;,&quot;stusps&quot;:&quot;MS&quot;,&quot;name&quot;:&quot;Mississippi&quot;}},{&quot;state&quot;:{&quot;id&quot;:168,&quot;region&quot;:&quot;4&quot;,&quot;division&quot;:&quot;8&quot;,&quot;statefp&quot;:&quot;04&quot;,&quot;statens&quot;:&quot;01779777&quot;,&quot;stusps&quot;:&quot;AZ&quot;,&quot;name&quot;:&quot;Arizona&quot;}},{&quot;state&quot;:{&quot;id&quot;:97,&quot;region&quot;:&quot;4&quot;,&quot;division&quot;:&quot;9&quot;,&quot;statefp&quot;:&quot;02&quot;,&quot;statens&quot;:&quot;01785533&quot;,&quot;stusps&quot;:&quot;AK&quot;,&quot;name&quot;:&quot;Alaska&quot;}},{&quot;state&quot;:{&quot;id&quot;:82,&quot;region&quot;:&quot;3&quot;,&quot;division&quot;:&quot;7&quot;,&quot;statefp&quot;:&quot;48&quot;,&quot;statens&quot;:&quot;01779801&quot;,&quot;stusps&quot;:&quot;TX&quot;,&quot;name&quot;:&quot;Texas&quot;}},{&quot;state&quot;:{&quot;id&quot;:40,&quot;region&quot;:&quot;4&quot;,&quot;division&quot;:&quot;8&quot;,&quot;statefp&quot;:&quot;32&quot;,&quot;statens&quot;:&quot;01779793&quot;,&quot;stusps&quot;:&quot;NV&quot;,&quot;name&quot;:&quot;Nevada&quot;}},{&quot;state&quot;:{&quot;id&quot;:39,&quot;region&quot;:&quot;1&quot;,&quot;division&quot;:&quot;2&quot;,&quot;statefp&quot;:&quot;36&quot;,&quot;statens&quot;:&quot;01779796&quot;,&quot;stusps&quot;:&quot;NY&quot;,&quot;name&quot;:&quot;New York&quot;}},{&quot;state&quot;:{&quot;id&quot;:49,&quot;region&quot;:&quot;2&quot;,&quot;division&quot;:&quot;3&quot;,&quot;statefp&quot;:&quot;18&quot;,&quot;statens&quot;:&quot;00448508&quot;,&quot;stusps&quot;:&quot;IN&quot;,&quot;name&quot;:&quot;Indiana&quot;}}]}</td></tr></table>"
                    },
                    "metadata": {}
                }
            ],
            "execution_count": 12
        },
        {
            "cell_type": "markdown",
            "source": [
                "# **OPENJSON:**\n",
                "\n",
                "## **OpenJson is a table-valued function that parses JSON text** \n",
                "\n",
                "## **and returns objects and properties from the JSON input as rows and columns.**"
            ],
            "metadata": {
                "azdata_cell_guid": "d36fc07d-e709-4454-84dc-5b9ed00a3c70"
            },
            "attachments": {}
        },
        {
            "cell_type": "markdown",
            "source": [
                "#"
            ],
            "metadata": {
                "azdata_cell_guid": "512e5d2d-c8e4-4894-8522-3a671ae40650"
            },
            "attachments": {}
        },
        {
            "cell_type": "markdown",
            "source": [
                "## **<span style=\"color: rgb(23, 23, 23); font-family: &quot;Segoe UI&quot;, SegoeUI, &quot;Helvetica Neue&quot;, Helvetica, Arial, sans-serif; font-size: 16px; background-color: rgb(255, 255, 255);\">By default, the&nbsp;</span> <span style=\"box-sizing: inherit; outline-color: inherit; color: rgb(23, 23, 23); font-family: &quot;Segoe UI&quot;, SegoeUI, &quot;Helvetica Neue&quot;, Helvetica, Arial, sans-serif; font-size: 16px; background-color: rgb(255, 255, 255);\">OPENJSON</span> <span style=\"color: rgb(23, 23, 23); font-family: &quot;Segoe UI&quot;, SegoeUI, &quot;Helvetica Neue&quot;, Helvetica, Arial, sans-serif; font-size: 16px;\"><span style=\"background-color: rgb(255, 255, 255);\">&nbsp;table-valued function returns three columns, which contain the </span><span style=\"background-color: yellow;\">key</span><span style=\"background-color: rgb(255, 255, 255);\"> name, the</span><span style=\"background-color: yellow;\"> value</span><span style=\"background-color: rgb(255, 255, 255);\">, and the </span><span style=\"background-color: yellow;\">type</span><span style=\"background-color: rgb(255, 255, 255);\">&nbsp;</span></span>** \n",
                "\n",
                "**<mark>key:</mark>** <span style=\"background-color: rgb(255, 255, 255);\"> The name of the property in the input object (or the index of the element in the input array).</span>\n",
                "\n",
                "  \n",
                "\n",
                "**<mark>value:</mark>** <span style=\"background-color: rgb(255, 255, 255);\">The value of the property or the array element.</span>\n",
                "\n",
                "  \n",
                "\n",
                "**<mark>type:</mark>** <span style=\"background-color: rgb(255, 255, 255);\">&nbsp;(type output):</span>\n",
                "\n",
                "1. **string** \n",
                "2. **number**\n",
                "3. **boolean**\n",
                "4. **array**\n",
                "5. **object**\n",
                "\n",
                "**Source:** **https://docs.microsoft.com/en-us/sql/relational-databases/json/convert-json-data-to-rows-and-columns-with-openjson-sql-server?view=sql-server-ver15**"
            ],
            "metadata": {
                "azdata_cell_guid": "f3a13121-f64f-4791-8106-56874a350f3e"
            },
            "attachments": {}
        },
        {
            "cell_type": "code",
            "source": [
                "\r\n",
                "DECLARE @json NVARCHAR(Max)\r\n",
                "\r\n",
                "SET @json = (SELECT [JSON] FROM [dbo].[YAHOO_FINANCE_JSON]);\r\n",
                "\r\n",
                "SELECT *\r\n",
                "FROM OPENJSON(@json, '$.chart.result[0]')"
            ],
            "metadata": {
                "azdata_cell_guid": "f25ba98e-ab66-40a5-b799-6448abae3fcd"
            },
            "outputs": [
                {
                    "output_type": "display_data",
                    "data": {
                        "text/html": "(3 rows affected)"
                    },
                    "metadata": {}
                },
                {
                    "output_type": "display_data",
                    "data": {
                        "text/html": "Total execution time: 00:00:00.016"
                    },
                    "metadata": {}
                },
                {
                    "output_type": "execute_result",
                    "execution_count": 13,
                    "data": {
                        "application/vnd.dataresource+json": {
                            "schema": {
                                "fields": [
                                    {
                                        "name": "key"
                                    },
                                    {
                                        "name": "value"
                                    },
                                    {
                                        "name": "type"
                                    }
                                ]
                            },
                            "data": [
                                {
                                    "0": "meta",
                                    "1": "{\"currency\":\"USD\",\"symbol\":\"ABBV\",\"exchangeName\":\"NYQ\",\"instrumentType\":\"EQUITY\",\"firstTradeDate\":1357137000,\"regularMarketTime\":1636573232,\"gmtoffset\":-18000,\"timezone\":\"EST\",\"exchangeTimezoneName\":\"America/New_York\",\"regularMarketPrice\":116.58,\"chartPreviousClose\":117.57,\"priceHint\":2,\"currentTradingPeriod\":{\"pre\":{\"timezone\":\"EST\",\"start\":1636534800,\"end\":1636554600,\"gmtoffset\":-18000},\"regular\":{\"timezone\":\"EST\",\"start\":1636554600,\"end\":1636578000,\"gmtoffset\":-18000},\"post\":{\"timezone\":\"EST\",\"start\":1636578000,\"end\":1636592400,\"gmtoffset\":-18000}},\"dataGranularity\":\"1d\",\"range\":\"5d\",\"validRanges\":[\"1d\",\"5d\",\"1mo\",\"3mo\",\"6mo\",\"1y\",\"2y\",\"5y\",\"10y\",\"ytd\",\"max\"]}",
                                    "2": "5"
                                },
                                {
                                    "0": "timestamp",
                                    "1": "[1636032600,1636119000,1636381800,1636468200,1636573232]",
                                    "2": "4"
                                },
                                {
                                    "0": "indicators",
                                    "1": "{\"quote\":[{\"close\":[117.05999755859375,117.18000030517578,116.05999755859375,115.61000061035156,116.58000183105469],\"volume\":[4912200,4634200,7015000,3146100,2615836],\"high\":[117.72000122070312,117.31999969482422,117.44999694824219,116.58999633789062,117.04000091552734],\"low\":[116.33000183105469,115.5,115.77999877929688,115.41000366210938,115.4000015258789],\"open\":[117.56999969482422,116.7300033569336,117.19999694824219,116.23999786376953,115.4000015258789]}],\"adjclose\":[{\"adjclose\":[117.05999755859375,117.18000030517578,116.05999755859375,115.61000061035156,116.58000183105469]}]}",
                                    "2": "5"
                                }
                            ]
                        },
                        "text/html": "<table><tr><th>key</th><th>value</th><th>type</th></tr><tr><td>meta</td><td>{&quot;currency&quot;:&quot;USD&quot;,&quot;symbol&quot;:&quot;ABBV&quot;,&quot;exchangeName&quot;:&quot;NYQ&quot;,&quot;instrumentType&quot;:&quot;EQUITY&quot;,&quot;firstTradeDate&quot;:1357137000,&quot;regularMarketTime&quot;:1636573232,&quot;gmtoffset&quot;:-18000,&quot;timezone&quot;:&quot;EST&quot;,&quot;exchangeTimezoneName&quot;:&quot;America/New_York&quot;,&quot;regularMarketPrice&quot;:116.58,&quot;chartPreviousClose&quot;:117.57,&quot;priceHint&quot;:2,&quot;currentTradingPeriod&quot;:{&quot;pre&quot;:{&quot;timezone&quot;:&quot;EST&quot;,&quot;start&quot;:1636534800,&quot;end&quot;:1636554600,&quot;gmtoffset&quot;:-18000},&quot;regular&quot;:{&quot;timezone&quot;:&quot;EST&quot;,&quot;start&quot;:1636554600,&quot;end&quot;:1636578000,&quot;gmtoffset&quot;:-18000},&quot;post&quot;:{&quot;timezone&quot;:&quot;EST&quot;,&quot;start&quot;:1636578000,&quot;end&quot;:1636592400,&quot;gmtoffset&quot;:-18000}},&quot;dataGranularity&quot;:&quot;1d&quot;,&quot;range&quot;:&quot;5d&quot;,&quot;validRanges&quot;:[&quot;1d&quot;,&quot;5d&quot;,&quot;1mo&quot;,&quot;3mo&quot;,&quot;6mo&quot;,&quot;1y&quot;,&quot;2y&quot;,&quot;5y&quot;,&quot;10y&quot;,&quot;ytd&quot;,&quot;max&quot;]}</td><td>5</td></tr><tr><td>timestamp</td><td>[1636032600,1636119000,1636381800,1636468200,1636573232]</td><td>4</td></tr><tr><td>indicators</td><td>{&quot;quote&quot;:[{&quot;close&quot;:[117.05999755859375,117.18000030517578,116.05999755859375,115.61000061035156,116.58000183105469],&quot;volume&quot;:[4912200,4634200,7015000,3146100,2615836],&quot;high&quot;:[117.72000122070312,117.31999969482422,117.44999694824219,116.58999633789062,117.04000091552734],&quot;low&quot;:[116.33000183105469,115.5,115.77999877929688,115.41000366210938,115.4000015258789],&quot;open&quot;:[117.56999969482422,116.7300033569336,117.19999694824219,116.23999786376953,115.4000015258789]}],&quot;adjclose&quot;:[{&quot;adjclose&quot;:[117.05999755859375,117.18000030517578,116.05999755859375,115.61000061035156,116.58000183105469]}]}</td><td>5</td></tr></table>"
                    },
                    "metadata": {}
                }
            ],
            "execution_count": 13
        },
        {
            "cell_type": "code",
            "source": [
                "DECLARE @json NVARCHAR(Max) = (SELECT [JSON] FROM [dbo].[YAHOO_FINANCE_JSON]);\r\n",
                "\r\n",
                "SELECT [key], [value], [type],\r\n",
                "    CASE WHEN [type] = 1 THEN 'string'\r\n",
                "         WHEN [type] = 2 THEN 'number'\r\n",
                "         WHEN [type] = 3 THEN 'boolean'\r\n",
                "         WHEN [type] = 4 THEN 'array'\r\n",
                "         WHEN [type] = 5 THEN 'object'\r\n",
                "    END AS [type_desc]\r\n",
                "FROM OPENJSON(@json, '$.chart.result[0].meta')"
            ],
            "metadata": {
                "azdata_cell_guid": "71c3ff0b-0aa7-473f-b2e7-f8f74e7e33c3"
            },
            "outputs": [
                {
                    "output_type": "display_data",
                    "data": {
                        "text/html": "(16 rows affected)"
                    },
                    "metadata": {}
                },
                {
                    "output_type": "display_data",
                    "data": {
                        "text/html": "Total execution time: 00:00:00.014"
                    },
                    "metadata": {}
                },
                {
                    "output_type": "execute_result",
                    "execution_count": 14,
                    "data": {
                        "application/vnd.dataresource+json": {
                            "schema": {
                                "fields": [
                                    {
                                        "name": "key"
                                    },
                                    {
                                        "name": "value"
                                    },
                                    {
                                        "name": "type"
                                    },
                                    {
                                        "name": "type_desc"
                                    }
                                ]
                            },
                            "data": [
                                {
                                    "0": "currency",
                                    "1": "USD",
                                    "2": "1",
                                    "3": "string"
                                },
                                {
                                    "0": "symbol",
                                    "1": "ABBV",
                                    "2": "1",
                                    "3": "string"
                                },
                                {
                                    "0": "exchangeName",
                                    "1": "NYQ",
                                    "2": "1",
                                    "3": "string"
                                },
                                {
                                    "0": "instrumentType",
                                    "1": "EQUITY",
                                    "2": "1",
                                    "3": "string"
                                },
                                {
                                    "0": "firstTradeDate",
                                    "1": "1357137000",
                                    "2": "2",
                                    "3": "number"
                                },
                                {
                                    "0": "regularMarketTime",
                                    "1": "1636573232",
                                    "2": "2",
                                    "3": "number"
                                },
                                {
                                    "0": "gmtoffset",
                                    "1": "-18000",
                                    "2": "2",
                                    "3": "number"
                                },
                                {
                                    "0": "timezone",
                                    "1": "EST",
                                    "2": "1",
                                    "3": "string"
                                },
                                {
                                    "0": "exchangeTimezoneName",
                                    "1": "America/New_York",
                                    "2": "1",
                                    "3": "string"
                                },
                                {
                                    "0": "regularMarketPrice",
                                    "1": "116.58",
                                    "2": "2",
                                    "3": "number"
                                },
                                {
                                    "0": "chartPreviousClose",
                                    "1": "117.57",
                                    "2": "2",
                                    "3": "number"
                                },
                                {
                                    "0": "priceHint",
                                    "1": "2",
                                    "2": "2",
                                    "3": "number"
                                },
                                {
                                    "0": "currentTradingPeriod",
                                    "1": "{\"pre\":{\"timezone\":\"EST\",\"start\":1636534800,\"end\":1636554600,\"gmtoffset\":-18000},\"regular\":{\"timezone\":\"EST\",\"start\":1636554600,\"end\":1636578000,\"gmtoffset\":-18000},\"post\":{\"timezone\":\"EST\",\"start\":1636578000,\"end\":1636592400,\"gmtoffset\":-18000}}",
                                    "2": "5",
                                    "3": "object"
                                },
                                {
                                    "0": "dataGranularity",
                                    "1": "1d",
                                    "2": "1",
                                    "3": "string"
                                },
                                {
                                    "0": "range",
                                    "1": "5d",
                                    "2": "1",
                                    "3": "string"
                                },
                                {
                                    "0": "validRanges",
                                    "1": "[\"1d\",\"5d\",\"1mo\",\"3mo\",\"6mo\",\"1y\",\"2y\",\"5y\",\"10y\",\"ytd\",\"max\"]",
                                    "2": "4",
                                    "3": "array"
                                }
                            ]
                        },
                        "text/html": "<table><tr><th>key</th><th>value</th><th>type</th><th>type_desc</th></tr><tr><td>currency</td><td>USD</td><td>1</td><td>string</td></tr><tr><td>symbol</td><td>ABBV</td><td>1</td><td>string</td></tr><tr><td>exchangeName</td><td>NYQ</td><td>1</td><td>string</td></tr><tr><td>instrumentType</td><td>EQUITY</td><td>1</td><td>string</td></tr><tr><td>firstTradeDate</td><td>1357137000</td><td>2</td><td>number</td></tr><tr><td>regularMarketTime</td><td>1636573232</td><td>2</td><td>number</td></tr><tr><td>gmtoffset</td><td>-18000</td><td>2</td><td>number</td></tr><tr><td>timezone</td><td>EST</td><td>1</td><td>string</td></tr><tr><td>exchangeTimezoneName</td><td>America/New_York</td><td>1</td><td>string</td></tr><tr><td>regularMarketPrice</td><td>116.58</td><td>2</td><td>number</td></tr><tr><td>chartPreviousClose</td><td>117.57</td><td>2</td><td>number</td></tr><tr><td>priceHint</td><td>2</td><td>2</td><td>number</td></tr><tr><td>currentTradingPeriod</td><td>{&quot;pre&quot;:{&quot;timezone&quot;:&quot;EST&quot;,&quot;start&quot;:1636534800,&quot;end&quot;:1636554600,&quot;gmtoffset&quot;:-18000},&quot;regular&quot;:{&quot;timezone&quot;:&quot;EST&quot;,&quot;start&quot;:1636554600,&quot;end&quot;:1636578000,&quot;gmtoffset&quot;:-18000},&quot;post&quot;:{&quot;timezone&quot;:&quot;EST&quot;,&quot;start&quot;:1636578000,&quot;end&quot;:1636592400,&quot;gmtoffset&quot;:-18000}}</td><td>5</td><td>object</td></tr><tr><td>dataGranularity</td><td>1d</td><td>1</td><td>string</td></tr><tr><td>range</td><td>5d</td><td>1</td><td>string</td></tr><tr><td>validRanges</td><td>[&quot;1d&quot;,&quot;5d&quot;,&quot;1mo&quot;,&quot;3mo&quot;,&quot;6mo&quot;,&quot;1y&quot;,&quot;2y&quot;,&quot;5y&quot;,&quot;10y&quot;,&quot;ytd&quot;,&quot;max&quot;]</td><td>4</td><td>array</td></tr></table>"
                    },
                    "metadata": {}
                }
            ],
            "execution_count": 14
        },
        {
            "cell_type": "code",
            "source": [
                "DECLARE @json NVARCHAR(Max) = (SELECT [JSON] FROM [dbo].[YAHOO_FINANCE_JSON]);\r\n",
                "\r\n",
                "SELECT *\r\n",
                "FROM OPENJSON(@json, '$.chart.result[0].meta.validRanges')"
            ],
            "metadata": {
                "azdata_cell_guid": "40d15abc-affe-4ccc-aee0-5162c71eeafd"
            },
            "outputs": [
                {
                    "output_type": "display_data",
                    "data": {
                        "text/html": "(11 rows affected)"
                    },
                    "metadata": {}
                },
                {
                    "output_type": "display_data",
                    "data": {
                        "text/html": "Total execution time: 00:00:00.008"
                    },
                    "metadata": {}
                },
                {
                    "output_type": "execute_result",
                    "execution_count": 16,
                    "data": {
                        "application/vnd.dataresource+json": {
                            "schema": {
                                "fields": [
                                    {
                                        "name": "key"
                                    },
                                    {
                                        "name": "value"
                                    },
                                    {
                                        "name": "type"
                                    }
                                ]
                            },
                            "data": [
                                {
                                    "0": "0",
                                    "1": "1d",
                                    "2": "1"
                                },
                                {
                                    "0": "1",
                                    "1": "5d",
                                    "2": "1"
                                },
                                {
                                    "0": "2",
                                    "1": "1mo",
                                    "2": "1"
                                },
                                {
                                    "0": "3",
                                    "1": "3mo",
                                    "2": "1"
                                },
                                {
                                    "0": "4",
                                    "1": "6mo",
                                    "2": "1"
                                },
                                {
                                    "0": "5",
                                    "1": "1y",
                                    "2": "1"
                                },
                                {
                                    "0": "6",
                                    "1": "2y",
                                    "2": "1"
                                },
                                {
                                    "0": "7",
                                    "1": "5y",
                                    "2": "1"
                                },
                                {
                                    "0": "8",
                                    "1": "10y",
                                    "2": "1"
                                },
                                {
                                    "0": "9",
                                    "1": "ytd",
                                    "2": "1"
                                },
                                {
                                    "0": "10",
                                    "1": "max",
                                    "2": "1"
                                }
                            ]
                        },
                        "text/html": "<table><tr><th>key</th><th>value</th><th>type</th></tr><tr><td>0</td><td>1d</td><td>1</td></tr><tr><td>1</td><td>5d</td><td>1</td></tr><tr><td>2</td><td>1mo</td><td>1</td></tr><tr><td>3</td><td>3mo</td><td>1</td></tr><tr><td>4</td><td>6mo</td><td>1</td></tr><tr><td>5</td><td>1y</td><td>1</td></tr><tr><td>6</td><td>2y</td><td>1</td></tr><tr><td>7</td><td>5y</td><td>1</td></tr><tr><td>8</td><td>10y</td><td>1</td></tr><tr><td>9</td><td>ytd</td><td>1</td></tr><tr><td>10</td><td>max</td><td>1</td></tr></table>"
                    },
                    "metadata": {}
                }
            ],
            "execution_count": 16
        },
        {
            "cell_type": "code",
            "source": [
                "DECLARE @json NVARCHAR(Max)\r\n",
                "\r\n",
                "SET @json = (SELECT [JSON] FROM [dbo].[YAHOO_FINANCE_JSON]);\r\n",
                "\r\n",
                "SELECT *\r\n",
                "FROM OPENJSON(@json, '$.chart.result[0]')"
            ],
            "metadata": {
                "azdata_cell_guid": "6a3c2a3e-0a0f-4c08-81ce-0986df7b94df"
            },
            "outputs": [
                {
                    "output_type": "display_data",
                    "data": {
                        "text/html": "(3 rows affected)"
                    },
                    "metadata": {}
                },
                {
                    "output_type": "display_data",
                    "data": {
                        "text/html": "Total execution time: 00:00:00.013"
                    },
                    "metadata": {}
                },
                {
                    "output_type": "execute_result",
                    "execution_count": 17,
                    "data": {
                        "application/vnd.dataresource+json": {
                            "schema": {
                                "fields": [
                                    {
                                        "name": "key"
                                    },
                                    {
                                        "name": "value"
                                    },
                                    {
                                        "name": "type"
                                    }
                                ]
                            },
                            "data": [
                                {
                                    "0": "meta",
                                    "1": "{\"currency\":\"USD\",\"symbol\":\"ABBV\",\"exchangeName\":\"NYQ\",\"instrumentType\":\"EQUITY\",\"firstTradeDate\":1357137000,\"regularMarketTime\":1636573232,\"gmtoffset\":-18000,\"timezone\":\"EST\",\"exchangeTimezoneName\":\"America/New_York\",\"regularMarketPrice\":116.58,\"chartPreviousClose\":117.57,\"priceHint\":2,\"currentTradingPeriod\":{\"pre\":{\"timezone\":\"EST\",\"start\":1636534800,\"end\":1636554600,\"gmtoffset\":-18000},\"regular\":{\"timezone\":\"EST\",\"start\":1636554600,\"end\":1636578000,\"gmtoffset\":-18000},\"post\":{\"timezone\":\"EST\",\"start\":1636578000,\"end\":1636592400,\"gmtoffset\":-18000}},\"dataGranularity\":\"1d\",\"range\":\"5d\",\"validRanges\":[\"1d\",\"5d\",\"1mo\",\"3mo\",\"6mo\",\"1y\",\"2y\",\"5y\",\"10y\",\"ytd\",\"max\"]}",
                                    "2": "5"
                                },
                                {
                                    "0": "timestamp",
                                    "1": "[1636032600,1636119000,1636381800,1636468200,1636573232]",
                                    "2": "4"
                                },
                                {
                                    "0": "indicators",
                                    "1": "{\"quote\":[{\"close\":[117.05999755859375,117.18000030517578,116.05999755859375,115.61000061035156,116.58000183105469],\"volume\":[4912200,4634200,7015000,3146100,2615836],\"high\":[117.72000122070312,117.31999969482422,117.44999694824219,116.58999633789062,117.04000091552734],\"low\":[116.33000183105469,115.5,115.77999877929688,115.41000366210938,115.4000015258789],\"open\":[117.56999969482422,116.7300033569336,117.19999694824219,116.23999786376953,115.4000015258789]}],\"adjclose\":[{\"adjclose\":[117.05999755859375,117.18000030517578,116.05999755859375,115.61000061035156,116.58000183105469]}]}",
                                    "2": "5"
                                }
                            ]
                        },
                        "text/html": "<table><tr><th>key</th><th>value</th><th>type</th></tr><tr><td>meta</td><td>{&quot;currency&quot;:&quot;USD&quot;,&quot;symbol&quot;:&quot;ABBV&quot;,&quot;exchangeName&quot;:&quot;NYQ&quot;,&quot;instrumentType&quot;:&quot;EQUITY&quot;,&quot;firstTradeDate&quot;:1357137000,&quot;regularMarketTime&quot;:1636573232,&quot;gmtoffset&quot;:-18000,&quot;timezone&quot;:&quot;EST&quot;,&quot;exchangeTimezoneName&quot;:&quot;America/New_York&quot;,&quot;regularMarketPrice&quot;:116.58,&quot;chartPreviousClose&quot;:117.57,&quot;priceHint&quot;:2,&quot;currentTradingPeriod&quot;:{&quot;pre&quot;:{&quot;timezone&quot;:&quot;EST&quot;,&quot;start&quot;:1636534800,&quot;end&quot;:1636554600,&quot;gmtoffset&quot;:-18000},&quot;regular&quot;:{&quot;timezone&quot;:&quot;EST&quot;,&quot;start&quot;:1636554600,&quot;end&quot;:1636578000,&quot;gmtoffset&quot;:-18000},&quot;post&quot;:{&quot;timezone&quot;:&quot;EST&quot;,&quot;start&quot;:1636578000,&quot;end&quot;:1636592400,&quot;gmtoffset&quot;:-18000}},&quot;dataGranularity&quot;:&quot;1d&quot;,&quot;range&quot;:&quot;5d&quot;,&quot;validRanges&quot;:[&quot;1d&quot;,&quot;5d&quot;,&quot;1mo&quot;,&quot;3mo&quot;,&quot;6mo&quot;,&quot;1y&quot;,&quot;2y&quot;,&quot;5y&quot;,&quot;10y&quot;,&quot;ytd&quot;,&quot;max&quot;]}</td><td>5</td></tr><tr><td>timestamp</td><td>[1636032600,1636119000,1636381800,1636468200,1636573232]</td><td>4</td></tr><tr><td>indicators</td><td>{&quot;quote&quot;:[{&quot;close&quot;:[117.05999755859375,117.18000030517578,116.05999755859375,115.61000061035156,116.58000183105469],&quot;volume&quot;:[4912200,4634200,7015000,3146100,2615836],&quot;high&quot;:[117.72000122070312,117.31999969482422,117.44999694824219,116.58999633789062,117.04000091552734],&quot;low&quot;:[116.33000183105469,115.5,115.77999877929688,115.41000366210938,115.4000015258789],&quot;open&quot;:[117.56999969482422,116.7300033569336,117.19999694824219,116.23999786376953,115.4000015258789]}],&quot;adjclose&quot;:[{&quot;adjclose&quot;:[117.05999755859375,117.18000030517578,116.05999755859375,115.61000061035156,116.58000183105469]}]}</td><td>5</td></tr></table>"
                    },
                    "metadata": {}
                }
            ],
            "execution_count": 17
        },
        {
            "cell_type": "markdown",
            "source": [
                "## **We can also supply a explicit schema for the OPENJSON output using the WITH keyword.**"
            ],
            "metadata": {
                "azdata_cell_guid": "ac7d1619-459a-4716-9bf5-63e28f9e26c7"
            },
            "attachments": {}
        },
        {
            "cell_type": "code",
            "source": [
                "DECLARE @json NVARCHAR(Max)\r\n",
                "\r\n",
                "SET @json = (SELECT [JSON] FROM [dbo].[YAHOO_FINANCE_JSON]);\r\n",
                "\r\n",
                "SELECT *\r\n",
                "FROM OPENJSON(@json, '$.chart.result[0].meta')\r\n",
                "WITH (\tcurrency varchar(50),\r\n",
                "        symbol varchar(50),\r\n",
                "        exchangeName varchar(50),\r\n",
                "        instrumentType varchar(50),\r\n",
                "        firstTradeDate int,\r\n",
                "        regularMarketTime int,\r\n",
                "        gmtoffset int,\r\n",
                "        timezone varchar(50),\r\n",
                "        exchangeTimezoneName varchar(50),\r\n",
                "        regularMarketPrice float,\r\n",
                "        chartPreviousClose float,\r\n",
                "        priceHint int,\r\n",
                "        currentTradingPeriod nvarchar(max),\r\n",
                "        dataGranularity varchar(50),\r\n",
                "        range varchar(50),\r\n",
                "        validRanges nvarchar(max)\r\n",
                ")"
            ],
            "metadata": {
                "azdata_cell_guid": "ba8d1d4f-f73b-4497-a959-7989ed89db47"
            },
            "outputs": [
                {
                    "output_type": "display_data",
                    "data": {
                        "text/html": "(1 row affected)"
                    },
                    "metadata": {}
                },
                {
                    "output_type": "display_data",
                    "data": {
                        "text/html": "Total execution time: 00:00:00.013"
                    },
                    "metadata": {}
                },
                {
                    "output_type": "execute_result",
                    "execution_count": 18,
                    "data": {
                        "application/vnd.dataresource+json": {
                            "schema": {
                                "fields": [
                                    {
                                        "name": "currency"
                                    },
                                    {
                                        "name": "symbol"
                                    },
                                    {
                                        "name": "exchangeName"
                                    },
                                    {
                                        "name": "instrumentType"
                                    },
                                    {
                                        "name": "firstTradeDate"
                                    },
                                    {
                                        "name": "regularMarketTime"
                                    },
                                    {
                                        "name": "gmtoffset"
                                    },
                                    {
                                        "name": "timezone"
                                    },
                                    {
                                        "name": "exchangeTimezoneName"
                                    },
                                    {
                                        "name": "regularMarketPrice"
                                    },
                                    {
                                        "name": "chartPreviousClose"
                                    },
                                    {
                                        "name": "priceHint"
                                    },
                                    {
                                        "name": "currentTradingPeriod"
                                    },
                                    {
                                        "name": "dataGranularity"
                                    },
                                    {
                                        "name": "range"
                                    },
                                    {
                                        "name": "validRanges"
                                    }
                                ]
                            },
                            "data": [
                                {
                                    "0": "USD",
                                    "1": "ABBV",
                                    "2": "NYQ",
                                    "3": "EQUITY",
                                    "4": "1357137000",
                                    "5": "1636573232",
                                    "6": "-18000",
                                    "7": "EST",
                                    "8": "America/New_York",
                                    "9": "116.58",
                                    "10": "117.57",
                                    "11": "2",
                                    "12": "NULL",
                                    "13": "1d",
                                    "14": "5d",
                                    "15": "NULL"
                                }
                            ]
                        },
                        "text/html": "<table><tr><th>currency</th><th>symbol</th><th>exchangeName</th><th>instrumentType</th><th>firstTradeDate</th><th>regularMarketTime</th><th>gmtoffset</th><th>timezone</th><th>exchangeTimezoneName</th><th>regularMarketPrice</th><th>chartPreviousClose</th><th>priceHint</th><th>currentTradingPeriod</th><th>dataGranularity</th><th>range</th><th>validRanges</th></tr><tr><td>USD</td><td>ABBV</td><td>NYQ</td><td>EQUITY</td><td>1357137000</td><td>1636573232</td><td>-18000</td><td>EST</td><td>America/New_York</td><td>116.58</td><td>117.57</td><td>2</td><td>NULL</td><td>1d</td><td>5d</td><td>NULL</td></tr></table>"
                    },
                    "metadata": {}
                }
            ],
            "execution_count": 18
        },
        {
            "cell_type": "code",
            "source": [
                "DECLARE @json NVARCHAR(Max)\r\n",
                "\r\n",
                "SET @json = (SELECT [JSON] FROM [dbo].[YAHOO_FINANCE_JSON]);\r\n",
                "\r\n",
                "SELECT *\r\n",
                "FROM OPENJSON(@json, '$.chart.result[0]')"
            ],
            "metadata": {
                "azdata_cell_guid": "272615cd-da03-457a-acc3-bb66343ed04b"
            },
            "outputs": [
                {
                    "output_type": "display_data",
                    "data": {
                        "text/html": "(3 rows affected)"
                    },
                    "metadata": {}
                },
                {
                    "output_type": "display_data",
                    "data": {
                        "text/html": "Total execution time: 00:00:00.003"
                    },
                    "metadata": {}
                },
                {
                    "output_type": "execute_result",
                    "execution_count": 19,
                    "data": {
                        "application/vnd.dataresource+json": {
                            "schema": {
                                "fields": [
                                    {
                                        "name": "key"
                                    },
                                    {
                                        "name": "value"
                                    },
                                    {
                                        "name": "type"
                                    }
                                ]
                            },
                            "data": [
                                {
                                    "0": "meta",
                                    "1": "{\"currency\":\"USD\",\"symbol\":\"ABBV\",\"exchangeName\":\"NYQ\",\"instrumentType\":\"EQUITY\",\"firstTradeDate\":1357137000,\"regularMarketTime\":1636573232,\"gmtoffset\":-18000,\"timezone\":\"EST\",\"exchangeTimezoneName\":\"America/New_York\",\"regularMarketPrice\":116.58,\"chartPreviousClose\":117.57,\"priceHint\":2,\"currentTradingPeriod\":{\"pre\":{\"timezone\":\"EST\",\"start\":1636534800,\"end\":1636554600,\"gmtoffset\":-18000},\"regular\":{\"timezone\":\"EST\",\"start\":1636554600,\"end\":1636578000,\"gmtoffset\":-18000},\"post\":{\"timezone\":\"EST\",\"start\":1636578000,\"end\":1636592400,\"gmtoffset\":-18000}},\"dataGranularity\":\"1d\",\"range\":\"5d\",\"validRanges\":[\"1d\",\"5d\",\"1mo\",\"3mo\",\"6mo\",\"1y\",\"2y\",\"5y\",\"10y\",\"ytd\",\"max\"]}",
                                    "2": "5"
                                },
                                {
                                    "0": "timestamp",
                                    "1": "[1636032600,1636119000,1636381800,1636468200,1636573232]",
                                    "2": "4"
                                },
                                {
                                    "0": "indicators",
                                    "1": "{\"quote\":[{\"close\":[117.05999755859375,117.18000030517578,116.05999755859375,115.61000061035156,116.58000183105469],\"volume\":[4912200,4634200,7015000,3146100,2615836],\"high\":[117.72000122070312,117.31999969482422,117.44999694824219,116.58999633789062,117.04000091552734],\"low\":[116.33000183105469,115.5,115.77999877929688,115.41000366210938,115.4000015258789],\"open\":[117.56999969482422,116.7300033569336,117.19999694824219,116.23999786376953,115.4000015258789]}],\"adjclose\":[{\"adjclose\":[117.05999755859375,117.18000030517578,116.05999755859375,115.61000061035156,116.58000183105469]}]}",
                                    "2": "5"
                                }
                            ]
                        },
                        "text/html": "<table><tr><th>key</th><th>value</th><th>type</th></tr><tr><td>meta</td><td>{&quot;currency&quot;:&quot;USD&quot;,&quot;symbol&quot;:&quot;ABBV&quot;,&quot;exchangeName&quot;:&quot;NYQ&quot;,&quot;instrumentType&quot;:&quot;EQUITY&quot;,&quot;firstTradeDate&quot;:1357137000,&quot;regularMarketTime&quot;:1636573232,&quot;gmtoffset&quot;:-18000,&quot;timezone&quot;:&quot;EST&quot;,&quot;exchangeTimezoneName&quot;:&quot;America/New_York&quot;,&quot;regularMarketPrice&quot;:116.58,&quot;chartPreviousClose&quot;:117.57,&quot;priceHint&quot;:2,&quot;currentTradingPeriod&quot;:{&quot;pre&quot;:{&quot;timezone&quot;:&quot;EST&quot;,&quot;start&quot;:1636534800,&quot;end&quot;:1636554600,&quot;gmtoffset&quot;:-18000},&quot;regular&quot;:{&quot;timezone&quot;:&quot;EST&quot;,&quot;start&quot;:1636554600,&quot;end&quot;:1636578000,&quot;gmtoffset&quot;:-18000},&quot;post&quot;:{&quot;timezone&quot;:&quot;EST&quot;,&quot;start&quot;:1636578000,&quot;end&quot;:1636592400,&quot;gmtoffset&quot;:-18000}},&quot;dataGranularity&quot;:&quot;1d&quot;,&quot;range&quot;:&quot;5d&quot;,&quot;validRanges&quot;:[&quot;1d&quot;,&quot;5d&quot;,&quot;1mo&quot;,&quot;3mo&quot;,&quot;6mo&quot;,&quot;1y&quot;,&quot;2y&quot;,&quot;5y&quot;,&quot;10y&quot;,&quot;ytd&quot;,&quot;max&quot;]}</td><td>5</td></tr><tr><td>timestamp</td><td>[1636032600,1636119000,1636381800,1636468200,1636573232]</td><td>4</td></tr><tr><td>indicators</td><td>{&quot;quote&quot;:[{&quot;close&quot;:[117.05999755859375,117.18000030517578,116.05999755859375,115.61000061035156,116.58000183105469],&quot;volume&quot;:[4912200,4634200,7015000,3146100,2615836],&quot;high&quot;:[117.72000122070312,117.31999969482422,117.44999694824219,116.58999633789062,117.04000091552734],&quot;low&quot;:[116.33000183105469,115.5,115.77999877929688,115.41000366210938,115.4000015258789],&quot;open&quot;:[117.56999969482422,116.7300033569336,117.19999694824219,116.23999786376953,115.4000015258789]}],&quot;adjclose&quot;:[{&quot;adjclose&quot;:[117.05999755859375,117.18000030517578,116.05999755859375,115.61000061035156,116.58000183105469]}]}</td><td>5</td></tr></table>"
                    },
                    "metadata": {}
                }
            ],
            "execution_count": 19
        },
        {
            "cell_type": "code",
            "source": [
                "DECLARE @json NVARCHAR(Max)\r\n",
                "\r\n",
                "SET @json = (SELECT [JSON] FROM [dbo].[YAHOO_FINANCE_JSON]);\r\n",
                "\r\n",
                "SELECT *\r\n",
                "FROM OPENJSON(@json, '$.chart.result[0].indicators')"
            ],
            "metadata": {
                "azdata_cell_guid": "3a4bedda-de88-4b15-a9fa-c99939919320"
            },
            "outputs": [
                {
                    "output_type": "display_data",
                    "data": {
                        "text/html": "(2 rows affected)"
                    },
                    "metadata": {}
                },
                {
                    "output_type": "display_data",
                    "data": {
                        "text/html": "Total execution time: 00:00:00.064"
                    },
                    "metadata": {}
                },
                {
                    "output_type": "execute_result",
                    "execution_count": 20,
                    "data": {
                        "application/vnd.dataresource+json": {
                            "schema": {
                                "fields": [
                                    {
                                        "name": "key"
                                    },
                                    {
                                        "name": "value"
                                    },
                                    {
                                        "name": "type"
                                    }
                                ]
                            },
                            "data": [
                                {
                                    "0": "quote",
                                    "1": "[{\"close\":[117.05999755859375,117.18000030517578,116.05999755859375,115.61000061035156,116.58000183105469],\"volume\":[4912200,4634200,7015000,3146100,2615836],\"high\":[117.72000122070312,117.31999969482422,117.44999694824219,116.58999633789062,117.04000091552734],\"low\":[116.33000183105469,115.5,115.77999877929688,115.41000366210938,115.4000015258789],\"open\":[117.56999969482422,116.7300033569336,117.19999694824219,116.23999786376953,115.4000015258789]}]",
                                    "2": "4"
                                },
                                {
                                    "0": "adjclose",
                                    "1": "[{\"adjclose\":[117.05999755859375,117.18000030517578,116.05999755859375,115.61000061035156,116.58000183105469]}]",
                                    "2": "4"
                                }
                            ]
                        },
                        "text/html": "<table><tr><th>key</th><th>value</th><th>type</th></tr><tr><td>quote</td><td>[{&quot;close&quot;:[117.05999755859375,117.18000030517578,116.05999755859375,115.61000061035156,116.58000183105469],&quot;volume&quot;:[4912200,4634200,7015000,3146100,2615836],&quot;high&quot;:[117.72000122070312,117.31999969482422,117.44999694824219,116.58999633789062,117.04000091552734],&quot;low&quot;:[116.33000183105469,115.5,115.77999877929688,115.41000366210938,115.4000015258789],&quot;open&quot;:[117.56999969482422,116.7300033569336,117.19999694824219,116.23999786376953,115.4000015258789]}]</td><td>4</td></tr><tr><td>adjclose</td><td>[{&quot;adjclose&quot;:[117.05999755859375,117.18000030517578,116.05999755859375,115.61000061035156,116.58000183105469]}]</td><td>4</td></tr></table>"
                    },
                    "metadata": {}
                }
            ],
            "execution_count": 20
        },
        {
            "cell_type": "markdown",
            "source": [
                ""
            ],
            "metadata": {
                "azdata_cell_guid": "f174dcfd-9638-471b-a65a-b3739d7d6dd0"
            },
            "attachments": {}
        },
        {
            "cell_type": "code",
            "source": [
                "DECLARE @json NVARCHAR(Max)\r\n",
                "\r\n",
                "SET @json = (SELECT [JSON] FROM [dbo].[YAHOO_FINANCE_JSON]);\r\n",
                "\r\n",
                "SELECT *\r\n",
                "FROM OPENJSON(@json, '$.chart.result[0].indicators.quote[0]')"
            ],
            "metadata": {
                "azdata_cell_guid": "cecd8349-fba5-4679-bcf5-bca7e999d848"
            },
            "outputs": [
                {
                    "output_type": "display_data",
                    "data": {
                        "text/html": "(5 rows affected)"
                    },
                    "metadata": {}
                },
                {
                    "output_type": "display_data",
                    "data": {
                        "text/html": "Total execution time: 00:00:00.006"
                    },
                    "metadata": {}
                },
                {
                    "output_type": "execute_result",
                    "execution_count": 21,
                    "data": {
                        "application/vnd.dataresource+json": {
                            "schema": {
                                "fields": [
                                    {
                                        "name": "key"
                                    },
                                    {
                                        "name": "value"
                                    },
                                    {
                                        "name": "type"
                                    }
                                ]
                            },
                            "data": [
                                {
                                    "0": "close",
                                    "1": "[117.05999755859375,117.18000030517578,116.05999755859375,115.61000061035156,116.58000183105469]",
                                    "2": "4"
                                },
                                {
                                    "0": "volume",
                                    "1": "[4912200,4634200,7015000,3146100,2615836]",
                                    "2": "4"
                                },
                                {
                                    "0": "high",
                                    "1": "[117.72000122070312,117.31999969482422,117.44999694824219,116.58999633789062,117.04000091552734]",
                                    "2": "4"
                                },
                                {
                                    "0": "low",
                                    "1": "[116.33000183105469,115.5,115.77999877929688,115.41000366210938,115.4000015258789]",
                                    "2": "4"
                                },
                                {
                                    "0": "open",
                                    "1": "[117.56999969482422,116.7300033569336,117.19999694824219,116.23999786376953,115.4000015258789]",
                                    "2": "4"
                                }
                            ]
                        },
                        "text/html": "<table><tr><th>key</th><th>value</th><th>type</th></tr><tr><td>close</td><td>[117.05999755859375,117.18000030517578,116.05999755859375,115.61000061035156,116.58000183105469]</td><td>4</td></tr><tr><td>volume</td><td>[4912200,4634200,7015000,3146100,2615836]</td><td>4</td></tr><tr><td>high</td><td>[117.72000122070312,117.31999969482422,117.44999694824219,116.58999633789062,117.04000091552734]</td><td>4</td></tr><tr><td>low</td><td>[116.33000183105469,115.5,115.77999877929688,115.41000366210938,115.4000015258789]</td><td>4</td></tr><tr><td>open</td><td>[117.56999969482422,116.7300033569336,117.19999694824219,116.23999786376953,115.4000015258789]</td><td>4</td></tr></table>"
                    },
                    "metadata": {}
                }
            ],
            "execution_count": 21
        },
        {
            "cell_type": "markdown",
            "source": [
                "## **Notice that all the child nodes of the** <span style=\"color: rgb(163, 21, 21); font-family: Consolas, &quot;Courier New&quot;, monospace; font-size: 18px; white-space: pre; background-color: yellow;\"><b>'$.chart.result[0].indicators.quote[0]'</b></span> **node are of type 4 - array.**\n",
                "\n",
                "## **We can parse the arrays into columns and rows by using the following query:**   \n",
                "**(notice the use of the index to join the resultsets)**"
            ],
            "metadata": {
                "azdata_cell_guid": "afb5b830-9f98-4702-ae4c-cc5f507d945f"
            },
            "attachments": {}
        },
        {
            "cell_type": "code",
            "source": [
                "DECLARE @json NVARCHAR(Max)\r\n",
                "\r\n",
                "SELECT @JSON = [JSON] FROM [dbo].[YAHOO_FINANCE_JSON];\r\n",
                "\r\n",
                "WITH CTE_DATETIME\r\n",
                "AS\r\n",
                "(\r\n",
                "\tSELECT c.[key] as [key], c.value as [datetime]\r\n",
                "\tFROM OPENJSON(@JSON,'$.chart.result[0].timestamp') as c\r\n",
                " ),\r\n",
                "CTE_OPEN\r\n",
                "AS\r\n",
                "(\r\n",
                "\tSELECT C.[key] as [key], c.value as [open]\r\n",
                "\tFROM OPENJSON(@JSON,'$.chart.result[0].indicators.quote[0].open') as c\r\n",
                " ),\r\n",
                "CTE_CLOSE\r\n",
                "AS\r\n",
                "(\r\n",
                "\tSELECT C.[key] as [key], c.value as [close]\r\n",
                "\tFROM OPENJSON(@JSON,'$.chart.result[0].indicators.quote[0].close') as c\r\n",
                " ),\r\n",
                "CTE_LOW\r\n",
                "AS\r\n",
                "(\r\n",
                "\tSELECT C.[key] as [key], c.value as [low]\r\n",
                "\tFROM OPENJSON(@JSON,'$.chart.result[0].indicators.quote[0].low') as c\r\n",
                " ),\r\n",
                "CTE_HIGH\r\n",
                "AS\r\n",
                "(\r\n",
                "\tSELECT C.[key] as [key], c.value as [high]\r\n",
                "\tFROM OPENJSON(@JSON,'$.chart.result[0].indicators.quote[0].high') as c\r\n",
                " ),\r\n",
                "CTE_ADJ\r\n",
                "AS\r\n",
                "(\r\n",
                "\tSELECT C.[key] as [key], c.value as [adjClose]\r\n",
                "\tFROM OPENJSON(@JSON,'$.chart.result[0].indicators.adjclose[0].adjclose') as c\r\n",
                " ),\r\n",
                "CTE_VOL\r\n",
                "AS\r\n",
                "(\r\n",
                "\tSELECT C.[key] as [key], c.value as [volume]\r\n",
                "\tFROM OPENJSON(@JSON,'$.chart.result[0].indicators.quote[0].volume') as c\r\n",
                " )\r\n",
                "  SELECT DT.[key], \r\n",
                "\t\t CAST(DT.[datetime] as int) As [UnixDatetime], \r\n",
                "\t\t dateadd(S, CAST(DT.[datetime] as int), '1970-01-01') as [datetime],\r\n",
                "\t\t CAST(dateadd(S, CAST(DT.[datetime] AS int), '1970-01-01') as date) as [date],\r\n",
                "\t\t OP.[open], CL.[close], LW.[low], HI.[high], ADJ.[adjClose], VOL.[volume]\r\n",
                "  FROM CTE_DATETIME DT\r\n",
                "  LEFT OUTER JOIN CTE_OPEN OP\r\n",
                "  ON DT.[key] = OP.[key]\r\n",
                "  LEFT OUTER JOIN CTE_CLOSE CL\r\n",
                "  ON DT.[key] = CL.[key]\r\n",
                "  LEFT OUTER JOIN CTE_LOW LW\r\n",
                "  ON DT.[key] = LW.[key]\r\n",
                "   LEFT OUTER JOIN CTE_HIGH HI\r\n",
                "  ON DT.[key] = HI.[key]\r\n",
                "   LEFT OUTER JOIN CTE_ADJ ADJ\r\n",
                "  ON DT.[key] = ADJ.[key]\r\n",
                "  LEFT OUTER JOIN CTE_VOL VOL\r\n",
                "  ON DT.[key] = VOL.[key]\r\n",
                "  ORDER BY [UnixDatetime] ASC;"
            ],
            "metadata": {
                "azdata_cell_guid": "3a27e425-8fe6-4bef-af04-a1cc793addf9"
            },
            "outputs": [
                {
                    "output_type": "display_data",
                    "data": {
                        "text/html": "(5 rows affected)"
                    },
                    "metadata": {}
                },
                {
                    "output_type": "display_data",
                    "data": {
                        "text/html": "Total execution time: 00:00:00.153"
                    },
                    "metadata": {}
                },
                {
                    "output_type": "execute_result",
                    "execution_count": 22,
                    "data": {
                        "application/vnd.dataresource+json": {
                            "schema": {
                                "fields": [
                                    {
                                        "name": "key"
                                    },
                                    {
                                        "name": "UnixDatetime"
                                    },
                                    {
                                        "name": "datetime"
                                    },
                                    {
                                        "name": "date"
                                    },
                                    {
                                        "name": "open"
                                    },
                                    {
                                        "name": "close"
                                    },
                                    {
                                        "name": "low"
                                    },
                                    {
                                        "name": "high"
                                    },
                                    {
                                        "name": "adjClose"
                                    },
                                    {
                                        "name": "volume"
                                    }
                                ]
                            },
                            "data": [
                                {
                                    "0": "0",
                                    "1": "1636032600",
                                    "2": "2021-11-04 13:30:00.000",
                                    "3": "2021-11-04",
                                    "4": "117.56999969482422",
                                    "5": "117.05999755859375",
                                    "6": "116.33000183105469",
                                    "7": "117.72000122070312",
                                    "8": "117.05999755859375",
                                    "9": "4912200"
                                },
                                {
                                    "0": "1",
                                    "1": "1636119000",
                                    "2": "2021-11-05 13:30:00.000",
                                    "3": "2021-11-05",
                                    "4": "116.7300033569336",
                                    "5": "117.18000030517578",
                                    "6": "115.5",
                                    "7": "117.31999969482422",
                                    "8": "117.18000030517578",
                                    "9": "4634200"
                                },
                                {
                                    "0": "2",
                                    "1": "1636381800",
                                    "2": "2021-11-08 14:30:00.000",
                                    "3": "2021-11-08",
                                    "4": "117.19999694824219",
                                    "5": "116.05999755859375",
                                    "6": "115.77999877929688",
                                    "7": "117.44999694824219",
                                    "8": "116.05999755859375",
                                    "9": "7015000"
                                },
                                {
                                    "0": "3",
                                    "1": "1636468200",
                                    "2": "2021-11-09 14:30:00.000",
                                    "3": "2021-11-09",
                                    "4": "116.23999786376953",
                                    "5": "115.61000061035156",
                                    "6": "115.41000366210938",
                                    "7": "116.58999633789062",
                                    "8": "115.61000061035156",
                                    "9": "3146100"
                                },
                                {
                                    "0": "4",
                                    "1": "1636573232",
                                    "2": "2021-11-10 19:40:32.000",
                                    "3": "2021-11-10",
                                    "4": "115.4000015258789",
                                    "5": "116.58000183105469",
                                    "6": "115.4000015258789",
                                    "7": "117.04000091552734",
                                    "8": "116.58000183105469",
                                    "9": "2615836"
                                }
                            ]
                        },
                        "text/html": "<table><tr><th>key</th><th>UnixDatetime</th><th>datetime</th><th>date</th><th>open</th><th>close</th><th>low</th><th>high</th><th>adjClose</th><th>volume</th></tr><tr><td>0</td><td>1636032600</td><td>2021-11-04 13:30:00.000</td><td>2021-11-04</td><td>117.56999969482422</td><td>117.05999755859375</td><td>116.33000183105469</td><td>117.72000122070312</td><td>117.05999755859375</td><td>4912200</td></tr><tr><td>1</td><td>1636119000</td><td>2021-11-05 13:30:00.000</td><td>2021-11-05</td><td>116.7300033569336</td><td>117.18000030517578</td><td>115.5</td><td>117.31999969482422</td><td>117.18000030517578</td><td>4634200</td></tr><tr><td>2</td><td>1636381800</td><td>2021-11-08 14:30:00.000</td><td>2021-11-08</td><td>117.19999694824219</td><td>116.05999755859375</td><td>115.77999877929688</td><td>117.44999694824219</td><td>116.05999755859375</td><td>7015000</td></tr><tr><td>3</td><td>1636468200</td><td>2021-11-09 14:30:00.000</td><td>2021-11-09</td><td>116.23999786376953</td><td>115.61000061035156</td><td>115.41000366210938</td><td>116.58999633789062</td><td>115.61000061035156</td><td>3146100</td></tr><tr><td>4</td><td>1636573232</td><td>2021-11-10 19:40:32.000</td><td>2021-11-10</td><td>115.4000015258789</td><td>116.58000183105469</td><td>115.4000015258789</td><td>117.04000091552734</td><td>116.58000183105469</td><td>2615836</td></tr></table>"
                    },
                    "metadata": {}
                }
            ],
            "execution_count": 22
        },
        {
            "cell_type": "markdown",
            "source": [
                "# **JSON FUNCTIONS:**\n",
                "\n",
                "## \n",
                "\n",
                "- **[ISJSON:](https://docs.microsoft.com/en-us/sql/t-sql/functions/isjson-transact-sql?view=sql-server-ver15)                    Tests whether a string contains valid JSON.**\n",
                "- **[JSON\\_VALUE](https://docs.microsoft.com/en-us/sql/t-sql/functions/json-value-transact-sql?view=sql-server-ver15):           Extracts a scalar value from a JSON string.**\n",
                "- **[JSON\\_QUERY](https://docs.microsoft.com/en-us/sql/t-sql/functions/json-query-transact-sql?view=sql-server-ver15):          Extracts an object or an array from a JSON string.**\n",
                "- **[JSON\\_MODIFY](https://docs.microsoft.com/en-us/sql/t-sql/functions/json-modify-transact-sql?view=sql-server-ver15):       Changes a value in a JSON string.**\n",
                "\n",
                "**Source:** [**https://docs.microsoft.com/en-us/sql/relational-databases/json/json-data-sql-server?view=sql-server-ver15**](https://docs.microsoft.com/en-us/sql/relational-databases/json/json-data-sql-server?view=sql-server-ver15)"
            ],
            "metadata": {
                "azdata_cell_guid": "3a3085e1-f36f-4498-a1a1-d0b6dad2cd65"
            },
            "attachments": {}
        },
        {
            "cell_type": "markdown",
            "source": [
                "## **ISJSON:**"
            ],
            "metadata": {
                "azdata_cell_guid": "7a6231bf-f86f-4ccd-8730-c09fc693be7c"
            },
            "attachments": {}
        },
        {
            "cell_type": "code",
            "source": [
                "DECLARE @json NVARCHAR(Max)\r\n",
                "\r\n",
                "SELECT @JSON = [JSON] FROM [dbo].[YAHOO_FINANCE_JSON];\r\n",
                "\r\n",
                "Select CASE ISJSON(@JSON) WHEN 1 THEN 'Yes' ELSE 'No' END AS [Valid JSON]\r\n",
                ""
            ],
            "metadata": {
                "azdata_cell_guid": "67b31f28-65b9-410a-b41a-a91898c2ca43"
            },
            "outputs": [
                {
                    "output_type": "display_data",
                    "data": {
                        "text/html": "(1 row affected)"
                    },
                    "metadata": {}
                },
                {
                    "output_type": "display_data",
                    "data": {
                        "text/html": "Total execution time: 00:00:00.088"
                    },
                    "metadata": {}
                },
                {
                    "output_type": "execute_result",
                    "execution_count": 23,
                    "data": {
                        "application/vnd.dataresource+json": {
                            "schema": {
                                "fields": [
                                    {
                                        "name": "Valid JSON"
                                    }
                                ]
                            },
                            "data": [
                                {
                                    "0": "Yes"
                                }
                            ]
                        },
                        "text/html": "<table><tr><th>Valid JSON</th></tr><tr><td>Yes</td></tr></table>"
                    },
                    "metadata": {}
                }
            ],
            "execution_count": 23
        },
        {
            "cell_type": "markdown",
            "source": [
                "## **JSON\\_VALUE:**"
            ],
            "metadata": {
                "azdata_cell_guid": "a7c6c51d-edf7-49b8-a0a3-3b0932de9890"
            },
            "attachments": {}
        },
        {
            "cell_type": "code",
            "source": [
                "DECLARE @json NVARCHAR(Max)\r\n",
                "\r\n",
                "SET @JSON = ( SELECT S.[ogr_fid] as [state.id]\r\n",
                "\t   ,S.[region] as [state.region]\r\n",
                "\t   ,S.[division] as [state.division]\r\n",
                "\t   ,S.[statefp] as [state.statefp]\r\n",
                "\t   ,S.[statens] as [state.statens]\r\n",
                "\t   ,S.[stusps] as [state.stusps]\r\n",
                "\t   ,S.[name] as [state.name]\r\n",
                "  \t   ,C.[statefp] as 'state.Counties.statefp'\r\n",
                "\t   ,C.[countyfp] as 'state.Counties.countyfp'\r\n",
                "\t   ,C.[geoid] as 'state.Counties.geoid'\r\n",
                "\t   ,C.[name] as 'state.Counties.name'\r\n",
                "\t   ,C.[namelsad] as 'state.Counties.namelsad'\r\n",
                "\t   ,C.[intptlat] as 'state.Counties.Location.Latitude'\r\n",
                "\t   ,C.[intptlon] as 'state.Counties.Location.Longitude'\r\n",
                " FROM [PythonDB].[dbo].[us_states] S\r\n",
                " LEFT OUTER JOIN [PythonDB].[dbo].[us_il_counties] C\r\n",
                " ON S.[statefp] = C.[statefp]\r\n",
                " FOR JSON PATH, root('state_counties'));\r\n",
                "\r\n",
                "SELECT \r\n",
                "        JSON_VALUE(d.value, '$.id') as [id],\r\n",
                "        JSON_VALUE(d.value, '$.region') as [region],\r\n",
                "        JSON_VALUE(d.value, '$.division') as [division],\r\n",
                "        JSON_VALUE(d.value, '$.statefp') as [statefp],\r\n",
                "        JSON_VALUE(d.value, '$.name') as [name],\r\n",
                "        JSON_VALUE(d.value, '$.Counties') as [Counties]      --Add strict\r\n",
                "FROM OPENJSON(@json, '$.state_counties[0]') as d\r\n",
                "\r\n",
                ""
            ],
            "metadata": {
                "azdata_cell_guid": "6d326ac1-5757-46d6-b308-c0d06c889fb8",
                "tags": []
            },
            "outputs": [
                {
                    "output_type": "display_data",
                    "data": {
                        "text/html": "Total execution time: 00:00:00.021"
                    },
                    "metadata": {}
                },
                {
                    "output_type": "execute_result",
                    "execution_count": 28,
                    "data": {
                        "application/vnd.dataresource+json": {
                            "schema": {
                                "fields": [
                                    {
                                        "name": "id"
                                    },
                                    {
                                        "name": "region"
                                    },
                                    {
                                        "name": "division"
                                    },
                                    {
                                        "name": "statefp"
                                    },
                                    {
                                        "name": "name"
                                    },
                                    {
                                        "name": "Counties"
                                    }
                                ]
                            },
                            "data": []
                        },
                        "text/html": "<table><tr><th>id</th><th>region</th><th>division</th><th>statefp</th><th>name</th><th>Counties</th></tr></table>"
                    },
                    "metadata": {}
                },
                {
                    "output_type": "error",
                    "ename": "",
                    "evalue": "Msg 13623, Level 16, State 1, Line 22\r\nScalar value cannot be found in the specified JSON path.",
                    "traceback": []
                }
            ],
            "execution_count": 28
        },
        {
            "cell_type": "markdown",
            "source": [
                "## **JSON\\_QUERY:**"
            ],
            "metadata": {
                "azdata_cell_guid": "be092ce9-316a-42e9-959f-6762f5d43a9c"
            },
            "attachments": {}
        },
        {
            "cell_type": "code",
            "source": [
                "DECLARE @json NVARCHAR(Max)\r\n",
                "\r\n",
                "SET @JSON = ( SELECT S.[ogr_fid] as [state.id]\r\n",
                "\t   ,S.[region] as [state.region]\r\n",
                "\t   ,S.[division] as [state.division]\r\n",
                "\t   ,S.[statefp] as [state.statefp]\r\n",
                "\t   ,S.[statens] as [state.statens]\r\n",
                "\t   ,S.[stusps] as [state.stusps]\r\n",
                "\t   ,S.[name] as [state.name]\r\n",
                "  \t   ,C.[statefp] as 'state.Counties.statefp'\r\n",
                "\t   ,C.[countyfp] as 'state.Counties.countyfp'\r\n",
                "\t   ,C.[geoid] as 'state.Counties.geoid'\r\n",
                "\t   ,C.[name] as 'state.Counties.name'\r\n",
                "\t   ,C.[namelsad] as 'state.Counties.namelsad'\r\n",
                "\t   ,C.[intptlat] as 'state.Counties.Location.Latitude'\r\n",
                "\t   ,C.[intptlon] as 'state.Counties.Location.Longitude'\r\n",
                " FROM [PythonDB].[dbo].[us_states] S\r\n",
                " LEFT OUTER JOIN [PythonDB].[dbo].[us_il_counties] C\r\n",
                " ON S.[statefp] = C.[statefp]\r\n",
                " FOR JSON PATH, root('state_counties'));\r\n",
                "\r\n",
                "SELECT \r\n",
                "        JSON_VALUE(d.value, '$.id') as [id],\r\n",
                "        JSON_VALUE(d.value, '$.region') as [region],\r\n",
                "        JSON_VALUE(d.value, '$.division') as [division],\r\n",
                "        JSON_VALUE(d.value, '$.statefp') as [statefp],\r\n",
                "        JSON_VALUE(d.value, '$.name') as [name],\r\n",
                "        JSON_QUERY(d.value, '$.Counties') as [Counties]      --Add JSON_QUERY\r\n",
                "FROM OPENJSON(@json, '$.state_counties[0]') as d"
            ],
            "metadata": {
                "azdata_cell_guid": "9e367baa-cf56-4d1d-8a4d-6c9a41821f67"
            },
            "outputs": [
                {
                    "output_type": "display_data",
                    "data": {
                        "text/html": "(1 row affected)"
                    },
                    "metadata": {}
                },
                {
                    "output_type": "display_data",
                    "data": {
                        "text/html": "Total execution time: 00:00:00.024"
                    },
                    "metadata": {}
                },
                {
                    "output_type": "execute_result",
                    "execution_count": 29,
                    "data": {
                        "application/vnd.dataresource+json": {
                            "schema": {
                                "fields": [
                                    {
                                        "name": "id"
                                    },
                                    {
                                        "name": "region"
                                    },
                                    {
                                        "name": "division"
                                    },
                                    {
                                        "name": "statefp"
                                    },
                                    {
                                        "name": "name"
                                    },
                                    {
                                        "name": "Counties"
                                    }
                                ]
                            },
                            "data": [
                                {
                                    "0": "115",
                                    "1": "2",
                                    "2": "3",
                                    "3": "17",
                                    "4": "Illinois",
                                    "5": "{\"statefp\":\"17\",\"countyfp\":\"067\",\"geoid\":\"17067\",\"name\":\"Hancock\",\"namelsad\":\"Hancock County\",\"Location\":{\"Latitude\":\"+40.4013180\",\"Longitude\":\"-091.1688008\"}}"
                                }
                            ]
                        },
                        "text/html": "<table><tr><th>id</th><th>region</th><th>division</th><th>statefp</th><th>name</th><th>Counties</th></tr><tr><td>115</td><td>2</td><td>3</td><td>17</td><td>Illinois</td><td>{&quot;statefp&quot;:&quot;17&quot;,&quot;countyfp&quot;:&quot;067&quot;,&quot;geoid&quot;:&quot;17067&quot;,&quot;name&quot;:&quot;Hancock&quot;,&quot;namelsad&quot;:&quot;Hancock County&quot;,&quot;Location&quot;:{&quot;Latitude&quot;:&quot;+40.4013180&quot;,&quot;Longitude&quot;:&quot;-091.1688008&quot;}}</td></tr></table>"
                    },
                    "metadata": {}
                }
            ],
            "execution_count": 29
        },
        {
            "cell_type": "code",
            "source": [
                "DECLARE @json NVARCHAR(Max)\r\n",
                "DECLARE @jsonModified NVARCHAR(Max)\r\n",
                "\r\n",
                "SET @JSON = ( SELECT S.[ogr_fid] as [state.id]\r\n",
                "\t   ,S.[region] as [state.region]\r\n",
                "\t   ,S.[division] as [state.division]\r\n",
                "\t   ,S.[statefp] as [state.statefp]\r\n",
                "\t   ,S.[statens] as [state.statens]\r\n",
                "\t   ,S.[stusps] as [state.stusps]\r\n",
                "\t   ,S.[name] as [state.name]\r\n",
                "  \t   ,C.[statefp] as 'state.Counties.statefp'\r\n",
                "\t   ,C.[countyfp] as 'state.Counties.countyfp'\r\n",
                "\t   ,C.[geoid] as 'state.Counties.geoid'\r\n",
                "\t   ,C.[name] as 'state.Counties.name'\r\n",
                "\t   ,C.[namelsad] as 'state.Counties.namelsad'\r\n",
                "\t   ,C.[intptlat] as 'state.Counties.Location.Latitude'\r\n",
                "\t   ,C.[intptlon] as 'state.Counties.Location.Longitude'\r\n",
                " FROM [PythonDB].[dbo].[us_states] S\r\n",
                " LEFT OUTER JOIN [PythonDB].[dbo].[us_il_counties] C\r\n",
                " ON S.[statefp] = C.[statefp]\r\n",
                " FOR JSON PATH, root('state_counties'));\r\n",
                "\r\n",
                "SET @jsonModified = (SELECT  JSON_QUERY(d.value, '$.Counties') as [Counties]  \r\n",
                "                     FROM OPENJSON(@json, '$.state_counties[0]') as d)\r\n",
                "\r\n",
                "SELECT  @jsonModified;"
            ],
            "metadata": {
                "azdata_cell_guid": "10bc8c66-5164-40ee-befe-a5a3b1a25e3f"
            },
            "outputs": [
                {
                    "output_type": "display_data",
                    "data": {
                        "text/html": "(1 row affected)"
                    },
                    "metadata": {}
                },
                {
                    "output_type": "display_data",
                    "data": {
                        "text/html": "Total execution time: 00:00:00.016"
                    },
                    "metadata": {}
                },
                {
                    "output_type": "execute_result",
                    "execution_count": 30,
                    "data": {
                        "application/vnd.dataresource+json": {
                            "schema": {
                                "fields": [
                                    {
                                        "name": "(No column name)"
                                    }
                                ]
                            },
                            "data": [
                                {
                                    "0": "{\"statefp\":\"17\",\"countyfp\":\"067\",\"geoid\":\"17067\",\"name\":\"Hancock\",\"namelsad\":\"Hancock County\",\"Location\":{\"Latitude\":\"+40.4013180\",\"Longitude\":\"-091.1688008\"}}"
                                }
                            ]
                        },
                        "text/html": "<table><tr><th>(No column name)</th></tr><tr><td>{&quot;statefp&quot;:&quot;17&quot;,&quot;countyfp&quot;:&quot;067&quot;,&quot;geoid&quot;:&quot;17067&quot;,&quot;name&quot;:&quot;Hancock&quot;,&quot;namelsad&quot;:&quot;Hancock County&quot;,&quot;Location&quot;:{&quot;Latitude&quot;:&quot;+40.4013180&quot;,&quot;Longitude&quot;:&quot;-091.1688008&quot;}}</td></tr></table>"
                    },
                    "metadata": {}
                }
            ],
            "execution_count": 30
        },
        {
            "cell_type": "markdown",
            "source": [
                "## **JSON\\_MODIFY:**"
            ],
            "metadata": {
                "azdata_cell_guid": "311881ad-513a-43b9-b325-8ebf749f739b"
            },
            "attachments": {}
        },
        {
            "cell_type": "code",
            "source": [
                "DECLARE @json NVARCHAR(Max)\r\n",
                "DECLARE @jsonModified NVARCHAR(Max)\r\n",
                "\r\n",
                "SET @JSON = ( SELECT S.[ogr_fid] as [state.id]\r\n",
                "\t   ,S.[region] as [state.region]\r\n",
                "\t   ,S.[division] as [state.division]\r\n",
                "\t   ,S.[statefp] as [state.statefp]\r\n",
                "\t   ,S.[statens] as [state.statens]\r\n",
                "\t   ,S.[stusps] as [state.stusps]\r\n",
                "\t   ,S.[name] as [state.name]\r\n",
                "  \t   ,C.[statefp] as 'state.Counties.statefp'\r\n",
                "\t   ,C.[countyfp] as 'state.Counties.countyfp'\r\n",
                "\t   ,C.[geoid] as 'state.Counties.geoid'\r\n",
                "\t   ,C.[name] as 'state.Counties.name'\r\n",
                "\t   ,C.[namelsad] as 'state.Counties.namelsad'\r\n",
                "\t   ,C.[intptlat] as 'state.Counties.Location.Latitude'\r\n",
                "\t   ,C.[intptlon] as 'state.Counties.Location.Longitude'\r\n",
                " FROM [PythonDB].[dbo].[us_states] S\r\n",
                " LEFT OUTER JOIN [PythonDB].[dbo].[us_il_counties] C\r\n",
                " ON S.[statefp] = C.[statefp]\r\n",
                " FOR JSON PATH, root('state_counties'));\r\n",
                "\r\n",
                "SET @jsonModified = (SELECT  JSON_QUERY(d.value, '$.Counties') as [Counties]\r\n",
                "                     FROM OPENJSON(@json, '$.state_counties[0]') as d)\r\n",
                "\r\n",
                "SELECT @jsonModified\r\n",
                "\r\n",
                "SET @jsonModified = JSON_MODIFY(@jsonModified, '$.geoid', '99999');\r\n",
                "SET @jsonModified = JSON_MODIFY(@jsonModified, '$.person', 'Tor Storli');\r\n",
                "\r\n",
                "\r\n",
                "SELECT @jsonModified\r\n",
                "\r\n",
                "SET @jsonModified = JSON_MODIFY(@jsonModified, '$.countyfp', null);\r\n",
                "\r\n",
                "SELECT @jsonModified"
            ],
            "metadata": {
                "azdata_cell_guid": "3aedf1c1-7bbc-428c-a4b0-763b41cf19ef",
                "tags": []
            },
            "outputs": [
                {
                    "output_type": "display_data",
                    "data": {
                        "text/html": "(1 row affected)"
                    },
                    "metadata": {}
                },
                {
                    "output_type": "display_data",
                    "data": {
                        "text/html": "(1 row affected)"
                    },
                    "metadata": {}
                },
                {
                    "output_type": "display_data",
                    "data": {
                        "text/html": "(1 row affected)"
                    },
                    "metadata": {}
                },
                {
                    "output_type": "display_data",
                    "data": {
                        "text/html": "Total execution time: 00:00:00.038"
                    },
                    "metadata": {}
                },
                {
                    "output_type": "execute_result",
                    "execution_count": 32,
                    "data": {
                        "application/vnd.dataresource+json": {
                            "schema": {
                                "fields": [
                                    {
                                        "name": "(No column name)"
                                    }
                                ]
                            },
                            "data": [
                                {
                                    "0": "{\"statefp\":\"17\",\"countyfp\":\"067\",\"geoid\":\"17067\",\"name\":\"Hancock\",\"namelsad\":\"Hancock County\",\"Location\":{\"Latitude\":\"+40.4013180\",\"Longitude\":\"-091.1688008\"}}"
                                }
                            ]
                        },
                        "text/html": "<table><tr><th>(No column name)</th></tr><tr><td>{&quot;statefp&quot;:&quot;17&quot;,&quot;countyfp&quot;:&quot;067&quot;,&quot;geoid&quot;:&quot;17067&quot;,&quot;name&quot;:&quot;Hancock&quot;,&quot;namelsad&quot;:&quot;Hancock County&quot;,&quot;Location&quot;:{&quot;Latitude&quot;:&quot;+40.4013180&quot;,&quot;Longitude&quot;:&quot;-091.1688008&quot;}}</td></tr></table>"
                    },
                    "metadata": {}
                },
                {
                    "output_type": "execute_result",
                    "execution_count": 32,
                    "data": {
                        "application/vnd.dataresource+json": {
                            "schema": {
                                "fields": [
                                    {
                                        "name": "(No column name)"
                                    }
                                ]
                            },
                            "data": [
                                {
                                    "0": "{\"statefp\":\"17\",\"countyfp\":\"067\",\"geoid\":\"99999\",\"name\":\"Hancock\",\"namelsad\":\"Hancock County\",\"Location\":{\"Latitude\":\"+40.4013180\",\"Longitude\":\"-091.1688008\"},\"person\":\"Tor Storli\"}"
                                }
                            ]
                        },
                        "text/html": "<table><tr><th>(No column name)</th></tr><tr><td>{&quot;statefp&quot;:&quot;17&quot;,&quot;countyfp&quot;:&quot;067&quot;,&quot;geoid&quot;:&quot;99999&quot;,&quot;name&quot;:&quot;Hancock&quot;,&quot;namelsad&quot;:&quot;Hancock County&quot;,&quot;Location&quot;:{&quot;Latitude&quot;:&quot;+40.4013180&quot;,&quot;Longitude&quot;:&quot;-091.1688008&quot;},&quot;person&quot;:&quot;Tor Storli&quot;}</td></tr></table>"
                    },
                    "metadata": {}
                },
                {
                    "output_type": "execute_result",
                    "execution_count": 32,
                    "data": {
                        "application/vnd.dataresource+json": {
                            "schema": {
                                "fields": [
                                    {
                                        "name": "(No column name)"
                                    }
                                ]
                            },
                            "data": [
                                {
                                    "0": "{\"statefp\":\"17\",\"geoid\":\"99999\",\"name\":\"Hancock\",\"namelsad\":\"Hancock County\",\"Location\":{\"Latitude\":\"+40.4013180\",\"Longitude\":\"-091.1688008\"},\"person\":\"Tor Storli\"}"
                                }
                            ]
                        },
                        "text/html": "<table><tr><th>(No column name)</th></tr><tr><td>{&quot;statefp&quot;:&quot;17&quot;,&quot;geoid&quot;:&quot;99999&quot;,&quot;name&quot;:&quot;Hancock&quot;,&quot;namelsad&quot;:&quot;Hancock County&quot;,&quot;Location&quot;:{&quot;Latitude&quot;:&quot;+40.4013180&quot;,&quot;Longitude&quot;:&quot;-091.1688008&quot;},&quot;person&quot;:&quot;Tor Storli&quot;}</td></tr></table>"
                    },
                    "metadata": {}
                }
            ],
            "execution_count": 32
        }
    ]
}